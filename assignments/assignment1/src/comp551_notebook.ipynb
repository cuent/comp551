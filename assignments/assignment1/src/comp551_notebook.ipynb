{
 "cells": [
  {
   "cell_type": "code",
   "execution_count": 2,
   "metadata": {
    "colab": {},
    "colab_type": "code",
    "id": "cFZNDSvROdJ2"
   },
   "outputs": [],
   "source": [
    "import numpy as np\n",
    "import json\n",
    "import pandas as pd\n",
    "import matplotlib.pyplot as plt\n",
    "import linear_regression as clf\n",
    "from learning_rate import *\n",
    "import model\n",
    "from data_process import load_data\n",
    "import seaborn as sns\n",
    "import time\n",
    "\n",
    "%matplotlib inline\n",
    "%load_ext autoreload\n",
    "%autoreload 1"
   ]
  },
  {
   "cell_type": "markdown",
   "metadata": {
    "colab_type": "text",
    "id": "adifKEV9D_K_"
   },
   "source": [
    "# Task 1"
   ]
  },
  {
   "cell_type": "code",
   "execution_count": 124,
   "metadata": {
    "colab": {
     "base_uri": "https://localhost:8080/",
     "height": 104
    },
    "colab_type": "code",
    "collapsed": true,
    "id": "1WzlufrMEF05",
    "outputId": "814f779e-93da-45e2-c74c-12dc2ecd9a6f"
   },
   "outputs": [],
   "source": [
    "with open(\"data/reddit.json\") as fp:\n",
    "    data = json.load(fp)"
   ]
  },
  {
   "cell_type": "code",
   "execution_count": 125,
   "metadata": {
    "colab": {},
    "colab_type": "code",
    "collapsed": true,
    "id": "SLjPGrSQO3Rk"
   },
   "outputs": [],
   "source": [
    "sz_tr=10000; sz_val=1000; sz_test=1000\n",
    "\n",
    "train = data[:sz_tr]\n",
    "val = data[sz_tr:sz_tr+sz_val]\n",
    "test = data[sz_tr+sz_val:]"
   ]
  },
  {
   "cell_type": "code",
   "execution_count": 154,
   "metadata": {
    "colab": {
     "base_uri": "https://localhost:8080/",
     "height": 288
    },
    "colab_type": "code",
    "id": "gZSqFrEERtbs",
    "outputId": "3b6bfa8b-4a3d-46fe-f2e3-99b3885ff52c"
   },
   "outputs": [
    {
     "data": {
      "text/html": [
       "<div>\n",
       "<style>\n",
       "    .dataframe thead tr:only-child th {\n",
       "        text-align: right;\n",
       "    }\n",
       "\n",
       "    .dataframe thead th {\n",
       "        text-align: left;\n",
       "    }\n",
       "\n",
       "    .dataframe tbody tr th {\n",
       "        vertical-align: top;\n",
       "    }\n",
       "</style>\n",
       "<table border=\"1\" class=\"dataframe\">\n",
       "  <thead>\n",
       "    <tr style=\"text-align: right;\">\n",
       "      <th></th>\n",
       "      <th>children</th>\n",
       "      <th>controversiality</th>\n",
       "      <th>is_root</th>\n",
       "      <th>popularity_score</th>\n",
       "      <th>text</th>\n",
       "    </tr>\n",
       "  </thead>\n",
       "  <tbody>\n",
       "    <tr>\n",
       "      <th>0</th>\n",
       "      <td>0</td>\n",
       "      <td>0</td>\n",
       "      <td>False</td>\n",
       "      <td>1.254698</td>\n",
       "      <td>ITS RAINING SIDEWAYS</td>\n",
       "    </tr>\n",
       "    <tr>\n",
       "      <th>1</th>\n",
       "      <td>0</td>\n",
       "      <td>0</td>\n",
       "      <td>False</td>\n",
       "      <td>0.509813</td>\n",
       "      <td>Wheel of time reader confirmed!</td>\n",
       "    </tr>\n",
       "    <tr>\n",
       "      <th>2</th>\n",
       "      <td>0</td>\n",
       "      <td>0</td>\n",
       "      <td>True</td>\n",
       "      <td>0.370827</td>\n",
       "      <td>The jungle book of pussy</td>\n",
       "    </tr>\n",
       "    <tr>\n",
       "      <th>3</th>\n",
       "      <td>0</td>\n",
       "      <td>0</td>\n",
       "      <td>False</td>\n",
       "      <td>-0.272843</td>\n",
       "      <td>I'm just making this thread since there is an ...</td>\n",
       "    </tr>\n",
       "    <tr>\n",
       "      <th>4</th>\n",
       "      <td>0</td>\n",
       "      <td>0</td>\n",
       "      <td>True</td>\n",
       "      <td>0.560150</td>\n",
       "      <td>Hi there, looks like you're wanting to discuss...</td>\n",
       "    </tr>\n",
       "  </tbody>\n",
       "</table>\n",
       "</div>"
      ],
      "text/plain": [
       "   children  controversiality  is_root  popularity_score  \\\n",
       "0         0                 0    False          1.254698   \n",
       "1         0                 0    False          0.509813   \n",
       "2         0                 0     True          0.370827   \n",
       "3         0                 0    False         -0.272843   \n",
       "4         0                 0     True          0.560150   \n",
       "\n",
       "                                                text  \n",
       "0                               ITS RAINING SIDEWAYS  \n",
       "1                    Wheel of time reader confirmed!  \n",
       "2                           The jungle book of pussy  \n",
       "3  I'm just making this thread since there is an ...  \n",
       "4  Hi there, looks like you're wanting to discuss...  "
      ]
     },
     "execution_count": 154,
     "metadata": {},
     "output_type": "execute_result"
    }
   ],
   "source": [
    "train = pd.DataFrame.from_records(train)\n",
    "train.describe()"
   ]
  },
  {
   "cell_type": "code",
   "execution_count": 127,
   "metadata": {},
   "outputs": [
    {
     "name": "stdout",
     "output_type": "stream",
     "text": [
      "popularity_score    1.000000\n",
      "children            0.432804\n",
      "controversiality   -0.082078\n",
      "is_root            -0.117246\n",
      "Name: popularity_score, dtype: float64\n"
     ]
    }
   ],
   "source": [
    "corr = train.corr()\n",
    "corr.sort_values([\"popularity_score\"], ascending = False, inplace = True)\n",
    "print(corr.popularity_score)"
   ]
  },
  {
   "cell_type": "code",
   "execution_count": 128,
   "metadata": {},
   "outputs": [
    {
     "data": {
      "text/plain": [
       "8.093013080927456"
      ]
     },
     "execution_count": 128,
     "metadata": {},
     "output_type": "execute_result"
    }
   ],
   "source": [
    "train['popularity_score'].kurtosis()"
   ]
  },
  {
   "cell_type": "code",
   "execution_count": 129,
   "metadata": {},
   "outputs": [
    {
     "data": {
      "text/plain": [
       "<matplotlib.axes._subplots.AxesSubplot at 0x124688748>"
      ]
     },
     "execution_count": 129,
     "metadata": {},
     "output_type": "execute_result"
    },
    {
     "data": {
      "image/png": "[encoded data removed]",
      "text/plain": [
       "<Figure size 432x288 with 2 Axes>"
      ]
     },
     "metadata": {
      "needs_background": "light"
     },
     "output_type": "display_data"
    }
   ],
   "source": [
    "corrmat = train.corr()\n",
    "sns.heatmap(corrmat, vmax=.8, square=True)"
   ]
  },
  {
   "cell_type": "code",
   "execution_count": 436,
   "metadata": {
    "collapsed": true
   },
   "outputs": [],
   "source": [
    "# Xtr, ytr, Xval, yval, Xtest, ytest = load_data('test')\n",
    "# sentiments = pd.DataFrame(data=Xtr)\n",
    "# # sentiments.columns = ['children'] + ['text' + str(i) for i in range(10)] + ['len_text', 'len_sentence', 'sentiment_neg', 'sentiment_neu', 'sentiment_pos',\n",
    "# #                    'sentiment_compound']\n",
    "# sentiments['popularity'] = ytr\n",
    "# fig, ax = plt.subplots(figsize=(10,10)) \n",
    "# corrmat_sent = sentiments.corr()\n",
    "# sns.heatmap(corrmat_sent, vmax=.8, square=True)\n",
    "# corrmat_sent.sort_values([\"popularity\"], ascending = False, inplace = True)\n",
    "# print(corrmat_sent.popularity[:10])\n",
    "# print(sentiments.head(3))\n",
    "# plt.plot(sentiments['popularity'], sentiments[6])"
   ]
  },
  {
   "cell_type": "code",
   "execution_count": 438,
   "metadata": {},
   "outputs": [
    {
     "data": {
      "image/png": "[encoded data removed]",
      "text/plain": [
       "<Figure size 432x288 with 1 Axes>"
      ]
     },
     "metadata": {
      "needs_background": "light"
     },
     "output_type": "display_data"
    },
    {
     "data": {
      "image/png": "[encoded data removed]",
      "text/plain": [
       "<Figure size 432x288 with 1 Axes>"
      ]
     },
     "metadata": {
      "needs_background": "light"
     },
     "output_type": "display_data"
    }
   ],
   "source": [
    "from scipy import stats\n",
    "sns.distplot(train['popularity_score'], fit=norm);\n",
    "fig = plt.figure()\n",
    "res = stats.probplot(train['popularity_score'], plot=plt)"
   ]
  },
  {
   "cell_type": "code",
   "execution_count": 133,
   "metadata": {
    "colab": {
     "base_uri": "https://localhost:8080/",
     "height": 280
    },
    "colab_type": "code",
    "id": "ZEk9jA9tTTs0",
    "outputId": "1857e32f-8373-4504-a415-dfc697116a37"
   },
   "outputs": [
    {
     "data": {
      "text/plain": [
       "<matplotlib.axes._subplots.AxesSubplot at 0x125110710>"
      ]
     },
     "execution_count": 133,
     "metadata": {},
     "output_type": "execute_result"
    },
    {
     "data": {
      "image/png": "[encoded data removed]",
      "text/plain": [
       "<Figure size 432x288 with 1 Axes>"
      ]
     },
     "metadata": {
      "needs_background": "light"
     },
     "output_type": "display_data"
    }
   ],
   "source": [
    "idx = np.argsort(train['controversiality'].values)\n",
    "x = train[train['controversiality']>0]\n",
    "x['is_root'].value_counts().plot.bar()"
   ]
  },
  {
   "cell_type": "code",
   "execution_count": 134,
   "metadata": {},
   "outputs": [
    {
     "name": "stderr",
     "output_type": "stream",
     "text": [
      "/Users/cuent/anaconda/envs/comp551/lib/python3.6/site-packages/ipykernel_launcher.py:1: SettingWithCopyWarning: \n",
      "A value is trying to be set on a copy of a slice from a DataFrame.\n",
      "Try using .loc[row_indexer,col_indexer] = value instead\n",
      "\n",
      "See the caveats in the documentation: http://pandas.pydata.org/pandas-docs/stable/indexing.html#indexing-view-versus-copy\n",
      "  \"\"\"Entry point for launching an IPython kernel.\n"
     ]
    },
    {
     "data": {
      "text/plain": [
       "[<matplotlib.lines.Line2D at 0x1217c1a90>]"
      ]
     },
     "execution_count": 134,
     "metadata": {},
     "output_type": "execute_result"
    },
    {
     "data": {
      "image/png": "[encoded data removed]",
      "text/plain": [
       "<Figure size 432x288 with 1 Axes>"
      ]
     },
     "metadata": {
      "needs_background": "light"
     },
     "output_type": "display_data"
    }
   ],
   "source": [
    "x['len'] = x['text'].apply(len)\n",
    "idx = np.argsort(x['children'])\n",
    "plt.plot(x['children'].iloc[idx].values, x['len'].iloc[idx].values)"
   ]
  },
  {
   "cell_type": "markdown",
   "metadata": {
    "colab_type": "text",
    "id": "UNQ-tawjNyW-"
   },
   "source": [
    "Most comments have no children. So, it might be a correlation between the number of children and popularity. "
   ]
  },
  {
   "cell_type": "code",
   "execution_count": 135,
   "metadata": {
    "colab": {
     "base_uri": "https://localhost:8080/",
     "height": 285
    },
    "colab_type": "code",
    "id": "eqvGT6QQNU55",
    "outputId": "168f530c-19cd-4ef5-c362-5907a37bb7ae"
   },
   "outputs": [
    {
     "data": {
      "text/plain": [
       "<matplotlib.axes._subplots.AxesSubplot at 0x124735f28>"
      ]
     },
     "execution_count": 135,
     "metadata": {},
     "output_type": "execute_result"
    },
    {
     "data": {
      "image/png": "[encoded data removed]",
      "text/plain": [
       "<Figure size 432x288 with 1 Axes>"
      ]
     },
     "metadata": {
      "needs_background": "light"
     },
     "output_type": "display_data"
    }
   ],
   "source": [
    "train['children'][train['children']>4].value_counts().plot.bar()"
   ]
  },
  {
   "cell_type": "markdown",
   "metadata": {
    "colab_type": "text",
    "id": "1j1JkF44OOtw"
   },
   "source": [
    "**Yes, there is a correlation.** Most comments with more than 10 replies are quite popular."
   ]
  },
  {
   "cell_type": "code",
   "execution_count": 136,
   "metadata": {
    "colab": {
     "base_uri": "https://localhost:8080/",
     "height": 283
    },
    "colab_type": "code",
    "id": "g6EWgYwXOBaT",
    "outputId": "bb4a83a6-0633-48c8-8003-9f7d2a026f4f"
   },
   "outputs": [
    {
     "data": {
      "text/plain": [
       "[<matplotlib.lines.Line2D at 0x121a0a320>]"
      ]
     },
     "execution_count": 136,
     "metadata": {},
     "output_type": "execute_result"
    },
    {
     "data": {
      "image/png": "[encoded data removed]",
      "text/plain": [
       "<Figure size 432x288 with 1 Axes>"
      ]
     },
     "metadata": {
      "needs_background": "light"
     },
     "output_type": "display_data"
    }
   ],
   "source": [
    "x = train['children']\n",
    "o = np.argsort(x)\n",
    "plt.plot(x[o], train['popularity_score'][o], '-')"
   ]
  },
  {
   "cell_type": "markdown",
   "metadata": {
    "colab_type": "text",
    "id": "uFAbJrXlOiMN"
   },
   "source": [
    "We are using only 160 words. We are not using many words, so using stop words or some other preprocessig might be crucial. "
   ]
  },
  {
   "cell_type": "code",
   "execution_count": 137,
   "metadata": {
    "colab": {
     "base_uri": "https://localhost:8080/",
     "height": 283
    },
    "colab_type": "code",
    "id": "Ab7kcARuVp4g",
    "outputId": "e1a3fb16-d16e-476d-ab45-10b7e9d7dff4"
   },
   "outputs": [
    {
     "data": {
      "text/plain": [
       "[<matplotlib.lines.Line2D at 0x123f1dcf8>]"
      ]
     },
     "execution_count": 137,
     "metadata": {},
     "output_type": "execute_result"
    },
    {
     "data": {
      "image/png": "[encoded data removed]",
      "text/plain": [
       "<Figure size 432x288 with 1 Axes>"
      ]
     },
     "metadata": {
      "needs_background": "light"
     },
     "output_type": "display_data"
    }
   ],
   "source": [
    "x = train['text'].apply(len)\n",
    "o = np.argsort(x)\n",
    "plt.plot(x[o], train['popularity_score'][o], '-')\n",
    "plt.plot((160, 160), (-6, 8), 'k-')"
   ]
  },
  {
   "cell_type": "code",
   "execution_count": 138,
   "metadata": {
    "colab": {
     "base_uri": "https://localhost:8080/",
     "height": 88
    },
    "colab_type": "code",
    "id": "plQvwR8AYIVn",
    "outputId": "28e8eb01-9fab-468e-b02c-0d1ae8fc0db5"
   },
   "outputs": [
    {
     "data": {
      "text/plain": [
       "array([[0, 0, False, 1.3643290175207412, '1'],\n",
       "       [2, 0, False, 0.633265938808546, '?'],\n",
       "       [0, 0, False, 0.03548075498233298, '😂'],\n",
       "       ...,\n",
       "       [0, 0, True, 0.39729354510739606,\n",
       "        'Throwaway time\\n\\nFirst off I sell weed, it\\'s how we became friends in the first place.\\n \\nWe were gonna start an LLC for a film company with a couple other friends. We both attended film school and I helped him with pre pro, production and a ton in post on his film. Then when it comes time to make the company he goes and does all the paper work secretly behind my back and invites the other friends we were making the company with to sign all the papers and purposely leave me out. \\n\\nOne of the other friends who signed it with him also owed me $450 for 2 ounces I fronted him so he could sell it, this agreement had been going on for a few months where I would front him and he would pay me back later once he had sold it.\\n\\nA few days later, still in the dark about why I was left out of the signing I just asked him, \"why did so and so have to sign and not me? I helped with way more than he did.\" The reply he gave me was so condescending, all he said was \"You\\'re a drug dealer, I can\\'t have you part of it\". The guy I was fronting to all of a sudden had no money to pay me for the front and his excuse was \"people are being really jewish not spending money around Christmas\". This was literally what he said right before I asked about why I didn\\'t sign any papers.\\n\\nI was so disgusted by the lies and manipulation I just got up and left saying \"After all I did for you, go fuck yourselves\".\\n\\nA year later I hear around school he\\'s telling people \"I went crazy and threatened to kill him and his entire family\". I literally have not said a word to him since I left his apartment about 9 months before. I had to actually go to his brother (who I was still selling weed to and had no idea me and his brother weren\\'t talking anymore) and tell him to cut it out or I would be forced to sue him for defamation.\\n\\nThe friend who was selling my fronted weed still has not paid me, they also claim they told me before but when I asked when they cite a time where we all collectively smoked 7 grams so we could go eat so much we pass out, also I fronted the one friend an ounce before this. It was supposedly talked about during the meal. They said the reason I don\\'t remember is because I had a seizure from some mushrooms they had bought. When I saw them later they were as black as night and moldy. It was one of the most disgusting excuses I had ever heard.\\n\\nIf they had been upfront about it from the beginning I wouldn\\'t have a problem but they used me and said nothing just to fuck me over in the end. They wanted me to stop selling completely at a time when there was no revenue coming in. Basically telling me to throw away $30k+ a year for nothing. I would have no problem not selling anymore if there was a form of revenue for me to pay my bills and rent, but this was not the case and they knew full well that\\'s how I paid my bills. My plan was to stop once there was money coming in but they wanted to make the decision for me like they were morally superior and leave me to struggle with no income.\\n\\nThe kicker is once all this happened they tried to get a documentary funded about medical marijuana for use on PTSD, asking for literally half a million for the entire project. It failed spectacularly but the level of hypocrisy can\\'t be made up. I just also want to add the reason you form an LLC is to separate personal assets from the companies so even if something happened to me it wouldn\\'t affect the company. Whenever I tell this story to my banker friend he just gets mad at how dumb of an excuse they used.\\n\\nTLDR friends fucked me out of a company I helped with more than anyone over me selling weed even though they knew before any talk of the company and the whole time they said I would be a part of it then they made disgusting excuses for themselves and spread completely false rumors about me after the fact.'],\n",
       "       [0, 0, False, 0.15525360177969558,\n",
       "        'I still don\\'t understand the big deal about wedding planning. People put way too much effort into little things that are irrelevant, and then stress five or so years off their life expectancy when one little thing doesn\\'t go right. Just stop.\\n\\nYou need to let us guys handle these things. For the same amount of effort and a few seconds of quick imagination we can come up with things that will blow your mind.\\n\\nFor example: Here\\'s what I\\'ve got planned for mine...\\n\\nSomewhere in the desert...\\n\\nTractor trailers and buses begin rolling in and setting up a massive infrastructure system that makes Burning Man look like a couple hippies camped out under a lean-to. Food, perishable supplies, and guests are paradropped into the area from nearby cities (to preserve freshness). Family members, bridesmaids/groomsmen, and anyone involved with the actual marital function are also provided with the option of wingsuits and or [jetpacks](https://youtu.be/_VPvKl6ezyc?t=19) for their descent to help set the mood. Anyone not invited is still welcome to attend, but must reach the location on their own.\\n\\nBarrier walls roughly 20 meters in height are set up into the general shape of a cathedral the size of an Olympic arena with a massive amphitheater at the core and the far end opened so that the festivity can be enjoyed by the rest of the gathering. These barriers are adorned with relevant artwork of various forms on the inside, and have enough protective backing to contain the average munitions dump demolition. The outline of the cathedral is actually rather wide and serves to conceal the world\\'s largest array of custom pyrotechnic artillery. In the distance behind the amphitheater there exists a slender and tall (roughly 150-200m) pyramid covered in mirrors with tracks on either side that allow both halves to separate.\\n\\nAs the sun sets and the event begins, guests will enter very generous accommodations within the body of the roofless cathedral (beds of pillows, dining tables, hot springs, anything you can imagine), and all entertainment events in the vicinity will cease so the rest of the crowd can approach the open end and spectate the activities. As the last light fades away, the stars vibrantly emerge, and the Milky Way dominates the sky, several science personalities take to the raised dais before the amphitheater (now populated by the cream of the world\\'s symphony crop, who begin to provide soothing and inspiring background music) and host the world\\'s grandest planetarium experience while sharing a message of hope and discovery. As that transcendent experience comes to a peaceful and fulfilling conclusion, the dais is cleared, and the bridesmaids/groomsmen and relevant functionaries take the stage to the backing of sudden and tremendous fanfare from the orchestra behind them.\\n\\nThe most awesome woman in the world and I take each other\\'s hand as we begin our HALO jump from the aircraft above. Searchlights frantically scan the sky for our descent as air raid sirens go off. It\\'s a bit of a trip down so we occupy ourselves with witty banter of the \"I love you... I know\" and \"Wow, that pressure suit actually does make you look fat\" variety. We open our shoots and begin performing acrobatics overhead while strafing the guests and even attendees outside the facility with pulsing laser pistols (no harm don\\'t worry) as every speaker in the vicinity plays synchronized \"PEW PEW\" laser noises. We land together in front of the dais, remove the jump gear to reveal immaculate attire, and ascend the stairs as some one-off John Williams piece plays. Then we put on our power rings press our fists together and say something along the lines of \"By our powers combined! Super Umutuku Temple of Eternity, Activate!\"\\n\\nOur begins playing (we\\'ll totally know what it is by then), and we reveal the true purpose of this fully armed and operational wedding station. The pyrotechnic artillery activates and launches a dizzying array of shells into the sky, painting a mile tall temple of light and fury onto the canvas of reality in a pillar of grandeur. We do the traditional thang, and immediately have our first dance under a deluge of photons. Then everything goes silent. \\n\\nThe lights fade from the sky, and the amphitheater splits in two, opening outward until each half has made a full 180 degree rotation, and providing an unobstructed view of the mirrored pyramid. The entire central venue (guest area and dais) roll out through the opening as the attendant crowd is allowed to stream into the cathedral behind them and then filter around to the sides of the venue in front of each amphitheater half. A kaleidoscope of lasers suddenly begins to ricochet off the reflective pyramid, cutting a galactic battle scene through the ceiling of smoke. We hop on matching sport bikes and ride towards the pyramid as the symphony performs the grandest rendition of Danger Zone in history. As we near the pyramid the lasers intensify and the pyramid separates to reveal a launch platform and our personal rocket yacht. We load up, and blast off to our zero-g honeymoon leaving the masses to revel in our wake.\\n\\nI\\'m sure it\\'s really important that your napkins match the roses though.'],\n",
       "       [0, 0, False, 0.4784100173851937,\n",
       "        'Honestly, /u/AndyWinds, when the slaves were brought over here to the USA, they came from many different countries and tribes in Africa. Their cultures were almost as diverse as the cultures that we have now [here]. And the truth is most of our history was \\'wiped away\\' through slavery. Acting and being anything but \"White\" was discouraged and many people died from it. They did whatever they had to do to survive so if that meant shaving their hair, making it straight, stopping the spread of their native language(s), bleaching the skin, the list goes on... \\n\\nHow this is relevant is that at the time is that to differentiate between the \"darks\" and \"lights,\" Black people were called, well, Black. And White people were called- you get my drift. This is only in the United States of America. [Black](https://en.wikipedia.org/wiki/Black_people) itself has different connotations all across the world so you will get different responses when you are calling someone from Brazil a Black person compared to someone from Canada or the United States. You\\'ll notice that pretty much everyone who considers themselves to be Black will also acknowledge that they have a lot of African ancestry down the line, though. (There\\'s the fact that Africa is also an incredibly huge continent and there are also White Africans so one would be under the assumption that if a White person from Africa comes to the USA that their race would be \"African American,\" but the reality is that they will still be called a White American. It\\'s all based on looks.. It\\'s an incredibly huge socially constructed value here in the USA).      \\n\\nAbout African American... Well, you can\\'t tell whether someone is African American or not just by looking at them. Some people might be from Nigeria (an African country), so they might call themselves a Nigerian-American after they get their citizenship. There are over 50 countries in Africa &amp; I\\'m sure you can imagine the confusion this can cause. People form other countries simply **will not** get it because race is a social construct and yet it still means *so much*. \\n\\nThis is why \"Black\" is kind of a word that we can all agree on here in the US. No matter if we are Jamaican, Somalian, Canadian, American, Brazilian, whatever... We can kind of agree with it. \\n\\nYou can add \"racial mixing\" to the mix and acknowledge that not all people who are dark skinned are completely Black, yet they are still forced to identify as [only] Black. For example, my nephew is half Puerto Rican (they are racially mixed with Spanish/Taino/African) and half Black, so no matter what he identifies more with, he will always be [just] \"Black.\" This makes a lot of people mad, specifically people who may be mixed with 50/50 or even with 3 different backgrounds because society will only see one part of them. This can be sad for a person who is mixed with \\'Black\\' or not.          \\n\\nAlso, the term \"Negro\" itself isn\\'t offensive. It literally means Black in Spanish/Portuguese and comes from the Latin word \\'niger\\' which also means Black. Believe it or not but at one point in time, \"negro\" was the politically correct word of choice. During the Civil Rights movement there was a divide in Black people about what our identity was because, well, it was wiped away from them. Some people wanted to get completely away from anything associated with the White people in America, so they decided to make up new terms. The White peoples\\' names for them went like this: n****r -&gt; colored -&gt; negro -&gt; and then there was a divide where the Black people themselves were divided in whether or not to choose from any of the following: Afro-American, Black American, and Negro. \\n\\nSome people still wanted to identify with the continent of Africa but understandably some grew up knowing *nothing* about where they were from &amp; with the White people treating you more harshly the more Black/African you identified with, they wanted to stay away from it. \\n\\nSo basically you got people of all ages with different economical backgrounds (some were mixed with White or were generally mixed-looking or flat out White-passing) and different political views (think: the more violent Malcom X versus Martin Luther King Jr.) trying to come up with the same end POV. It hasn\\'t happened and still hasn\\'t happened. Nowadays youth will use the words interchangeably-- well, except for \"negro\" and \"afro-american\" because those just sound weird, haha! But you\\'ll get the oldest Black people still identifying with those outdated words. With that said there are still organizations, businesses, and college funds that used the term negro in them so the word \\'negro\\' is completely okay when used for historical purposes. When you see young Black people calling other Black people negros, please know that 99% of them are not serious. They will look at you strange if you call them negros in the USA. \\n\\nWith that said, here\\'s [one of my favorite](https://www.youtube.com/watch?v=C8xJXKYL8pU) YouTube videos about apologizing if someone says what you\\'ve said offends them. You don\\'t really have to agree with everything she says but it\\'s a great way to do damage control. Just call Black people Black and you shouldn\\'t ever have a problem in North America. Can\\'t help you with other parts of the continent or other continents because \\'race\\' means completely different things there but just be confident in your speaking and apologize even if you\\'re thinking \\'wtf? how the f#ck could that offend you?\\' and try not to twitch and you\\'ll be fine, lol. :) Even I\\'ve had to do it &amp; re-educate myself. \\n\\nOkay, wow. So I am all over the world with my comment but I hope that I at least enlightened you a little bit. I am sorry if something I say is more confusing than it helps. I do hope that you won\\'t be apprehensive about approaching us anymore, though. The more you acknowledge our differences and are okay with them, the cooler we will think you are. :)']],\n",
       "      dtype=object)"
      ]
     },
     "execution_count": 138,
     "metadata": {},
     "output_type": "execute_result"
    }
   ],
   "source": [
    "train.iloc[o.tail(-1)].values # Those big comments might be outliers. "
   ]
  },
  {
   "cell_type": "markdown",
   "metadata": {
    "colab_type": "text",
    "id": "FxKHTEEWEIU4"
   },
   "source": [
    "# Task 2\n",
    "\n",
    "There are two modules for the implentation of linear regression. \n",
    "1. `linear_regression`: implementation for Linear regression closed-form and gradient descent.\n",
    "2. `learning_rate`: implementation of different schedulers for learning rate such as constant, decay, momentum.\n",
    "\n",
    "The following code shows an analysis of some toy data for which we know the exact weights. The purpose of this is to find the scheduler that converges faster. As the graph shows, decay converges with only 155 iterations, decay with 185. Conversely, a constant learning rate takes a lot of steps to converge. We should notice that we are using the default configurations of the implemented algorithms. Better results could be obtained with parameter tuning. However, the purpose of this is to check the implementation of the algorithms."
   ]
  },
  {
   "cell_type": "code",
   "execution_count": 5,
   "metadata": {
    "colab": {},
    "colab_type": "code",
    "collapsed": true,
    "id": "RtxJjL-RIamI"
   },
   "outputs": [],
   "source": [
    "x = np.array([.86, .09, -.85, .87, -.44, -.43, -1.1, .40, -.96, .17])\n",
    "y = np.array([2.49, .83, -.25, 3.1, .87, .02, -.12, 1.81, -.83, .43])\n",
    "\n",
    "lse = clf.LinearRegressionMSE()\n",
    "lse.fit(x, y)\n",
    "exact = lse.w"
   ]
  },
  {
   "cell_type": "code",
   "execution_count": 6,
   "metadata": {},
   "outputs": [
    {
     "name": "stdout",
     "output_type": "stream",
     "text": [
      "Constant (steps=1000, error=1.0762032953252184e-05)\n",
      "Decay (steps=991, error=9.976024454456696e-06)\n",
      "Momentum (steps=716, error=9.971786946203189e-06)\n"
     ]
    }
   ],
   "source": [
    "lr = [LearningRate(),Decay(),Momentum()]\n",
    "name = ['Constant', 'Decay', 'Momentum']\n",
    "errors = []\n",
    "\n",
    "\n",
    "for i, lr in enumerate(lr):\n",
    "    regressor = clf.LinearRegressionGD(lr)\n",
    "    regressor.fit(x, y)\n",
    "    errors.append(regressor.errors)\n",
    "    print(\"{} (steps={}, error={})\".format(name[i], regressor.step, regressor.error))"
   ]
  },
  {
   "cell_type": "code",
   "execution_count": 7,
   "metadata": {
    "scrolled": true
   },
   "outputs": [
    {
     "data": {
      "image/png": "[encoded data removed]",
      "text/plain": [
       "<Figure size 1080x288 with 3 Axes>"
      ]
     },
     "metadata": {
      "needs_background": "light"
     },
     "output_type": "display_data"
    }
   ],
   "source": [
    "def plot_error(errors):    \n",
    "    fig = plt.figure(figsize=(15,4))\n",
    "    \n",
    "    for i, error in enumerate(errors):\n",
    "        plt.subplot(1, 3, i+1)\n",
    "        \n",
    "        it = list(range(len(error)))\n",
    "        y = error\n",
    "        plt.plot(it, y)\n",
    "        plt.xlabel('Iteration')\n",
    "        plt.ylabel('Error')\n",
    "        plt.title(label=name[i] + \" ({})\".format( str(len(error))))\n",
    "    plt.suptitle(\"Error vs Iteration\")\n",
    "plot_error(errors)"
   ]
  },
  {
   "cell_type": "markdown",
   "metadata": {
    "colab_type": "text",
    "id": "t1xb_0sfEJqd"
   },
   "source": [
    "# Task 3"
   ]
  },
  {
   "cell_type": "markdown",
   "metadata": {},
   "source": [
    "##### 3.1 Compare the runtime, stability, and performance of the closed-form linear regression and gradient descent approaches. For these experiments, it is fine to ignore the text features and only use the 3 simple features we provide. For gradient descent make sure you try out different learning rates and initializations! (And note that the learning rate might need to be very small...\n",
    "##### 3.2 Using either the closed-form approach or gradient descent, compare a model with no text features, a model that uses only the top-60 words, and a model that uses the full 160 word occurrence features. Are any of these models underfitting or overfitting?\n",
    "##### 3.3 Using either the closed-form approach or gradient descent, demonstrate the the two new features you proposed improve performance on the validation set.\n",
    "##### 3.4 Run your best-performing model on the test set\n",
    "\n",
    "\n",
    "1. runtime: table of time/iterations\n",
    "2. stability: singular matrix / Cross validation \n",
    "3. performance: TODO: _train on test set / validation_\n"
   ]
  },
  {
   "cell_type": "markdown",
   "metadata": {},
   "source": [
    "### Default hyperparameters"
   ]
  },
  {
   "cell_type": "code",
   "execution_count": 3,
   "metadata": {
    "collapsed": true
   },
   "outputs": [],
   "source": [
    "init = [True]#, False]\n",
    "learning_rates = [10e-3, 1e-3, 5e-4,10e-5, 10e-7, 10e-8]\n",
    "momentum = [.7, 0.8, 0.9, 0.999]\n",
    "decay = [10e-2, 10e-3, 1e-4, 5e-4]"
   ]
  },
  {
   "cell_type": "markdown",
   "metadata": {},
   "source": [
    "### Models\n",
    "#### Model 1\n",
    "Training with features: \n",
    "1. is_root\n",
    "2. controversiality\n",
    "3. children"
   ]
  },
  {
   "cell_type": "code",
   "execution_count": 4,
   "metadata": {},
   "outputs": [
    {
     "name": "stdout",
     "output_type": "stream",
     "text": [
      "Closed-form mse:1.0846830709157251 - mse_val:1.0203266848431447 (time=0.041586875915527344)\n",
      "Gradient Descent mse:1.0934975423356417 - mse_val:1.0301696191446195 (init=True,iterations=1000,time=0.13225913047790527,Constant(lr=0.01))\n",
      "Gradient Descent mse:1.180372493461703 - mse_val:1.1253853000976612 (init=True,iterations=1000,time=0.18026304244995117,Decay(lr=0.01,b=0.1))\n",
      "Gradient Descent mse:1.1066421352660472 - mse_val:1.0457829462387886 (init=True,iterations=1000,time=0.19382405281066895,Decay(lr=0.01,b=0.01))\n",
      "Gradient Descent mse:1.0937007100021383 - mse_val:1.0303812198150757 (init=True,iterations=1000,time=0.22147583961486816,Decay(lr=0.01,b=0.0001))\n",
      "Gradient Descent mse:1.0943814870119482 - mse_val:1.0311238259622173 (init=True,iterations=1000,time=0.1416621208190918,Decay(lr=0.01,b=0.0005))\n",
      "Gradient Descent mse:1.0934993460727669 - mse_val:1.0301700472597155 (init=True,iterations=1000,time=0.23280000686645508,Momentum(lr=0.01,b=0.7))\n",
      "Gradient Descent mse:1.0934996041206764 - mse_val:1.0301701089340154 (init=True,iterations=1000,time=0.20467591285705566,Momentum(lr=0.01,b=0.8))\n",
      "Gradient Descent mse:1.093499862261368 - mse_val:1.0301701707374087 (init=True,iterations=1000,time=0.2484760284423828,Momentum(lr=0.01,b=0.9))\n",
      "Gradient Descent mse:1.0935001179120434 - mse_val:1.0301702320500423 (init=True,iterations=1000,time=0.20975399017333984,Momentum(lr=0.01,b=0.999))\n",
      "Gradient Descent mse:1.1289151769500494 - mse_val:1.0713649152025055 (init=True,iterations=1000,time=0.14747166633605957,Constant(lr=0.001))\n",
      "Gradient Descent mse:1.8245152410652166 - mse_val:1.779193433731574 (init=True,iterations=1000,time=0.19552826881408691,Decay(lr=0.001,b=0.1))\n",
      "Gradient Descent mse:1.3088031070850714 - mse_val:1.255208410083079 (init=True,iterations=1000,time=0.14742493629455566,Decay(lr=0.001,b=0.01))\n",
      "Gradient Descent mse:1.1306070912536743 - mse_val:1.0732610083995122 (init=True,iterations=1000,time=0.21566390991210938,Decay(lr=0.001,b=0.0001))\n",
      "Gradient Descent mse:1.1370861804636843 - mse_val:1.0804022822626695 (init=True,iterations=1000,time=0.17709803581237793,Decay(lr=0.001,b=0.0005))\n",
      "Gradient Descent mse:1.1289145783508785 - mse_val:1.0713655767767838 (init=True,iterations=1000,time=0.2541799545288086,Momentum(lr=0.001,b=0.7))\n",
      "Gradient Descent mse:1.1289144955274437 - mse_val:1.0713656730928542 (init=True,iterations=1000,time=0.14400482177734375,Momentum(lr=0.001,b=0.8))\n",
      "Gradient Descent mse:1.1289144133761093 - mse_val:1.0713657698587777 (init=True,iterations=1000,time=0.22565674781799316,Momentum(lr=0.001,b=0.9))\n",
      "Gradient Descent mse:1.1289143327081463 - mse_val:1.0713658660996714 (init=True,iterations=1000,time=0.2725231647491455,Momentum(lr=0.001,b=0.999))\n",
      "Gradient Descent mse:1.1704821015234568 - mse_val:1.1152971868855297 (init=True,iterations=1000,time=0.20945501327514648,Constant(lr=0.0005))\n",
      "Gradient Descent mse:1.9551897793365545 - mse_val:1.9125212468183568 (init=True,iterations=1000,time=0.2127988338470459,Decay(lr=0.0005,b=0.1))\n",
      "Gradient Descent mse:1.533827188225773 - mse_val:1.4832838179028154 (init=True,iterations=1000,time=0.22260808944702148,Decay(lr=0.0005,b=0.01))\n",
      "Gradient Descent mse:1.175676937129757 - mse_val:1.1205970376569998 (init=True,iterations=1000,time=0.23333501815795898,Decay(lr=0.0005,b=0.0001))\n",
      "Gradient Descent mse:1.1966714972690993 - mse_val:1.1419096551066914 (init=True,iterations=1000,time=0.18698811531066895,Decay(lr=0.0005,b=0.0005))\n",
      "Gradient Descent mse:1.1704531960232059 - mse_val:1.1152716624327026 (init=True,iterations=1000,time=0.19422221183776855,Momentum(lr=0.0005,b=0.7))\n",
      "Gradient Descent mse:1.170449062517135 - mse_val:1.1152680125441197 (init=True,iterations=1000,time=0.28437304496765137,Momentum(lr=0.0005,b=0.8))\n",
      "Gradient Descent mse:1.1704449279770972 - mse_val:1.11526436177443 (init=True,iterations=1000,time=0.23834872245788574,Momentum(lr=0.0005,b=0.9))\n",
      "Gradient Descent mse:1.1704408337650185 - mse_val:1.1152607466456306 (init=True,iterations=1000,time=0.22075486183166504,Momentum(lr=0.0005,b=0.999))\n",
      "Gradient Descent mse:1.5952650516736122 - mse_val:1.5457286602593892 (init=True,iterations=1000,time=0.2075960636138916,Constant(lr=0.0001))\n",
      "Gradient Descent mse:2.0882079297225253 - mse_val:2.0483847772715307 (init=True,iterations=262,time=0.056559085845947266,Decay(lr=0.0001,b=0.1))\n",
      "Gradient Descent mse:1.948337797112298 - mse_val:1.9055264425311256 (init=True,iterations=1000,time=0.1893308162689209,Decay(lr=0.0001,b=0.01))\n",
      "Gradient Descent mse:1.6113870848068077 - mse_val:1.5621247544772532 (init=True,iterations=1000,time=0.19254112243652344,Decay(lr=0.0001,b=0.0001))\n",
      "Gradient Descent mse:1.6641021704769987 - mse_val:1.615761965011654 (init=True,iterations=1000,time=0.22451114654541016,Decay(lr=0.0001,b=0.0005))\n",
      "Gradient Descent mse:1.5954075880668495 - mse_val:1.5458735938229269 (init=True,iterations=1000,time=0.30167579650878906,Momentum(lr=0.0001,b=0.7))\n",
      "Gradient Descent mse:1.595427955048733 - mse_val:1.5458943033430026 (init=True,iterations=1000,time=0.24932503700256348,Momentum(lr=0.0001,b=0.8))\n",
      "Gradient Descent mse:1.5954483231907535 - mse_val:1.5459150140445406 (init=True,iterations=1000,time=0.22123408317565918,Momentum(lr=0.0001,b=0.9))\n",
      "Gradient Descent mse:1.5954684887941915 - mse_val:1.5459355188029094 (init=True,iterations=1000,time=0.2599759101867676,Momentum(lr=0.0001,b=0.999))\n",
      "Gradient Descent mse:2.112453953451804 - mse_val:2.073163232109847 (init=True,iterations=1,time=0.0018799304962158203,Constant(lr=1e-06))\n",
      "Gradient Descent mse:2.112454639654618 - mse_val:2.073163933437599 (init=True,iterations=1,time=0.010719060897827148,Decay(lr=1e-06,b=0.1))\n",
      "Gradient Descent mse:2.1124540281867517 - mse_val:2.0731633084920644 (init=True,iterations=1,time=0.005136013031005859,Decay(lr=1e-06,b=0.01))\n",
      "Gradient Descent mse:2.112453954206552 - mse_val:2.0731632328812304 (init=True,iterations=1,time=0.006177186965942383,Decay(lr=1e-06,b=0.0001))\n",
      "Gradient Descent mse:2.112453957224033 - mse_val:2.0731632359652212 (init=True,iterations=1,time=0.05235886573791504,Decay(lr=1e-06,b=0.0005))\n",
      "Gradient Descent mse:2.112456595334036 - mse_val:2.0731659322231355 (init=True,iterations=1,time=0.003690004348754883,Momentum(lr=1e-06,b=0.7))\n",
      "Gradient Descent mse:2.112456972746093 - mse_val:2.0731663179539237 (init=True,iterations=1,time=0.0011761188507080078,Momentum(lr=1e-06,b=0.8))\n",
      "Gradient Descent mse:2.1124573501582264 - mse_val:2.0731667036847923 (init=True,iterations=1,time=0.009637832641601562,Momentum(lr=1e-06,b=0.9))\n",
      "Gradient Descent mse:2.112457723796314 - mse_val:2.07316708555843 (init=True,iterations=1,time=0.002501249313354492,Momentum(lr=1e-06,b=0.999))\n",
      "Gradient Descent mse:2.1124607468708954 - mse_val:2.0731701752661897 (init=True,iterations=1,time=0.0006649494171142578,Constant(lr=1e-07))\n",
      "Gradient Descent mse:2.112460815491418 - mse_val:2.073170245399214 (init=True,iterations=1,time=0.0008649826049804688,Decay(lr=1e-07,b=0.1))\n",
      "Gradient Descent mse:2.112460754344417 - mse_val:2.07317018290444 (init=True,iterations=1,time=0.000701904296875,Decay(lr=1e-07,b=0.01))\n",
      "Gradient Descent mse:2.1124607469463705 - mse_val:2.0731701753433285 (init=True,iterations=1,time=0.0006608963012695312,Decay(lr=1e-07,b=0.0001))\n",
      "Gradient Descent mse:2.112460747248119 - mse_val:2.073170175651729 (init=True,iterations=1,time=0.0008912086486816406,Decay(lr=1e-07,b=0.0005))\n",
      "Gradient Descent mse:2.1124610110599202 - mse_val:2.073170445278347 (init=True,iterations=1,time=0.0790109634399414,Momentum(lr=1e-07,b=0.7))\n",
      "Gradient Descent mse:2.1124610488012125 - mse_val:2.073170483851515 (init=True,iterations=1,time=0.0559689998626709,Momentum(lr=1e-07,b=0.8))\n",
      "Gradient Descent mse:2.112461086542506 - mse_val:2.073170522424685 (init=True,iterations=1,time=0.012637853622436523,Momentum(lr=1e-07,b=0.9))\n",
      "Gradient Descent mse:2.1124611239063866 - mse_val:2.073170560612123 (init=True,iterations=1,time=0.0063669681549072266,Momentum(lr=1e-07,b=0.999))\n",
      "Best classifier achieved an error of 1.0203266848431447\n",
      "<linear_regression.LinearRegressionMSE object at 0x11177add8>\n"
     ]
    }
   ],
   "source": [
    "data_model_1 = 'default_notext'\n",
    "best_model_1, results_model_1 = model.train_model(data_model_1, init, learning_rates, momentum, decay)"
   ]
  },
  {
   "cell_type": "markdown",
   "metadata": {},
   "source": [
    "#### Model 2\n",
    "Training with features: \n",
    "1. is_root\n",
    "2. controversiality\n",
    "3. children\n",
    "4. text: top 60"
   ]
  },
  {
   "cell_type": "code",
   "execution_count": 504,
   "metadata": {},
   "outputs": [
    {
     "name": "stdout",
     "output_type": "stream",
     "text": [
      "Closed-form mse:1.060229826117505 - mse_val:0.9831859696254968 (time=0.0022211074829101562)\n",
      "Gradient Descent mse:1.0700553584426047 - mse_val:0.9982215004376367 (init=True,iterations=1000,time=0.9736959934234619,Constant(lr=0.01))\n",
      "Gradient Descent mse:1.186394496357353 - mse_val:1.1338342141586109 (init=True,iterations=1000,time=0.9013102054595947,Decay(lr=0.01,b=0.1))\n",
      "Gradient Descent mse:1.0923547290356752 - mse_val:1.0279730661432505 (init=True,iterations=1000,time=0.8670868873596191,Decay(lr=0.01,b=0.01))\n",
      "Gradient Descent mse:1.0704078171029048 - mse_val:0.9987389814863659 (init=True,iterations=1000,time=0.7458078861236572,Decay(lr=0.01,b=0.0001))\n",
      "Gradient Descent mse:1.0716837258550627 - mse_val:1.0006136398699577 (init=True,iterations=1000,time=0.772719144821167,Decay(lr=0.01,b=0.0005))\n",
      "Gradient Descent mse:1.0700563727294825 - mse_val:0.9982208827945661 (init=True,iterations=1000,time=0.8275730609893799,Momentum(lr=0.01,b=0.7))\n",
      "Gradient Descent mse:1.0700565178840766 - mse_val:0.9982207947939649 (init=True,iterations=1000,time=0.807560920715332,Momentum(lr=0.01,b=0.8))\n",
      "Gradient Descent mse:1.0700566631028594 - mse_val:0.9982207068520729 (init=True,iterations=1000,time=0.789053201675415,Momentum(lr=0.01,b=0.9))\n",
      "Gradient Descent mse:1.0700568069327063 - mse_val:0.9982206198474901 (init=True,iterations=1000,time=0.7965869903564453,Momentum(lr=0.01,b=0.999))\n",
      "Gradient Descent mse:1.1250024262934304 - mse_val:1.0677764729808064 (init=True,iterations=1000,time=0.7898387908935547,Constant(lr=0.001))\n",
      "Gradient Descent mse:1.6866319098497333 - mse_val:1.612671211120964 (init=True,iterations=1000,time=0.9773380756378174,Decay(lr=0.001,b=0.1))\n",
      "Gradient Descent mse:1.2974035349651156 - mse_val:1.2424286034861949 (init=True,iterations=1000,time=0.8984520435333252,Decay(lr=0.001,b=0.01))\n",
      "Gradient Descent mse:1.1274842784761636 - mse_val:1.0706648631729536 (init=True,iterations=1000,time=0.8140878677368164,Decay(lr=0.001,b=0.0001))\n",
      "Gradient Descent mse:1.136684590408772 - mse_val:1.081170846371832 (init=True,iterations=1000,time=0.820713996887207,Decay(lr=0.001,b=0.0005))\n",
      "Gradient Descent mse:1.1250049186102096 - mse_val:1.0677842135549012 (init=True,iterations=1000,time=0.9320697784423828,Momentum(lr=0.001,b=0.7))\n",
      "Gradient Descent mse:1.1250052758489797 - mse_val:1.0677853195435696 (init=True,iterations=1000,time=0.9120099544525146,Momentum(lr=0.001,b=0.8))\n",
      "Gradient Descent mse:1.1250056333857108 - mse_val:1.0677864255786116 (init=True,iterations=1000,time=1.0592198371887207,Momentum(lr=0.001,b=0.9))\n",
      "Gradient Descent mse:1.125005987640442 - mse_val:1.0677875205984184 (init=True,iterations=1000,time=0.9626867771148682,Momentum(lr=0.001,b=0.999))\n",
      "Gradient Descent mse:1.1762516112936863 - mse_val:1.1234646212686672 (init=True,iterations=1000,time=0.8117730617523193,Constant(lr=0.0005))\n",
      "Gradient Descent mse:1.8226174132105986 - mse_val:1.7525195032135954 (init=True,iterations=1000,time=0.8885340690612793,Decay(lr=0.0005,b=0.1))\n",
      "Gradient Descent mse:1.4667345850224083 - mse_val:1.4029452844228198 (init=True,iterations=1000,time=0.8340170383453369,Decay(lr=0.0005,b=0.01))\n",
      "Gradient Descent mse:1.1816095416591577 - mse_val:1.128945677871697 (init=True,iterations=1000,time=0.7527172565460205,Decay(lr=0.0005,b=0.0001))\n",
      "Gradient Descent mse:1.2020965804435177 - mse_val:1.1495903218926857 (init=True,iterations=1000,time=0.8834280967712402,Decay(lr=0.0005,b=0.0005))\n",
      "Gradient Descent mse:1.176242563696775 - mse_val:1.1234657214459287 (init=True,iterations=1000,time=0.890531063079834,Momentum(lr=0.0005,b=0.7))\n",
      "Gradient Descent mse:1.1762412676836167 - mse_val:1.1234658763115322 (init=True,iterations=1000,time=0.8566501140594482,Momentum(lr=0.0005,b=0.8))\n",
      "Gradient Descent mse:1.1762399707973894 - mse_val:1.1234660306034299 (init=True,iterations=1000,time=0.8295552730560303,Momentum(lr=0.0005,b=0.9))\n",
      "Gradient Descent mse:1.176238686020586 - mse_val:1.1234661827879149 (init=True,iterations=1000,time=0.8221588134765625,Momentum(lr=0.0005,b=0.999))\n",
      "Gradient Descent mse:1.511223655965972 - mse_val:1.4447544936651762 (init=True,iterations=1000,time=0.7907938957214355,Constant(lr=0.0001))\n",
      "Gradient Descent mse:2.045566082213017 - mse_val:1.9975886037350004 (init=True,iterations=400,time=0.34874820709228516,Decay(lr=0.0001,b=0.1))\n",
      "Gradient Descent mse:1.814045110701004 - mse_val:1.743431934170914 (init=True,iterations=1000,time=0.8026778697967529,Decay(lr=0.0001,b=0.01))\n",
      "Gradient Descent mse:1.5228894631892596 - mse_val:1.4557215388547051 (init=True,iterations=1000,time=0.8017349243164062,Decay(lr=0.0001,b=0.0001))\n",
      "Gradient Descent mse:1.561230888878907 - mse_val:1.4918421720902453 (init=True,iterations=1000,time=0.9451518058776855,Decay(lr=0.0001,b=0.0005))\n",
      "Gradient Descent mse:1.5113259153201033 - mse_val:1.4448548776095318 (init=True,iterations=1000,time=1.1457180976867676,Momentum(lr=0.0001,b=0.7))\n",
      "Gradient Descent mse:1.5113405285316706 - mse_val:1.444869223099224 (init=True,iterations=1000,time=0.9595470428466797,Momentum(lr=0.0001,b=0.8))\n",
      "Gradient Descent mse:1.511355142927674 - mse_val:1.444883569821578 (init=True,iterations=1000,time=1.1307282447814941,Momentum(lr=0.0001,b=0.9))\n",
      "Gradient Descent mse:1.511369612346885 - mse_val:1.444897774291306 (init=True,iterations=1000,time=1.0895757675170898,Momentum(lr=0.0001,b=0.999))\n",
      "Gradient Descent mse:2.1124416782119835 - mse_val:2.073148460990698 (init=True,iterations=1,time=0.002346038818359375,Constant(lr=1e-06))\n",
      "Gradient Descent mse:2.1124434803278893 - mse_val:2.0731505051259362 (init=True,iterations=1,time=0.0021729469299316406,Decay(lr=1e-06,b=0.1))\n",
      "Gradient Descent mse:2.1124418744818474 - mse_val:2.073148683619066 (init=True,iterations=1,time=0.0023767948150634766,Decay(lr=1e-06,b=0.01))\n",
      "Gradient Descent mse:2.112441680194111 - mse_val:2.0731484632390194 (init=True,iterations=1,time=0.002164125442504883,Decay(lr=1e-06,b=0.0001))\n",
      "Gradient Descent mse:2.1124416881186576 - mse_val:2.07314847222781 (init=True,iterations=1,time=0.0023212432861328125,Decay(lr=1e-06,b=0.0005))\n",
      "Gradient Descent mse:2.1124486163791523 - mse_val:2.0731563309364325 (init=True,iterations=1,time=0.0017201900482177734,Momentum(lr=1e-06,b=0.7))\n",
      "Gradient Descent mse:2.112449607550507 - mse_val:2.073157455219923 (init=True,iterations=1,time=0.0024261474609375,Momentum(lr=1e-06,b=0.8))\n",
      "Gradient Descent mse:2.1124505987230155 - mse_val:2.0731585795047947 (init=True,iterations=1,time=0.002835988998413086,Momentum(lr=1e-06,b=0.9))\n",
      "Gradient Descent mse:2.112451579984936 - mse_val:2.0731596925481792 (init=True,iterations=1,time=0.0017058849334716797,Momentum(lr=1e-06,b=0.999))\n",
      "Gradient Descent mse:2.112459519327528 - mse_val:2.073168698130833 (init=True,iterations=1,time=0.00197601318359375,Constant(lr=1e-07))\n",
      "Gradient Descent mse:2.1124596995427245 - mse_val:2.0731689025486744 (init=True,iterations=1,time=0.0023469924926757812,Decay(lr=1e-07,b=0.1))\n",
      "Gradient Descent mse:2.1124595389549237 - mse_val:2.0731687203941602 (init=True,iterations=1,time=0.0027730464935302734,Decay(lr=1e-07,b=0.01))\n",
      "Gradient Descent mse:2.112459519525745 - mse_val:2.07316869835567 (init=True,iterations=1,time=0.0018439292907714844,Decay(lr=1e-07,b=0.0001))\n",
      "Gradient Descent mse:2.1124595203182164 - mse_val:2.0731686992545693 (init=True,iterations=1,time=0.0021529197692871094,Decay(lr=1e-07,b=0.0005))\n",
      "Gradient Descent mse:2.1124602131562416 - mse_val:2.0731694851397724 (init=True,iterations=1,time=0.002101898193359375,Momentum(lr=1e-07,b=0.7))\n",
      "Gradient Descent mse:2.1124603122746755 - mse_val:2.073169597569676 (init=True,iterations=1,time=0.0030930042266845703,Momentum(lr=1e-07,b=0.8))\n",
      "Gradient Descent mse:2.112460411393121 - mse_val:2.0731697099995934 (init=True,iterations=1,time=0.0022399425506591797,Momentum(lr=1e-07,b=0.9))\n",
      "Gradient Descent mse:2.112460509520393 - mse_val:2.0731698213052256 (init=True,iterations=1,time=0.0021381378173828125,Momentum(lr=1e-07,b=0.999))\n",
      "Gradient Descent mse:1.1023352778400772 - mse_val:1.0242725716614878 (init=False,iterations=1000,time=0.8682041168212891,Constant(lr=0.01))\n",
      "Gradient Descent mse:6.167892312797862 - mse_val:7.453821276643514 (init=False,iterations=1000,time=1.0093979835510254,Decay(lr=0.01,b=0.1))\n",
      "Gradient Descent mse:2.3719037519525905 - mse_val:2.7246654280887372 (init=False,iterations=1000,time=1.0913310050964355,Decay(lr=0.01,b=0.01))\n"
     ]
    },
    {
     "name": "stdout",
     "output_type": "stream",
     "text": [
      "Gradient Descent mse:1.109061625666905 - mse_val:1.021902028303069 (init=False,iterations=1000,time=1.0416619777679443,Decay(lr=0.01,b=0.0001))\n",
      "Gradient Descent mse:1.1632123204530316 - mse_val:1.1118200313891853 (init=False,iterations=1000,time=0.9777848720550537,Decay(lr=0.01,b=0.0005))\n",
      "Gradient Descent mse:1.1001910197411076 - mse_val:1.0237494361288946 (init=False,iterations=1000,time=0.8815701007843018,Momentum(lr=0.01,b=0.7))\n",
      "Gradient Descent mse:1.1071696555384554 - mse_val:1.0348133896754803 (init=False,iterations=1000,time=0.8948791027069092,Momentum(lr=0.01,b=0.8))\n",
      "Gradient Descent mse:1.099900919430031 - mse_val:1.0258367822324774 (init=False,iterations=1000,time=0.9137430191040039,Momentum(lr=0.01,b=0.9))\n",
      "Gradient Descent mse:1.101830216304316 - mse_val:1.0319162252029566 (init=False,iterations=1000,time=0.8660740852355957,Momentum(lr=0.01,b=0.999))\n",
      "Gradient Descent mse:2.2519552630951063 - mse_val:2.6153686982485858 (init=False,iterations=1000,time=0.9869117736816406,Constant(lr=0.001))\n",
      "Gradient Descent mse:92.03812595415737 - mse_val:119.15609334414964 (init=False,iterations=1000,time=1.3358731269836426,Decay(lr=0.001,b=0.1))\n",
      "Gradient Descent mse:6.736437568633083 - mse_val:9.058830636348036 (init=False,iterations=1000,time=1.2219252586364746,Decay(lr=0.001,b=0.01))\n",
      "Gradient Descent mse:2.2424946373105326 - mse_val:2.61310210578442 (init=False,iterations=1000,time=1.1553022861480713,Decay(lr=0.001,b=0.0001))\n",
      "Gradient Descent mse:2.568927680530793 - mse_val:2.9017551549763665 (init=False,iterations=1000,time=1.2976670265197754,Decay(lr=0.001,b=0.0005))\n",
      "Gradient Descent mse:1.9978120356086475 - mse_val:2.218199682728952 (init=False,iterations=1000,time=1.1659016609191895,Momentum(lr=0.001,b=0.7))\n",
      "Gradient Descent mse:2.058582424786801 - mse_val:2.2052246085539964 (init=False,iterations=1000,time=1.2127983570098877,Momentum(lr=0.001,b=0.8))\n",
      "Gradient Descent mse:2.168335014116964 - mse_val:2.245624658036223 (init=False,iterations=1000,time=1.1851000785827637,Momentum(lr=0.001,b=0.9))\n",
      "Gradient Descent mse:2.179704409202121 - mse_val:2.4146236281144517 (init=False,iterations=1000,time=1.0600178241729736,Momentum(lr=0.001,b=0.999))\n",
      "Gradient Descent mse:2.560903465023923 - mse_val:2.901108586013011 (init=False,iterations=1000,time=1.061187982559204,Constant(lr=0.0005))\n",
      "Gradient Descent mse:115.27887883849151 - mse_val:137.2414514941602 (init=False,iterations=1000,time=1.1256260871887207,Decay(lr=0.0005,b=0.1))\n",
      "Gradient Descent mse:23.66356526469129 - mse_val:31.5568754629647 (init=False,iterations=1000,time=1.1713171005249023,Decay(lr=0.0005,b=0.01))\n",
      "Gradient Descent mse:3.0369848626556704 - mse_val:3.551994187924801 (init=False,iterations=1000,time=1.0392508506774902,Decay(lr=0.0005,b=0.0001))\n",
      "Gradient Descent mse:3.6430393346084844 - mse_val:4.238924217051095 (init=False,iterations=1000,time=0.8504090309143066,Decay(lr=0.0005,b=0.0005))\n",
      "Gradient Descent mse:2.679081201716133 - mse_val:3.170772829174555 (init=False,iterations=1000,time=0.9377331733703613,Momentum(lr=0.0005,b=0.7))\n",
      "Gradient Descent mse:2.8031087215458093 - mse_val:3.2241730862020868 (init=False,iterations=1000,time=0.9546771049499512,Momentum(lr=0.0005,b=0.8))\n",
      "Gradient Descent mse:3.006929877021038 - mse_val:3.6007648477215914 (init=False,iterations=1000,time=0.9000041484832764,Momentum(lr=0.0005,b=0.9))\n",
      "Gradient Descent mse:2.7642046848947706 - mse_val:2.9803575484903124 (init=False,iterations=1000,time=0.9728808403015137,Momentum(lr=0.0005,b=0.999))\n",
      "Gradient Descent mse:4.455745119874764 - mse_val:5.577701465602196 (init=False,iterations=1000,time=0.9987368583679199,Constant(lr=0.0001))\n",
      "Gradient Descent mse:88.29598019028207 - mse_val:109.62977694986382 (init=False,iterations=1000,time=1.0187621116638184,Decay(lr=0.0001,b=0.1))\n",
      "Gradient Descent mse:75.99491354037885 - mse_val:94.01434182169251 (init=False,iterations=1000,time=1.1067478656768799,Decay(lr=0.0001,b=0.01))\n",
      "Gradient Descent mse:5.191834963998174 - mse_val:5.888807794377752 (init=False,iterations=1000,time=0.934891939163208,Decay(lr=0.0001,b=0.0001))\n",
      "Gradient Descent mse:8.178016076686415 - mse_val:9.484428825474788 (init=False,iterations=1000,time=0.8396680355072021,Decay(lr=0.0001,b=0.0005))\n",
      "Gradient Descent mse:4.022856211828425 - mse_val:4.542747315870863 (init=False,iterations=1000,time=0.8608090877532959,Momentum(lr=0.0001,b=0.7))\n",
      "Gradient Descent mse:4.5000675357889675 - mse_val:5.338937880752516 (init=False,iterations=1000,time=0.8689582347869873,Momentum(lr=0.0001,b=0.8))\n",
      "Gradient Descent mse:4.569655102387525 - mse_val:4.991744203352439 (init=False,iterations=1000,time=0.8737680912017822,Momentum(lr=0.0001,b=0.9))\n",
      "Gradient Descent mse:5.369981020120246 - mse_val:7.595931273771487 (init=False,iterations=1000,time=1.1067628860473633,Momentum(lr=0.0001,b=0.999))\n",
      "Gradient Descent mse:123.07314893418194 - mse_val:150.31954093204234 (init=False,iterations=1000,time=1.293882131576538,Constant(lr=1e-06))\n",
      "Gradient Descent mse:137.28613305596005 - mse_val:163.54449603440054 (init=False,iterations=78,time=0.10177326202392578,Decay(lr=1e-06,b=0.1))\n",
      "Gradient Descent mse:97.3225368099684 - mse_val:117.0675296911461 (init=False,iterations=645,time=1.0170769691467285,Decay(lr=1e-06,b=0.01))\n",
      "Gradient Descent mse:108.43569248680114 - mse_val:143.44314878747153 (init=False,iterations=1000,time=1.2119789123535156,Decay(lr=1e-06,b=0.0001))\n",
      "Gradient Descent mse:110.43944256790503 - mse_val:144.04761773366073 (init=False,iterations=1000,time=1.0440080165863037,Decay(lr=1e-06,b=0.0005))\n",
      "Gradient Descent mse:96.31134843959376 - mse_val:114.9035397106005 (init=False,iterations=1000,time=1.0815761089324951,Momentum(lr=1e-06,b=0.7))\n",
      "Gradient Descent mse:147.98275630233786 - mse_val:177.6514893828259 (init=False,iterations=1000,time=1.3252379894256592,Momentum(lr=1e-06,b=0.8))\n",
      "Gradient Descent mse:94.68453223976256 - mse_val:121.82513528365295 (init=False,iterations=1000,time=1.3183298110961914,Momentum(lr=1e-06,b=0.9))\n",
      "Gradient Descent mse:112.94236930784699 - mse_val:140.1432997693949 (init=False,iterations=1000,time=1.179135799407959,Momentum(lr=1e-06,b=0.999))\n",
      "Gradient Descent mse:54.64157649110006 - mse_val:69.48532417144484 (init=False,iterations=1,time=0.001898050308227539,Constant(lr=1e-07))\n",
      "Gradient Descent mse:77.89043673976602 - mse_val:97.90554165475946 (init=False,iterations=1,time=0.0026340484619140625,Decay(lr=1e-07,b=0.1))\n",
      "Gradient Descent mse:93.05880635204085 - mse_val:110.97273802634354 (init=False,iterations=1,time=0.0024788379669189453,Decay(lr=1e-07,b=0.01))\n",
      "Gradient Descent mse:123.21582772900307 - mse_val:155.4454162404878 (init=False,iterations=1,time=0.002233743667602539,Decay(lr=1e-07,b=0.0001))\n",
      "Gradient Descent mse:105.9751704154358 - mse_val:128.2221728351779 (init=False,iterations=1,time=0.0016567707061767578,Decay(lr=1e-07,b=0.0005))\n",
      "Gradient Descent mse:135.75887932197332 - mse_val:169.7333660262611 (init=False,iterations=1,time=0.002151012420654297,Momentum(lr=1e-07,b=0.7))\n",
      "Gradient Descent mse:117.91376334290027 - mse_val:148.71970400357407 (init=False,iterations=1,time=0.0015749931335449219,Momentum(lr=1e-07,b=0.8))\n",
      "Gradient Descent mse:113.25295338889134 - mse_val:139.984974256996 (init=False,iterations=1,time=0.0015878677368164062,Momentum(lr=1e-07,b=0.9))\n",
      "Gradient Descent mse:130.27903506928396 - mse_val:152.64859383907722 (init=False,iterations=1,time=0.0018951892852783203,Momentum(lr=1e-07,b=0.999))\n",
      "Best classifier achieved an error of 0.9831859696254968\n",
      "<linear_regression.LinearRegressionMSE object at 0x1a3415a240>\n"
     ]
    }
   ],
   "source": [
    "data_model_2 = 'default_top60'\n",
    "best_model_2, results_model_2 = model.train_model(data_model_2, init, learning_rates, momentum, decay)"
   ]
  },
  {
   "cell_type": "markdown",
   "metadata": {},
   "source": [
    "#### Model 3\n",
    "Training with features: \n",
    "1. is_root\n",
    "2. controversiality\n",
    "3. children\n",
    "4. text: top 160"
   ]
  },
  {
   "cell_type": "code",
   "execution_count": 505,
   "metadata": {
    "colab": {},
    "colab_type": "code",
    "id": "aoOpnxvaEKhT"
   },
   "outputs": [
    {
     "name": "stdout",
     "output_type": "stream",
     "text": [
      "Closed-form mse:1.0468329117783814 - mse_val:0.9895357003238057 (time=0.029340028762817383)\n",
      "Gradient Descent mse:1.0607275488309842 - mse_val:0.9928966146307043 (init=True,iterations=1000,time=3.8776051998138428,Constant(lr=0.01))\n",
      "Gradient Descent mse:1.18458547275162 - mse_val:1.131668754335487 (init=True,iterations=1000,time=4.000108957290649,Decay(lr=0.01,b=0.1))\n",
      "Gradient Descent mse:1.088200195954605 - mse_val:1.0235825884059975 (init=True,iterations=1000,time=3.721389055252075,Decay(lr=0.01,b=0.01))\n",
      "Gradient Descent mse:1.0612764175354388 - mse_val:0.9933249722775704 (init=True,iterations=1000,time=3.6959540843963623,Decay(lr=0.01,b=0.0001))\n",
      "Gradient Descent mse:1.0632223159186367 - mse_val:0.9949990101022299 (init=True,iterations=1000,time=3.7019500732421875,Decay(lr=0.01,b=0.0005))\n",
      "Gradient Descent mse:1.0607296813995588 - mse_val:0.9928932485577997 (init=True,iterations=1000,time=3.6897919178009033,Momentum(lr=0.01,b=0.7))\n",
      "Gradient Descent mse:1.0607299863028914 - mse_val:0.9928927676048084 (init=True,iterations=1000,time=3.893134117126465,Momentum(lr=0.01,b=0.8))\n",
      "Gradient Descent mse:1.0607302912689582 - mse_val:0.9928922866305576 (init=True,iterations=1000,time=3.7807397842407227,Momentum(lr=0.01,b=0.9))\n",
      "Gradient Descent mse:1.0607305932471822 - mse_val:0.9928918104451402 (init=True,iterations=1000,time=3.747321844100952,Momentum(lr=0.01,b=0.999))\n",
      "Gradient Descent mse:1.1223565075534712 - mse_val:1.0646609660109556 (init=True,iterations=1000,time=3.9424092769622803,Constant(lr=0.001))\n",
      "Gradient Descent mse:1.6855903159227568 - mse_val:1.6109356400962136 (init=True,iterations=1000,time=3.688325881958008,Decay(lr=0.001,b=0.1))\n",
      "Gradient Descent mse:1.2961303137655829 - mse_val:1.240790480155525 (init=True,iterations=1000,time=4.237604856491089,Decay(lr=0.001,b=0.01))\n",
      "Gradient Descent mse:1.1248988960114152 - mse_val:1.0676154390445163 (init=True,iterations=1000,time=3.692157030105591,Decay(lr=0.001,b=0.0001))\n",
      "Gradient Descent mse:1.1342930825278643 - mse_val:1.0783387017415487 (init=True,iterations=1000,time=3.631117820739746,Decay(lr=0.001,b=0.0005))\n",
      "Gradient Descent mse:1.1223596642457963 - mse_val:1.0646694116278437 (init=True,iterations=1000,time=3.8994150161743164,Momentum(lr=0.001,b=0.7))\n",
      "Gradient Descent mse:1.1223601163690837 - mse_val:1.0646706183508785 (init=True,iterations=1000,time=3.98524808883667,Momentum(lr=0.001,b=0.8))\n",
      "Gradient Descent mse:1.1223605687837457 - mse_val:1.0646718251237444 (init=True,iterations=1000,time=4.071913003921509,Momentum(lr=0.001,b=0.9))\n",
      "Gradient Descent mse:1.1223610169611338 - mse_val:1.0646730198773897 (init=True,iterations=1000,time=5.172797918319702,Momentum(lr=0.001,b=0.999))\n",
      "Gradient Descent mse:1.1743607523705517 - mse_val:1.1212074091434698 (init=True,iterations=1000,time=4.518254995346069,Constant(lr=0.0005))\n",
      "Gradient Descent mse:1.820737772541897 - mse_val:1.7498568625102724 (init=True,iterations=1000,time=3.831901788711548,Decay(lr=0.0005,b=0.1))\n",
      "Gradient Descent mse:1.4660149728503546 - mse_val:1.4017612559620156 (init=True,iterations=1000,time=3.949763059616089,Decay(lr=0.0005,b=0.01))\n",
      "Gradient Descent mse:1.1797627030253277 - mse_val:1.1267377993884105 (init=True,iterations=1000,time=4.846163988113403,Decay(lr=0.0005,b=0.0001))\n",
      "Gradient Descent mse:1.2003918072846957 - mse_val:1.147537460533277 (init=True,iterations=1000,time=6.082787036895752,Decay(lr=0.0005,b=0.0005))\n",
      "Gradient Descent mse:1.1743521699599162 - mse_val:1.1212092113165022 (init=True,iterations=1000,time=4.302635908126831,Momentum(lr=0.0005,b=0.7))\n",
      "Gradient Descent mse:1.1743509404216708 - mse_val:1.1212094665311658 (init=True,iterations=1000,time=3.5373988151550293,Momentum(lr=0.0005,b=0.8))\n",
      "Gradient Descent mse:1.1743497100153033 - mse_val:1.121209721188103 (init=True,iterations=1000,time=5.923246145248413,Momentum(lr=0.0005,b=0.9))\n",
      "Gradient Descent mse:1.1743484910584385 - mse_val:1.1212099727497145 (init=True,iterations=1000,time=8.807353019714355,Momentum(lr=0.0005,b=0.999))\n",
      "Gradient Descent mse:1.5106006031558676 - mse_val:1.4436362120323856 (init=True,iterations=1000,time=7.083357810974121,Constant(lr=0.0001))\n",
      "Gradient Descent mse:2.0445149573835635 - mse_val:1.9962318281603304 (init=True,iterations=402,time=2.8130228519439697,Decay(lr=0.0001,b=0.1))\n",
      "Gradient Descent mse:1.8122012600843955 - mse_val:1.7408036861594305 (init=True,iterations=1000,time=6.727731943130493,Decay(lr=0.0001,b=0.01))\n",
      "Gradient Descent mse:1.5222832130863753 - mse_val:1.4546109644772236 (init=True,iterations=1000,time=6.98056697845459,Decay(lr=0.0001,b=0.0001))\n",
      "Gradient Descent mse:1.5606439370080334 - mse_val:1.4907168297915923 (init=True,iterations=1000,time=5.088322162628174,Decay(lr=0.0001,b=0.0005))\n",
      "Gradient Descent mse:1.5107036498078632 - mse_val:1.443737166958768 (init=True,iterations=1000,time=3.868656873703003,Momentum(lr=0.0001,b=0.7))\n",
      "Gradient Descent mse:1.510718375548623 - mse_val:1.4437515940229886 (init=True,iterations=1000,time=4.094147205352783,Momentum(lr=0.0001,b=0.8))\n",
      "Gradient Descent mse:1.5107331024882427 - mse_val:1.4437660223211584 (init=True,iterations=1000,time=3.994074821472168,Momentum(lr=0.0001,b=0.9))\n",
      "Gradient Descent mse:1.5107476833398086 - mse_val:1.4437803075521674 (init=True,iterations=1000,time=4.004919052124023,Momentum(lr=0.0001,b=0.999))\n",
      "Gradient Descent mse:2.1124413473981067 - mse_val:2.0731480340343826 (init=True,iterations=1,time=0.011976957321166992,Constant(lr=1e-06))\n",
      "Gradient Descent mse:2.1124431795871605 - mse_val:2.073150116982807 (init=True,iterations=1,time=0.010221004486083984,Decay(lr=1e-06,b=0.1))\n",
      "Gradient Descent mse:2.112441546943256 - mse_val:2.0731482608899205 (init=True,iterations=1,time=0.011093854904174805,Decay(lr=1e-06,b=0.01))\n",
      "Gradient Descent mse:2.1124413494133107 - mse_val:2.0731480363253945 (init=True,iterations=1,time=0.011322736740112305,Decay(lr=1e-06,b=0.0001))\n",
      "Gradient Descent mse:2.1124413574700998 - mse_val:2.0731480454848605 (init=True,iterations=1,time=0.008985042572021484,Decay(lr=1e-06,b=0.0005))\n",
      "Gradient Descent mse:2.1124484013478178 - mse_val:2.0731560534120055 (init=True,iterations=1,time=0.011752843856811523,Momentum(lr=1e-06,b=0.7))\n",
      "Gradient Descent mse:2.1124494090597383 - mse_val:2.0731571990431563 (init=True,iterations=1,time=0.010324954986572266,Momentum(lr=1e-06,b=0.8))\n",
      "Gradient Descent mse:2.112450416772865 - mse_val:2.073158344675751 (init=True,iterations=1,time=0.013403892517089844,Momentum(lr=1e-06,b=0.9))\n",
      "Gradient Descent mse:2.1124514144100472 - mse_val:2.073159478853442 (init=True,iterations=1,time=0.012955188751220703,Momentum(lr=1e-06,b=0.999))\n",
      "Gradient Descent mse:2.112459486245225 - mse_val:2.073168655434085 (init=True,iterations=1,time=0.011945962905883789,Constant(lr=1e-07))\n",
      "Gradient Descent mse:2.1124596694678943 - mse_val:2.073168863733439 (init=True,iterations=1,time=0.009840726852416992,Decay(lr=1e-07,b=0.1))\n",
      "Gradient Descent mse:2.1124595062001665 - mse_val:2.0731686781201506 (init=True,iterations=1,time=0.011012077331542969,Decay(lr=1e-07,b=0.01))\n",
      "Gradient Descent mse:2.11245948644675 - mse_val:2.073168655663191 (init=True,iterations=1,time=0.009786844253540039,Decay(lr=1e-07,b=0.0001))\n",
      "Gradient Descent mse:2.112459487252446 - mse_val:2.073168656579159 (init=True,iterations=1,time=0.013022184371948242,Decay(lr=1e-07,b=0.0005))\n",
      "Gradient Descent mse:2.1124601916527213 - mse_val:2.073169457386858 (init=True,iterations=1,time=0.01168203353881836,Momentum(lr=1e-07,b=0.7))\n",
      "Gradient Descent mse:2.112460292425269 - mse_val:2.0731695719515972 (init=True,iterations=1,time=0.009999275207519531,Momentum(lr=1e-07,b=0.8))\n",
      "Gradient Descent mse:2.1124603931978285 - mse_val:2.073169686516352 (init=True,iterations=1,time=0.010809183120727539,Momentum(lr=1e-07,b=0.9))\n",
      "Gradient Descent mse:2.1124604929626747 - mse_val:2.0731697999354726 (init=True,iterations=1,time=0.010442018508911133,Momentum(lr=1e-07,b=0.999))\n",
      "Gradient Descent mse:1.3079566154509752 - mse_val:1.2325652981224158 (init=False,iterations=1000,time=4.26980996131897,Constant(lr=0.01))\n",
      "Gradient Descent mse:8.646604258014086 - mse_val:11.207127551797075 (init=False,iterations=1000,time=3.801900863647461,Decay(lr=0.01,b=0.1))\n",
      "Gradient Descent mse:3.61454096561701 - mse_val:4.305294001430046 (init=False,iterations=1000,time=3.9080088138580322,Decay(lr=0.01,b=0.01))\n"
     ]
    },
    {
     "name": "stdout",
     "output_type": "stream",
     "text": [
      "Gradient Descent mse:1.3552638362861287 - mse_val:1.4095283712497226 (init=False,iterations=1000,time=3.883441209793091,Decay(lr=0.01,b=0.0001))\n",
      "Gradient Descent mse:1.5351648838315772 - mse_val:1.5223697156188172 (init=False,iterations=1000,time=4.095347881317139,Decay(lr=0.01,b=0.0005))\n",
      "Gradient Descent mse:1.2826684538964521 - mse_val:1.2556667657336198 (init=False,iterations=1000,time=3.7665398120880127,Momentum(lr=0.01,b=0.7))\n",
      "Gradient Descent mse:1.2792390614138134 - mse_val:1.2176422106386973 (init=False,iterations=1000,time=3.98148512840271,Momentum(lr=0.01,b=0.8))\n",
      "Gradient Descent mse:1.2837743008677147 - mse_val:1.2233236003803267 (init=False,iterations=1000,time=4.308222770690918,Momentum(lr=0.01,b=0.9))\n",
      "Gradient Descent mse:1.2774875036883961 - mse_val:1.3015961470631783 (init=False,iterations=1000,time=5.627488136291504,Momentum(lr=0.01,b=0.999))\n",
      "Gradient Descent mse:3.095983302421929 - mse_val:3.1507323770905304 (init=False,iterations=1000,time=4.72274374961853,Constant(lr=0.001))\n",
      "Gradient Descent mse:125.65425650043008 - mse_val:156.14785512389545 (init=False,iterations=1000,time=4.240268230438232,Decay(lr=0.001,b=0.1))\n",
      "Gradient Descent mse:10.871631234761086 - mse_val:14.652554637926265 (init=False,iterations=1000,time=3.9441940784454346,Decay(lr=0.001,b=0.01))\n",
      "Gradient Descent mse:3.0802222232623753 - mse_val:3.590088973099585 (init=False,iterations=1000,time=4.252316951751709,Decay(lr=0.001,b=0.0001))\n",
      "Gradient Descent mse:4.006738607896847 - mse_val:5.262144770551342 (init=False,iterations=1000,time=3.8225088119506836,Decay(lr=0.001,b=0.0005))\n",
      "Gradient Descent mse:3.0959810096824993 - mse_val:3.9220001673769076 (init=False,iterations=1000,time=4.002924919128418,Momentum(lr=0.001,b=0.7))\n",
      "Gradient Descent mse:3.193734951668133 - mse_val:3.6490271804740715 (init=False,iterations=1000,time=4.798336982727051,Momentum(lr=0.001,b=0.8))\n",
      "Gradient Descent mse:2.5988875154717674 - mse_val:2.8446157900700464 (init=False,iterations=1000,time=4.873315811157227,Momentum(lr=0.001,b=0.9))\n",
      "Gradient Descent mse:3.0951110388114977 - mse_val:3.9732361338588977 (init=False,iterations=1000,time=4.171556234359741,Momentum(lr=0.001,b=0.999))\n",
      "Gradient Descent mse:4.256170243618384 - mse_val:5.195495007335003 (init=False,iterations=1000,time=4.818460941314697,Constant(lr=0.0005))\n",
      "Gradient Descent mse:124.10289717150286 - mse_val:154.58306243409527 (init=False,iterations=1000,time=4.404664039611816,Decay(lr=0.0005,b=0.1))\n",
      "Gradient Descent mse:26.607106802661008 - mse_val:34.99956394725655 (init=False,iterations=1000,time=3.833040952682495,Decay(lr=0.0005,b=0.01))\n",
      "Gradient Descent mse:4.347453392040311 - mse_val:5.756200779128862 (init=False,iterations=1000,time=3.745410919189453,Decay(lr=0.0005,b=0.0001))\n",
      "Gradient Descent mse:5.223110543151978 - mse_val:6.297281007945159 (init=False,iterations=1000,time=3.909965991973877,Decay(lr=0.0005,b=0.0005))\n",
      "Gradient Descent mse:3.971965167238225 - mse_val:4.836142787808691 (init=False,iterations=1000,time=3.752387046813965,Momentum(lr=0.0005,b=0.7))\n",
      "Gradient Descent mse:3.6403238412400407 - mse_val:4.06166701315904 (init=False,iterations=1000,time=3.5752038955688477,Momentum(lr=0.0005,b=0.8))\n",
      "Gradient Descent mse:4.5176461923490905 - mse_val:5.285997921882529 (init=False,iterations=1000,time=3.8082821369171143,Momentum(lr=0.0005,b=0.9))\n",
      "Gradient Descent mse:4.697189979742819 - mse_val:5.584419284506811 (init=False,iterations=1000,time=4.038731098175049,Momentum(lr=0.0005,b=0.999))\n",
      "Gradient Descent mse:7.472577124861013 - mse_val:9.524109442568474 (init=False,iterations=1000,time=4.411988973617554,Constant(lr=0.0001))\n",
      "Gradient Descent mse:200.69643062528036 - mse_val:247.556373036597 (init=False,iterations=1000,time=3.6740989685058594,Decay(lr=0.0001,b=0.1))\n",
      "Gradient Descent mse:100.86087236052506 - mse_val:122.33257066875959 (init=False,iterations=1000,time=3.9599099159240723,Decay(lr=0.0001,b=0.01))\n",
      "Gradient Descent mse:7.266317012603939 - mse_val:10.905690743763774 (init=False,iterations=1000,time=4.083884954452515,Decay(lr=0.0001,b=0.0001))\n",
      "Gradient Descent mse:12.378860787776988 - mse_val:17.650428632708866 (init=False,iterations=1000,time=3.971656084060669,Decay(lr=0.0001,b=0.0005))\n",
      "Gradient Descent mse:7.325000741177139 - mse_val:10.248325960800345 (init=False,iterations=1000,time=4.299130201339722,Momentum(lr=0.0001,b=0.7))\n",
      "Gradient Descent mse:6.899596828782961 - mse_val:8.588810225500817 (init=False,iterations=1000,time=3.7614307403564453,Momentum(lr=0.0001,b=0.8))\n",
      "Gradient Descent mse:7.228356466815881 - mse_val:9.554809155295544 (init=False,iterations=1000,time=3.9690728187561035,Momentum(lr=0.0001,b=0.9))\n",
      "Gradient Descent mse:6.050904541505653 - mse_val:8.509127472573262 (init=False,iterations=1000,time=3.9833970069885254,Momentum(lr=0.0001,b=0.999))\n",
      "Gradient Descent mse:180.6732742606259 - mse_val:222.89441651335628 (init=False,iterations=1000,time=3.8930017948150635,Constant(lr=1e-06))\n",
      "Gradient Descent mse:178.53241698364283 - mse_val:219.61925667859487 (init=False,iterations=91,time=0.32610607147216797,Decay(lr=1e-06,b=0.1))\n",
      "Gradient Descent mse:161.85751613062135 - mse_val:202.75381811921122 (init=False,iterations=875,time=3.432922840118408,Decay(lr=1e-06,b=0.01))\n",
      "Gradient Descent mse:202.3604511652014 - mse_val:236.18583332604163 (init=False,iterations=1000,time=3.7948498725891113,Decay(lr=1e-06,b=0.0001))\n",
      "Gradient Descent mse:165.5693923172237 - mse_val:211.27778083845718 (init=False,iterations=1000,time=3.8636839389801025,Decay(lr=1e-06,b=0.0005))\n",
      "Gradient Descent mse:209.42015426369514 - mse_val:261.6408645315038 (init=False,iterations=1000,time=4.012208700180054,Momentum(lr=1e-06,b=0.7))\n",
      "Gradient Descent mse:171.71146697955857 - mse_val:215.4554016692626 (init=False,iterations=1000,time=3.979022979736328,Momentum(lr=1e-06,b=0.8))\n",
      "Gradient Descent mse:147.51669705061752 - mse_val:188.34988266707015 (init=False,iterations=1000,time=3.7864251136779785,Momentum(lr=1e-06,b=0.9))\n",
      "Gradient Descent mse:230.28300434138094 - mse_val:277.7550042681984 (init=False,iterations=1000,time=3.7832679748535156,Momentum(lr=1e-06,b=0.999))\n",
      "Gradient Descent mse:165.35810362091624 - mse_val:207.73289577138308 (init=False,iterations=1,time=0.0077779293060302734,Constant(lr=1e-07))\n",
      "Gradient Descent mse:132.67279367954197 - mse_val:169.76985643221278 (init=False,iterations=1,time=0.008147001266479492,Decay(lr=1e-07,b=0.1))\n",
      "Gradient Descent mse:204.42845488102492 - mse_val:257.48577395583493 (init=False,iterations=9,time=0.03535795211791992,Decay(lr=1e-07,b=0.01))\n",
      "Gradient Descent mse:197.76054427225506 - mse_val:247.05466024923476 (init=False,iterations=838,time=3.3607897758483887,Decay(lr=1e-07,b=0.0001))\n",
      "Gradient Descent mse:133.39140633552597 - mse_val:168.0267404944905 (init=False,iterations=1,time=0.009429931640625,Decay(lr=1e-07,b=0.0005))\n",
      "Gradient Descent mse:206.8262286329151 - mse_val:250.94342042086205 (init=False,iterations=1,time=0.0093231201171875,Momentum(lr=1e-07,b=0.7))\n",
      "Gradient Descent mse:166.54628292965734 - mse_val:199.72683839158972 (init=False,iterations=1,time=0.008305072784423828,Momentum(lr=1e-07,b=0.8))\n",
      "Gradient Descent mse:175.53534950207657 - mse_val:221.93687847446068 (init=False,iterations=1,time=0.008054018020629883,Momentum(lr=1e-07,b=0.9))\n",
      "Gradient Descent mse:183.810024822327 - mse_val:218.09835101775104 (init=False,iterations=1,time=0.008208036422729492,Momentum(lr=1e-07,b=0.999))\n",
      "Best classifier achieved an error of 0.9895357003238057\n",
      "<linear_regression.LinearRegressionMSE object at 0x1a3fabbeb8>\n"
     ]
    }
   ],
   "source": [
    "data_model_3 = 'default_top160'\n",
    "best_model_3, results_model_3 = model.train_model(data_model_3, init, learning_rates, momentum, decay)"
   ]
  },
  {
   "cell_type": "markdown",
   "metadata": {},
   "source": [
    "#### Model 4\n",
    "Training with features: \n",
    "1. children\n",
    "2. $children^2$\n",
    "3. text: top 160"
   ]
  },
  {
   "cell_type": "code",
   "execution_count": 6,
   "metadata": {},
   "outputs": [
    {
     "name": "stdout",
     "output_type": "stream",
     "text": [
      "Closed-form mse:1.024183574859494 - mse_val:1.000776824818799 (time=0.01339578628540039)\n",
      "Gradient Descent mse:nan - mse_val:nan (init=True,iterations=226,time=0.9615471363067627,Constant(lr=0.01))\n",
      "Gradient Descent mse:4.770324308194477e+64 - mse_val:5.0597778391098677e+64 (init=True,iterations=1000,time=4.034344911575317,Decay(lr=0.01,b=0.1))\n",
      "Gradient Descent mse:nan - mse_val:nan (init=True,iterations=330,time=1.2455501556396484,Decay(lr=0.01,b=0.01))\n",
      "Gradient Descent mse:nan - mse_val:nan (init=True,iterations=227,time=0.8823559284210205,Decay(lr=0.01,b=0.0001))\n",
      "Gradient Descent mse:nan - mse_val:nan (init=True,iterations=231,time=0.8944571018218994,Decay(lr=0.01,b=0.0005))\n",
      "Gradient Descent mse:nan - mse_val:nan (init=True,iterations=267,time=1.0577268600463867,Momentum(lr=0.01,b=0.7))\n",
      "Gradient Descent mse:nan - mse_val:nan (init=True,iterations=277,time=1.0862457752227783,Momentum(lr=0.01,b=0.8))\n",
      "Gradient Descent mse:nan - mse_val:nan (init=True,iterations=289,time=1.1544010639190674,Momentum(lr=0.01,b=0.9))\n",
      "Gradient Descent mse:nan - mse_val:nan (init=True,iterations=303,time=1.2026748657226562,Momentum(lr=0.01,b=0.999))\n",
      "Gradient Descent mse:1.6005179567403718e+243 - mse_val:1.2170629058577067e+243 (init=True,iterations=1000,time=4.092420816421509,Constant(lr=0.001))\n",
      "Gradient Descent mse:1.6703120013544195 - mse_val:1.587200335622345 (init=True,iterations=1000,time=3.936316967010498,Decay(lr=0.001,b=0.1))\n",
      "Gradient Descent mse:1.3378699284727378 - mse_val:1.2775552583538397 (init=True,iterations=1000,time=3.936457872390747,Decay(lr=0.001,b=0.01))\n",
      "Gradient Descent mse:2.7121971430849367e+167 - mse_val:2.062403937625664e+167 (init=True,iterations=1000,time=4.031250953674316,Decay(lr=0.001,b=0.0001))\n",
      "Gradient Descent mse:35.8586180830484 - mse_val:38.22437131758203 (init=True,iterations=1000,time=3.747715711593628,Decay(lr=0.001,b=0.0005))\n",
      "Gradient Descent mse:1.0677696415965428 - mse_val:1.021376358059604 (init=True,iterations=1000,time=4.146191120147705,Momentum(lr=0.001,b=0.7))\n",
      "Gradient Descent mse:1.067765480559314 - mse_val:1.0213736332391692 (init=True,iterations=1000,time=3.8775980472564697,Momentum(lr=0.001,b=0.8))\n",
      "Gradient Descent mse:1.067761318411929 - mse_val:1.0213709078618542 (init=True,iterations=1000,time=4.212740898132324,Momentum(lr=0.001,b=0.9))\n",
      "Gradient Descent mse:1.067757196792955 - mse_val:1.021368209190396 (init=True,iterations=1000,time=4.023309946060181,Momentum(lr=0.001,b=0.999))\n",
      "Gradient Descent mse:1.160864413400661 - mse_val:1.108902329389278 (init=True,iterations=1000,time=3.791105031967163,Constant(lr=0.0005))\n",
      "Gradient Descent mse:1.7692297202295162 - mse_val:1.6836342209472854 (init=True,iterations=1000,time=3.788738965988159,Decay(lr=0.0005,b=0.1))\n",
      "Gradient Descent mse:1.5043849401385523 - mse_val:1.4341871698237456 (init=True,iterations=1000,time=3.800692081451416,Decay(lr=0.0005,b=0.01))\n",
      "Gradient Descent mse:1.170619227284493 - mse_val:1.1182038889685457 (init=True,iterations=1000,time=3.6906521320343018,Decay(lr=0.0005,b=0.0001))\n",
      "Gradient Descent mse:1.2059950881223533 - mse_val:1.151963362148795 (init=True,iterations=1000,time=3.9625141620635986,Decay(lr=0.0005,b=0.0005))\n",
      "Gradient Descent mse:1.1608752320687292 - mse_val:1.108919442520894 (init=True,iterations=1000,time=3.946382999420166,Momentum(lr=0.0005,b=0.7))\n",
      "Gradient Descent mse:1.1608767713254413 - mse_val:1.1089218824875666 (init=True,iterations=1000,time=3.8885679244995117,Momentum(lr=0.0005,b=0.8))\n",
      "Gradient Descent mse:1.1608783090135923 - mse_val:1.108924321261386 (init=True,iterations=1000,time=3.792872190475464,Momentum(lr=0.0005,b=0.9))\n",
      "Gradient Descent mse:1.1608798297791805 - mse_val:1.108926734472037 (init=True,iterations=1000,time=3.719878911972046,Momentum(lr=0.0005,b=0.999))\n",
      "Gradient Descent mse:1.5407783263821806 - mse_val:1.4678622477148402 (init=True,iterations=1000,time=3.667811870574951,Constant(lr=0.0001))\n",
      "Gradient Descent mse:1.9454584105003243 - mse_val:1.8685435786910283 (init=True,iterations=361,time=1.3372409343719482,Decay(lr=0.0001,b=0.1))\n",
      "Gradient Descent mse:1.7628318550046147 - mse_val:1.677192513658694 (init=True,iterations=1000,time=3.808664083480835,Decay(lr=0.0001,b=0.01))\n",
      "Gradient Descent mse:1.5499881557132091 - mse_val:1.4763453706464933 (init=True,iterations=1000,time=3.7900829315185547,Decay(lr=0.0001,b=0.0001))\n",
      "Gradient Descent mse:1.5794312052788078 - mse_val:1.5033763865184375 (init=True,iterations=1000,time=3.6281092166900635,Decay(lr=0.0001,b=0.0005))\n",
      "Gradient Descent mse:1.5408797398435718 - mse_val:1.4679638043789358 (init=True,iterations=1000,time=3.6899731159210205,Momentum(lr=0.0001,b=0.7))\n",
      "Gradient Descent mse:1.5408942315094665 - mse_val:1.467978316985715 (init=True,iterations=1000,time=3.81276798248291,Momentum(lr=0.0001,b=0.8))\n",
      "Gradient Descent mse:1.5409087241836519 - mse_val:1.4679928307210266 (init=True,iterations=1000,time=3.8184759616851807,Momentum(lr=0.0001,b=0.9))\n",
      "Gradient Descent mse:1.5409230729246897 - mse_val:1.4680072004308267 (init=True,iterations=1000,time=3.698270082473755,Momentum(lr=0.0001,b=0.999))\n",
      "Gradient Descent mse:2.010525675684146 - mse_val:1.9570078171831067 (init=True,iterations=396,time=1.4651379585266113,Constant(lr=1e-06))\n",
      "Gradient Descent mse:2.108156458530456 - mse_val:2.0687238835194304 (init=True,iterations=13,time=0.0525660514831543,Decay(lr=1e-06,b=0.1))\n",
      "Gradient Descent mse:2.0801444234000503 - mse_val:2.0391927162214043 (init=True,iterations=100,time=0.3801000118255615,Decay(lr=1e-06,b=0.01))\n",
      "Gradient Descent mse:2.012515202829916 - mse_val:1.9597213269968763 (init=True,iterations=384,time=1.4282100200653076,Decay(lr=1e-06,b=0.0001))\n",
      "Gradient Descent mse:2.0197365280420154 - mse_val:1.9692604457669372 (init=True,iterations=344,time=1.3092119693756104,Decay(lr=1e-06,b=0.0005))\n",
      "Gradient Descent mse:2.010441942457962 - mse_val:1.956890028809997 (init=True,iterations=397,time=1.4955883026123047,Momentum(lr=1e-06,b=0.7))\n",
      "Gradient Descent mse:2.0104441864482543 - mse_val:1.9568927334279658 (init=True,iterations=397,time=1.471048355102539,Momentum(lr=1e-06,b=0.8))\n",
      "Gradient Descent mse:2.0104464288368735 - mse_val:1.9568954357530128 (init=True,iterations=397,time=1.4475998878479004,Momentum(lr=1e-06,b=0.9))\n",
      "Gradient Descent mse:2.010349323833017 - mse_val:1.956761437838668 (init=True,iterations=398,time=1.4340417385101318,Momentum(lr=1e-06,b=0.999))\n",
      "Gradient Descent mse:2.1124071134294145 - mse_val:2.0731148955767518 (init=True,iterations=1,time=0.007855653762817383,Constant(lr=1e-07))\n",
      "Gradient Descent mse:2.112412057310437 - mse_val:2.0731199907483107 (init=True,iterations=1,time=0.007730007171630859,Decay(lr=1e-07,b=0.1))\n",
      "Gradient Descent mse:2.112407651866982 - mse_val:2.073115450492663 (init=True,iterations=1,time=0.007735729217529297,Decay(lr=1e-07,b=0.01))\n",
      "Gradient Descent mse:2.1124071188670834 - mse_val:2.0731149011808374 (init=True,iterations=1,time=0.0076029300689697266,Decay(lr=1e-07,b=0.0001))\n",
      "Gradient Descent mse:2.1124071406068934 - mse_val:2.0731149235859783 (init=True,iterations=1,time=0.007554054260253906,Decay(lr=1e-07,b=0.0005))\n",
      "Gradient Descent mse:2.1124261479275686 - mse_val:2.0731345124127563 (init=True,iterations=1,time=0.007591724395751953,Momentum(lr=1e-07,b=0.7))\n",
      "Gradient Descent mse:2.1124288672642657 - mse_val:2.073137314911745 (init=True,iterations=1,time=0.007639169692993164,Momentum(lr=1e-07,b=0.8))\n",
      "Gradient Descent mse:2.1124315866316303 - mse_val:2.0731401174341957 (init=True,iterations=1,time=0.008523941040039062,Momentum(lr=1e-07,b=0.9))\n",
      "Gradient Descent mse:2.1124342788355333 - mse_val:2.0731428919545323 (init=True,iterations=1,time=0.007673025131225586,Momentum(lr=1e-07,b=0.999))\n",
      "Gradient Descent mse:nan - mse_val:nan (init=False,iterations=225,time=0.8356688022613525,Constant(lr=0.01))\n",
      "Gradient Descent mse:9.135328502098341 - mse_val:12.798686751590504 (init=False,iterations=1000,time=3.7024409770965576,Decay(lr=0.01,b=0.1))\n"
     ]
    },
    {
     "name": "stderr",
     "output_type": "stream",
     "text": [
      "/Users/cuent/Desktop/assignment1/metric.py:5: RuntimeWarning: overflow encountered in square\n",
      "  return np.square(y - y_pred).mean()\n"
     ]
    },
    {
     "name": "stdout",
     "output_type": "stream",
     "text": [
      "Gradient Descent mse:inf - mse_val:inf (init=False,iterations=1000,time=3.8073019981384277,Decay(lr=0.01,b=0.01))\n",
      "Gradient Descent mse:nan - mse_val:nan (init=False,iterations=228,time=0.9505429267883301,Decay(lr=0.01,b=0.0001))\n",
      "Gradient Descent mse:nan - mse_val:nan (init=False,iterations=238,time=1.0062432289123535,Decay(lr=0.01,b=0.0005))\n",
      "Gradient Descent mse:nan - mse_val:nan (init=False,iterations=1,time=0.00907278060913086,Momentum(lr=0.01,b=0.7))\n",
      "Gradient Descent mse:nan - mse_val:nan (init=False,iterations=1,time=0.008018970489501953,Momentum(lr=0.01,b=0.8))\n",
      "Gradient Descent mse:nan - mse_val:nan (init=False,iterations=1,time=0.009400129318237305,Momentum(lr=0.01,b=0.9))\n",
      "Gradient Descent mse:nan - mse_val:nan (init=False,iterations=1,time=0.008204936981201172,Momentum(lr=0.01,b=0.999))\n",
      "Gradient Descent mse:1.4644851022067618e+247 - mse_val:1.1136210540911849e+247 (init=False,iterations=1000,time=3.8361239433288574,Constant(lr=0.001))\n",
      "Gradient Descent mse:151.00922442034545 - mse_val:178.3098607216532 (init=False,iterations=1000,time=3.7037160396575928,Decay(lr=0.001,b=0.1))\n",
      "Gradient Descent mse:9.148814566100636 - mse_val:11.405086403952835 (init=False,iterations=1000,time=3.8260319232940674,Decay(lr=0.001,b=0.01))\n",
      "Gradient Descent mse:1.1934789515445692e+21 - mse_val:9.075430580123569e+20 (init=False,iterations=1000,time=3.760817766189575,Decay(lr=0.001,b=0.0001))\n",
      "Gradient Descent mse:3.8220761423752045 - mse_val:4.708114187209332 (init=False,iterations=1000,time=3.6553590297698975,Decay(lr=0.001,b=0.0005))\n",
      "Gradient Descent mse:2.70673310915013 - mse_val:2.925257892082699 (init=False,iterations=1000,time=3.7867980003356934,Momentum(lr=0.001,b=0.7))\n",
      "Gradient Descent mse:2.774157771627873 - mse_val:3.4400835870511304 (init=False,iterations=1000,time=3.8055579662323,Momentum(lr=0.001,b=0.8))\n",
      "Gradient Descent mse:2.9125144357434256 - mse_val:3.4290926642769395 (init=False,iterations=1000,time=3.741770029067993,Momentum(lr=0.001,b=0.9))\n",
      "Gradient Descent mse:2.7845545686682356 - mse_val:3.2037424648504547 (init=False,iterations=1000,time=3.7623000144958496,Momentum(lr=0.001,b=0.999))\n",
      "Gradient Descent mse:4.1524312780858565 - mse_val:4.469033931253784 (init=False,iterations=1000,time=3.743821144104004,Constant(lr=0.0005))\n",
      "Gradient Descent mse:161.82548881223207 - mse_val:198.75897005074364 (init=False,iterations=1000,time=3.8813388347625732,Decay(lr=0.0005,b=0.1))\n",
      "Gradient Descent mse:29.220425595668896 - mse_val:39.11084620993439 (init=False,iterations=1000,time=3.729022979736328,Decay(lr=0.0005,b=0.01))\n",
      "Gradient Descent mse:4.03198280397708 - mse_val:5.340846269942389 (init=False,iterations=1000,time=3.763422966003418,Decay(lr=0.0005,b=0.0001))\n",
      "Gradient Descent mse:4.735850480932951 - mse_val:5.687279726399164 (init=False,iterations=1000,time=3.7087998390197754,Decay(lr=0.0005,b=0.0005))\n",
      "Gradient Descent mse:3.9995871412160238 - mse_val:5.227138587285623 (init=False,iterations=1000,time=3.7087202072143555,Momentum(lr=0.0005,b=0.7))\n",
      "Gradient Descent mse:3.8535066048598403 - mse_val:5.084661415315782 (init=False,iterations=1000,time=3.729590892791748,Momentum(lr=0.0005,b=0.8))\n",
      "Gradient Descent mse:3.901333111957449 - mse_val:4.465993150734621 (init=False,iterations=1000,time=3.704271078109741,Momentum(lr=0.0005,b=0.9))\n",
      "Gradient Descent mse:4.296975902478351 - mse_val:5.389631590497074 (init=False,iterations=1000,time=3.6484029293060303,Momentum(lr=0.0005,b=0.999))\n",
      "Gradient Descent mse:8.769137568579891 - mse_val:11.642891965899059 (init=False,iterations=1000,time=3.6220529079437256,Constant(lr=0.0001))\n",
      "Gradient Descent mse:219.29834417383853 - mse_val:279.24158590641537 (init=False,iterations=1000,time=3.6703710556030273,Decay(lr=0.0001,b=0.1))\n",
      "Gradient Descent mse:97.3105506208144 - mse_val:126.03471786241045 (init=False,iterations=1000,time=3.5969088077545166,Decay(lr=0.0001,b=0.01))\n",
      "Gradient Descent mse:7.413970701218794 - mse_val:8.960086125266887 (init=False,iterations=1000,time=3.6468846797943115,Decay(lr=0.0001,b=0.0001))\n",
      "Gradient Descent mse:12.187090212160493 - mse_val:15.783720876974993 (init=False,iterations=1000,time=3.9316670894622803,Decay(lr=0.0001,b=0.0005))\n",
      "Gradient Descent mse:7.235151948306129 - mse_val:8.845666248739638 (init=False,iterations=1000,time=3.672729015350342,Momentum(lr=0.0001,b=0.7))\n",
      "Gradient Descent mse:7.955403805598234 - mse_val:10.220891729376227 (init=False,iterations=1000,time=3.6445810794830322,Momentum(lr=0.0001,b=0.8))\n",
      "Gradient Descent mse:8.47093057970732 - mse_val:10.368417989923266 (init=False,iterations=1000,time=4.3123040199279785,Momentum(lr=0.0001,b=0.9))\n",
      "Gradient Descent mse:6.459800763188789 - mse_val:8.590194020042063 (init=False,iterations=1000,time=5.290653944015503,Momentum(lr=0.0001,b=0.999))\n",
      "Gradient Descent mse:136.15722413170786 - mse_val:172.67881335021423 (init=False,iterations=1000,time=4.850508213043213,Constant(lr=1e-06))\n",
      "Gradient Descent mse:957.2632689116107 - mse_val:921.4038308941912 (init=False,iterations=1000,time=3.8752572536468506,Decay(lr=1e-06,b=0.1))\n",
      "Gradient Descent mse:166.164706118879 - mse_val:204.29489147290843 (init=False,iterations=1000,time=4.125539779663086,Decay(lr=1e-06,b=0.01))\n",
      "Gradient Descent mse:170.89593744615968 - mse_val:209.7331731212753 (init=False,iterations=1000,time=4.067685127258301,Decay(lr=1e-06,b=0.0001))\n",
      "Gradient Descent mse:162.81827543861885 - mse_val:201.09843886186556 (init=False,iterations=1000,time=3.786628007888794,Decay(lr=1e-06,b=0.0005))\n",
      "Gradient Descent mse:209.6331771408237 - mse_val:260.7298975227249 (init=False,iterations=1000,time=3.7264678478240967,Momentum(lr=1e-06,b=0.7))\n",
      "Gradient Descent mse:191.07720557864346 - mse_val:250.32291279048792 (init=False,iterations=1000,time=4.031028985977173,Momentum(lr=1e-06,b=0.8))\n",
      "Gradient Descent mse:177.26490358676946 - mse_val:207.299919156189 (init=False,iterations=1000,time=3.929809808731079,Momentum(lr=1e-06,b=0.9))\n",
      "Gradient Descent mse:156.81020480095714 - mse_val:184.991964146561 (init=False,iterations=1000,time=3.8888189792633057,Momentum(lr=1e-06,b=0.999))\n",
      "Gradient Descent mse:502.41656928332736 - mse_val:510.95654541336654 (init=False,iterations=1000,time=3.895998954772949,Constant(lr=1e-07))\n",
      "Gradient Descent mse:178.98397044605443 - mse_val:223.88641902127011 (init=False,iterations=8,time=0.047009944915771484,Decay(lr=1e-07,b=0.1))\n",
      "Gradient Descent mse:222.84266478882805 - mse_val:267.6124104297424 (init=False,iterations=495,time=2.169710874557495,Decay(lr=1e-07,b=0.01))\n",
      "Gradient Descent mse:320.49592912378404 - mse_val:351.3434427334913 (init=False,iterations=1000,time=4.604659080505371,Decay(lr=1e-07,b=0.0001))\n",
      "Gradient Descent mse:195.5129679708295 - mse_val:243.1955583764226 (init=False,iterations=1000,time=4.602589130401611,Decay(lr=1e-07,b=0.0005))\n",
      "Gradient Descent mse:593.850386174451 - mse_val:589.3500025832735 (init=False,iterations=1000,time=4.8446571826934814,Momentum(lr=1e-07,b=0.7))\n",
      "Gradient Descent mse:341.8486414881258 - mse_val:374.4991168135527 (init=False,iterations=1000,time=4.703479051589966,Momentum(lr=1e-07,b=0.8))\n",
      "Gradient Descent mse:654.729043155927 - mse_val:649.4641495125536 (init=False,iterations=1000,time=5.006093978881836,Momentum(lr=1e-07,b=0.9))\n",
      "Gradient Descent mse:251.6522887235181 - mse_val:293.418245777084 (init=False,iterations=1000,time=4.269594192504883,Momentum(lr=1e-07,b=0.999))\n",
      "Best classifier achieved an error of 1.000776824818799\n",
      "<linear_regression.LinearRegressionMSE object at 0x10afb71d0>\n"
     ]
    }
   ],
   "source": [
    "data_model_4 = 'square'\n",
    "best_model_4, results_model_4 = model.train_model(data_model_4, init, learning_rates, momentum, decay)"
   ]
  },
  {
   "cell_type": "markdown",
   "metadata": {},
   "source": [
    "#### Model 5\n",
    "Training with features: \n",
    "1. children\n",
    "3. text: top 160"
   ]
  },
  {
   "cell_type": "code",
   "execution_count": 7,
   "metadata": {},
   "outputs": [
    {
     "name": "stdout",
     "output_type": "stream",
     "text": [
      "Closed-form mse:1.0713771195391049 - mse_val:1.024129073120601 (time=0.009061813354492188)\n",
      "Gradient Descent mse:1.077171013628345 - mse_val:1.0151910182041461 (init=True,iterations=1000,time=3.9154160022735596,Constant(lr=0.01))\n",
      "Gradient Descent mse:1.1843220389088571 - mse_val:1.1305039643027144 (init=True,iterations=1000,time=4.049867868423462,Decay(lr=0.01,b=0.1))\n",
      "Gradient Descent mse:1.0910122726468803 - mse_val:1.0260471702069318 (init=True,iterations=1000,time=3.4984169006347656,Decay(lr=0.01,b=0.01))\n",
      "Gradient Descent mse:1.0775358011223255 - mse_val:1.0152850666496296 (init=True,iterations=1000,time=3.5172059535980225,Decay(lr=0.01,b=0.0001))\n",
      "Gradient Descent mse:1.0788431771509082 - mse_val:1.015761802732717 (init=True,iterations=1000,time=4.232439041137695,Decay(lr=0.01,b=0.0005))\n",
      "Gradient Descent mse:1.0771718222638618 - mse_val:1.015188503964189 (init=True,iterations=1000,time=4.073310136795044,Momentum(lr=0.01,b=0.7))\n",
      "Gradient Descent mse:1.0771719376299127 - mse_val:1.0151881444484694 (init=True,iterations=1000,time=4.455961227416992,Momentum(lr=0.01,b=0.8))\n",
      "Gradient Descent mse:1.0771720529575952 - mse_val:1.015187784847292 (init=True,iterations=1000,time=3.9699580669403076,Momentum(lr=0.01,b=0.9))\n",
      "Gradient Descent mse:1.0771721670941927 - mse_val:1.0151874287576828 (init=True,iterations=1000,time=4.297279119491577,Momentum(lr=0.01,b=0.999))\n",
      "Gradient Descent mse:1.1155561247589016 - mse_val:1.0564518370977982 (init=True,iterations=1000,time=4.2063939571380615,Constant(lr=0.001))\n",
      "Gradient Descent mse:1.6922699422111345 - mse_val:1.617000032459553 (init=True,iterations=1000,time=3.6927828788757324,Decay(lr=0.001,b=0.1))\n",
      "Gradient Descent mse:1.3024548804919134 - mse_val:1.2463351711100707 (init=True,iterations=1000,time=3.9159507751464844,Decay(lr=0.001,b=0.01))\n",
      "Gradient Descent mse:1.1181472204474956 - mse_val:1.0594768252706475 (init=True,iterations=1000,time=3.645656108856201,Decay(lr=0.001,b=0.0001))\n",
      "Gradient Descent mse:1.128165336485051 - mse_val:1.0709238578327496 (init=True,iterations=1000,time=3.5475270748138428,Decay(lr=0.001,b=0.0005))\n",
      "Gradient Descent mse:1.115549164456709 - mse_val:1.0564494207393373 (init=True,iterations=1000,time=3.9280641078948975,Momentum(lr=0.001,b=0.7))\n",
      "Gradient Descent mse:1.1155481698233445 - mse_val:1.0564490743453308 (init=True,iterations=1000,time=4.282814979553223,Momentum(lr=0.001,b=0.8))\n",
      "Gradient Descent mse:1.1155471751129933 - mse_val:1.0564487276491783 (init=True,iterations=1000,time=4.567539930343628,Momentum(lr=0.001,b=0.9))\n",
      "Gradient Descent mse:1.1155461902736232 - mse_val:1.0564483841216477 (init=True,iterations=1000,time=4.903986930847168,Momentum(lr=0.001,b=0.999))\n",
      "Gradient Descent mse:1.1729982310090035 - mse_val:1.11889696691039 (init=True,iterations=1000,time=4.732557058334351,Constant(lr=0.0005))\n",
      "Gradient Descent mse:1.825495257303534 - mse_val:1.7542202845605384 (init=True,iterations=1000,time=4.437178134918213,Decay(lr=0.0005,b=0.1))\n",
      "Gradient Descent mse:1.474475001572178 - mse_val:1.4094501282117324 (init=True,iterations=1000,time=4.503229856491089,Decay(lr=0.0005,b=0.01))\n",
      "Gradient Descent mse:1.178987222516365 - mse_val:1.1250397397756247 (init=True,iterations=1000,time=4.627539873123169,Decay(lr=0.0005,b=0.0001))\n",
      "Gradient Descent mse:1.2015829467258319 - mse_val:1.1478737621418267 (init=True,iterations=1000,time=4.418179035186768,Decay(lr=0.0005,b=0.0005))\n",
      "Gradient Descent mse:1.1729929664137317 - mse_val:1.1189027101901485 (init=True,iterations=1000,time=3.9290549755096436,Momentum(lr=0.0005,b=0.7))\n",
      "Gradient Descent mse:1.1729922112062798 - mse_val:1.118903528955697 (init=True,iterations=1000,time=4.018036127090454,Momentum(lr=0.0005,b=0.8))\n",
      "Gradient Descent mse:1.1729914552199399 - mse_val:1.1189043472974516 (init=True,iterations=1000,time=4.202287912368774,Momentum(lr=0.0005,b=0.9))\n",
      "Gradient Descent mse:1.1729907060267832 - mse_val:1.1189051570389688 (init=True,iterations=1000,time=4.139185905456543,Momentum(lr=0.0005,b=0.999))\n",
      "Gradient Descent mse:1.518955148800588 - mse_val:1.4512299514199698 (init=True,iterations=1000,time=3.8336520195007324,Constant(lr=0.0001))\n",
      "Gradient Descent mse:2.0458020867952897 - mse_val:1.997464743386997 (init=True,iterations=399,time=1.424962043762207,Decay(lr=0.0001,b=0.1))\n",
      "Gradient Descent mse:1.8170868171339212 - mse_val:1.745280373797359 (init=True,iterations=1000,time=4.3205649852752686,Decay(lr=0.0001,b=0.01))\n",
      "Gradient Descent mse:1.5305815598819228 - mse_val:1.4621524545902926 (init=True,iterations=1000,time=4.716363191604614,Decay(lr=0.0001,b=0.0001))\n",
      "Gradient Descent mse:1.5686868522475732 - mse_val:1.4980204874626515 (init=True,iterations=1000,time=4.046066045761108,Decay(lr=0.0001,b=0.0005))\n",
      "Gradient Descent mse:1.5190594677604614 - mse_val:1.4513325017172378 (init=True,iterations=1000,time=4.526129961013794,Momentum(lr=0.0001,b=0.7))\n",
      "Gradient Descent mse:1.5190743752047795 - mse_val:1.4513471566377365 (init=True,iterations=1000,time=4.4662299156188965,Momentum(lr=0.0001,b=0.8))\n",
      "Gradient Descent mse:1.5190892838342778 - mse_val:1.4513618127786894 (init=True,iterations=1000,time=4.24264121055603,Momentum(lr=0.0001,b=0.9))\n",
      "Gradient Descent mse:1.5191040445453505 - mse_val:1.4513763235607522 (init=True,iterations=1000,time=3.9020071029663086,Momentum(lr=0.0001,b=0.999))\n",
      "Gradient Descent mse:2.112441697551023 - mse_val:2.073148365305517 (init=True,iterations=1,time=0.007894039154052734,Constant(lr=1e-06))\n",
      "Gradient Descent mse:2.1124434979083935 - mse_val:2.0731504181387725 (init=True,iterations=1,time=0.007662057876586914,Decay(lr=1e-06,b=0.1))\n",
      "Gradient Descent mse:2.1124418936293594 - mse_val:2.0731485888811885 (init=True,iterations=1,time=0.007627010345458984,Decay(lr=1e-06,b=0.01))\n",
      "Gradient Descent mse:2.112441699531216 - mse_val:2.0731483675634053 (init=True,iterations=1,time=0.008604288101196289,Decay(lr=1e-06,b=0.0001))\n",
      "Gradient Descent mse:2.1124417074480295 - mse_val:2.073148376590445 (init=True,iterations=1,time=0.008018970489501953,Decay(lr=1e-06,b=0.0005))\n",
      "Gradient Descent mse:2.112448628948314 - mse_val:2.0731562687393135 (init=True,iterations=1,time=0.007476806640625,Momentum(lr=1e-06,b=0.7))\n",
      "Gradient Descent mse:2.112449619152649 - mse_val:2.0731573978069666 (init=True,iterations=1,time=0.007816791534423828,Momentum(lr=1e-06,b=0.8))\n",
      "Gradient Descent mse:2.1124506093581656 - mse_val:2.0731585268760395 (init=True,iterations=1,time=0.007856130599975586,Momentum(lr=1e-06,b=0.9))\n",
      "Gradient Descent mse:2.1124515896627907 - mse_val:2.0731596446558216 (init=True,iterations=1,time=0.008299112319946289,Momentum(lr=1e-06,b=0.999))\n",
      "Gradient Descent mse:2.1124595212609516 - mse_val:2.0731686885616223 (init=True,iterations=1,time=0.007770061492919922,Constant(lr=1e-07))\n",
      "Gradient Descent mse:2.112459701300377 - mse_val:2.0731688938493855 (init=True,iterations=1,time=0.009936809539794922,Decay(lr=1e-07,b=0.1))\n",
      "Gradient Descent mse:2.112459540869204 - mse_val:2.0731687109196932 (init=True,iterations=1,time=0.010555744171142578,Decay(lr=1e-07,b=0.01))\n",
      "Gradient Descent mse:2.112459521458975 - mse_val:2.073168688787416 (init=True,iterations=1,time=0.008334875106811523,Decay(lr=1e-07,b=0.0001))\n",
      "Gradient Descent mse:2.1124595222506732 - mse_val:2.07316868969014 (init=True,iterations=1,time=0.007795095443725586,Decay(lr=1e-07,b=0.0005))\n",
      "Gradient Descent mse:2.112460214412955 - mse_val:2.073169478919768 (init=True,iterations=1,time=0.007957935333251953,Momentum(lr=1e-07,b=0.7))\n",
      "Gradient Descent mse:2.1124603134347164 - mse_val:2.073169591828131 (init=True,iterations=1,time=0.007776975631713867,Momentum(lr=1e-07,b=0.8))\n",
      "Gradient Descent mse:2.1124604124564903 - mse_val:2.0731697047365087 (init=True,iterations=1,time=0.007479190826416016,Momentum(lr=1e-07,b=0.9))\n",
      "Gradient Descent mse:2.112460510488058 - mse_val:2.0731698165158163 (init=True,iterations=1,time=0.008069992065429688,Momentum(lr=1e-07,b=0.999))\n",
      "Gradient Descent mse:1.2654662550765252 - mse_val:1.2667366486074048 (init=False,iterations=1000,time=3.7440199851989746,Constant(lr=0.01))\n",
      "Gradient Descent mse:9.34412765796713 - mse_val:11.775778087909945 (init=False,iterations=1000,time=3.7730631828308105,Decay(lr=0.01,b=0.1))\n",
      "Gradient Descent mse:3.7435114041628754 - mse_val:4.3378320941573945 (init=False,iterations=1000,time=3.6995630264282227,Decay(lr=0.01,b=0.01))\n"
     ]
    },
    {
     "name": "stdout",
     "output_type": "stream",
     "text": [
      "Gradient Descent mse:1.3652383323453814 - mse_val:1.3767555946454824 (init=False,iterations=1000,time=3.9464519023895264,Decay(lr=0.01,b=0.0001))\n",
      "Gradient Descent mse:1.5440923542250726 - mse_val:1.5900872866807572 (init=False,iterations=1000,time=3.8749382495880127,Decay(lr=0.01,b=0.0005))\n",
      "Gradient Descent mse:1.3287430535296434 - mse_val:1.328824557263944 (init=False,iterations=1000,time=4.296778917312622,Momentum(lr=0.01,b=0.7))\n",
      "Gradient Descent mse:1.2819739335376092 - mse_val:1.2295242648384432 (init=False,iterations=1000,time=4.381212949752808,Momentum(lr=0.01,b=0.8))\n",
      "Gradient Descent mse:1.2580234243199306 - mse_val:1.2553222396361035 (init=False,iterations=1000,time=4.054959058761597,Momentum(lr=0.01,b=0.9))\n",
      "Gradient Descent mse:1.2850327127658285 - mse_val:1.2537944272799744 (init=False,iterations=1000,time=4.049225091934204,Momentum(lr=0.01,b=0.999))\n",
      "Gradient Descent mse:2.9217148067381955 - mse_val:3.3499665658174957 (init=False,iterations=1000,time=4.376513957977295,Constant(lr=0.001))\n",
      "Gradient Descent mse:102.31437249603309 - mse_val:129.03508597943346 (init=False,iterations=1000,time=4.090775966644287,Decay(lr=0.001,b=0.1))\n",
      "Gradient Descent mse:12.122272126277675 - mse_val:16.668416094698447 (init=False,iterations=1000,time=3.956178903579712,Decay(lr=0.001,b=0.01))\n",
      "Gradient Descent mse:3.0046803022536834 - mse_val:3.4950389808711106 (init=False,iterations=1000,time=3.897404909133911,Decay(lr=0.001,b=0.0001))\n",
      "Gradient Descent mse:4.064549844335714 - mse_val:5.761918061495897 (init=False,iterations=1000,time=4.017142057418823,Decay(lr=0.001,b=0.0005))\n",
      "Gradient Descent mse:2.9460274767266026 - mse_val:3.7470084534814445 (init=False,iterations=1000,time=4.168825149536133,Momentum(lr=0.001,b=0.7))\n",
      "Gradient Descent mse:2.9912905346479692 - mse_val:3.4068025787548724 (init=False,iterations=1000,time=3.7900428771972656,Momentum(lr=0.001,b=0.8))\n",
      "Gradient Descent mse:2.905300650982988 - mse_val:3.32105360770043 (init=False,iterations=1000,time=4.0411388874053955,Momentum(lr=0.001,b=0.9))\n",
      "Gradient Descent mse:3.126073751962727 - mse_val:3.6978304208909134 (init=False,iterations=1000,time=4.005115985870361,Momentum(lr=0.001,b=0.999))\n",
      "Gradient Descent mse:3.6748573662658326 - mse_val:4.304283722765618 (init=False,iterations=1000,time=4.098919868469238,Constant(lr=0.0005))\n",
      "Gradient Descent mse:152.28569016000557 - mse_val:194.58075761867372 (init=False,iterations=1000,time=3.865056037902832,Decay(lr=0.0005,b=0.1))\n",
      "Gradient Descent mse:25.833937579840335 - mse_val:32.81637697316621 (init=False,iterations=1000,time=3.8838419914245605,Decay(lr=0.0005,b=0.01))\n",
      "Gradient Descent mse:3.99186747645714 - mse_val:4.640420616144669 (init=False,iterations=1000,time=3.7196271419525146,Decay(lr=0.0005,b=0.0001))\n",
      "Gradient Descent mse:4.577187506863124 - mse_val:6.734757493393647 (init=False,iterations=1000,time=3.990931987762451,Decay(lr=0.0005,b=0.0005))\n",
      "Gradient Descent mse:4.172871133462315 - mse_val:4.809690162579694 (init=False,iterations=1000,time=3.9138340950012207,Momentum(lr=0.0005,b=0.7))\n",
      "Gradient Descent mse:3.915963747436796 - mse_val:5.397884920223298 (init=False,iterations=1000,time=3.828511953353882,Momentum(lr=0.0005,b=0.8))\n",
      "Gradient Descent mse:4.337546139051795 - mse_val:5.4329947630681925 (init=False,iterations=1000,time=3.9598519802093506,Momentum(lr=0.0005,b=0.9))\n",
      "Gradient Descent mse:4.310225504113809 - mse_val:5.263333650668875 (init=False,iterations=1000,time=3.84865403175354,Momentum(lr=0.0005,b=0.999))\n",
      "Gradient Descent mse:6.549881487493262 - mse_val:8.858980982891094 (init=False,iterations=1000,time=4.1641809940338135,Constant(lr=0.0001))\n",
      "Gradient Descent mse:175.69311702531166 - mse_val:213.4560727206854 (init=False,iterations=1000,time=4.22095799446106,Decay(lr=0.0001,b=0.1))\n",
      "Gradient Descent mse:98.23933791522529 - mse_val:123.04853021218558 (init=False,iterations=1000,time=3.8901689052581787,Decay(lr=0.0001,b=0.01))\n",
      "Gradient Descent mse:8.288606875303218 - mse_val:11.222987275190919 (init=False,iterations=1000,time=3.6968891620635986,Decay(lr=0.0001,b=0.0001))\n",
      "Gradient Descent mse:12.127591064078329 - mse_val:15.863949326161151 (init=False,iterations=1000,time=3.733431100845337,Decay(lr=0.0001,b=0.0005))\n",
      "Gradient Descent mse:6.582293870812828 - mse_val:9.06564972615771 (init=False,iterations=1000,time=4.5289881229400635,Momentum(lr=0.0001,b=0.7))\n",
      "Gradient Descent mse:6.78019181054708 - mse_val:10.067192920621313 (init=False,iterations=1000,time=4.588472843170166,Momentum(lr=0.0001,b=0.8))\n",
      "Gradient Descent mse:8.101790681474855 - mse_val:10.971952563563994 (init=False,iterations=1000,time=4.465808153152466,Momentum(lr=0.0001,b=0.9))\n",
      "Gradient Descent mse:6.7489597318886 - mse_val:7.940160310870253 (init=False,iterations=1000,time=3.6311941146850586,Momentum(lr=0.0001,b=0.999))\n",
      "Gradient Descent mse:120.68193017589668 - mse_val:157.90640078116428 (init=False,iterations=1000,time=3.488922119140625,Constant(lr=1e-06))\n",
      "Gradient Descent mse:153.625792872904 - mse_val:193.67444017339363 (init=False,iterations=84,time=0.31928420066833496,Decay(lr=1e-06,b=0.1))\n",
      "Gradient Descent mse:188.19672273321507 - mse_val:230.27608752549125 (init=False,iterations=949,time=4.073087215423584,Decay(lr=1e-06,b=0.01))\n",
      "Gradient Descent mse:222.4126471205872 - mse_val:277.1668862567942 (init=False,iterations=1000,time=4.707985877990723,Decay(lr=1e-06,b=0.0001))\n",
      "Gradient Descent mse:162.3527771890143 - mse_val:199.56931507594058 (init=False,iterations=1000,time=4.420289039611816,Decay(lr=1e-06,b=0.0005))\n",
      "Gradient Descent mse:186.18969577990543 - mse_val:222.4890938207598 (init=False,iterations=1000,time=4.721044063568115,Momentum(lr=1e-06,b=0.7))\n",
      "Gradient Descent mse:159.08248893928152 - mse_val:200.97566253884963 (init=False,iterations=1000,time=4.969392776489258,Momentum(lr=1e-06,b=0.8))\n",
      "Gradient Descent mse:140.94082977299055 - mse_val:174.9808837476844 (init=False,iterations=1000,time=4.166145086288452,Momentum(lr=1e-06,b=0.9))\n",
      "Gradient Descent mse:131.18592819979085 - mse_val:160.29990591870694 (init=False,iterations=1000,time=4.1970179080963135,Momentum(lr=1e-06,b=0.999))\n",
      "Gradient Descent mse:214.88814982506312 - mse_val:262.23313083970334 (init=False,iterations=1000,time=4.200556039810181,Constant(lr=1e-07))\n",
      "Gradient Descent mse:218.3381389415453 - mse_val:270.6628669847423 (init=False,iterations=1,time=0.010411977767944336,Decay(lr=1e-07,b=0.1))\n",
      "Gradient Descent mse:199.26284538149528 - mse_val:246.99065621875553 (init=False,iterations=8,time=0.03257608413696289,Decay(lr=1e-07,b=0.01))\n",
      "Gradient Descent mse:150.59155897651314 - mse_val:195.69904869429777 (init=False,iterations=1,time=0.00746607780456543,Decay(lr=1e-07,b=0.0001))\n",
      "Gradient Descent mse:163.8512064924826 - mse_val:208.96338776918225 (init=False,iterations=1,time=0.007608175277709961,Decay(lr=1e-07,b=0.0005))\n",
      "Gradient Descent mse:167.79515156501242 - mse_val:208.91912448222433 (init=False,iterations=1,time=0.007791042327880859,Momentum(lr=1e-07,b=0.7))\n",
      "Gradient Descent mse:216.7985461720649 - mse_val:261.4444559710141 (init=False,iterations=1,time=0.007522106170654297,Momentum(lr=1e-07,b=0.8))\n",
      "Gradient Descent mse:174.96217842536066 - mse_val:214.72860226833603 (init=False,iterations=1,time=0.0076138973236083984,Momentum(lr=1e-07,b=0.9))\n",
      "Gradient Descent mse:176.94737281213986 - mse_val:230.90248285002528 (init=False,iterations=1,time=0.00794076919555664,Momentum(lr=1e-07,b=0.999))\n",
      "Best classifier achieved an error of 1.0151874287576828\n",
      "Momentum(lr=0.01,b=0.999),error=0.0002735501296866794,step=1000\n"
     ]
    },
    {
     "data": {
      "image/png": "[encoded data removed]",
      "text/plain": [
       "<Figure size 432x288 with 1 Axes>"
      ]
     },
     "metadata": {
      "needs_background": "light"
     },
     "output_type": "display_data"
    }
   ],
   "source": [
    "data_model_5 = 'only_children_text'\n",
    "best_model_5, results_model_5 = model.train_model(data_model_5, init, learning_rates, momentum, decay)"
   ]
  },
  {
   "cell_type": "markdown",
   "metadata": {},
   "source": [
    "#### Model 6\n",
    "Training with features: \n",
    "1. is_root\n",
    "2. children\n",
    "3. text: top 160"
   ]
  },
  {
   "cell_type": "code",
   "execution_count": 8,
   "metadata": {},
   "outputs": [
    {
     "name": "stdout",
     "output_type": "stream",
     "text": [
      "Closed-form mse:1.0595842691797983 - mse_val:1.0038257316514585 (time=0.01015329360961914)\n",
      "Gradient Descent mse:1.065272942771588 - mse_val:0.9972676146386087 (init=True,iterations=1000,time=4.20185399055481,Constant(lr=0.01))\n",
      "Gradient Descent mse:1.1847260267464854 - mse_val:1.1317845316513535 (init=True,iterations=1000,time=3.993795871734619,Decay(lr=0.01,b=0.1))\n",
      "Gradient Descent mse:1.0893380172127043 - mse_val:1.0245937341365474 (init=True,iterations=1000,time=4.007766962051392,Decay(lr=0.01,b=0.01))\n",
      "Gradient Descent mse:1.065644436675072 - mse_val:0.9975138146412788 (init=True,iterations=1000,time=4.734307050704956,Decay(lr=0.01,b=0.0001))\n",
      "Gradient Descent mse:1.067027859573962 - mse_val:0.9986148028925637 (init=True,iterations=1000,time=4.099797964096069,Decay(lr=0.01,b=0.0005))\n",
      "Gradient Descent mse:1.0652730784096356 - mse_val:0.9972623085264145 (init=True,iterations=1000,time=5.38575005531311,Momentum(lr=0.01,b=0.7))\n",
      "Gradient Descent mse:1.0652730979816367 - mse_val:0.9972615503846141 (init=True,iterations=1000,time=4.240010976791382,Momentum(lr=0.01,b=0.8))\n",
      "Gradient Descent mse:1.0652731176024848 - mse_val:0.9972607922114637 (init=True,iterations=1000,time=3.9799859523773193,Momentum(lr=0.01,b=0.9))\n",
      "Gradient Descent mse:1.0652731370752613 - mse_val:0.9972600415891946 (init=True,iterations=1000,time=3.9409191608428955,Momentum(lr=0.01,b=0.999))\n",
      "Gradient Descent mse:1.1227654995402747 - mse_val:1.0650076490841547 (init=True,iterations=1000,time=3.9137320518493652,Constant(lr=0.001))\n",
      "Gradient Descent mse:1.685592776594848 - mse_val:1.6109380322371607 (init=True,iterations=1000,time=4.27751612663269,Decay(lr=0.001,b=0.1))\n",
      "Gradient Descent mse:1.2961817878891033 - mse_val:1.2408327965070436 (init=True,iterations=1000,time=3.917789936065674,Decay(lr=0.001,b=0.01))\n",
      "Gradient Descent mse:1.125283737070935 - mse_val:1.0679408487157782 (init=True,iterations=1000,time=3.6850571632385254,Decay(lr=0.001,b=0.0001))\n",
      "Gradient Descent mse:1.1346053978699002 - mse_val:1.0786007424094388 (init=True,iterations=1000,time=3.884705066680908,Decay(lr=0.001,b=0.0005))\n",
      "Gradient Descent mse:1.122768281804059 - mse_val:1.065015754770204 (init=True,iterations=1000,time=3.829571008682251,Momentum(lr=0.001,b=0.7))\n",
      "Gradient Descent mse:1.122768680436481 - mse_val:1.0650169129346536 (init=True,iterations=1000,time=3.7325761318206787,Momentum(lr=0.001,b=0.8))\n",
      "Gradient Descent mse:1.1227690793600094 - mse_val:1.065018071149677 (init=True,iterations=1000,time=3.7161788940429688,Momentum(lr=0.001,b=0.9))\n",
      "Gradient Descent mse:1.122769474580911 - mse_val:1.0650192178317912 (init=True,iterations=1000,time=3.8262059688568115,Momentum(lr=0.001,b=0.999))\n",
      "Gradient Descent mse:1.1745212380504302 - mse_val:1.121339861517517 (init=True,iterations=1000,time=3.772881269454956,Constant(lr=0.0005))\n",
      "Gradient Descent mse:1.820738293150094 - mse_val:1.7498574904434823 (init=True,iterations=1000,time=3.851607084274292,Decay(lr=0.0005,b=0.1))\n",
      "Gradient Descent mse:1.4660307830994568 - mse_val:1.4017745371796182 (init=True,iterations=1000,time=3.996837854385376,Decay(lr=0.0005,b=0.01))\n",
      "Gradient Descent mse:1.1799123664155635 - mse_val:1.1268611968052171 (init=True,iterations=1000,time=3.892702102661133,Decay(lr=0.0005,b=0.0001))\n",
      "Gradient Descent mse:1.2005095903694014 - mse_val:1.1476343288701811 (init=True,iterations=1000,time=4.102081060409546,Decay(lr=0.0005,b=0.0005))\n",
      "Gradient Descent mse:1.174512473082783 - mse_val:1.1213415028369353 (init=True,iterations=1000,time=3.9485111236572266,Momentum(lr=0.0005,b=0.7))\n",
      "Gradient Descent mse:1.1745112174640873 - mse_val:1.1213417350725565 (init=True,iterations=1000,time=4.0879528522491455,Momentum(lr=0.0005,b=0.8))\n",
      "Gradient Descent mse:1.1745099609770497 - mse_val:1.121341966750462 (init=True,iterations=1000,time=3.9674880504608154,Momentum(lr=0.0005,b=0.9))\n",
      "Gradient Descent mse:1.1745087162001047 - mse_val:1.121342195562843 (init=True,iterations=1000,time=3.782593011856079,Momentum(lr=0.0005,b=0.999))\n",
      "Gradient Descent mse:1.5106120499689475 - mse_val:1.443645966184301 (init=True,iterations=1000,time=3.722490072250366,Constant(lr=0.0001))\n",
      "Gradient Descent mse:2.044514963925514 - mse_val:1.9962318480853352 (init=True,iterations=402,time=1.4862830638885498,Decay(lr=0.0001,b=0.1))\n",
      "Gradient Descent mse:1.8122018427323234 - mse_val:1.7408043769422603 (init=True,iterations=1000,time=3.740746259689331,Decay(lr=0.0001,b=0.01))\n",
      "Gradient Descent mse:1.5222936954237234 - mse_val:1.4546199390084433 (init=True,iterations=1000,time=3.784416913986206,Decay(lr=0.0001,b=0.0001))\n",
      "Gradient Descent mse:1.5606516930885206 - mse_val:1.4907235973629622 (init=True,iterations=1000,time=3.6962451934814453,Decay(lr=0.0001,b=0.0005))\n",
      "Gradient Descent mse:1.510715077141147 - mse_val:1.44374690330454 (init=True,iterations=1000,time=3.765604257583618,Momentum(lr=0.0001,b=0.7))\n",
      "Gradient Descent mse:1.510729800099578 - mse_val:1.443761327825681 (init=True,iterations=1000,time=4.351590156555176,Momentum(lr=0.0001,b=0.8))\n",
      "Gradient Descent mse:1.5107445242569928 - mse_val:1.4437757535809346 (init=True,iterations=1000,time=4.740441083908081,Momentum(lr=0.0001,b=0.9))\n",
      "Gradient Descent mse:1.510759102354299 - mse_val:1.4437900362946179 (init=True,iterations=1000,time=4.704829216003418,Momentum(lr=0.0001,b=0.999))\n",
      "Gradient Descent mse:2.1124413473982755 - mse_val:2.0731480340363744 (init=True,iterations=1,time=0.012548208236694336,Constant(lr=1e-06))\n",
      "Gradient Descent mse:2.112443179587314 - mse_val:2.073150116984617 (init=True,iterations=1,time=0.01288294792175293,Decay(lr=1e-06,b=0.1))\n",
      "Gradient Descent mse:2.112441546943423 - mse_val:2.0731482608918914 (init=True,iterations=1,time=0.015996217727661133,Decay(lr=1e-06,b=0.01))\n",
      "Gradient Descent mse:2.1124413494134795 - mse_val:2.0731480363273853 (init=True,iterations=1,time=0.011832952499389648,Decay(lr=1e-06,b=0.0001))\n",
      "Gradient Descent mse:2.112441357470268 - mse_val:2.073148045486851 (init=True,iterations=1,time=0.017347097396850586,Decay(lr=1e-06,b=0.0005))\n",
      "Gradient Descent mse:2.112448401347927 - mse_val:2.0731560534133 (init=True,iterations=1,time=0.012208223342895508,Momentum(lr=1e-06,b=0.7))\n",
      "Gradient Descent mse:2.1124494090598396 - mse_val:2.073157199044351 (init=True,iterations=1,time=0.015984296798706055,Momentum(lr=1e-06,b=0.8))\n",
      "Gradient Descent mse:2.112450416772958 - mse_val:2.0731583446768465 (init=True,iterations=1,time=0.013518810272216797,Momentum(lr=1e-06,b=0.9))\n",
      "Gradient Descent mse:2.1124514144101316 - mse_val:2.0731594788544387 (init=True,iterations=1,time=0.012789011001586914,Momentum(lr=1e-06,b=0.999))\n",
      "Gradient Descent mse:2.1124594862452417 - mse_val:2.073168655434284 (init=True,iterations=1,time=0.012520074844360352,Constant(lr=1e-07))\n",
      "Gradient Descent mse:2.1124596694679094 - mse_val:2.0731688637336196 (init=True,iterations=1,time=0.012553930282592773,Decay(lr=1e-07,b=0.1))\n",
      "Gradient Descent mse:2.1124595062001834 - mse_val:2.0731686781203478 (init=True,iterations=1,time=0.014151811599731445,Decay(lr=1e-07,b=0.01))\n",
      "Gradient Descent mse:2.1124594864467663 - mse_val:2.0731686556633906 (init=True,iterations=1,time=0.01186513900756836,Decay(lr=1e-07,b=0.0001))\n",
      "Gradient Descent mse:2.1124594872524622 - mse_val:2.073168656579358 (init=True,iterations=1,time=0.012812137603759766,Decay(lr=1e-07,b=0.0005))\n",
      "Gradient Descent mse:2.112460191652732 - mse_val:2.073169457386988 (init=True,iterations=1,time=0.0145111083984375,Momentum(lr=1e-07,b=0.7))\n",
      "Gradient Descent mse:2.112460292425279 - mse_val:2.0731695719517176 (init=True,iterations=1,time=0.010458707809448242,Momentum(lr=1e-07,b=0.8))\n",
      "Gradient Descent mse:2.1124603931978383 - mse_val:2.0731696865164615 (init=True,iterations=1,time=0.01497507095336914,Momentum(lr=1e-07,b=0.9))\n",
      "Gradient Descent mse:2.1124604929626827 - mse_val:2.073169799935572 (init=True,iterations=1,time=0.01276707649230957,Momentum(lr=1e-07,b=0.999))\n",
      "Gradient Descent mse:1.2661318249220248 - mse_val:1.2283571029210179 (init=False,iterations=1000,time=4.132275819778442,Constant(lr=0.01))\n",
      "Gradient Descent mse:10.716242953666075 - mse_val:14.336512486965113 (init=False,iterations=1000,time=3.8003129959106445,Decay(lr=0.01,b=0.1))\n",
      "Gradient Descent mse:4.166590343941525 - mse_val:4.877203338956877 (init=False,iterations=1000,time=3.6945431232452393,Decay(lr=0.01,b=0.01))\n"
     ]
    },
    {
     "name": "stdout",
     "output_type": "stream",
     "text": [
      "Gradient Descent mse:1.3059831419995205 - mse_val:1.2585857865821972 (init=False,iterations=1000,time=3.889836072921753,Decay(lr=0.01,b=0.0001))\n",
      "Gradient Descent mse:1.4640424361762705 - mse_val:1.6069896433517699 (init=False,iterations=1000,time=3.8447611331939697,Decay(lr=0.01,b=0.0005))\n",
      "Gradient Descent mse:1.2553959785297022 - mse_val:1.259127059070042 (init=False,iterations=1000,time=3.7239773273468018,Momentum(lr=0.01,b=0.7))\n",
      "Gradient Descent mse:1.2941947220824237 - mse_val:1.2322458271475816 (init=False,iterations=1000,time=3.862819194793701,Momentum(lr=0.01,b=0.8))\n",
      "Gradient Descent mse:1.3192591368625486 - mse_val:1.2768437256769485 (init=False,iterations=1000,time=3.945578098297119,Momentum(lr=0.01,b=0.9))\n",
      "Gradient Descent mse:1.250473329482729 - mse_val:1.2680044418475778 (init=False,iterations=1000,time=4.293344020843506,Momentum(lr=0.01,b=0.999))\n",
      "Gradient Descent mse:3.0562170678852287 - mse_val:3.2665499933793525 (init=False,iterations=1000,time=4.789730787277222,Constant(lr=0.001))\n",
      "Gradient Descent mse:129.68307348620527 - mse_val:161.7448318009819 (init=False,iterations=1000,time=5.383996248245239,Decay(lr=0.001,b=0.1))\n",
      "Gradient Descent mse:8.834744146788028 - mse_val:11.003121732206168 (init=False,iterations=1000,time=4.482148885726929,Decay(lr=0.001,b=0.01))\n",
      "Gradient Descent mse:3.1671334168433836 - mse_val:3.6423115432429247 (init=False,iterations=1000,time=4.832218170166016,Decay(lr=0.001,b=0.0001))\n",
      "Gradient Descent mse:3.474353235588604 - mse_val:4.456478159119348 (init=False,iterations=1000,time=4.239342927932739,Decay(lr=0.001,b=0.0005))\n",
      "Gradient Descent mse:2.783092434049127 - mse_val:3.564658396352774 (init=False,iterations=1000,time=4.1324028968811035,Momentum(lr=0.001,b=0.7))\n",
      "Gradient Descent mse:3.181615051192223 - mse_val:3.999457017050633 (init=False,iterations=1000,time=4.066083908081055,Momentum(lr=0.001,b=0.8))\n",
      "Gradient Descent mse:2.990597677567276 - mse_val:3.7190737146544857 (init=False,iterations=1000,time=4.090159893035889,Momentum(lr=0.001,b=0.9))\n",
      "Gradient Descent mse:3.086181643570802 - mse_val:3.5949902462791425 (init=False,iterations=1000,time=4.55997109413147,Momentum(lr=0.001,b=0.999))\n",
      "Gradient Descent mse:4.190401256544568 - mse_val:4.905371423425153 (init=False,iterations=1000,time=4.590198040008545,Constant(lr=0.0005))\n",
      "Gradient Descent mse:137.36167110186284 - mse_val:172.94578829328051 (init=False,iterations=1000,time=3.83378005027771,Decay(lr=0.0005,b=0.1))\n",
      "Gradient Descent mse:34.25041938137442 - mse_val:43.83975174870486 (init=False,iterations=1000,time=3.8173232078552246,Decay(lr=0.0005,b=0.01))\n",
      "Gradient Descent mse:4.06354091784806 - mse_val:5.474462171918288 (init=False,iterations=1000,time=3.8496382236480713,Decay(lr=0.0005,b=0.0001))\n",
      "Gradient Descent mse:5.07867693477961 - mse_val:6.885651502464639 (init=False,iterations=1000,time=5.076159954071045,Decay(lr=0.0005,b=0.0005))\n",
      "Gradient Descent mse:4.024745253575252 - mse_val:4.677683854843845 (init=False,iterations=1000,time=4.873763084411621,Momentum(lr=0.0005,b=0.7))\n",
      "Gradient Descent mse:4.771087394634335 - mse_val:6.79613713739105 (init=False,iterations=1000,time=4.421090126037598,Momentum(lr=0.0005,b=0.8))\n",
      "Gradient Descent mse:3.587320002050998 - mse_val:4.629551867410886 (init=False,iterations=1000,time=4.1771399974823,Momentum(lr=0.0005,b=0.9))\n",
      "Gradient Descent mse:4.0511854501889335 - mse_val:5.089025576969563 (init=False,iterations=1000,time=4.015798091888428,Momentum(lr=0.0005,b=0.999))\n",
      "Gradient Descent mse:7.936957064341881 - mse_val:11.71523832577957 (init=False,iterations=1000,time=3.885901927947998,Constant(lr=0.0001))\n",
      "Gradient Descent mse:191.65112464666657 - mse_val:220.22823686376964 (init=False,iterations=1000,time=3.741766929626465,Decay(lr=0.0001,b=0.1))\n",
      "Gradient Descent mse:137.76197498405728 - mse_val:175.367583095744 (init=False,iterations=1000,time=4.0068488121032715,Decay(lr=0.0001,b=0.01))\n",
      "Gradient Descent mse:8.159529072058271 - mse_val:11.152971952764425 (init=False,iterations=1000,time=3.9270389080047607,Decay(lr=0.0001,b=0.0001))\n",
      "Gradient Descent mse:15.999715694461388 - mse_val:23.606120681246555 (init=False,iterations=1000,time=4.254465818405151,Decay(lr=0.0001,b=0.0005))\n",
      "Gradient Descent mse:7.350317259249763 - mse_val:10.234905463527037 (init=False,iterations=1000,time=4.589154958724976,Momentum(lr=0.0001,b=0.7))\n",
      "Gradient Descent mse:7.321156726187548 - mse_val:9.405179775698219 (init=False,iterations=1000,time=4.069244146347046,Momentum(lr=0.0001,b=0.8))\n",
      "Gradient Descent mse:7.0885946492249055 - mse_val:8.871215421559807 (init=False,iterations=1000,time=4.1426098346710205,Momentum(lr=0.0001,b=0.9))\n",
      "Gradient Descent mse:8.047649406153642 - mse_val:11.95961134307055 (init=False,iterations=1000,time=4.373754978179932,Momentum(lr=0.0001,b=0.999))\n",
      "Gradient Descent mse:120.3980870149094 - mse_val:157.9474560317864 (init=False,iterations=1000,time=4.506180047988892,Constant(lr=1e-06))\n",
      "Gradient Descent mse:205.82006106303533 - mse_val:255.44374510264922 (init=False,iterations=100,time=0.4724617004394531,Decay(lr=1e-06,b=0.1))\n",
      "Gradient Descent mse:160.49356445477613 - mse_val:193.28673238248723 (init=False,iterations=867,time=3.98964786529541,Decay(lr=1e-06,b=0.01))\n",
      "Gradient Descent mse:151.7932817150271 - mse_val:187.68872231965605 (init=False,iterations=1000,time=3.999037742614746,Decay(lr=1e-06,b=0.0001))\n",
      "Gradient Descent mse:229.65852364177383 - mse_val:278.1025481018056 (init=False,iterations=1000,time=3.9327330589294434,Decay(lr=1e-06,b=0.0005))\n",
      "Gradient Descent mse:184.27529858911757 - mse_val:227.34815905837903 (init=False,iterations=1000,time=4.129894971847534,Momentum(lr=1e-06,b=0.7))\n",
      "Gradient Descent mse:159.7492608443601 - mse_val:195.96799373456156 (init=False,iterations=1000,time=3.982135057449341,Momentum(lr=1e-06,b=0.8))\n",
      "Gradient Descent mse:174.92506526819597 - mse_val:211.4565237356917 (init=False,iterations=1000,time=4.1445231437683105,Momentum(lr=1e-06,b=0.9))\n",
      "Gradient Descent mse:108.32745175103206 - mse_val:139.60762411312075 (init=False,iterations=1000,time=3.9263439178466797,Momentum(lr=1e-06,b=0.999))\n",
      "Gradient Descent mse:176.09092832145905 - mse_val:222.14302413980843 (init=False,iterations=1000,time=3.7723021507263184,Constant(lr=1e-07))\n",
      "Gradient Descent mse:204.82304935802767 - mse_val:251.63117079557233 (init=False,iterations=1,time=0.007919788360595703,Decay(lr=1e-07,b=0.1))\n",
      "Gradient Descent mse:152.0481147944047 - mse_val:178.28193961832807 (init=False,iterations=1,time=0.007735729217529297,Decay(lr=1e-07,b=0.01))\n",
      "Gradient Descent mse:192.8509260531389 - mse_val:244.32298520834098 (init=False,iterations=593,time=2.656182050704956,Decay(lr=1e-07,b=0.0001))\n",
      "Gradient Descent mse:180.17488796538507 - mse_val:217.18889774234097 (init=False,iterations=60,time=0.25639915466308594,Decay(lr=1e-07,b=0.0005))\n",
      "Gradient Descent mse:172.44563296242984 - mse_val:214.4168858403819 (init=False,iterations=1,time=0.009788751602172852,Momentum(lr=1e-07,b=0.7))\n",
      "Gradient Descent mse:152.06033782127167 - mse_val:189.30348132066013 (init=False,iterations=1,time=0.009378671646118164,Momentum(lr=1e-07,b=0.8))\n",
      "Gradient Descent mse:145.21765890685893 - mse_val:173.48768465560536 (init=False,iterations=1,time=0.008625030517578125,Momentum(lr=1e-07,b=0.9))\n",
      "Gradient Descent mse:142.33296774137918 - mse_val:184.5102232444293 (init=False,iterations=1,time=0.008183002471923828,Momentum(lr=1e-07,b=0.999))\n",
      "Best classifier achieved an error of 0.9972600415891946\n",
      "Momentum(lr=0.01,b=0.999),error=0.0002750653310632159,step=1000\n"
     ]
    },
    {
     "data": {
      "image/png": "[encoded data removed]",
      "text/plain": [
       "<Figure size 432x288 with 1 Axes>"
      ]
     },
     "metadata": {
      "needs_background": "light"
     },
     "output_type": "display_data"
    }
   ],
   "source": [
    "data_model_6 = 'default_noroot'\n",
    "best_model_6, results_model_6 = model.train_model(data_model_6, init, learning_rates, momentum, decay)"
   ]
  },
  {
   "cell_type": "markdown",
   "metadata": {},
   "source": [
    "#### Model 7\n",
    "Training with features: \n",
    "1. is_root\n",
    "2. controversality\n",
    "3. children\n",
    "3. text: tfidf, top160"
   ]
  },
  {
   "cell_type": "code",
   "execution_count": 9,
   "metadata": {},
   "outputs": [
    {
     "name": "stdout",
     "output_type": "stream",
     "text": [
      "Ignoring closed-form bc of singular matrix\n",
      "Gradient Descent mse:1.0677505332682582 - mse_val:1.0015010947424563 (init=True,iterations=1000,time=3.3944528102874756,Constant(lr=0.01))\n",
      "Gradient Descent mse:1.1847381614629071 - mse_val:1.1313736013798874 (init=True,iterations=1000,time=3.5348422527313232,Decay(lr=0.01,b=0.1))\n",
      "Gradient Descent mse:1.0901193975645804 - mse_val:1.0255730178069788 (init=True,iterations=1000,time=3.346871852874756,Decay(lr=0.01,b=0.01))\n",
      "Gradient Descent mse:1.0681796626410995 - mse_val:1.0017413751031075 (init=True,iterations=1000,time=3.4539027214050293,Decay(lr=0.01,b=0.0001))\n",
      "Gradient Descent mse:1.0696626736798514 - mse_val:1.002729822857951 (init=True,iterations=1000,time=3.687213182449341,Decay(lr=0.01,b=0.0005))\n",
      "Gradient Descent mse:1.067753150412245 - mse_val:1.001497938817687 (init=True,iterations=1000,time=3.70452618598938,Momentum(lr=0.01,b=0.7))\n",
      "Gradient Descent mse:1.067753524695228 - mse_val:1.0014974882207568 (init=True,iterations=1000,time=4.754065036773682,Momentum(lr=0.01,b=0.8))\n",
      "Gradient Descent mse:1.0677538990796243 - mse_val:1.0014970376864312 (init=True,iterations=1000,time=4.039459943771362,Momentum(lr=0.01,b=0.9))\n",
      "Gradient Descent mse:1.067754269820105 - mse_val:1.0014965917191947 (init=True,iterations=1000,time=4.866575002670288,Momentum(lr=0.01,b=0.999))\n",
      "Gradient Descent mse:1.1226551494713517 - mse_val:1.0645544445575452 (init=True,iterations=1000,time=4.7118752002716064,Constant(lr=0.001))\n",
      "Gradient Descent mse:1.6861225213694764 - mse_val:1.6115620797324377 (init=True,iterations=1000,time=3.9461188316345215,Decay(lr=0.001,b=0.1))\n",
      "Gradient Descent mse:1.2964743943470904 - mse_val:1.2407978261529389 (init=True,iterations=1000,time=3.7370758056640625,Decay(lr=0.001,b=0.01))\n",
      "Gradient Descent mse:1.125161973858332 - mse_val:1.0674603761345671 (init=True,iterations=1000,time=3.6319351196289062,Decay(lr=0.001,b=0.0001))\n",
      "Gradient Descent mse:1.134467941974238 - mse_val:1.0780636516268807 (init=True,iterations=1000,time=3.373577117919922,Decay(lr=0.001,b=0.0005))\n",
      "Gradient Descent mse:1.122657328218851 - mse_val:1.0645616391508865 (init=True,iterations=1000,time=4.024645805358887,Momentum(lr=0.001,b=0.7))\n",
      "Gradient Descent mse:1.1226576406151547 - mse_val:1.0645626671458952 (init=True,iterations=1000,time=5.428652763366699,Momentum(lr=0.001,b=0.8))\n",
      "Gradient Descent mse:1.1226579532976926 - mse_val:1.064563695188158 (init=True,iterations=1000,time=6.103085041046143,Momentum(lr=0.001,b=0.9))\n",
      "Gradient Descent mse:1.1226582631352162 - mse_val:1.0645647129959739 (init=True,iterations=1000,time=4.905689001083374,Momentum(lr=0.001,b=0.999))\n",
      "Gradient Descent mse:1.1744957430177316 - mse_val:1.120885856075142 (init=True,iterations=1000,time=4.206301927566528,Constant(lr=0.0005))\n",
      "Gradient Descent mse:1.821469966346179 - mse_val:1.750788115748043 (init=True,iterations=1000,time=3.983351707458496,Decay(lr=0.0005,b=0.1))\n",
      "Gradient Descent mse:1.4664239287996956 - mse_val:1.4020034234958918 (init=True,iterations=1000,time=4.310618877410889,Decay(lr=0.0005,b=0.01))\n",
      "Gradient Descent mse:1.17990677255324 - mse_val:1.1264297771645402 (init=True,iterations=1000,time=5.468672037124634,Decay(lr=0.0005,b=0.0001))\n",
      "Gradient Descent mse:1.200576445219556 - mse_val:1.1472893384588594 (init=True,iterations=1000,time=4.913702964782715,Decay(lr=0.0005,b=0.0005))\n",
      "Gradient Descent mse:1.1744869569297272 - mse_val:1.1208874182482491 (init=True,iterations=1000,time=3.9573423862457275,Momentum(lr=0.0005,b=0.7))\n",
      "Gradient Descent mse:1.1744856982833314 - mse_val:1.1208876391822093 (init=True,iterations=1000,time=4.251706838607788,Momentum(lr=0.0005,b=0.8))\n",
      "Gradient Descent mse:1.174484438765955 - mse_val:1.1208878595596907 (init=True,iterations=1000,time=3.6913981437683105,Momentum(lr=0.0005,b=0.9))\n",
      "Gradient Descent mse:1.1744831909863698 - mse_val:1.1208880771858678 (init=True,iterations=1000,time=3.7472519874572754,Momentum(lr=0.0005,b=0.999))\n",
      "Gradient Descent mse:1.5110045027331227 - mse_val:1.4439216604853655 (init=True,iterations=1000,time=3.807429790496826,Constant(lr=0.0001))\n",
      "Gradient Descent mse:2.044850835094371 - mse_val:1.9966584709290869 (init=True,iterations=402,time=1.6575489044189453,Decay(lr=0.0001,b=0.1))\n",
      "Gradient Descent mse:1.8129265761811337 - mse_val:1.7417250345901043 (init=True,iterations=1000,time=3.8041982650756836,Decay(lr=0.0001,b=0.01))\n",
      "Gradient Descent mse:1.5226864535452251 - mse_val:1.454908937542939 (init=True,iterations=1000,time=3.805264949798584,Decay(lr=0.0001,b=0.0001))\n",
      "Gradient Descent mse:1.5610507776556097 - mse_val:1.4910633708904044 (init=True,iterations=1000,time=3.8287670612335205,Decay(lr=0.0001,b=0.0005))\n",
      "Gradient Descent mse:1.5111074713562724 - mse_val:1.4440226203324027 (init=True,iterations=1000,time=4.218229055404663,Momentum(lr=0.0001,b=0.7))\n",
      "Gradient Descent mse:1.5111221859377435 - mse_val:1.4440370481037672 (init=True,iterations=1000,time=3.9083142280578613,Momentum(lr=0.0001,b=0.8))\n",
      "Gradient Descent mse:1.5111369017150256 - mse_val:1.444051477110178 (init=True,iterations=1000,time=4.542865037918091,Momentum(lr=0.0001,b=0.9))\n",
      "Gradient Descent mse:1.5111514715128846 - mse_val:1.444065763043443 (init=True,iterations=1000,time=4.669701099395752,Momentum(lr=0.0001,b=0.999))\n",
      "Gradient Descent mse:2.112441460477126 - mse_val:2.073148177223335 (init=True,iterations=1,time=0.00891876220703125,Constant(lr=1e-06))\n",
      "Gradient Descent mse:2.112443282386541 - mse_val:2.073150247154922 (init=True,iterations=1,time=0.012259244918823242,Decay(lr=1e-06,b=0.1))\n",
      "Gradient Descent mse:2.112441658902714 - mse_val:2.0731484026612 (init=True,iterations=1,time=0.01090097427368164,Decay(lr=1e-06,b=0.01))\n",
      "Gradient Descent mse:2.1124414624810246 - mse_val:2.0731481795000293 (init=True,iterations=1,time=0.009188652038574219,Decay(lr=1e-06,b=0.0001))\n",
      "Gradient Descent mse:2.11244147049261 - mse_val:2.0731481886022562 (init=True,iterations=1,time=0.013242006301879883,Decay(lr=1e-06,b=0.0005))\n",
      "Gradient Descent mse:2.112448474849929 - mse_val:2.073156146485761 (init=True,iterations=1,time=0.011657953262329102,Momentum(lr=1e-06,b=0.7))\n",
      "Gradient Descent mse:2.1124494769079405 - mse_val:2.0731572849575155 (init=True,iterations=1,time=0.010449886322021484,Momentum(lr=1e-06,b=0.8))\n",
      "Gradient Descent mse:2.11245047896714 - mse_val:2.0731584234306935 (init=True,iterations=1,time=0.015933990478515625,Momentum(lr=1e-06,b=0.9))\n",
      "Gradient Descent mse:2.112451471006919 - mse_val:2.073159550520542 (init=True,iterations=1,time=0.010066747665405273,Momentum(lr=1e-06,b=0.999))\n",
      "Gradient Descent mse:2.1124594975534228 - mse_val:2.0731686697533505 (init=True,iterations=1,time=0.010193109512329102,Constant(lr=1e-07))\n",
      "Gradient Descent mse:2.1124596797480772 - mse_val:2.073168876750956 (init=True,iterations=1,time=0.013959884643554688,Decay(lr=1e-07,b=0.1))\n",
      "Gradient Descent mse:2.112459517396403 - mse_val:2.0731686922976422 (init=True,iterations=1,time=0.009648799896240234,Decay(lr=1e-07,b=0.01))\n",
      "Gradient Descent mse:2.1124594977538167 - mse_val:2.0731686699810252 (init=True,iterations=1,time=0.014758825302124023,Decay(lr=1e-07,b=0.0001))\n",
      "Gradient Descent mse:2.1124594985549923 - mse_val:2.0731686708912687 (init=True,iterations=1,time=0.012032032012939453,Decay(lr=1e-07,b=0.0005))\n",
      "Gradient Descent mse:2.112460199003057 - mse_val:2.0731694666943903 (init=True,iterations=1,time=0.009596824645996094,Momentum(lr=1e-07,b=0.7))\n",
      "Gradient Descent mse:2.1124602992101953 - mse_val:2.0731695805431674 (init=True,iterations=1,time=0.011547088623046875,Momentum(lr=1e-07,b=0.8))\n",
      "Gradient Descent mse:2.1124603994173454 - mse_val:2.0731696943919578 (init=True,iterations=1,time=0.010617971420288086,Momentum(lr=1e-07,b=0.9))\n",
      "Gradient Descent mse:2.112460498622436 - mse_val:2.0731698071022753 (init=True,iterations=1,time=0.00887298583984375,Momentum(lr=1e-07,b=0.999))\n",
      "Gradient Descent mse:1.287467956331996 - mse_val:1.2388125112394095 (init=False,iterations=1000,time=4.192285060882568,Constant(lr=0.01))\n",
      "Gradient Descent mse:10.686968785836964 - mse_val:14.440356726503214 (init=False,iterations=1000,time=4.400010108947754,Decay(lr=0.01,b=0.1))\n",
      "Gradient Descent mse:2.9171200642916686 - mse_val:3.147636887161602 (init=False,iterations=1000,time=3.6793010234832764,Decay(lr=0.01,b=0.01))\n"
     ]
    },
    {
     "name": "stdout",
     "output_type": "stream",
     "text": [
      "Gradient Descent mse:1.3148788304111352 - mse_val:1.31464957535333 (init=False,iterations=1000,time=4.048419237136841,Decay(lr=0.01,b=0.0001))\n",
      "Gradient Descent mse:1.4134426811696235 - mse_val:1.3608968640886332 (init=False,iterations=1000,time=3.949573040008545,Decay(lr=0.01,b=0.0005))\n",
      "Gradient Descent mse:1.2776834478287864 - mse_val:1.174775389150292 (init=False,iterations=1000,time=3.614591121673584,Momentum(lr=0.01,b=0.7))\n",
      "Gradient Descent mse:1.2487436875009443 - mse_val:1.176260729350472 (init=False,iterations=1000,time=3.620922088623047,Momentum(lr=0.01,b=0.8))\n",
      "Gradient Descent mse:1.254705169232294 - mse_val:1.192466708692672 (init=False,iterations=1000,time=3.6538689136505127,Momentum(lr=0.01,b=0.9))\n",
      "Gradient Descent mse:1.288383518883225 - mse_val:1.2437212834825024 (init=False,iterations=1000,time=4.903501033782959,Momentum(lr=0.01,b=0.999))\n",
      "Gradient Descent mse:2.5182570055071336 - mse_val:2.932030005569591 (init=False,iterations=1000,time=3.506354808807373,Constant(lr=0.001))\n",
      "Gradient Descent mse:95.24068285514402 - mse_val:123.02802280928688 (init=False,iterations=1000,time=3.8178977966308594,Decay(lr=0.001,b=0.1))\n",
      "Gradient Descent mse:8.456463071802943 - mse_val:10.152124361160453 (init=False,iterations=1000,time=3.83113431930542,Decay(lr=0.001,b=0.01))\n",
      "Gradient Descent mse:2.8703666058428503 - mse_val:3.087581886253069 (init=False,iterations=1000,time=3.50270676612854,Decay(lr=0.001,b=0.0001))\n",
      "Gradient Descent mse:3.4991812824888524 - mse_val:3.542256820475239 (init=False,iterations=1000,time=3.3974781036376953,Decay(lr=0.001,b=0.0005))\n",
      "Gradient Descent mse:2.6184807666364547 - mse_val:2.8795552112853775 (init=False,iterations=1000,time=3.591062068939209,Momentum(lr=0.001,b=0.7))\n",
      "Gradient Descent mse:2.61427680914623 - mse_val:2.9218354948246086 (init=False,iterations=1000,time=3.5662899017333984,Momentum(lr=0.001,b=0.8))\n",
      "Gradient Descent mse:2.6194271517295338 - mse_val:3.05605784561143 (init=False,iterations=1000,time=3.708138942718506,Momentum(lr=0.001,b=0.9))\n",
      "Gradient Descent mse:2.8031077668276776 - mse_val:3.548807450700682 (init=False,iterations=1000,time=3.3883860111236572,Momentum(lr=0.001,b=0.999))\n",
      "Gradient Descent mse:3.474269431208024 - mse_val:3.9260042170696523 (init=False,iterations=1000,time=3.739633083343506,Constant(lr=0.0005))\n",
      "Gradient Descent mse:112.69858805496418 - mse_val:141.59371381772723 (init=False,iterations=1000,time=3.9016687870025635,Decay(lr=0.0005,b=0.1))\n",
      "Gradient Descent mse:31.312707210556038 - mse_val:38.37084989507232 (init=False,iterations=1000,time=4.321314811706543,Decay(lr=0.0005,b=0.01))\n",
      "Gradient Descent mse:3.7021496186233365 - mse_val:4.344359825656622 (init=False,iterations=1000,time=4.0849831104278564,Decay(lr=0.0005,b=0.0001))\n",
      "Gradient Descent mse:4.241881485450016 - mse_val:5.23993826156635 (init=False,iterations=1000,time=4.568530321121216,Decay(lr=0.0005,b=0.0005))\n",
      "Gradient Descent mse:3.360032323868246 - mse_val:3.8309547190304065 (init=False,iterations=1000,time=4.013081789016724,Momentum(lr=0.0005,b=0.7))\n",
      "Gradient Descent mse:3.362118898559257 - mse_val:4.046160729141827 (init=False,iterations=1000,time=3.8337130546569824,Momentum(lr=0.0005,b=0.8))\n",
      "Gradient Descent mse:3.656329161906356 - mse_val:4.588081557325124 (init=False,iterations=1000,time=3.7430129051208496,Momentum(lr=0.0005,b=0.9))\n",
      "Gradient Descent mse:3.890168968200914 - mse_val:5.15587610402543 (init=False,iterations=1000,time=3.6638190746307373,Momentum(lr=0.0005,b=0.999))\n",
      "Gradient Descent mse:6.559084145223991 - mse_val:8.319929680062243 (init=False,iterations=1000,time=3.930109977722168,Constant(lr=0.0001))\n",
      "Gradient Descent mse:135.56004398495526 - mse_val:167.12350354325753 (init=False,iterations=1000,time=3.7739830017089844,Decay(lr=0.0001,b=0.1))\n",
      "Gradient Descent mse:159.25294305531295 - mse_val:194.8893903607435 (init=False,iterations=1000,time=3.7697811126708984,Decay(lr=0.0001,b=0.01))\n",
      "Gradient Descent mse:8.221144875517234 - mse_val:12.570607017426799 (init=False,iterations=1000,time=3.8315980434417725,Decay(lr=0.0001,b=0.0001))\n",
      "Gradient Descent mse:12.245929268988696 - mse_val:16.328813084331852 (init=False,iterations=1000,time=3.7382190227508545,Decay(lr=0.0001,b=0.0005))\n",
      "Gradient Descent mse:6.8197458291521205 - mse_val:9.033558384659315 (init=False,iterations=1000,time=3.7133970260620117,Momentum(lr=0.0001,b=0.7))\n",
      "Gradient Descent mse:5.803014162162268 - mse_val:6.945876711243344 (init=False,iterations=1000,time=3.7722349166870117,Momentum(lr=0.0001,b=0.8))\n",
      "Gradient Descent mse:6.417727067819338 - mse_val:7.813512615256104 (init=False,iterations=1000,time=3.738110065460205,Momentum(lr=0.0001,b=0.9))\n",
      "Gradient Descent mse:6.362953097471836 - mse_val:8.563032161363347 (init=False,iterations=1000,time=3.7392919063568115,Momentum(lr=0.0001,b=0.999))\n",
      "Gradient Descent mse:186.59963793920542 - mse_val:227.6113443437733 (init=False,iterations=1000,time=3.791914939880371,Constant(lr=1e-06))\n",
      "Gradient Descent mse:188.07338934729887 - mse_val:228.28893325955414 (init=False,iterations=95,time=0.37056684494018555,Decay(lr=1e-06,b=0.1))\n",
      "Gradient Descent mse:139.22339180410506 - mse_val:176.28895635628814 (init=False,iterations=791,time=2.9215521812438965,Decay(lr=1e-06,b=0.01))\n",
      "Gradient Descent mse:114.18995952339756 - mse_val:136.39301501009544 (init=False,iterations=1000,time=3.70265793800354,Decay(lr=1e-06,b=0.0001))\n",
      "Gradient Descent mse:176.33729131840295 - mse_val:211.2633406609283 (init=False,iterations=1000,time=3.8773603439331055,Decay(lr=1e-06,b=0.0005))\n",
      "Gradient Descent mse:137.75243297242346 - mse_val:165.0696963530909 (init=False,iterations=1000,time=3.7694218158721924,Momentum(lr=1e-06,b=0.7))\n",
      "Gradient Descent mse:160.70886151952902 - mse_val:197.16207467006825 (init=False,iterations=1000,time=3.6779680252075195,Momentum(lr=1e-06,b=0.8))\n",
      "Gradient Descent mse:129.74363281809363 - mse_val:154.63318963866456 (init=False,iterations=1000,time=3.806450128555298,Momentum(lr=1e-06,b=0.9))\n",
      "Gradient Descent mse:178.70116043023216 - mse_val:221.40335377870272 (init=False,iterations=1000,time=3.7518630027770996,Momentum(lr=1e-06,b=0.999))\n",
      "Gradient Descent mse:139.7711014897329 - mse_val:176.14146969213616 (init=False,iterations=1,time=0.00813603401184082,Constant(lr=1e-07))\n",
      "Gradient Descent mse:174.69833024448837 - mse_val:208.71421639253023 (init=False,iterations=1,time=0.007687807083129883,Decay(lr=1e-07,b=0.1))\n",
      "Gradient Descent mse:170.5504083919366 - mse_val:214.79646686432366 (init=False,iterations=1,time=0.007380008697509766,Decay(lr=1e-07,b=0.01))\n",
      "Gradient Descent mse:153.73500760922067 - mse_val:184.4629197332152 (init=False,iterations=1,time=0.007657051086425781,Decay(lr=1e-07,b=0.0001))\n",
      "Gradient Descent mse:172.06934091236295 - mse_val:205.20122080401651 (init=False,iterations=8,time=0.03333401679992676,Decay(lr=1e-07,b=0.0005))\n",
      "Gradient Descent mse:183.24117257741656 - mse_val:228.75640210084495 (init=False,iterations=1,time=0.00738978385925293,Momentum(lr=1e-07,b=0.7))\n",
      "Gradient Descent mse:172.2605785779264 - mse_val:214.44152338027348 (init=False,iterations=1,time=0.007570981979370117,Momentum(lr=1e-07,b=0.8))\n",
      "Gradient Descent mse:184.88195881683527 - mse_val:225.06546237070938 (init=False,iterations=1,time=0.008972883224487305,Momentum(lr=1e-07,b=0.9))\n",
      "Gradient Descent mse:135.62697054454696 - mse_val:163.09886550400947 (init=False,iterations=1,time=0.009791851043701172,Momentum(lr=1e-07,b=0.999))\n",
      "Best classifier achieved an error of 1.0014965917191947\n",
      "Momentum(lr=0.01,b=0.999),error=0.00029829428063280877,step=1000\n"
     ]
    },
    {
     "data": {
      "image/png": "[encoded data removed]",
      "text/plain": [
       "<Figure size 432x288 with 1 Axes>"
      ]
     },
     "metadata": {
      "needs_background": "light"
     },
     "output_type": "display_data"
    }
   ],
   "source": [
    "data_model_7 = 'default_tfidf'\n",
    "best_model_7, results_model_7 = model.train_model(data_model_7, init, learning_rates, momentum, decay)"
   ]
  },
  {
   "cell_type": "markdown",
   "metadata": {},
   "source": [
    "#### Model 8\n",
    "Training with features: \n",
    "1. is_root\n",
    "2. controversality\n",
    "3. children\n",
    "3. text: feelings, top 160"
   ]
  },
  {
   "cell_type": "code",
   "execution_count": 10,
   "metadata": {},
   "outputs": [
    {
     "name": "stdout",
     "output_type": "stream",
     "text": [
      "Ignoring closed-form bc of singular matrix\n",
      "Gradient Descent mse:1.0909380614984907 - mse_val:1.0296535873813164 (init=True,iterations=1000,time=0.9223220348358154,Constant(lr=0.01))\n",
      "Gradient Descent mse:1.175467497818264 - mse_val:1.1218871033999291 (init=True,iterations=1000,time=0.8848719596862793,Decay(lr=0.01,b=0.1))\n",
      "Gradient Descent mse:1.1045897769667206 - mse_val:1.045913292555919 (init=True,iterations=1000,time=0.9049391746520996,Decay(lr=0.01,b=0.01))\n",
      "Gradient Descent mse:1.091175205594877 - mse_val:1.0298925748666443 (init=True,iterations=1000,time=0.8582842350006104,Decay(lr=0.01,b=0.0001))\n",
      "Gradient Descent mse:1.091966367435564 - mse_val:1.0307386365428883 (init=True,iterations=1000,time=0.8576681613922119,Decay(lr=0.01,b=0.0005))\n",
      "Gradient Descent mse:1.0909401873157865 - mse_val:1.0296535728269913 (init=True,iterations=1000,time=0.8673210144042969,Momentum(lr=0.01,b=0.7))\n",
      "Gradient Descent mse:1.0909404913641942 - mse_val:1.0296535711039636 (init=True,iterations=1000,time=0.9007289409637451,Momentum(lr=0.01,b=0.8))\n",
      "Gradient Descent mse:1.090940795502649 - mse_val:1.029653569470288 (init=True,iterations=1000,time=0.8875761032104492,Momentum(lr=0.01,b=0.9))\n",
      "Gradient Descent mse:1.0909410966884177 - mse_val:1.0296535679410677 (init=True,iterations=1000,time=0.9389188289642334,Momentum(lr=0.01,b=0.999))\n",
      "Gradient Descent mse:1.1262064396491727 - mse_val:1.0705810496065213 (init=True,iterations=1000,time=0.9222269058227539,Constant(lr=0.001))\n",
      "Gradient Descent mse:1.8206268737856306 - mse_val:1.7755362537782844 (init=True,iterations=1000,time=0.9211752414703369,Decay(lr=0.001,b=0.1))\n",
      "Gradient Descent mse:1.3020405484235316 - mse_val:1.249398359815389 (init=True,iterations=1000,time=0.912205696105957,Decay(lr=0.001,b=0.01))\n",
      "Gradient Descent mse:1.1278160169313942 - mse_val:1.0723676917071798 (init=True,iterations=1000,time=1.0564980506896973,Decay(lr=0.001,b=0.0001))\n",
      "Gradient Descent mse:1.1339641022241322 - mse_val:1.079080151382363 (init=True,iterations=1000,time=0.9422121047973633,Decay(lr=0.001,b=0.0005))\n",
      "Gradient Descent mse:1.12620631680853 - mse_val:1.070582515922896 (init=True,iterations=1000,time=0.967764139175415,Momentum(lr=0.001,b=0.7))\n",
      "Gradient Descent mse:1.1262063020720026 - mse_val:1.0705827273533945 (init=True,iterations=1000,time=0.9387269020080566,Momentum(lr=0.001,b=0.8))\n",
      "Gradient Descent mse:1.1262062880378718 - mse_val:1.0705829392714952 (init=True,iterations=1000,time=0.9793980121612549,Momentum(lr=0.001,b=0.9))\n",
      "Gradient Descent mse:1.1262062748357669 - mse_val:1.0705831495502076 (init=True,iterations=1000,time=0.9165050983428955,Momentum(lr=0.001,b=0.999))\n",
      "Gradient Descent mse:1.1658981259946002 - mse_val:1.112183431196765 (init=True,iterations=1000,time=0.8763341903686523,Constant(lr=0.0005))\n",
      "Gradient Descent mse:1.9529452846948911 - mse_val:1.9103950143254083 (init=True,iterations=1000,time=0.8980307579040527,Decay(lr=0.0005,b=0.1))\n",
      "Gradient Descent mse:1.5273121695292993 - mse_val:1.4773241361303002 (init=True,iterations=1000,time=0.8806552886962891,Decay(lr=0.0005,b=0.01))\n",
      "Gradient Descent mse:1.170921606545606 - mse_val:1.117277604797608 (init=True,iterations=1000,time=0.8615000247955322,Decay(lr=0.0005,b=0.0001))\n",
      "Gradient Descent mse:1.191338522752512 - mse_val:1.1378966576337959 (init=True,iterations=1000,time=0.9069209098815918,Decay(lr=0.0005,b=0.0005))\n",
      "Gradient Descent mse:1.1658683140167434 - mse_val:1.1121570847578905 (init=True,iterations=1000,time=0.9361732006072998,Momentum(lr=0.0005,b=0.7))\n",
      "Gradient Descent mse:1.1658640511690193 - mse_val:1.1121533176338443 (init=True,iterations=1000,time=0.9434108734130859,Momentum(lr=0.0005,b=0.8))\n",
      "Gradient Descent mse:1.165859787326253 - mse_val:1.1121495496766078 (init=True,iterations=1000,time=0.9241430759429932,Momentum(lr=0.0005,b=0.9))\n",
      "Gradient Descent mse:1.1658555651428635 - mse_val:1.1121458185793835 (init=True,iterations=1000,time=0.9048500061035156,Momentum(lr=0.0005,b=0.999))\n",
      "Gradient Descent mse:1.5891528932030312 - mse_val:1.5400919733372445 (init=True,iterations=1000,time=0.9786720275878906,Constant(lr=0.0001))\n",
      "Gradient Descent mse:2.087790606338412 - mse_val:2.047983473516449 (init=True,iterations=264,time=0.23310303688049316,Decay(lr=0.0001,b=0.1))\n",
      "Gradient Descent mse:1.9460018999676205 - mse_val:1.9033143716880396 (init=True,iterations=1000,time=0.9092209339141846,Decay(lr=0.0001,b=0.01))\n",
      "Gradient Descent mse:1.6053966151859917 - mse_val:1.5565900335853218 (init=True,iterations=1000,time=0.8968899250030518,Decay(lr=0.0001,b=0.0001))\n",
      "Gradient Descent mse:1.65855101513997 - mse_val:1.6106051738523302 (init=True,iterations=1000,time=0.904904842376709,Decay(lr=0.0001,b=0.0005))\n",
      "Gradient Descent mse:1.5892954999572957 - mse_val:1.5402367719548309 (init=True,iterations=1000,time=0.8786211013793945,Momentum(lr=0.0001,b=0.7))\n",
      "Gradient Descent mse:1.5893158769980245 - mse_val:1.5402574621998275 (init=True,iterations=1000,time=0.8858060836791992,Momentum(lr=0.0001,b=0.8))\n",
      "Gradient Descent mse:1.5893362552007027 - mse_val:1.5402781536270105 (init=True,iterations=1000,time=0.9263951778411865,Momentum(lr=0.0001,b=0.9))\n",
      "Gradient Descent mse:1.5893564307659762 - mse_val:1.5402986393044793 (init=True,iterations=1000,time=0.954833984375,Momentum(lr=0.0001,b=0.999))\n",
      "Gradient Descent mse:2.1124538396692216 - mse_val:2.073163123610445 (init=True,iterations=1,time=0.002607107162475586,Constant(lr=1e-06))\n",
      "Gradient Descent mse:2.1124545362158758 - mse_val:2.073163834801748 (init=True,iterations=1,time=0.0024552345275878906,Decay(lr=1e-06,b=0.1))\n",
      "Gradient Descent mse:2.1124539155307254 - mse_val:2.0731632010669103 (init=True,iterations=1,time=0.0024421215057373047,Decay(lr=1e-06,b=0.01))\n",
      "Gradient Descent mse:2.112453840435346 - mse_val:2.0731631243926767 (init=True,iterations=1,time=0.0026700496673583984,Decay(lr=1e-06,b=0.0001))\n",
      "Gradient Descent mse:2.112453843498313 - mse_val:2.0731631275200417 (init=True,iterations=1,time=0.0029740333557128906,Decay(lr=1e-06,b=0.0005))\n",
      "Gradient Descent mse:2.1124565213752744 - mse_val:2.07316586169844 (init=True,iterations=1,time=0.0025110244750976562,Momentum(lr=1e-06,b=0.7))\n",
      "Gradient Descent mse:2.1124569044764545 - mse_val:2.0731662528541936 (init=True,iterations=1,time=0.0025331974029541016,Momentum(lr=1e-06,b=0.8))\n",
      "Gradient Descent mse:2.112457287577714 - mse_val:2.073166644010029 (init=True,iterations=1,time=0.002981901168823242,Momentum(lr=1e-06,b=0.9))\n",
      "Gradient Descent mse:2.112457666848039 - mse_val:2.0731670312543864 (init=True,iterations=1,time=0.002524137496948242,Momentum(lr=1e-06,b=0.999))\n",
      "Gradient Descent mse:2.112460735492604 - mse_val:2.073170164416216 (init=True,iterations=1,time=0.0025110244750976562,Constant(lr=1e-07))\n",
      "Gradient Descent mse:2.1124608051475158 - mse_val:2.0731702355356014 (init=True,iterations=1,time=0.0024759769439697266,Decay(lr=1e-07,b=0.1))\n",
      "Gradient Descent mse:2.112460743078782 - mse_val:2.0731701721618916 (init=True,iterations=1,time=0.0025069713592529297,Decay(lr=1e-07,b=0.01))\n",
      "Gradient Descent mse:2.1124607355692167 - mse_val:2.0731701644944396 (init=True,iterations=1,time=0.0027980804443359375,Decay(lr=1e-07,b=0.0001))\n",
      "Gradient Descent mse:2.1124607358755143 - mse_val:2.0731701648071774 (init=True,iterations=1,time=0.0024487972259521484,Decay(lr=1e-07,b=0.0005))\n",
      "Gradient Descent mse:2.11246100366403 - mse_val:2.073170438225863 (init=True,iterations=1,time=0.0031061172485351562,Momentum(lr=1e-07,b=0.7))\n",
      "Gradient Descent mse:2.1124610419742367 - mse_val:2.0731704773415305 (init=True,iterations=1,time=0.002550840377807617,Momentum(lr=1e-07,b=0.8))\n",
      "Gradient Descent mse:2.112461080284444 - mse_val:2.073170516457198 (init=True,iterations=1,time=0.0034291744232177734,Momentum(lr=1e-07,b=0.9))\n",
      "Gradient Descent mse:2.1124611182115505 - mse_val:2.0731705551817106 (init=True,iterations=1,time=0.0033872127532958984,Momentum(lr=1e-07,b=0.999))\n",
      "Gradient Descent mse:1.117610271546802 - mse_val:1.045990774178575 (init=False,iterations=1000,time=0.9927077293395996,Constant(lr=0.01))\n",
      "Gradient Descent mse:1.6555261559188919 - mse_val:1.5850806192672267 (init=False,iterations=1000,time=0.9496488571166992,Decay(lr=0.01,b=0.1))\n",
      "Gradient Descent mse:1.4350463688725559 - mse_val:1.3921182584496838 (init=False,iterations=1000,time=0.9910199642181396,Decay(lr=0.01,b=0.01))\n"
     ]
    },
    {
     "name": "stdout",
     "output_type": "stream",
     "text": [
      "Gradient Descent mse:1.1063894535452836 - mse_val:1.0305732703020767 (init=False,iterations=1000,time=0.9309930801391602,Decay(lr=0.01,b=0.0001))\n",
      "Gradient Descent mse:1.1389115321255225 - mse_val:1.0611066671642793 (init=False,iterations=1000,time=1.0020620822906494,Decay(lr=0.01,b=0.0005))\n",
      "Gradient Descent mse:1.1098955563003474 - mse_val:1.0229021372887936 (init=False,iterations=1000,time=1.3355748653411865,Momentum(lr=0.01,b=0.7))\n",
      "Gradient Descent mse:1.121189994289966 - mse_val:1.031301403714055 (init=False,iterations=1000,time=1.5648550987243652,Momentum(lr=0.01,b=0.8))\n",
      "Gradient Descent mse:1.1133000658824739 - mse_val:1.0299122437838955 (init=False,iterations=1000,time=1.264314889907837,Momentum(lr=0.01,b=0.9))\n",
      "Gradient Descent mse:1.125740616097682 - mse_val:1.0523626327404636 (init=False,iterations=1000,time=1.200911283493042,Momentum(lr=0.01,b=0.999))\n",
      "Gradient Descent mse:1.2747094578193203 - mse_val:1.204269477512471 (init=False,iterations=1000,time=1.1647148132324219,Constant(lr=0.001))\n",
      "Gradient Descent mse:1.6452157870962458 - mse_val:1.658673104314309 (init=False,iterations=1,time=0.002593994140625,Decay(lr=0.001,b=0.1))\n",
      "Gradient Descent mse:1.6833981505228963 - mse_val:1.6850654919319283 (init=False,iterations=1000,time=0.9885349273681641,Decay(lr=0.001,b=0.01))\n",
      "Gradient Descent mse:1.2466801786160497 - mse_val:1.1841097272651941 (init=False,iterations=1000,time=1.246427059173584,Decay(lr=0.001,b=0.0001))\n",
      "Gradient Descent mse:1.3257613463091813 - mse_val:1.2743927655814642 (init=False,iterations=1000,time=1.147468090057373,Decay(lr=0.001,b=0.0005))\n",
      "Gradient Descent mse:1.3182115459899468 - mse_val:1.26058148496947 (init=False,iterations=1000,time=1.170151948928833,Momentum(lr=0.001,b=0.7))\n",
      "Gradient Descent mse:1.1641356237773008 - mse_val:1.0920658814517366 (init=False,iterations=1000,time=1.3204312324523926,Momentum(lr=0.001,b=0.8))\n",
      "Gradient Descent mse:1.4510881911949254 - mse_val:1.4414537443254116 (init=False,iterations=1000,time=1.0880200862884521,Momentum(lr=0.001,b=0.9))\n",
      "Gradient Descent mse:1.2873766045396713 - mse_val:1.2891043622013134 (init=False,iterations=1000,time=0.9658129215240479,Momentum(lr=0.001,b=0.999))\n",
      "Gradient Descent mse:1.3120249623555897 - mse_val:1.2446754565336642 (init=False,iterations=1000,time=1.0486860275268555,Constant(lr=0.0005))\n",
      "Gradient Descent mse:2.135340378152435 - mse_val:2.0806404427002128 (init=False,iterations=1,time=0.0025153160095214844,Decay(lr=0.0005,b=0.1))\n",
      "Gradient Descent mse:1.4695684634546748 - mse_val:1.4245985526292275 (init=False,iterations=1000,time=0.8510837554931641,Decay(lr=0.0005,b=0.01))\n",
      "Gradient Descent mse:1.1810150305522387 - mse_val:1.1310530272114518 (init=False,iterations=1000,time=0.8238410949707031,Decay(lr=0.0005,b=0.0001))\n",
      "Gradient Descent mse:1.339923391754346 - mse_val:1.3030436764780369 (init=False,iterations=1000,time=0.9027659893035889,Decay(lr=0.0005,b=0.0005))\n",
      "Gradient Descent mse:1.3123832855469326 - mse_val:1.2618381117206348 (init=False,iterations=1000,time=1.2904067039489746,Momentum(lr=0.0005,b=0.7))\n",
      "Gradient Descent mse:1.3832244387733783 - mse_val:1.2945036286731453 (init=False,iterations=1000,time=1.015753984451294,Momentum(lr=0.0005,b=0.8))\n",
      "Gradient Descent mse:1.400297672016098 - mse_val:1.3341134734262514 (init=False,iterations=1000,time=0.9307301044464111,Momentum(lr=0.0005,b=0.9))\n",
      "Gradient Descent mse:1.4762868210323574 - mse_val:1.4377739602394153 (init=False,iterations=1000,time=0.8734381198883057,Momentum(lr=0.0005,b=0.999))\n",
      "Gradient Descent mse:1.6249710995711084 - mse_val:1.6249123226060014 (init=False,iterations=1000,time=0.8168556690216064,Constant(lr=0.0001))\n",
      "Gradient Descent mse:1.5270288964651233 - mse_val:1.479537061250968 (init=False,iterations=1,time=0.002402067184448242,Decay(lr=0.0001,b=0.1))\n",
      "Gradient Descent mse:2.179727714688867 - mse_val:2.1746219171804695 (init=False,iterations=1000,time=0.8020260334014893,Decay(lr=0.0001,b=0.01))\n",
      "Gradient Descent mse:1.6132513937263968 - mse_val:1.5592115364980077 (init=False,iterations=1000,time=0.8978281021118164,Decay(lr=0.0001,b=0.0001))\n",
      "Gradient Descent mse:1.5071486874972473 - mse_val:1.427106702689263 (init=False,iterations=1000,time=0.8626348972320557,Decay(lr=0.0001,b=0.0005))\n",
      "Gradient Descent mse:1.7384275092611656 - mse_val:1.7326299297783567 (init=False,iterations=1000,time=0.8081989288330078,Momentum(lr=0.0001,b=0.7))\n",
      "Gradient Descent mse:1.7341996556508565 - mse_val:1.752125058538416 (init=False,iterations=1000,time=0.8068521022796631,Momentum(lr=0.0001,b=0.8))\n",
      "Gradient Descent mse:1.7931328661894874 - mse_val:1.7821409287265852 (init=False,iterations=1000,time=0.8646218776702881,Momentum(lr=0.0001,b=0.9))\n",
      "Gradient Descent mse:1.6726337688986186 - mse_val:1.6001341387598709 (init=False,iterations=1000,time=0.8238091468811035,Momentum(lr=0.0001,b=0.999))\n",
      "Gradient Descent mse:1.8782070958092332 - mse_val:1.8405008685962405 (init=False,iterations=1,time=0.0025491714477539062,Constant(lr=1e-06))\n",
      "Gradient Descent mse:1.891457955552313 - mse_val:1.8235517066504707 (init=False,iterations=1,time=0.0024008750915527344,Decay(lr=1e-06,b=0.1))\n",
      "Gradient Descent mse:1.6146831752925954 - mse_val:1.6022575350172485 (init=False,iterations=1,time=0.0023632049560546875,Decay(lr=1e-06,b=0.01))\n",
      "Gradient Descent mse:1.930397256993414 - mse_val:1.9255089676793422 (init=False,iterations=1,time=0.002584695816040039,Decay(lr=1e-06,b=0.0001))\n",
      "Gradient Descent mse:1.6745770553409272 - mse_val:1.6439423320596585 (init=False,iterations=1,time=0.002315998077392578,Decay(lr=1e-06,b=0.0005))\n",
      "Gradient Descent mse:2.4093094146281433 - mse_val:2.407855377832387 (init=False,iterations=1,time=0.0023360252380371094,Momentum(lr=1e-06,b=0.7))\n",
      "Gradient Descent mse:1.8303042900779456 - mse_val:1.7705039716749689 (init=False,iterations=1,time=0.0023431777954101562,Momentum(lr=1e-06,b=0.8))\n",
      "Gradient Descent mse:1.8635978100873871 - mse_val:1.8575225132375563 (init=False,iterations=1,time=0.002354860305786133,Momentum(lr=1e-06,b=0.9))\n",
      "Gradient Descent mse:2.092100330757928 - mse_val:2.095492527443434 (init=False,iterations=1,time=0.0023508071899414062,Momentum(lr=1e-06,b=0.999))\n",
      "Gradient Descent mse:1.9575438095218007 - mse_val:1.8737692948614426 (init=False,iterations=1,time=0.0023641586303710938,Constant(lr=1e-07))\n",
      "Gradient Descent mse:1.6774126498271162 - mse_val:1.640134762138855 (init=False,iterations=1,time=0.0023260116577148438,Decay(lr=1e-07,b=0.1))\n",
      "Gradient Descent mse:1.4165605699170427 - mse_val:1.3850138444770796 (init=False,iterations=1,time=0.002301931381225586,Decay(lr=1e-07,b=0.01))\n",
      "Gradient Descent mse:1.6599191274982044 - mse_val:1.5796581883043646 (init=False,iterations=1,time=0.0024139881134033203,Decay(lr=1e-07,b=0.0001))\n",
      "Gradient Descent mse:2.226532474635206 - mse_val:2.244861253911843 (init=False,iterations=1,time=0.0023670196533203125,Decay(lr=1e-07,b=0.0005))\n",
      "Gradient Descent mse:1.523183110731119 - mse_val:1.4758019931835302 (init=False,iterations=1,time=0.0024290084838867188,Momentum(lr=1e-07,b=0.7))\n",
      "Gradient Descent mse:1.9293528573641225 - mse_val:1.9821501276971882 (init=False,iterations=1,time=0.0024261474609375,Momentum(lr=1e-07,b=0.8))\n",
      "Gradient Descent mse:1.5058041155673192 - mse_val:1.4742156031078015 (init=False,iterations=1,time=0.0023679733276367188,Momentum(lr=1e-07,b=0.9))\n",
      "Gradient Descent mse:1.9625527978922328 - mse_val:2.002360070006923 (init=False,iterations=1,time=0.0024099349975585938,Momentum(lr=1e-07,b=0.999))\n",
      "Best classifier achieved an error of 1.0229021372887936\n",
      "Momentum(lr=0.01,b=0.7),error=0.00034837320216378,step=1000\n"
     ]
    },
    {
     "data": {
      "image/png": "[encoded data removed]",
      "text/plain": [
       "<Figure size 432x288 with 1 Axes>"
      ]
     },
     "metadata": {
      "needs_background": "light"
     },
     "output_type": "display_data"
    }
   ],
   "source": [
    "data_model_8 = 'default_feeling'\n",
    "best_model_8, results_model_8 = model.train_model(data_model_8, init, learning_rates, momentum, decay)"
   ]
  },
  {
   "cell_type": "markdown",
   "metadata": {},
   "source": [
    "#### Model 9\n",
    "Training with features: \n",
    "3. children"
   ]
  },
  {
   "cell_type": "code",
   "execution_count": 11,
   "metadata": {},
   "outputs": [
    {
     "name": "stdout",
     "output_type": "stream",
     "text": [
      "Closed-form mse:1.1099922875050707 - mse_val:1.0488298832681369 (time=0.0006301403045654297)\n",
      "Gradient Descent mse:1.109992565128062 - mse_val:1.0488429901087153 (init=True,iterations=398,time=0.07551002502441406,Constant(lr=0.01))\n",
      "Gradient Descent mse:1.1780866403203742 - mse_val:1.1207534544813074 (init=True,iterations=1000,time=0.1919999122619629,Decay(lr=0.01,b=0.1))\n",
      "Gradient Descent mse:1.1100608438455675 - mse_val:1.049099887468994 (init=True,iterations=1000,time=0.19002223014831543,Decay(lr=0.01,b=0.01))\n",
      "Gradient Descent mse:1.1099925852762529 - mse_val:1.0488434676598652 (init=True,iterations=404,time=0.07631206512451172,Decay(lr=0.01,b=0.0001))\n",
      "Gradient Descent mse:1.1099926982895978 - mse_val:1.0488458997729808 (init=True,iterations=427,time=0.08030200004577637,Decay(lr=0.01,b=0.0005))\n",
      "Gradient Descent mse:1.1099925629098448 - mse_val:1.0488429366610326 (init=True,iterations=394,time=0.07707381248474121,Momentum(lr=0.01,b=0.7))\n",
      "Gradient Descent mse:1.1099925571421387 - mse_val:1.0488427963891598 (init=True,iterations=394,time=0.07730507850646973,Momentum(lr=0.01,b=0.8))\n",
      "Gradient Descent mse:1.1099925608768086 - mse_val:1.0488428874041986 (init=True,iterations=393,time=0.07678103446960449,Momentum(lr=0.01,b=0.9))\n",
      "Gradient Descent mse:1.1099925551797796 - mse_val:1.0488427483595106 (init=True,iterations=393,time=0.07650518417358398,Momentum(lr=0.01,b=0.999))\n",
      "Gradient Descent mse:1.1183342052644223 - mse_val:1.0592056210711616 (init=True,iterations=1000,time=0.18796110153198242,Constant(lr=0.001))\n",
      "Gradient Descent mse:1.835804122420982 - mse_val:1.7897203907036334 (init=True,iterations=1000,time=0.18912482261657715,Decay(lr=0.001,b=0.1))\n",
      "Gradient Descent mse:1.3201613017244493 - mse_val:1.2643034523355834 (init=True,iterations=1000,time=0.18312883377075195,Decay(lr=0.001,b=0.01))\n",
      "Gradient Descent mse:1.1198379549377664 - mse_val:1.0608526159388323 (init=True,iterations=1000,time=0.18271994590759277,Decay(lr=0.001,b=0.0001))\n",
      "Gradient Descent mse:1.1264196622982876 - mse_val:1.0679000785719899 (init=True,iterations=1000,time=0.1828150749206543,Decay(lr=0.001,b=0.0005))\n",
      "Gradient Descent mse:1.118317234867736 - mse_val:1.0591886602575686 (init=True,iterations=1000,time=0.18552708625793457,Momentum(lr=0.001,b=0.7))\n",
      "Gradient Descent mse:1.118314810903615 - mse_val:1.059186236802251 (init=True,iterations=1000,time=0.18396520614624023,Momentum(lr=0.001,b=0.8))\n",
      "Gradient Descent mse:1.1183123870332206 - mse_val:1.0591838132246894 (init=True,iterations=1000,time=0.18343806266784668,Momentum(lr=0.001,b=0.9))\n",
      "Gradient Descent mse:1.1183099874935767 - mse_val:1.0591814137619076 (init=True,iterations=1000,time=0.18183112144470215,Momentum(lr=0.001,b=0.999))\n",
      "Gradient Descent mse:1.1662879520011364 - mse_val:1.1088090687377639 (init=True,iterations=1000,time=0.1743299961090088,Constant(lr=0.0005))\n",
      "Gradient Descent mse:1.961912740630204 - mse_val:1.9188385273397321 (init=True,iterations=1000,time=0.17660903930664062,Decay(lr=0.0005,b=0.1))\n",
      "Gradient Descent mse:1.5503147976288036 - mse_val:1.4981584572616646 (init=True,iterations=1000,time=0.17406725883483887,Decay(lr=0.0005,b=0.01))\n",
      "Gradient Descent mse:1.1724942995026577 - mse_val:1.1150919276117157 (init=True,iterations=1000,time=0.1757957935333252,Decay(lr=0.0005,b=0.0001))\n",
      "Gradient Descent mse:1.197105144358213 - mse_val:1.1399556272564595 (init=True,iterations=1000,time=0.17681193351745605,Decay(lr=0.0005,b=0.0005))\n",
      "Gradient Descent mse:1.16625953928497 - mse_val:1.1087830228681823 (init=True,iterations=1000,time=0.1814582347869873,Momentum(lr=0.0005,b=0.7))\n",
      "Gradient Descent mse:1.1662554755525116 - mse_val:1.1087792978347237 (init=True,iterations=1000,time=0.18230605125427246,Momentum(lr=0.0005,b=0.8))\n",
      "Gradient Descent mse:1.1662514106294897 - mse_val:1.1087755717554304 (init=True,iterations=1000,time=0.18150019645690918,Momentum(lr=0.0005,b=0.9))\n",
      "Gradient Descent mse:1.166247385183817 - mse_val:1.1087718819076837 (init=True,iterations=1000,time=0.1829986572265625,Momentum(lr=0.0005,b=0.999))\n",
      "Gradient Descent mse:1.6114066732035568 - mse_val:1.560442574557903 (init=True,iterations=1000,time=0.1752028465270996,Constant(lr=0.0001))\n",
      "Gradient Descent mse:2.089502951542857 - mse_val:2.049623510605943 (init=True,iterations=255,time=0.04564499855041504,Decay(lr=0.0001,b=0.1))\n",
      "Gradient Descent mse:1.9553244207280884 - mse_val:1.9120891315643358 (init=True,iterations=1000,time=0.1761462688446045,Decay(lr=0.0001,b=0.01))\n",
      "Gradient Descent mse:1.627357659123511 - mse_val:1.5767159026850108 (init=True,iterations=1000,time=0.17635083198547363,Decay(lr=0.0001,b=0.0001))\n",
      "Gradient Descent mse:1.679307820926522 - mse_val:1.6297447362522361 (init=True,iterations=1000,time=0.17854785919189453,Decay(lr=0.0001,b=0.0005))\n",
      "Gradient Descent mse:1.6115527262575524 - mse_val:1.5605914490460033 (init=True,iterations=1000,time=0.18314123153686523,Momentum(lr=0.0001,b=0.7))\n",
      "Gradient Descent mse:1.6115735956610209 - mse_val:1.560612721619495 (init=True,iterations=1000,time=0.18363499641418457,Momentum(lr=0.0001,b=0.8))\n",
      "Gradient Descent mse:1.6115944662350123 - mse_val:1.5606339953905155 (init=True,iterations=1000,time=0.18158912658691406,Momentum(lr=0.0001,b=0.9))\n",
      "Gradient Descent mse:1.6116151292563359 - mse_val:1.5606550576035025 (init=True,iterations=1000,time=0.18256831169128418,Momentum(lr=0.0001,b=0.999))\n",
      "Gradient Descent mse:2.112454303608231 - mse_val:2.073163563384382 (init=True,iterations=1,time=0.0003058910369873047,Constant(lr=1e-06))\n",
      "Gradient Descent mse:2.1124549579787515 - mse_val:2.0731642345963746 (init=True,iterations=1,time=0.0002880096435546875,Decay(lr=1e-06,b=0.1))\n",
      "Gradient Descent mse:2.1124543748762963 - mse_val:2.073163636486666 (init=True,iterations=1,time=0.0006659030914306641,Decay(lr=1e-06,b=0.01))\n",
      "Gradient Descent mse:2.112454304327966 - mse_val:2.073163564122641 (init=True,iterations=1,time=0.0004730224609375,Decay(lr=1e-06,b=0.0001))\n",
      "Gradient Descent mse:2.1124543072054696 - mse_val:2.0731635670742024 (init=True,iterations=1,time=0.00028896331787109375,Decay(lr=1e-06,b=0.0005))\n",
      "Gradient Descent mse:2.1124568229360157 - mse_val:2.0731661475518806 (init=True,iterations=1,time=0.0002999305725097656,Momentum(lr=1e-06,b=0.7))\n",
      "Gradient Descent mse:2.1124571828402674 - mse_val:2.0731665167189584 (init=True,iterations=1,time=0.0003459453582763672,Momentum(lr=1e-06,b=0.8))\n",
      "Gradient Descent mse:2.112457542744589 - mse_val:2.0731668858861094 (init=True,iterations=1,time=0.000347137451171875,Momentum(lr=1e-06,b=0.9))\n",
      "Gradient Descent mse:2.112457899049937 - mse_val:2.0731672513616615 (init=True,iterations=1,time=0.0003619194030761719,Momentum(lr=1e-06,b=0.999))\n",
      "Gradient Descent mse:2.112460781886657 - mse_val:2.0731702083937606 (init=True,iterations=1,time=0.00029015541076660156,Constant(lr=1e-07))\n",
      "Gradient Descent mse:2.1124608473239297 - mse_val:2.0731702755151886 (init=True,iterations=1,time=0.00031495094299316406,Decay(lr=1e-07,b=0.1))\n",
      "Gradient Descent mse:2.1124607890134888 - mse_val:2.0731702157040153 (init=True,iterations=1,time=0.0003478527069091797,Decay(lr=1e-07,b=0.01))\n",
      "Gradient Descent mse:2.112460781958631 - mse_val:2.073170208467587 (init=True,iterations=1,time=0.0003612041473388672,Decay(lr=1e-07,b=0.0001))\n",
      "Gradient Descent mse:2.1124607822463823 - mse_val:2.0731702087627446 (init=True,iterations=1,time=0.0003428459167480469,Decay(lr=1e-07,b=0.0005))\n",
      "Gradient Descent mse:2.1124610338201686 - mse_val:2.0731704668112707 (init=True,iterations=1,time=0.00037789344787597656,Momentum(lr=1e-07,b=0.7))\n",
      "Gradient Descent mse:2.112461069810673 - mse_val:2.0731705037280608 (init=True,iterations=1,time=0.0003039836883544922,Momentum(lr=1e-07,b=0.8))\n",
      "Gradient Descent mse:2.112461105801178 - mse_val:2.0731705406448517 (init=True,iterations=1,time=0.00029587745666503906,Momentum(lr=1e-07,b=0.9))\n",
      "Gradient Descent mse:2.1124611414317793 - mse_val:2.0731705771924758 (init=True,iterations=1,time=0.0002970695495605469,Momentum(lr=1e-07,b=0.999))\n",
      "Gradient Descent mse:1.1099925606348524 - mse_val:1.048817875540159 (init=False,iterations=220,time=0.039134979248046875,Constant(lr=0.01))\n",
      "Gradient Descent mse:1.178256396836186 - mse_val:1.1250315636741284 (init=False,iterations=1000,time=0.1753699779510498,Decay(lr=0.01,b=0.1))\n",
      "Gradient Descent mse:1.1605061549766793 - mse_val:1.105410753024935 (init=False,iterations=1000,time=0.17717623710632324,Decay(lr=0.01,b=0.01))\n"
     ]
    },
    {
     "name": "stdout",
     "output_type": "stream",
     "text": [
      "Gradient Descent mse:1.1099926115790502 - mse_val:1.0488440696150372 (init=False,iterations=403,time=0.08045196533203125,Decay(lr=0.01,b=0.0001))\n",
      "Gradient Descent mse:1.1099928990352146 - mse_val:1.0488495374404927 (init=False,iterations=511,time=0.09462499618530273,Decay(lr=0.01,b=0.0005))\n",
      "Gradient Descent mse:1.1099925623359779 - mse_val:1.0488429241956354 (init=False,iterations=357,time=0.06480789184570312,Momentum(lr=0.01,b=0.7))\n",
      "Gradient Descent mse:1.1099925586177746 - mse_val:1.0488428325996753 (init=False,iterations=403,time=0.07311201095581055,Momentum(lr=0.01,b=0.8))\n",
      "Gradient Descent mse:1.1099925521773564 - mse_val:1.0488180877123243 (init=False,iterations=230,time=0.04240918159484863,Momentum(lr=0.01,b=0.9))\n",
      "Gradient Descent mse:1.1099925544368956 - mse_val:1.0488175741444608 (init=False,iterations=334,time=0.06063389778137207,Momentum(lr=0.01,b=0.999))\n",
      "Gradient Descent mse:1.1200943107008958 - mse_val:1.0614796650998573 (init=False,iterations=1000,time=0.17545604705810547,Constant(lr=0.001))\n",
      "Gradient Descent mse:1.439977064963505 - mse_val:1.3910599376057293 (init=False,iterations=78,time=0.01342010498046875,Decay(lr=0.001,b=0.1))\n",
      "Gradient Descent mse:1.1418124717188967 - mse_val:1.0867955226669366 (init=False,iterations=1000,time=0.1721642017364502,Decay(lr=0.001,b=0.01))\n",
      "Gradient Descent mse:1.111778170657088 - mse_val:1.049513154594487 (init=False,iterations=1000,time=0.17518019676208496,Decay(lr=0.001,b=0.0001))\n",
      "Gradient Descent mse:1.130183354944057 - mse_val:1.073342231737519 (init=False,iterations=1000,time=0.17432594299316406,Decay(lr=0.001,b=0.0005))\n",
      "Gradient Descent mse:1.1100938576832409 - mse_val:1.048676068524541 (init=False,iterations=1000,time=0.1837470531463623,Momentum(lr=0.001,b=0.7))\n",
      "Gradient Descent mse:1.117522332154883 - mse_val:1.0586230471383566 (init=False,iterations=1000,time=0.17943811416625977,Momentum(lr=0.001,b=0.8))\n",
      "Gradient Descent mse:1.1100564120573582 - mse_val:1.0491193569595378 (init=False,iterations=1000,time=0.18129730224609375,Momentum(lr=0.001,b=0.9))\n",
      "Gradient Descent mse:1.1209558475943255 - mse_val:1.0624076112282836 (init=False,iterations=1000,time=0.1809840202331543,Momentum(lr=0.001,b=0.999))\n",
      "Gradient Descent mse:1.1108703392162147 - mse_val:1.0505538153896736 (init=False,iterations=1000,time=0.17541289329528809,Constant(lr=0.0005))\n",
      "Gradient Descent mse:1.563048383875537 - mse_val:1.5232366899777867 (init=False,iterations=1,time=0.000518798828125,Decay(lr=0.0005,b=0.1))\n",
      "Gradient Descent mse:1.3427672581484558 - mse_val:1.29793004586989 (init=False,iterations=1000,time=0.1738448143005371,Decay(lr=0.0005,b=0.01))\n",
      "Gradient Descent mse:1.2406939981447616 - mse_val:1.1901172448838315 (init=False,iterations=1000,time=0.17635369300842285,Decay(lr=0.0005,b=0.0001))\n",
      "Gradient Descent mse:1.180193545967353 - mse_val:1.1292695693332526 (init=False,iterations=1000,time=0.1747291088104248,Decay(lr=0.0005,b=0.0005))\n",
      "Gradient Descent mse:1.2107538407267235 - mse_val:1.1590821860799165 (init=False,iterations=1000,time=0.18172025680541992,Momentum(lr=0.0005,b=0.7))\n",
      "Gradient Descent mse:1.16981858025846 - mse_val:1.1151811874737672 (init=False,iterations=1000,time=0.18173575401306152,Momentum(lr=0.0005,b=0.8))\n",
      "Gradient Descent mse:1.1550511643409775 - mse_val:1.09856222347328 (init=False,iterations=1000,time=0.17979001998901367,Momentum(lr=0.0005,b=0.9))\n",
      "Gradient Descent mse:1.136644163463866 - mse_val:1.0780325656035552 (init=False,iterations=1000,time=0.17917585372924805,Momentum(lr=0.0005,b=0.999))\n",
      "Gradient Descent mse:1.3729704415434816 - mse_val:1.3356376536279586 (init=False,iterations=1000,time=0.17557930946350098,Constant(lr=0.0001))\n",
      "Gradient Descent mse:1.7356398507298327 - mse_val:1.7120359902509223 (init=False,iterations=1,time=0.0004189014434814453,Decay(lr=0.0001,b=0.1))\n",
      "Gradient Descent mse:1.6494518966503493 - mse_val:1.633087174066554 (init=False,iterations=953,time=0.16702699661254883,Decay(lr=0.0001,b=0.01))\n",
      "Gradient Descent mse:1.230099268936883 - mse_val:1.1669165638823855 (init=False,iterations=1000,time=0.177016019821167,Decay(lr=0.0001,b=0.0001))\n",
      "Gradient Descent mse:1.129543086074976 - mse_val:1.0679765713183258 (init=False,iterations=1000,time=0.1752910614013672,Decay(lr=0.0001,b=0.0005))\n",
      "Gradient Descent mse:1.4983117271776987 - mse_val:1.4451737554281245 (init=False,iterations=1000,time=0.18308687210083008,Momentum(lr=0.0001,b=0.7))\n",
      "Gradient Descent mse:1.2415319217624823 - mse_val:1.1892329898702694 (init=False,iterations=1000,time=0.17960810661315918,Momentum(lr=0.0001,b=0.8))\n",
      "Gradient Descent mse:1.2053912729510339 - mse_val:1.1399561948561336 (init=False,iterations=1000,time=0.1902790069580078,Momentum(lr=0.0001,b=0.9))\n",
      "Gradient Descent mse:1.3472235861502668 - mse_val:1.3060840920043992 (init=False,iterations=1000,time=0.18190693855285645,Momentum(lr=0.0001,b=0.999))\n",
      "Gradient Descent mse:1.1892032029095552 - mse_val:1.1313511198363375 (init=False,iterations=1,time=0.00035881996154785156,Constant(lr=1e-06))\n",
      "Gradient Descent mse:1.220678908020878 - mse_val:1.162947001767972 (init=False,iterations=1,time=0.0008320808410644531,Decay(lr=1e-06,b=0.1))\n",
      "Gradient Descent mse:1.2900527017693701 - mse_val:1.2338188467263471 (init=False,iterations=1,time=0.0007839202880859375,Decay(lr=1e-06,b=0.01))\n",
      "Gradient Descent mse:1.1340005314098658 - mse_val:1.0705217452924516 (init=False,iterations=1,time=0.0003590583801269531,Decay(lr=1e-06,b=0.0001))\n",
      "Gradient Descent mse:1.2512155801879101 - mse_val:1.1842836347543289 (init=False,iterations=1,time=0.00031113624572753906,Decay(lr=1e-06,b=0.0005))\n",
      "Gradient Descent mse:1.1596256518134949 - mse_val:1.1062630076809832 (init=False,iterations=1,time=0.0003039836883544922,Momentum(lr=1e-06,b=0.7))\n",
      "Gradient Descent mse:1.791592872863241 - mse_val:1.784894860760532 (init=False,iterations=1,time=0.0003819465637207031,Momentum(lr=1e-06,b=0.8))\n",
      "Gradient Descent mse:1.1961120676212105 - mse_val:1.146455620350327 (init=False,iterations=1,time=0.0002949237823486328,Momentum(lr=1e-06,b=0.9))\n",
      "Gradient Descent mse:1.8503582056083259 - mse_val:1.8413447761629473 (init=False,iterations=1,time=0.0002810955047607422,Momentum(lr=1e-06,b=0.999))\n",
      "Gradient Descent mse:1.6880845803004767 - mse_val:1.6751260989312489 (init=False,iterations=1,time=0.0002849102020263672,Constant(lr=1e-07))\n",
      "Gradient Descent mse:1.2557613326761075 - mse_val:1.1956627887712947 (init=False,iterations=1,time=0.00031495094299316406,Decay(lr=1e-07,b=0.1))\n",
      "Gradient Descent mse:1.4497152078909779 - mse_val:1.406957757499976 (init=False,iterations=1,time=0.0003628730773925781,Decay(lr=1e-07,b=0.01))\n",
      "Gradient Descent mse:1.2671765354711897 - mse_val:1.2128112355538676 (init=False,iterations=1,time=0.00036406517028808594,Decay(lr=1e-07,b=0.0001))\n",
      "Gradient Descent mse:1.1865767004455443 - mse_val:1.1240870990586143 (init=False,iterations=1,time=0.0002818107604980469,Decay(lr=1e-07,b=0.0005))\n",
      "Gradient Descent mse:1.6624170367791553 - mse_val:1.6437837057421116 (init=False,iterations=1,time=0.00030803680419921875,Momentum(lr=1e-07,b=0.7))\n",
      "Gradient Descent mse:1.122529400575907 - mse_val:1.06469986127981 (init=False,iterations=1,time=0.000308990478515625,Momentum(lr=1e-07,b=0.8))\n",
      "Gradient Descent mse:1.2270836012801551 - mse_val:1.161235805920859 (init=False,iterations=1,time=0.0003440380096435547,Momentum(lr=1e-07,b=0.9))\n",
      "Gradient Descent mse:1.197326617949075 - mse_val:1.1479463184640344 (init=False,iterations=1,time=0.0002980232238769531,Momentum(lr=1e-07,b=0.999))\n",
      "Best classifier achieved an error of 1.048676068524541\n",
      "Momentum(lr=0.001,b=0.7),error=1.8778450249420377e-05,step=1000\n"
     ]
    },
    {
     "data": {
      "image/png": "[encoded data removed]",
      "text/plain": [
       "<Figure size 432x288 with 1 Axes>"
      ]
     },
     "metadata": {
      "needs_background": "light"
     },
     "output_type": "display_data"
    }
   ],
   "source": [
    "data_model_9 = 'only_children'\n",
    "best_model_9, results_model_9 = model.train_model(data_model_9, init, learning_rates, momentum, decay)"
   ]
  },
  {
   "cell_type": "markdown",
   "metadata": {},
   "source": [
    "#### Model 10\n",
    "Training with features: \n",
    "3. children\n",
    "3. $children^2$"
   ]
  },
  {
   "cell_type": "code",
   "execution_count": 12,
   "metadata": {},
   "outputs": [
    {
     "name": "stdout",
     "output_type": "stream",
     "text": [
      "Closed-form mse:1.0607855201870686 - mse_val:1.0302247097972375 (time=0.0008990764617919922)\n",
      "Gradient Descent mse:nan - mse_val:nan (init=True,iterations=226,time=0.0467071533203125,Constant(lr=0.01))\n"
     ]
    },
    {
     "name": "stderr",
     "output_type": "stream",
     "text": [
      "/Users/cuent/Desktop/assignment1/linear_regression.py:76: RuntimeWarning: overflow encountered in multiply\n",
      "  dw = 2 * (X.T.dot(X).dot(self.w) - X.T.dot(y))\n"
     ]
    },
    {
     "name": "stdout",
     "output_type": "stream",
     "text": [
      "Gradient Descent mse:5.351929327046942e+64 - mse_val:5.629077429986799e+64 (init=True,iterations=1000,time=0.2042849063873291,Decay(lr=0.01,b=0.1))\n",
      "Gradient Descent mse:nan - mse_val:nan (init=True,iterations=330,time=0.0688779354095459,Decay(lr=0.01,b=0.01))\n",
      "Gradient Descent mse:nan - mse_val:nan (init=True,iterations=227,time=0.04840397834777832,Decay(lr=0.01,b=0.0001))\n",
      "Gradient Descent mse:nan - mse_val:nan (init=True,iterations=231,time=0.047875165939331055,Decay(lr=0.01,b=0.0005))\n",
      "Gradient Descent mse:nan - mse_val:nan (init=True,iterations=267,time=0.058074951171875,Momentum(lr=0.01,b=0.7))\n",
      "Gradient Descent mse:nan - mse_val:nan (init=True,iterations=277,time=0.0594789981842041,Momentum(lr=0.01,b=0.8))\n",
      "Gradient Descent mse:nan - mse_val:nan (init=True,iterations=289,time=0.06322216987609863,Momentum(lr=0.01,b=0.9))\n",
      "Gradient Descent mse:nan - mse_val:nan (init=True,iterations=303,time=0.06894803047180176,Momentum(lr=0.01,b=0.999))\n",
      "Gradient Descent mse:1.4704701077913617e+243 - mse_val:1.1180021400067035e+243 (init=True,iterations=1000,time=0.21226811408996582,Constant(lr=0.001))\n",
      "Gradient Descent mse:1.813166685366736 - mse_val:1.7434655970690935 (init=True,iterations=1000,time=0.20766067504882812,Decay(lr=0.001,b=0.1))\n",
      "Gradient Descent mse:1.3565613520727844 - mse_val:1.2971451444683322 (init=True,iterations=1000,time=0.2021939754486084,Decay(lr=0.001,b=0.01))\n",
      "Gradient Descent mse:2.4835691313106724e+167 - mse_val:1.8882638884991777e+167 (init=True,iterations=1000,time=0.20167875289916992,Decay(lr=0.001,b=0.0001))\n",
      "Gradient Descent mse:457.2503087990353 - mse_val:479.03217562037094 (init=True,iterations=1000,time=0.20151805877685547,Decay(lr=0.001,b=0.0005))\n",
      "Gradient Descent mse:1.0695377664250196 - mse_val:1.030350042063752 (init=True,iterations=1000,time=0.20351791381835938,Momentum(lr=0.001,b=0.7))\n",
      "Gradient Descent mse:1.0695328312519174 - mse_val:1.0303461942466758 (init=True,iterations=1000,time=0.20578289031982422,Momentum(lr=0.001,b=0.8))\n",
      "Gradient Descent mse:1.0695278962780126 - mse_val:1.030342347027057 (init=True,iterations=1000,time=0.20664405822753906,Momentum(lr=0.001,b=0.9))\n",
      "Gradient Descent mse:1.0695230108518647 - mse_val:1.0303385388699404 (init=True,iterations=1000,time=0.2063610553741455,Momentum(lr=0.001,b=0.999))\n",
      "Gradient Descent mse:1.1461637735597912 - mse_val:1.0967586243928877 (init=True,iterations=1000,time=0.19667506217956543,Constant(lr=0.0005))\n",
      "Gradient Descent mse:1.9010529973125543 - mse_val:1.8299935616420542 (init=True,iterations=998,time=0.19605708122253418,Decay(lr=0.0005,b=0.1))\n",
      "Gradient Descent mse:1.5870798403339987 - mse_val:1.5215871373920995 (init=True,iterations=1000,time=0.21245908737182617,Decay(lr=0.0005,b=0.01))\n",
      "Gradient Descent mse:1.1561818872012346 - mse_val:1.106040931470349 (init=True,iterations=1000,time=0.1967298984527588,Decay(lr=0.0005,b=0.0001))\n",
      "Gradient Descent mse:1.1944937406588747 - mse_val:1.1419343807173534 (init=True,iterations=1000,time=0.2089221477508545,Decay(lr=0.0005,b=0.0005))\n",
      "Gradient Descent mse:1.146135175566478 - mse_val:1.0967304368276432 (init=True,iterations=1000,time=0.23769187927246094,Momentum(lr=0.0005,b=0.7))\n",
      "Gradient Descent mse:1.1461310772524338 - mse_val:1.0967263979119357 (init=True,iterations=1000,time=0.22370004653930664,Momentum(lr=0.0005,b=0.8))\n",
      "Gradient Descent mse:1.1461269757137058 - mse_val:1.0967223559632153 (init=True,iterations=1000,time=0.22628021240234375,Momentum(lr=0.0005,b=0.9))\n",
      "Gradient Descent mse:1.146122912012883 - mse_val:1.0967183514453818 (init=True,iterations=1000,time=0.25046396255493164,Momentum(lr=0.0005,b=0.999))\n",
      "Gradient Descent mse:1.639505267917026 - mse_val:1.5729247060708889 (init=True,iterations=1000,time=0.21824908256530762,Constant(lr=0.0001))\n",
      "Gradient Descent mse:1.9855927691784372 - mse_val:1.9133787593743792 (init=True,iterations=202,time=0.04065084457397461,Decay(lr=0.0001,b=0.1))\n",
      "Gradient Descent mse:1.8965565877615824 - mse_val:1.8255636740424916 (init=True,iterations=1000,time=0.2749021053314209,Decay(lr=0.0001,b=0.01))\n",
      "Gradient Descent mse:1.6527693680866402 - mse_val:1.5859257995509808 (init=True,iterations=1000,time=0.22098517417907715,Decay(lr=0.0001,b=0.0001))\n",
      "Gradient Descent mse:1.694872261154923 - mse_val:1.6272235481443613 (init=True,iterations=1000,time=0.20578813552856445,Decay(lr=0.0001,b=0.0005))\n",
      "Gradient Descent mse:1.6396534727618193 - mse_val:1.5730698577521633 (init=True,iterations=1000,time=0.21068120002746582,Momentum(lr=0.0001,b=0.7))\n",
      "Gradient Descent mse:1.6396746493962389 - mse_val:1.5730905981800594 (init=True,iterations=1000,time=0.20773601531982422,Momentum(lr=0.0001,b=0.8))\n",
      "Gradient Descent mse:1.6396958271593218 - mse_val:1.5731113397265408 (init=True,iterations=1000,time=0.2055220603942871,Momentum(lr=0.0001,b=0.9))\n",
      "Gradient Descent mse:1.639716794256639 - mse_val:1.5731318749594954 (init=True,iterations=1000,time=0.20652198791503906,Momentum(lr=0.0001,b=0.999))\n",
      "Gradient Descent mse:2.017915198309986 - mse_val:1.9661864221062006 (init=True,iterations=368,time=0.07660603523254395,Constant(lr=1e-06))\n",
      "Gradient Descent mse:2.108257844992248 - mse_val:2.068845992328399 (init=True,iterations=13,time=0.0027959346771240234,Decay(lr=1e-06,b=0.1))\n",
      "Gradient Descent mse:2.0813941876230917 - mse_val:2.04063883263761 (init=True,iterations=98,time=0.019850969314575195,Decay(lr=1e-06,b=0.01))\n",
      "Gradient Descent mse:2.0194948899995087 - mse_val:1.9683328727616596 (init=True,iterations=359,time=0.07305192947387695,Decay(lr=1e-06,b=0.0001))\n",
      "Gradient Descent mse:2.02569066661659 - mse_val:1.9764861248799328 (init=True,iterations=325,time=0.06579995155334473,Decay(lr=1e-06,b=0.0005))\n",
      "Gradient Descent mse:2.0178285389569646 - mse_val:1.9660667537380494 (init=True,iterations=369,time=0.07635307312011719,Momentum(lr=1e-06,b=0.7))\n",
      "Gradient Descent mse:2.0178303577229975 - mse_val:1.9660691028303174 (init=True,iterations=369,time=0.07565426826477051,Momentum(lr=1e-06,b=0.8))\n",
      "Gradient Descent mse:2.017732927624282 - mse_val:1.9659354155423754 (init=True,iterations=370,time=0.07677483558654785,Momentum(lr=1e-06,b=0.9))\n",
      "Gradient Descent mse:2.0177346970732755 - mse_val:1.9659376998117406 (init=True,iterations=370,time=0.07751607894897461,Momentum(lr=1e-06,b=0.999))\n",
      "Gradient Descent mse:2.112408374046402 - mse_val:2.073116415378331 (init=True,iterations=1,time=0.0004000663757324219,Constant(lr=1e-07))\n",
      "Gradient Descent mse:2.1124132033267844 - mse_val:2.0731213723888575 (init=True,iterations=1,time=0.0004088878631591797,Decay(lr=1e-07,b=0.1))\n",
      "Gradient Descent mse:2.1124089000027206 - mse_val:2.0731169552470283 (init=True,iterations=1,time=0.0003979206085205078,Decay(lr=1e-07,b=0.01))\n",
      "Gradient Descent mse:2.1124083793580235 - mse_val:2.0731164208304556 (init=True,iterations=1,time=0.0004596710205078125,Decay(lr=1e-07,b=0.0001))\n",
      "Gradient Descent mse:2.112408400593894 - mse_val:2.0731164426280535 (init=True,iterations=1,time=0.00041103363037109375,Decay(lr=1e-07,b=0.0005))\n",
      "Gradient Descent mse:2.1124269673310994 - mse_val:2.0731355002913485 (init=True,iterations=1,time=0.0004279613494873047,Momentum(lr=1e-07,b=0.7))\n",
      "Gradient Descent mse:2.112429623637084 - mse_val:2.0731382268006735 (init=True,iterations=1,time=0.00042128562927246094,Momentum(lr=1e-07,b=0.8))\n",
      "Gradient Descent mse:2.1124322799736817 - mse_val:2.0731409533332945 (init=True,iterations=1,time=0.0005381107330322266,Momentum(lr=1e-07,b=0.9))\n",
      "Gradient Descent mse:2.11243490977707 - mse_val:2.073143652623536 (init=True,iterations=1,time=0.0004208087921142578,Momentum(lr=1e-07,b=0.999))\n",
      "Gradient Descent mse:nan - mse_val:nan (init=False,iterations=225,time=0.045179128646850586,Constant(lr=0.01))\n",
      "Gradient Descent mse:1.1241855983916937 - mse_val:1.0714180036947296 (init=False,iterations=1000,time=0.20212197303771973,Decay(lr=0.01,b=0.1))\n",
      "Gradient Descent mse:inf - mse_val:inf (init=False,iterations=1000,time=0.20353031158447266,Decay(lr=0.01,b=0.01))\n",
      "Gradient Descent mse:nan - mse_val:nan (init=False,iterations=228,time=0.04876589775085449,Decay(lr=0.01,b=0.0001))\n",
      "Gradient Descent mse:nan - mse_val:nan (init=False,iterations=238,time=0.0472869873046875,Decay(lr=0.01,b=0.0005))\n",
      "Gradient Descent mse:nan - mse_val:nan (init=False,iterations=1,time=0.0004940032958984375,Momentum(lr=0.01,b=0.7))\n",
      "Gradient Descent mse:nan - mse_val:nan (init=False,iterations=1,time=0.00043582916259765625,Momentum(lr=0.01,b=0.8))\n",
      "Gradient Descent mse:nan - mse_val:nan (init=False,iterations=1,time=0.0004031658172607422,Momentum(lr=0.01,b=0.9))\n",
      "Gradient Descent mse:nan - mse_val:nan (init=False,iterations=1,time=0.0004239082336425781,Momentum(lr=0.01,b=0.999))\n"
     ]
    },
    {
     "name": "stdout",
     "output_type": "stream",
     "text": [
      "Gradient Descent mse:1.4179322923537678e+247 - mse_val:1.0780575061244612e+247 (init=False,iterations=1000,time=0.22870182991027832,Constant(lr=0.001))\n",
      "Gradient Descent mse:1.1336393944204055 - mse_val:1.1098588086426247 (init=False,iterations=335,time=0.080078125,Decay(lr=0.001,b=0.1))\n",
      "Gradient Descent mse:1.0921667455784092 - mse_val:1.0739204701681766 (init=False,iterations=1000,time=0.28327488899230957,Decay(lr=0.001,b=0.01))\n",
      "Gradient Descent mse:9.160655897249051e+20 - mse_val:6.964869834982723e+20 (init=False,iterations=1000,time=0.256986141204834,Decay(lr=0.001,b=0.0001))\n",
      "Gradient Descent mse:1.0754686573863546 - mse_val:1.0450828440532374 (init=False,iterations=1000,time=0.22535920143127441,Decay(lr=0.001,b=0.0005))\n",
      "Gradient Descent mse:1.0657486386810187 - mse_val:1.0321407156198201 (init=False,iterations=1000,time=0.21576309204101562,Momentum(lr=0.001,b=0.7))\n",
      "Gradient Descent mse:1.0625746186407232 - mse_val:1.0323824955953544 (init=False,iterations=1000,time=0.21057391166687012,Momentum(lr=0.001,b=0.8))\n",
      "Gradient Descent mse:1.0616016861086168 - mse_val:1.0340341954815297 (init=False,iterations=1000,time=0.2284691333770752,Momentum(lr=0.001,b=0.9))\n",
      "Gradient Descent mse:1.0630909076992818 - mse_val:1.028378896996866 (init=False,iterations=1000,time=0.21629595756530762,Momentum(lr=0.001,b=0.999))\n",
      "Gradient Descent mse:1.0834371661197664 - mse_val:1.0390792483865638 (init=False,iterations=1000,time=0.2058267593383789,Constant(lr=0.0005))\n",
      "Gradient Descent mse:1.088417164443048 - mse_val:1.0626871753995144 (init=False,iterations=712,time=0.14402008056640625,Decay(lr=0.0005,b=0.1))\n",
      "Gradient Descent mse:1.211905883761994 - mse_val:1.136090525343926 (init=False,iterations=1000,time=0.2009449005126953,Decay(lr=0.0005,b=0.01))\n",
      "Gradient Descent mse:1.0742464399061589 - mse_val:1.0494730944986208 (init=False,iterations=1000,time=0.20152878761291504,Decay(lr=0.0005,b=0.0001))\n",
      "Gradient Descent mse:1.1441291603716734 - mse_val:1.1105671777790627 (init=False,iterations=1000,time=0.19969892501831055,Decay(lr=0.0005,b=0.0005))\n",
      "Gradient Descent mse:1.098503449318437 - mse_val:1.058174539709476 (init=False,iterations=1000,time=0.20606589317321777,Momentum(lr=0.0005,b=0.7))\n",
      "Gradient Descent mse:1.0759876658165972 - mse_val:1.059875704644397 (init=False,iterations=1000,time=0.22127008438110352,Momentum(lr=0.0005,b=0.8))\n",
      "Gradient Descent mse:1.1124229098954568 - mse_val:1.053916576793928 (init=False,iterations=1000,time=0.21133017539978027,Momentum(lr=0.0005,b=0.9))\n",
      "Gradient Descent mse:1.0750140819696246 - mse_val:1.0615065827707275 (init=False,iterations=1000,time=0.20607304573059082,Momentum(lr=0.0005,b=0.999))\n",
      "Gradient Descent mse:1.129046394013651 - mse_val:1.084636983641064 (init=False,iterations=1000,time=0.19452595710754395,Constant(lr=0.0001))\n",
      "Gradient Descent mse:1.4359074263612657 - mse_val:1.3767010609704484 (init=False,iterations=1000,time=0.19899916648864746,Decay(lr=0.0001,b=0.1))\n",
      "Gradient Descent mse:1.080279251870731 - mse_val:1.0347274281677705 (init=False,iterations=404,time=0.07955718040466309,Decay(lr=0.0001,b=0.01))\n",
      "Gradient Descent mse:1.1211596849759815 - mse_val:1.0617700397238081 (init=False,iterations=1000,time=0.20079493522644043,Decay(lr=0.0001,b=0.0001))\n",
      "Gradient Descent mse:1.068801385041249 - mse_val:1.0283469809026442 (init=False,iterations=55,time=0.010996103286743164,Decay(lr=0.0001,b=0.0005))\n",
      "Gradient Descent mse:1.0729196759390343 - mse_val:1.0349147088764352 (init=False,iterations=1000,time=0.2067110538482666,Momentum(lr=0.0001,b=0.7))\n",
      "Gradient Descent mse:1.0996081423913313 - mse_val:1.045735761375905 (init=False,iterations=1000,time=0.21078705787658691,Momentum(lr=0.0001,b=0.8))\n",
      "Gradient Descent mse:1.0862783259025433 - mse_val:1.0787668693309829 (init=False,iterations=1000,time=0.20557880401611328,Momentum(lr=0.0001,b=0.9))\n",
      "Gradient Descent mse:1.1213210984953768 - mse_val:1.1266182086092196 (init=False,iterations=1000,time=0.21056604385375977,Momentum(lr=0.0001,b=0.999))\n",
      "Gradient Descent mse:2.4564502180548717 - mse_val:2.323683305133398 (init=False,iterations=1000,time=0.20471906661987305,Constant(lr=1e-06))\n",
      "Gradient Descent mse:520.6641416263535 - mse_val:393.33127488492124 (init=False,iterations=1000,time=0.20258092880249023,Decay(lr=1e-06,b=0.1))\n",
      "Gradient Descent mse:150.64354286247405 - mse_val:116.71184634475124 (init=False,iterations=1000,time=0.2001500129699707,Decay(lr=1e-06,b=0.01))\n",
      "Gradient Descent mse:12.37446223351174 - mse_val:10.081899287709039 (init=False,iterations=1000,time=0.20276522636413574,Decay(lr=1e-06,b=0.0001))\n",
      "Gradient Descent mse:26.986519695959945 - mse_val:20.720844729167315 (init=False,iterations=1000,time=0.2014451026916504,Decay(lr=1e-06,b=0.0005))\n",
      "Gradient Descent mse:1.4420504769307276 - mse_val:1.4601110413873308 (init=False,iterations=1000,time=0.2113659381866455,Momentum(lr=1e-06,b=0.7))\n",
      "Gradient Descent mse:9.326559838262671 - mse_val:7.541094322103115 (init=False,iterations=1000,time=0.21368980407714844,Momentum(lr=1e-06,b=0.8))\n",
      "Gradient Descent mse:3.277066849141743 - mse_val:2.8011264219011074 (init=False,iterations=1000,time=0.21408486366271973,Momentum(lr=1e-06,b=0.9))\n",
      "Gradient Descent mse:10.88182691143941 - mse_val:8.834475758888217 (init=False,iterations=1000,time=0.20941901206970215,Momentum(lr=1e-06,b=0.999))\n",
      "Gradient Descent mse:59.14394996568081 - mse_val:43.982688842974945 (init=False,iterations=1000,time=0.20357108116149902,Constant(lr=1e-07))\n",
      "Gradient Descent mse:842.7305530770216 - mse_val:644.5225617081275 (init=False,iterations=187,time=0.040441036224365234,Decay(lr=1e-07,b=0.1))\n",
      "Gradient Descent mse:7.496602186604297 - mse_val:6.2552979943729445 (init=False,iterations=70,time=0.01420283317565918,Decay(lr=1e-07,b=0.01))\n",
      "Gradient Descent mse:150.06011021189457 - mse_val:113.26408957656807 (init=False,iterations=1000,time=0.20333003997802734,Decay(lr=1e-07,b=0.0001))\n",
      "Gradient Descent mse:334.88261422347796 - mse_val:256.9621337562585 (init=False,iterations=1000,time=0.20849823951721191,Decay(lr=1e-07,b=0.0005))\n",
      "Gradient Descent mse:176.847147236722 - mse_val:134.96522468367186 (init=False,iterations=1000,time=0.20893120765686035,Momentum(lr=1e-07,b=0.7))\n",
      "Gradient Descent mse:53.85149544923641 - mse_val:41.89275134185629 (init=False,iterations=1000,time=0.2185969352722168,Momentum(lr=1e-07,b=0.8))\n",
      "Gradient Descent mse:310.20325505563727 - mse_val:235.04346539091617 (init=False,iterations=1000,time=0.2166752815246582,Momentum(lr=1e-07,b=0.9))\n",
      "Gradient Descent mse:327.4936989545357 - mse_val:250.97900747220615 (init=False,iterations=1000,time=0.2083570957183838,Momentum(lr=1e-07,b=0.999))\n",
      "Best classifier achieved an error of 1.0283469809026442\n",
      "Decay(lr=0.0001,b=0.0005),error=9.913404892562311e-06,step=55\n"
     ]
    },
    {
     "data": {
      "image/png": "[encoded data removed]",
      "text/plain": [
       "<Figure size 432x288 with 1 Axes>"
      ]
     },
     "metadata": {
      "needs_background": "light"
     },
     "output_type": "display_data"
    }
   ],
   "source": [
    "data_model_10 = 'only_children_square'\n",
    "best_model_10, results_model_10 = model.train_model(data_model_10, init, learning_rates, momentum, decay)"
   ]
  },
  {
   "cell_type": "markdown",
   "metadata": {},
   "source": [
    "#### Model 11\n",
    "Training with features: \n",
    "3. children\n",
    "3. $children^2$\n",
    "3. $children^3$"
   ]
  },
  {
   "cell_type": "code",
   "execution_count": 13,
   "metadata": {},
   "outputs": [
    {
     "name": "stdout",
     "output_type": "stream",
     "text": [
      "Closed-form mse:1.060598405150038 - mse_val:1.0308730352748043 (time=0.000476837158203125)\n",
      "Gradient Descent mse:nan - mse_val:nan (init=True,iterations=69,time=0.013731241226196289,Constant(lr=0.01))\n",
      "Gradient Descent mse:nan - mse_val:nan (init=True,iterations=80,time=0.010547876358032227,Decay(lr=0.01,b=0.1))\n",
      "Gradient Descent mse:nan - mse_val:nan (init=True,iterations=71,time=0.009134292602539062,Decay(lr=0.01,b=0.01))\n",
      "Gradient Descent mse:nan - mse_val:nan (init=True,iterations=69,time=0.008980989456176758,Decay(lr=0.01,b=0.0001))\n",
      "Gradient Descent mse:nan - mse_val:nan (init=True,iterations=69,time=0.011119842529296875,Decay(lr=0.01,b=0.0005))\n",
      "Gradient Descent mse:nan - mse_val:nan (init=True,iterations=72,time=0.01007986068725586,Momentum(lr=0.01,b=0.7))\n",
      "Gradient Descent mse:nan - mse_val:nan (init=True,iterations=72,time=0.010540962219238281,Momentum(lr=0.01,b=0.8))\n",
      "Gradient Descent mse:nan - mse_val:nan (init=True,iterations=73,time=0.00972294807434082,Momentum(lr=0.01,b=0.9))\n",
      "Gradient Descent mse:nan - mse_val:nan (init=True,iterations=74,time=0.00993490219116211,Momentum(lr=0.01,b=0.999))\n",
      "Gradient Descent mse:nan - mse_val:nan (init=True,iterations=88,time=0.011764049530029297,Constant(lr=0.001))\n",
      "Gradient Descent mse:nan - mse_val:nan (init=True,iterations=112,time=0.014184951782226562,Decay(lr=0.001,b=0.1))\n",
      "Gradient Descent mse:nan - mse_val:nan (init=True,iterations=92,time=0.016083955764770508,Decay(lr=0.001,b=0.01))\n",
      "Gradient Descent mse:nan - mse_val:nan (init=True,iterations=88,time=0.014944076538085938,Decay(lr=0.001,b=0.0001))\n",
      "Gradient Descent mse:nan - mse_val:nan (init=True,iterations=89,time=0.011736154556274414,Decay(lr=0.001,b=0.0005))\n",
      "Gradient Descent mse:nan - mse_val:nan (init=True,iterations=93,time=0.012544870376586914,Momentum(lr=0.001,b=0.7))\n",
      "Gradient Descent mse:nan - mse_val:nan (init=True,iterations=94,time=0.014162063598632812,Momentum(lr=0.001,b=0.8))\n",
      "Gradient Descent mse:nan - mse_val:nan (init=True,iterations=95,time=0.014761924743652344,Momentum(lr=0.001,b=0.9))\n",
      "Gradient Descent mse:nan - mse_val:nan (init=True,iterations=97,time=0.013309001922607422,Momentum(lr=0.001,b=0.999))\n",
      "Gradient Descent mse:nan - mse_val:nan (init=True,iterations=97,time=0.012508869171142578,Constant(lr=0.0005))\n",
      "Gradient Descent mse:nan - mse_val:nan (init=True,iterations=129,time=0.016208171844482422,Decay(lr=0.0005,b=0.1))\n",
      "Gradient Descent mse:nan - mse_val:nan (init=True,iterations=102,time=0.012889862060546875,Decay(lr=0.0005,b=0.01))\n",
      "Gradient Descent mse:nan - mse_val:nan (init=True,iterations=97,time=0.01544332504272461,Decay(lr=0.0005,b=0.0001))\n",
      "Gradient Descent mse:nan - mse_val:nan (init=True,iterations=97,time=0.013536214828491211,Decay(lr=0.0005,b=0.0005))\n",
      "Gradient Descent mse:nan - mse_val:nan (init=True,iterations=103,time=0.015449047088623047,Momentum(lr=0.0005,b=0.7))\n",
      "Gradient Descent mse:nan - mse_val:nan (init=True,iterations=104,time=0.014291048049926758,Momentum(lr=0.0005,b=0.8))\n",
      "Gradient Descent mse:nan - mse_val:nan (init=True,iterations=105,time=0.01543879508972168,Momentum(lr=0.0005,b=0.9))\n",
      "Gradient Descent mse:nan - mse_val:nan (init=True,iterations=107,time=0.01505589485168457,Momentum(lr=0.0005,b=0.999))\n",
      "Gradient Descent mse:nan - mse_val:nan (init=True,iterations=124,time=0.019659996032714844,Constant(lr=0.0001))\n",
      "Gradient Descent mse:nan - mse_val:nan (init=True,iterations=203,time=0.025737285614013672,Decay(lr=0.0001,b=0.1))\n",
      "Gradient Descent mse:nan - mse_val:nan (init=True,iterations=135,time=0.01753091812133789,Decay(lr=0.0001,b=0.01))\n",
      "Gradient Descent mse:nan - mse_val:nan (init=True,iterations=124,time=0.016884803771972656,Decay(lr=0.0001,b=0.0001))\n",
      "Gradient Descent mse:nan - mse_val:nan (init=True,iterations=124,time=0.0157778263092041,Decay(lr=0.0001,b=0.0005))\n",
      "Gradient Descent mse:nan - mse_val:nan (init=True,iterations=134,time=0.018909215927124023,Momentum(lr=0.0001,b=0.7))\n",
      "Gradient Descent mse:nan - mse_val:nan (init=True,iterations=136,time=0.018599987030029297,Momentum(lr=0.0001,b=0.8))\n",
      "Gradient Descent mse:nan - mse_val:nan (init=True,iterations=138,time=0.019109010696411133,Momentum(lr=0.0001,b=0.9))\n",
      "Gradient Descent mse:nan - mse_val:nan (init=True,iterations=141,time=0.021130084991455078,Momentum(lr=0.0001,b=0.999))\n",
      "Gradient Descent mse:inf - mse_val:inf (init=True,iterations=1000,time=0.13457894325256348,Constant(lr=1e-06))\n",
      "Gradient Descent mse:2.0578923009187213 - mse_val:2.0004319677729754 (init=True,iterations=14,time=0.0019969940185546875,Decay(lr=1e-06,b=0.1))\n",
      "Gradient Descent mse:2.054139309702684 - mse_val:1.9959057564556775 (init=True,iterations=101,time=0.012958049774169922,Decay(lr=1e-06,b=0.01))\n",
      "Gradient Descent mse:inf - mse_val:inf (init=True,iterations=1000,time=0.12882709503173828,Decay(lr=1e-06,b=0.0001))\n",
      "Gradient Descent mse:3.3088242872860496e+273 - mse_val:1.6509687122527018e+273 (init=True,iterations=1000,time=0.12759089469909668,Decay(lr=1e-06,b=0.0005))\n",
      "Gradient Descent mse:2.058149914844706 - mse_val:2.000377222512033 (init=True,iterations=5,time=0.0009050369262695312,Momentum(lr=1e-06,b=0.7))\n",
      "Gradient Descent mse:2.0581753967861833 - mse_val:1.9996687676021292 (init=True,iterations=5,time=0.0009472370147705078,Momentum(lr=1e-06,b=0.8))\n",
      "Gradient Descent mse:2.057922776871498 - mse_val:1.9997346559093823 (init=True,iterations=9,time=0.0014641284942626953,Momentum(lr=1e-06,b=0.9))\n",
      "Gradient Descent mse:2.0722518107026646 - mse_val:1.9846255853312527 (init=True,iterations=2,time=0.0005507469177246094,Momentum(lr=1e-06,b=0.999))\n",
      "Gradient Descent mse:2.059181340991801 - mse_val:2.0066810985159402 (init=True,iterations=6,time=0.0014429092407226562,Constant(lr=1e-07))\n",
      "Gradient Descent mse:2.0609897456724093 - mse_val:2.012020763044648 (init=True,iterations=6,time=0.0011889934539794922,Decay(lr=1e-07,b=0.1))\n",
      "Gradient Descent mse:2.0593289152996714 - mse_val:2.0072392364961993 (init=True,iterations=6,time=0.0011980533599853516,Decay(lr=1e-07,b=0.01))\n",
      "Gradient Descent mse:2.0591827684125703 - mse_val:2.006686697075873 (init=True,iterations=6,time=0.0009999275207519531,Decay(lr=1e-07,b=0.0001))\n",
      "Gradient Descent mse:2.059188488108072 - mse_val:2.0067090881553105 (init=True,iterations=6,time=0.0010449886322021484,Decay(lr=1e-07,b=0.0005))\n",
      "Gradient Descent mse:2.0584911009786575 - mse_val:2.0028783261269925 (init=True,iterations=7,time=0.0012009143829345703,Momentum(lr=1e-07,b=0.7))\n",
      "Gradient Descent mse:2.0584582152784767 - mse_val:2.0025259854902515 (init=True,iterations=7,time=0.0014328956604003906,Momentum(lr=1e-07,b=0.8))\n",
      "Gradient Descent mse:2.0584296861219387 - mse_val:2.0021541815437964 (init=True,iterations=7,time=0.0012369155883789062,Momentum(lr=1e-07,b=0.9))\n",
      "Gradient Descent mse:2.058378684607497 - mse_val:2.000355891289678 (init=True,iterations=8,time=0.0012810230255126953,Momentum(lr=1e-07,b=0.999))\n",
      "Gradient Descent mse:nan - mse_val:nan (init=False,iterations=68,time=0.009137153625488281,Constant(lr=0.01))\n",
      "Gradient Descent mse:nan - mse_val:nan (init=False,iterations=91,time=0.012181997299194336,Decay(lr=0.01,b=0.1))\n",
      "Gradient Descent mse:nan - mse_val:nan (init=False,iterations=73,time=0.010785102844238281,Decay(lr=0.01,b=0.01))\n",
      "Gradient Descent mse:nan - mse_val:nan (init=False,iterations=68,time=0.009448766708374023,Decay(lr=0.01,b=0.0001))\n",
      "Gradient Descent mse:nan - mse_val:nan (init=False,iterations=69,time=0.010154962539672852,Decay(lr=0.01,b=0.0005))\n",
      "Gradient Descent mse:nan - mse_val:nan (init=False,iterations=1,time=0.0004029273986816406,Momentum(lr=0.01,b=0.7))\n",
      "Gradient Descent mse:nan - mse_val:nan (init=False,iterations=1,time=0.00040078163146972656,Momentum(lr=0.01,b=0.8))\n",
      "Gradient Descent mse:nan - mse_val:nan (init=False,iterations=1,time=0.0003447532653808594,Momentum(lr=0.01,b=0.9))\n",
      "Gradient Descent mse:nan - mse_val:nan (init=False,iterations=1,time=0.001004934310913086,Momentum(lr=0.01,b=0.999))\n",
      "Gradient Descent mse:nan - mse_val:nan (init=False,iterations=87,time=0.012538909912109375,Constant(lr=0.001))\n",
      "Gradient Descent mse:nan - mse_val:nan (init=False,iterations=137,time=0.01844191551208496,Decay(lr=0.001,b=0.1))\n",
      "Gradient Descent mse:nan - mse_val:nan (init=False,iterations=98,time=0.012480974197387695,Decay(lr=0.001,b=0.01))\n",
      "Gradient Descent mse:nan - mse_val:nan (init=False,iterations=88,time=0.011579036712646484,Decay(lr=0.001,b=0.0001))\n",
      "Gradient Descent mse:nan - mse_val:nan (init=False,iterations=88,time=0.01098179817199707,Decay(lr=0.001,b=0.0005))\n",
      "Gradient Descent mse:nan - mse_val:nan (init=False,iterations=1,time=0.000354766845703125,Momentum(lr=0.001,b=0.7))\n",
      "Gradient Descent mse:nan - mse_val:nan (init=False,iterations=1,time=0.00034117698669433594,Momentum(lr=0.001,b=0.8))\n",
      "Gradient Descent mse:nan - mse_val:nan (init=False,iterations=1,time=0.0003578662872314453,Momentum(lr=0.001,b=0.9))\n",
      "Gradient Descent mse:nan - mse_val:nan (init=False,iterations=1,time=0.00039386749267578125,Momentum(lr=0.001,b=0.999))\n",
      "Gradient Descent mse:nan - mse_val:nan (init=False,iterations=95,time=0.011766195297241211,Constant(lr=0.0005))\n",
      "Gradient Descent mse:nan - mse_val:nan (init=False,iterations=164,time=0.02015209197998047,Decay(lr=0.0005,b=0.1))\n",
      "Gradient Descent mse:nan - mse_val:nan (init=False,iterations=109,time=0.016140222549438477,Decay(lr=0.0005,b=0.01))\n"
     ]
    },
    {
     "name": "stdout",
     "output_type": "stream",
     "text": [
      "Gradient Descent mse:nan - mse_val:nan (init=False,iterations=96,time=0.01323390007019043,Decay(lr=0.0005,b=0.0001))\n",
      "Gradient Descent mse:nan - mse_val:nan (init=False,iterations=97,time=0.012593269348144531,Decay(lr=0.0005,b=0.0005))\n",
      "Gradient Descent mse:nan - mse_val:nan (init=False,iterations=1,time=0.0004668235778808594,Momentum(lr=0.0005,b=0.7))\n",
      "Gradient Descent mse:nan - mse_val:nan (init=False,iterations=1,time=0.0003483295440673828,Momentum(lr=0.0005,b=0.8))\n",
      "Gradient Descent mse:nan - mse_val:nan (init=False,iterations=1,time=0.0005528926849365234,Momentum(lr=0.0005,b=0.9))\n",
      "Gradient Descent mse:nan - mse_val:nan (init=False,iterations=1,time=0.00044798851013183594,Momentum(lr=0.0005,b=0.999))\n",
      "Gradient Descent mse:nan - mse_val:nan (init=False,iterations=123,time=0.01539301872253418,Constant(lr=0.0001))\n",
      "Gradient Descent mse:nan - mse_val:nan (init=False,iterations=362,time=0.047477006912231445,Decay(lr=0.0001,b=0.1))\n",
      "Gradient Descent mse:nan - mse_val:nan (init=False,iterations=152,time=0.020830869674682617,Decay(lr=0.0001,b=0.01))\n",
      "Gradient Descent mse:nan - mse_val:nan (init=False,iterations=123,time=0.01714301109313965,Decay(lr=0.0001,b=0.0001))\n",
      "Gradient Descent mse:nan - mse_val:nan (init=False,iterations=124,time=0.015598773956298828,Decay(lr=0.0001,b=0.0005))\n",
      "Gradient Descent mse:nan - mse_val:nan (init=False,iterations=1,time=0.0003650188446044922,Momentum(lr=0.0001,b=0.7))\n",
      "Gradient Descent mse:nan - mse_val:nan (init=False,iterations=1,time=0.0007300376892089844,Momentum(lr=0.0001,b=0.8))\n",
      "Gradient Descent mse:nan - mse_val:nan (init=False,iterations=1,time=0.0005497932434082031,Momentum(lr=0.0001,b=0.9))\n",
      "Gradient Descent mse:nan - mse_val:nan (init=False,iterations=1,time=0.0004239082336425781,Momentum(lr=0.0001,b=0.999))\n",
      "Gradient Descent mse:inf - mse_val:inf (init=False,iterations=1000,time=0.131148099899292,Constant(lr=1e-06))\n",
      "Gradient Descent mse:66.87283425993601 - mse_val:63.370384303795426 (init=False,iterations=112,time=0.0159149169921875,Decay(lr=1e-06,b=0.1))\n",
      "Gradient Descent mse:45.648680855631326 - mse_val:43.2747796126651 (init=False,iterations=911,time=0.12055706977844238,Decay(lr=1e-06,b=0.01))\n",
      "Gradient Descent mse:inf - mse_val:inf (init=False,iterations=1000,time=0.13160395622253418,Decay(lr=1e-06,b=0.0001))\n",
      "Gradient Descent mse:1.6546446798592283 - mse_val:1.6389269288714317 (init=False,iterations=158,time=0.020837068557739258,Decay(lr=1e-06,b=0.0005))\n",
      "Gradient Descent mse:2.2643476190172254 - mse_val:2.230813543527687 (init=False,iterations=1000,time=0.13318991661071777,Momentum(lr=1e-06,b=0.7))\n",
      "Gradient Descent mse:5.601763926932512 - mse_val:5.457260349280257 (init=False,iterations=1000,time=0.1316828727722168,Momentum(lr=1e-06,b=0.8))\n",
      "Gradient Descent mse:13.720706157515236 - mse_val:12.900845766227011 (init=False,iterations=1000,time=0.13157296180725098,Momentum(lr=1e-06,b=0.9))\n",
      "Gradient Descent mse:3.651795330577476 - mse_val:3.505258778346251 (init=False,iterations=1000,time=0.13425421714782715,Momentum(lr=1e-06,b=0.999))\n",
      "Gradient Descent mse:7.6716522629026 - mse_val:7.217931794760662 (init=False,iterations=30,time=0.004227161407470703,Constant(lr=1e-07))\n",
      "Gradient Descent mse:37.84912154000239 - mse_val:39.84155998586108 (init=False,iterations=153,time=0.021309852600097656,Decay(lr=1e-07,b=0.1))\n",
      "Gradient Descent mse:18.79917741744522 - mse_val:18.105557825749525 (init=False,iterations=30,time=0.003949165344238281,Decay(lr=1e-07,b=0.01))\n",
      "Gradient Descent mse:4.149513157516965 - mse_val:3.9276873122283122 (init=False,iterations=28,time=0.0036537647247314453,Decay(lr=1e-07,b=0.0001))\n",
      "Gradient Descent mse:35.447181336907505 - mse_val:33.04288189284148 (init=False,iterations=30,time=0.0052378177642822266,Decay(lr=1e-07,b=0.0005))\n",
      "Gradient Descent mse:2.2256190873362622 - mse_val:1.6833619188024245 (init=False,iterations=12,time=0.0018038749694824219,Momentum(lr=1e-07,b=0.7))\n",
      "Gradient Descent mse:41.97776262655038 - mse_val:39.73612763636032 (init=False,iterations=1000,time=0.12909579277038574,Momentum(lr=1e-07,b=0.8))\n",
      "Gradient Descent mse:2.443350431656496 - mse_val:2.5261692878240423 (init=False,iterations=22,time=0.0031287670135498047,Momentum(lr=1e-07,b=0.9))\n",
      "Gradient Descent mse:19.116699792409655 - mse_val:19.247512925405502 (init=False,iterations=21,time=0.0029370784759521484,Momentum(lr=1e-07,b=0.999))\n",
      "Best classifier achieved an error of 1.0308730352748043\n",
      "<linear_regression.LinearRegressionMSE object at 0x11dd83cc0>\n"
     ]
    }
   ],
   "source": [
    "data_model_11 = 'only_cube'\n",
    "best_model_11, results_model_11 = model.train_model(data_model_11, init, learning_rates, momentum, decay)"
   ]
  },
  {
   "cell_type": "markdown",
   "metadata": {},
   "source": [
    "#### Model 12\n",
    "Training with features: \n",
    "3. children\n",
    "3. $children^2$\n",
    "3. $children^3$\n",
    "3. $children^4$"
   ]
  },
  {
   "cell_type": "code",
   "execution_count": 14,
   "metadata": {},
   "outputs": [
    {
     "name": "stdout",
     "output_type": "stream",
     "text": [
      "Closed-form mse:1.055919367962343 - mse_val:1.0347374499986521 (time=0.00048828125)\n",
      "Gradient Descent mse:nan - mse_val:nan (init=True,iterations=41,time=0.009683847427368164,Constant(lr=0.01))\n",
      "Gradient Descent mse:nan - mse_val:nan (init=True,iterations=43,time=0.011998891830444336,Decay(lr=0.01,b=0.1))\n",
      "Gradient Descent mse:nan - mse_val:nan (init=True,iterations=41,time=0.00991511344909668,Decay(lr=0.01,b=0.01))\n",
      "Gradient Descent mse:nan - mse_val:nan (init=True,iterations=41,time=0.009636878967285156,Decay(lr=0.01,b=0.0001))\n",
      "Gradient Descent mse:nan - mse_val:nan (init=True,iterations=41,time=0.009582042694091797,Decay(lr=0.01,b=0.0005))\n",
      "Gradient Descent mse:nan - mse_val:nan (init=True,iterations=42,time=0.00970315933227539,Momentum(lr=0.01,b=0.7))\n",
      "Gradient Descent mse:nan - mse_val:nan (init=True,iterations=42,time=0.009865999221801758,Momentum(lr=0.01,b=0.8))\n",
      "Gradient Descent mse:nan - mse_val:nan (init=True,iterations=42,time=0.010230064392089844,Momentum(lr=0.01,b=0.9))\n",
      "Gradient Descent mse:nan - mse_val:nan (init=True,iterations=42,time=0.009823799133300781,Momentum(lr=0.01,b=0.999))\n",
      "Gradient Descent mse:nan - mse_val:nan (init=True,iterations=47,time=0.010551214218139648,Constant(lr=0.001))\n",
      "Gradient Descent mse:nan - mse_val:nan (init=True,iterations=50,time=0.011091947555541992,Decay(lr=0.001,b=0.1))\n",
      "Gradient Descent mse:nan - mse_val:nan (init=True,iterations=47,time=0.010598182678222656,Decay(lr=0.001,b=0.01))\n",
      "Gradient Descent mse:nan - mse_val:nan (init=True,iterations=47,time=0.012428760528564453,Decay(lr=0.001,b=0.0001))\n",
      "Gradient Descent mse:nan - mse_val:nan (init=True,iterations=47,time=0.012382745742797852,Decay(lr=0.001,b=0.0005))\n",
      "Gradient Descent mse:nan - mse_val:nan (init=True,iterations=48,time=0.012060165405273438,Momentum(lr=0.001,b=0.7))\n",
      "Gradient Descent mse:nan - mse_val:nan (init=True,iterations=48,time=0.011156082153320312,Momentum(lr=0.001,b=0.8))\n",
      "Gradient Descent mse:nan - mse_val:nan (init=True,iterations=48,time=0.011407136917114258,Momentum(lr=0.001,b=0.9))\n",
      "Gradient Descent mse:nan - mse_val:nan (init=True,iterations=49,time=0.011240959167480469,Momentum(lr=0.001,b=0.999))\n",
      "Gradient Descent mse:nan - mse_val:nan (init=True,iterations=49,time=0.011018991470336914,Constant(lr=0.0005))\n",
      "Gradient Descent mse:nan - mse_val:nan (init=True,iterations=53,time=0.01189875602722168,Decay(lr=0.0005,b=0.1))\n",
      "Gradient Descent mse:nan - mse_val:nan (init=True,iterations=49,time=0.011005163192749023,Decay(lr=0.0005,b=0.01))\n",
      "Gradient Descent mse:nan - mse_val:nan (init=True,iterations=49,time=0.01098012924194336,Decay(lr=0.0005,b=0.0001))\n",
      "Gradient Descent mse:nan - mse_val:nan (init=True,iterations=49,time=0.01402592658996582,Decay(lr=0.0005,b=0.0005))\n",
      "Gradient Descent mse:nan - mse_val:nan (init=True,iterations=50,time=0.012079000473022461,Momentum(lr=0.0005,b=0.7))\n",
      "Gradient Descent mse:nan - mse_val:nan (init=True,iterations=50,time=0.012536048889160156,Momentum(lr=0.0005,b=0.8))\n",
      "Gradient Descent mse:nan - mse_val:nan (init=True,iterations=51,time=0.012171030044555664,Momentum(lr=0.0005,b=0.9))\n",
      "Gradient Descent mse:nan - mse_val:nan (init=True,iterations=51,time=0.012627124786376953,Momentum(lr=0.0005,b=0.999))\n",
      "Gradient Descent mse:nan - mse_val:nan (init=True,iterations=55,time=0.01227426528930664,Constant(lr=0.0001))\n",
      "Gradient Descent mse:nan - mse_val:nan (init=True,iterations=60,time=0.013615131378173828,Decay(lr=0.0001,b=0.1))\n",
      "Gradient Descent mse:nan - mse_val:nan (init=True,iterations=56,time=0.012574911117553711,Decay(lr=0.0001,b=0.01))\n",
      "Gradient Descent mse:nan - mse_val:nan (init=True,iterations=55,time=0.012341022491455078,Decay(lr=0.0001,b=0.0001))\n",
      "Gradient Descent mse:nan - mse_val:nan (init=True,iterations=55,time=0.012129068374633789,Decay(lr=0.0001,b=0.0005))\n",
      "Gradient Descent mse:nan - mse_val:nan (init=True,iterations=56,time=0.014549970626831055,Momentum(lr=0.0001,b=0.7))\n",
      "Gradient Descent mse:nan - mse_val:nan (init=True,iterations=57,time=0.014277219772338867,Momentum(lr=0.0001,b=0.8))\n",
      "Gradient Descent mse:nan - mse_val:nan (init=True,iterations=57,time=0.013994932174682617,Momentum(lr=0.0001,b=0.9))\n",
      "Gradient Descent mse:nan - mse_val:nan (init=True,iterations=58,time=0.014626026153564453,Momentum(lr=0.0001,b=0.999))\n",
      "Gradient Descent mse:nan - mse_val:nan (init=True,iterations=84,time=0.021550893783569336,Constant(lr=1e-06))\n",
      "Gradient Descent mse:nan - mse_val:nan (init=True,iterations=104,time=0.023868083953857422,Decay(lr=1e-06,b=0.1))\n",
      "Gradient Descent mse:nan - mse_val:nan (init=True,iterations=87,time=0.019136905670166016,Decay(lr=1e-06,b=0.01))\n",
      "Gradient Descent mse:nan - mse_val:nan (init=True,iterations=84,time=0.018887042999267578,Decay(lr=1e-06,b=0.0001))\n",
      "Gradient Descent mse:nan - mse_val:nan (init=True,iterations=84,time=0.018882036209106445,Decay(lr=1e-06,b=0.0005))\n",
      "Gradient Descent mse:nan - mse_val:nan (init=True,iterations=88,time=0.020180940628051758,Momentum(lr=1e-06,b=0.7))\n",
      "Gradient Descent mse:nan - mse_val:nan (init=True,iterations=89,time=0.020807981491088867,Momentum(lr=1e-06,b=0.8))\n",
      "Gradient Descent mse:nan - mse_val:nan (init=True,iterations=90,time=0.02153301239013672,Momentum(lr=1e-06,b=0.9))\n",
      "Gradient Descent mse:nan - mse_val:nan (init=True,iterations=91,time=0.021451950073242188,Momentum(lr=1e-06,b=0.999))\n",
      "Gradient Descent mse:nan - mse_val:nan (init=True,iterations=115,time=0.02642989158630371,Constant(lr=1e-07))\n",
      "Gradient Descent mse:nan - mse_val:nan (init=True,iterations=175,time=0.04053092002868652,Decay(lr=1e-07,b=0.1))\n",
      "Gradient Descent mse:nan - mse_val:nan (init=True,iterations=124,time=0.028254985809326172,Decay(lr=1e-07,b=0.01))\n",
      "Gradient Descent mse:nan - mse_val:nan (init=True,iterations=115,time=0.025975942611694336,Decay(lr=1e-07,b=0.0001))\n",
      "Gradient Descent mse:nan - mse_val:nan (init=True,iterations=115,time=0.028015851974487305,Decay(lr=1e-07,b=0.0005))\n",
      "Gradient Descent mse:nan - mse_val:nan (init=True,iterations=124,time=0.029691219329833984,Momentum(lr=1e-07,b=0.7))\n",
      "Gradient Descent mse:nan - mse_val:nan (init=True,iterations=125,time=0.02924799919128418,Momentum(lr=1e-07,b=0.8))\n",
      "Gradient Descent mse:nan - mse_val:nan (init=True,iterations=127,time=0.02889704704284668,Momentum(lr=1e-07,b=0.9))\n",
      "Gradient Descent mse:nan - mse_val:nan (init=True,iterations=130,time=0.030178070068359375,Momentum(lr=1e-07,b=0.999))\n",
      "Gradient Descent mse:nan - mse_val:nan (init=False,iterations=40,time=0.009050130844116211,Constant(lr=0.01))\n",
      "Gradient Descent mse:nan - mse_val:nan (init=False,iterations=45,time=0.01007699966430664,Decay(lr=0.01,b=0.1))\n",
      "Gradient Descent mse:nan - mse_val:nan (init=False,iterations=41,time=0.009454011917114258,Decay(lr=0.01,b=0.01))\n",
      "Gradient Descent mse:nan - mse_val:nan (init=False,iterations=40,time=0.010558843612670898,Decay(lr=0.01,b=0.0001))\n",
      "Gradient Descent mse:nan - mse_val:nan (init=False,iterations=40,time=0.009827852249145508,Decay(lr=0.01,b=0.0005))\n",
      "Gradient Descent mse:nan - mse_val:nan (init=False,iterations=1,time=0.0005002021789550781,Momentum(lr=0.01,b=0.7))\n",
      "Gradient Descent mse:nan - mse_val:nan (init=False,iterations=1,time=0.0009789466857910156,Momentum(lr=0.01,b=0.8))\n",
      "Gradient Descent mse:nan - mse_val:nan (init=False,iterations=1,time=0.0006079673767089844,Momentum(lr=0.01,b=0.9))\n",
      "Gradient Descent mse:nan - mse_val:nan (init=False,iterations=1,time=0.0005381107330322266,Momentum(lr=0.01,b=0.999))\n",
      "Gradient Descent mse:nan - mse_val:nan (init=False,iterations=46,time=0.010159015655517578,Constant(lr=0.001))\n",
      "Gradient Descent mse:nan - mse_val:nan (init=False,iterations=53,time=0.011932134628295898,Decay(lr=0.001,b=0.1))\n",
      "Gradient Descent mse:nan - mse_val:nan (init=False,iterations=48,time=0.010862112045288086,Decay(lr=0.001,b=0.01))\n",
      "Gradient Descent mse:nan - mse_val:nan (init=False,iterations=46,time=0.010913848876953125,Decay(lr=0.001,b=0.0001))\n",
      "Gradient Descent mse:nan - mse_val:nan (init=False,iterations=46,time=0.010775089263916016,Decay(lr=0.001,b=0.0005))\n",
      "Gradient Descent mse:nan - mse_val:nan (init=False,iterations=1,time=0.0004611015319824219,Momentum(lr=0.001,b=0.7))\n",
      "Gradient Descent mse:nan - mse_val:nan (init=False,iterations=1,time=0.00047516822814941406,Momentum(lr=0.001,b=0.8))\n",
      "Gradient Descent mse:nan - mse_val:nan (init=False,iterations=1,time=0.00043892860412597656,Momentum(lr=0.001,b=0.9))\n",
      "Gradient Descent mse:nan - mse_val:nan (init=False,iterations=1,time=0.00044989585876464844,Momentum(lr=0.001,b=0.999))\n",
      "Gradient Descent mse:nan - mse_val:nan (init=False,iterations=48,time=0.01090693473815918,Constant(lr=0.0005))\n",
      "Gradient Descent mse:nan - mse_val:nan (init=False,iterations=56,time=0.012827873229980469,Decay(lr=0.0005,b=0.1))\n"
     ]
    },
    {
     "name": "stdout",
     "output_type": "stream",
     "text": [
      "Gradient Descent mse:nan - mse_val:nan (init=False,iterations=50,time=0.012272834777832031,Decay(lr=0.0005,b=0.01))\n",
      "Gradient Descent mse:nan - mse_val:nan (init=False,iterations=48,time=0.01088404655456543,Decay(lr=0.0005,b=0.0001))\n",
      "Gradient Descent mse:nan - mse_val:nan (init=False,iterations=48,time=0.011631965637207031,Decay(lr=0.0005,b=0.0005))\n",
      "Gradient Descent mse:nan - mse_val:nan (init=False,iterations=1,time=0.0005550384521484375,Momentum(lr=0.0005,b=0.7))\n",
      "Gradient Descent mse:nan - mse_val:nan (init=False,iterations=1,time=0.0004980564117431641,Momentum(lr=0.0005,b=0.8))\n",
      "Gradient Descent mse:nan - mse_val:nan (init=False,iterations=1,time=0.0005238056182861328,Momentum(lr=0.0005,b=0.9))\n",
      "Gradient Descent mse:nan - mse_val:nan (init=False,iterations=1,time=0.0004987716674804688,Momentum(lr=0.0005,b=0.999))\n",
      "Gradient Descent mse:nan - mse_val:nan (init=False,iterations=54,time=0.012138128280639648,Constant(lr=0.0001))\n",
      "Gradient Descent mse:nan - mse_val:nan (init=False,iterations=65,time=0.014613151550292969,Decay(lr=0.0001,b=0.1))\n",
      "Gradient Descent mse:nan - mse_val:nan (init=False,iterations=56,time=0.012563943862915039,Decay(lr=0.0001,b=0.01))\n",
      "Gradient Descent mse:nan - mse_val:nan (init=False,iterations=54,time=0.012084007263183594,Decay(lr=0.0001,b=0.0001))\n",
      "Gradient Descent mse:nan - mse_val:nan (init=False,iterations=54,time=0.012141942977905273,Decay(lr=0.0001,b=0.0005))\n",
      "Gradient Descent mse:nan - mse_val:nan (init=False,iterations=1,time=0.0004858970642089844,Momentum(lr=0.0001,b=0.7))\n",
      "Gradient Descent mse:nan - mse_val:nan (init=False,iterations=1,time=0.0004711151123046875,Momentum(lr=0.0001,b=0.8))\n",
      "Gradient Descent mse:nan - mse_val:nan (init=False,iterations=1,time=0.0005271434783935547,Momentum(lr=0.0001,b=0.9))\n",
      "Gradient Descent mse:nan - mse_val:nan (init=False,iterations=1,time=0.0006439685821533203,Momentum(lr=0.0001,b=0.999))\n",
      "Gradient Descent mse:nan - mse_val:nan (init=False,iterations=82,time=0.01939678192138672,Constant(lr=1e-06))\n",
      "Gradient Descent mse:nan - mse_val:nan (init=False,iterations=124,time=0.028438806533813477,Decay(lr=1e-06,b=0.1))\n",
      "Gradient Descent mse:nan - mse_val:nan (init=False,iterations=91,time=0.020200014114379883,Decay(lr=1e-06,b=0.01))\n",
      "Gradient Descent mse:nan - mse_val:nan (init=False,iterations=82,time=0.018208026885986328,Decay(lr=1e-06,b=0.0001))\n",
      "Gradient Descent mse:nan - mse_val:nan (init=False,iterations=83,time=0.01917719841003418,Decay(lr=1e-06,b=0.0005))\n",
      "Gradient Descent mse:nan - mse_val:nan (init=False,iterations=1,time=0.0004570484161376953,Momentum(lr=1e-06,b=0.7))\n",
      "Gradient Descent mse:nan - mse_val:nan (init=False,iterations=1,time=0.0004839897155761719,Momentum(lr=1e-06,b=0.8))\n",
      "Gradient Descent mse:nan - mse_val:nan (init=False,iterations=1,time=0.0004711151123046875,Momentum(lr=1e-06,b=0.9))\n",
      "Gradient Descent mse:nan - mse_val:nan (init=False,iterations=1,time=0.000453948974609375,Momentum(lr=1e-06,b=0.999))\n",
      "Gradient Descent mse:nan - mse_val:nan (init=False,iterations=113,time=0.02531719207763672,Constant(lr=1e-07))\n",
      "Gradient Descent mse:nan - mse_val:nan (init=False,iterations=263,time=0.05977201461791992,Decay(lr=1e-07,b=0.1))\n",
      "Gradient Descent mse:nan - mse_val:nan (init=False,iterations=137,time=0.03257894515991211,Decay(lr=1e-07,b=0.01))\n",
      "Gradient Descent mse:nan - mse_val:nan (init=False,iterations=114,time=0.025967836380004883,Decay(lr=1e-07,b=0.0001))\n",
      "Gradient Descent mse:nan - mse_val:nan (init=False,iterations=115,time=0.027022123336791992,Decay(lr=1e-07,b=0.0005))\n",
      "Gradient Descent mse:nan - mse_val:nan (init=False,iterations=1,time=0.00045371055603027344,Momentum(lr=1e-07,b=0.7))\n",
      "Gradient Descent mse:nan - mse_val:nan (init=False,iterations=1,time=0.0004448890686035156,Momentum(lr=1e-07,b=0.8))\n",
      "Gradient Descent mse:nan - mse_val:nan (init=False,iterations=1,time=0.0005331039428710938,Momentum(lr=1e-07,b=0.9))\n",
      "Gradient Descent mse:nan - mse_val:nan (init=False,iterations=1,time=0.0005698204040527344,Momentum(lr=1e-07,b=0.999))\n",
      "Best classifier achieved an error of 1.0347374499986521\n",
      "<linear_regression.LinearRegressionMSE object at 0x11b3e7780>\n"
     ]
    }
   ],
   "source": [
    "data_model_12 = 'only_fourth'\n",
    "best_model_12, results_model_12 = model.train_model(data_model_12, init, learning_rates, momentum, decay)"
   ]
  },
  {
   "cell_type": "markdown",
   "metadata": {},
   "source": [
    "##### $children^3$ vs $children^4$"
   ]
  },
  {
   "cell_type": "code",
   "execution_count": 17,
   "metadata": {},
   "outputs": [
    {
     "data": {
      "text/plain": [
       "[<matplotlib.lines.Line2D at 0x11f5588d0>]"
      ]
     },
     "execution_count": 17,
     "metadata": {},
     "output_type": "execute_result"
    },
    {
     "data": {
      "image/png": "[encoded data removed]",
      "text/plain": [
       "<Figure size 432x288 with 1 Axes>"
      ]
     },
     "metadata": {
      "needs_background": "light"
     },
     "output_type": "display_data"
    }
   ],
   "source": [
    "X_train, y_train, X_val, y_val, X_test, y_test = load_data('only_cube')\n",
    "plt.plot(X_train[:, 0], y_train, 'o')\n",
    "f = lambda x1, x2, x3: best_model_11.w[0] * x1 + best_model_11.w[1] * x2 + best_model_11.w[2] * x3 + best_model_11.w[3]\n",
    "plt.plot(X_train[:, 0], f(X_train[:, 0], X_train[:, 1], X_train[:, 2]), 'ro')\n",
    "\n",
    "X_train, y_train, X_val, y_val, X_test, y_test = load_data('only_fourth')\n",
    "f = lambda x1, x2, x3, x4: best_model_12.w[0] * x1 + best_model_12.w[1] * x2 + best_model_12.w[2]*x3+ best_model_12.w[3]*x4 + best_model_12.w[4]\n",
    "plt.plot(X_train[:, 0], f(X_train[:, 0], X_train[:, 1], X_train[:, 2], X_train[:, 3]), 'go')"
   ]
  },
  {
   "cell_type": "markdown",
   "metadata": {},
   "source": [
    "#### Model 13\n",
    "Training with features: \n",
    "3. children\n",
    "3. text: stop words, top 120"
   ]
  },
  {
   "cell_type": "code",
   "execution_count": 18,
   "metadata": {},
   "outputs": [
    {
     "name": "stdout",
     "output_type": "stream",
     "text": [
      "Closed-form mse:5.859995323349346e+45 - mse_val:4.6142793083095046e+45 (time=0.0061070919036865234)\n",
      "Gradient Descent mse:1.095745696680856 - mse_val:1.0433464688585792 (init=True,iterations=1000,time=2.1354498863220215,Constant(lr=0.01))\n",
      "Gradient Descent mse:1.172459640709365 - mse_val:1.1138879058474163 (init=True,iterations=1000,time=2.201953172683716,Decay(lr=0.01,b=0.1))\n",
      "Gradient Descent mse:1.1034721797019995 - mse_val:1.0438306229280727 (init=True,iterations=1000,time=2.1916816234588623,Decay(lr=0.01,b=0.01))\n",
      "Gradient Descent mse:1.096049382219866 - mse_val:1.0432830690552632 (init=True,iterations=1000,time=2.2124006748199463,Decay(lr=0.01,b=0.0001))\n",
      "Gradient Descent mse:1.0970520050750396 - mse_val:1.043116521712919 (init=True,iterations=1000,time=2.1898701190948486,Decay(lr=0.01,b=0.0005))\n",
      "Gradient Descent mse:1.0957482161116774 - mse_val:1.0433460567369937 (init=True,iterations=1000,time=2.429081916809082,Momentum(lr=0.01,b=0.7))\n",
      "Gradient Descent mse:1.0957485760845953 - mse_val:1.043345997880659 (init=True,iterations=1000,time=2.2351861000061035,Momentum(lr=0.01,b=0.8))\n",
      "Gradient Descent mse:1.0957489360710524 - mse_val:1.0433459390288224 (init=True,iterations=1000,time=2.0708541870117188,Momentum(lr=0.01,b=0.9))\n",
      "Gradient Descent mse:1.095749292470976 - mse_val:1.04334588076992 (init=True,iterations=1000,time=2.0527846813201904,Momentum(lr=0.01,b=0.999))\n",
      "Gradient Descent mse:1.1142000700006562 - mse_val:1.054566711840675 (init=True,iterations=1000,time=2.0605649948120117,Constant(lr=0.001))\n",
      "Gradient Descent mse:1.8321794900055972 - mse_val:1.7854265265938498 (init=True,iterations=1000,time=2.0868659019470215,Decay(lr=0.001,b=0.1))\n",
      "Gradient Descent mse:1.3131426209284285 - mse_val:1.2558293800684097 (init=True,iterations=1000,time=2.1078407764434814,Decay(lr=0.001,b=0.01))\n",
      "Gradient Descent mse:1.1157075239569039 - mse_val:1.0561574933146123 (init=True,iterations=1000,time=2.3524327278137207,Decay(lr=0.001,b=0.0001))\n",
      "Gradient Descent mse:1.1221847800853861 - mse_val:1.0629171541011901 (init=True,iterations=1000,time=2.3417248725891113,Decay(lr=0.001,b=0.0005))\n",
      "Gradient Descent mse:1.1141856827201688 - mse_val:1.0545514961039186 (init=True,iterations=1000,time=2.3030669689178467,Momentum(lr=0.001,b=0.7))\n",
      "Gradient Descent mse:1.1141836281489426 - mse_val:1.0545493220246025 (init=True,iterations=1000,time=2.2666409015655518,Momentum(lr=0.001,b=0.8))\n",
      "Gradient Descent mse:1.1141815737655965 - mse_val:1.054547147842668 (init=True,iterations=1000,time=2.2558541297912598,Momentum(lr=0.001,b=0.9))\n",
      "Gradient Descent mse:1.1141795401109027 - mse_val:1.0545449953008237 (init=True,iterations=1000,time=2.2668490409851074,Momentum(lr=0.001,b=0.999))\n",
      "Gradient Descent mse:1.1609333121829855 - mse_val:1.1022769911103008 (init=True,iterations=1000,time=2.274052858352661,Constant(lr=0.0005))\n",
      "Gradient Descent mse:1.959848090430512 - mse_val:1.9163987076480888 (init=True,iterations=1000,time=2.315861225128174,Decay(lr=0.0005,b=0.1))\n",
      "Gradient Descent mse:1.5439772869482193 - mse_val:1.4905918981659152 (init=True,iterations=1000,time=2.2794690132141113,Decay(lr=0.0005,b=0.01))\n",
      "Gradient Descent mse:1.1669942571476621 - mse_val:1.1083804573270786 (init=True,iterations=1000,time=2.291562080383301,Decay(lr=0.0005,b=0.0001))\n",
      "Gradient Descent mse:1.1911214033277775 - mse_val:1.1326600118722074 (init=True,iterations=1000,time=2.2888009548187256,Decay(lr=0.0005,b=0.0005))\n",
      "Gradient Descent mse:1.16090412808601 - mse_val:1.1022502911753982 (init=True,iterations=1000,time=2.3455328941345215,Momentum(lr=0.0005,b=0.7))\n",
      "Gradient Descent mse:1.1608999541555287 - mse_val:1.1022464728004588 (init=True,iterations=1000,time=2.3314120769500732,Momentum(lr=0.0005,b=0.8))\n",
      "Gradient Descent mse:1.1608957790343801 - mse_val:1.1022426534038827 (init=True,iterations=1000,time=2.3441309928894043,Momentum(lr=0.0005,b=0.9))\n",
      "Gradient Descent mse:1.1608916444924857 - mse_val:1.102238871195891 (init=True,iterations=1000,time=2.4369301795959473,Momentum(lr=0.0005,b=0.999))\n",
      "Gradient Descent mse:1.605527211134159 - mse_val:1.5534370264711952 (init=True,iterations=1000,time=2.9328720569610596,Constant(lr=0.0001))\n",
      "Gradient Descent mse:2.0891221933160984 - mse_val:2.0491826184179542 (init=True,iterations=257,time=0.7955090999603271,Decay(lr=0.0001,b=0.1))\n",
      "Gradient Descent mse:1.9531742762584035 - mse_val:1.9095479459487688 (init=True,iterations=1000,time=2.5157129764556885,Decay(lr=0.0001,b=0.01))\n",
      "Gradient Descent mse:1.6216107236664277 - mse_val:1.5698716143364355 (init=True,iterations=1000,time=2.8964650630950928,Decay(lr=0.0001,b=0.0001))\n",
      "Gradient Descent mse:1.6740257305072963 - mse_val:1.623463454635688 (init=True,iterations=1000,time=3.103785276412964,Decay(lr=0.0001,b=0.0005))\n",
      "Gradient Descent mse:1.6056736641082283 - mse_val:1.553586595539008 (init=True,iterations=1000,time=2.5817532539367676,Momentum(lr=0.0001,b=0.7))\n",
      "Gradient Descent mse:1.605694590669652 - mse_val:1.5536079673799603 (init=True,iterations=1000,time=2.7030882835388184,Momentum(lr=0.0001,b=0.8))\n",
      "Gradient Descent mse:1.6057155184082244 - mse_val:1.553629340428887 (init=True,iterations=1000,time=2.7919580936431885,Momentum(lr=0.0001,b=0.9))\n",
      "Gradient Descent mse:1.6057362380290132 - mse_val:1.5536505009372923 (init=True,iterations=1000,time=2.6467418670654297,Momentum(lr=0.0001,b=0.999))\n",
      "Gradient Descent mse:2.1124542003236884 - mse_val:2.073163441636029 (init=True,iterations=1,time=0.007047891616821289,Constant(lr=1e-06))\n",
      "Gradient Descent mse:2.1124548640836887 - mse_val:2.0731641239160234 (init=True,iterations=1,time=0.005947113037109375,Decay(lr=1e-06,b=0.1))\n",
      "Gradient Descent mse:2.11245427261437 - mse_val:2.0731635159437394 (init=True,iterations=1,time=0.006314992904663086,Decay(lr=1e-06,b=0.01))\n",
      "Gradient Descent mse:2.112454201053752 - mse_val:2.073163442386462 (init=True,iterations=1,time=0.0054779052734375,Decay(lr=1e-06,b=0.0001))\n",
      "Gradient Descent mse:2.1124542039725434 - mse_val:2.0731634453866934 (init=True,iterations=1,time=0.005460023880004883,Decay(lr=1e-06,b=0.0005))\n",
      "Gradient Descent mse:2.1124567558009946 - mse_val:2.0731660684153677 (init=True,iterations=1,time=0.006067991256713867,Momentum(lr=1e-06,b=0.7))\n",
      "Gradient Descent mse:2.112457120869469 - mse_val:2.0731664436698582 (init=True,iterations=1,time=0.0075511932373046875,Momentum(lr=1e-06,b=0.8))\n",
      "Gradient Descent mse:2.1124574859380156 - mse_val:2.073166818924425 (init=True,iterations=1,time=0.0071849822998046875,Momentum(lr=1e-06,b=0.9))\n",
      "Gradient Descent mse:2.112457847355948 - mse_val:2.0731671904265188 (init=True,iterations=1,time=0.007086277008056641,Momentum(lr=1e-06,b=0.999))\n",
      "Gradient Descent mse:2.1124607715581756 - mse_val:2.073170196218893 (init=True,iterations=1,time=0.006293058395385742,Constant(lr=1e-07))\n",
      "Gradient Descent mse:2.112460837934401 - mse_val:2.073170264447126 (init=True,iterations=1,time=0.0059051513671875,Decay(lr=1e-07,b=0.1))\n",
      "Gradient Descent mse:2.1124607787872693 - mse_val:2.0731702036496897 (init=True,iterations=1,time=0.006783962249755859,Decay(lr=1e-07,b=0.01))\n",
      "Gradient Descent mse:2.112460771631182 - mse_val:2.073170196293936 (init=True,iterations=1,time=0.0078122615814208984,Decay(lr=1e-07,b=0.0001))\n",
      "Gradient Descent mse:2.1124607719230624 - mse_val:2.07317019659396 (init=True,iterations=1,time=0.008126020431518555,Decay(lr=1e-07,b=0.0005))\n",
      "Gradient Descent mse:2.112461027106655 - mse_val:2.0731704588976063 (init=True,iterations=1,time=0.007360935211181641,Momentum(lr=1e-07,b=0.7))\n",
      "Gradient Descent mse:2.1124610636135834 - mse_val:2.073170496423139 (init=True,iterations=1,time=0.00562596321105957,Momentum(lr=1e-07,b=0.8))\n",
      "Gradient Descent mse:2.1124611001205125 - mse_val:2.0731705339486735 (init=True,iterations=1,time=0.008494138717651367,Momentum(lr=1e-07,b=0.9))\n",
      "Gradient Descent mse:2.1124611362623726 - mse_val:2.073170571098953 (init=True,iterations=1,time=0.007208824157714844,Momentum(lr=1e-07,b=0.999))\n",
      "Gradient Descent mse:1.2738449112915995 - mse_val:1.2029215870016223 (init=False,iterations=1000,time=2.58125901222229,Constant(lr=0.01))\n",
      "Gradient Descent mse:4.074359177590115 - mse_val:4.140876672335063 (init=False,iterations=1000,time=2.937638759613037,Decay(lr=0.01,b=0.1))\n",
      "Gradient Descent mse:2.9954052980773755 - mse_val:3.0173166980502932 (init=False,iterations=1000,time=2.9241559505462646,Decay(lr=0.01,b=0.01))\n"
     ]
    },
    {
     "name": "stdout",
     "output_type": "stream",
     "text": [
      "Gradient Descent mse:1.3021869755423268 - mse_val:1.2587495975207963 (init=False,iterations=1000,time=2.802623987197876,Decay(lr=0.01,b=0.0001))\n",
      "Gradient Descent mse:1.4335204263284447 - mse_val:1.457761122672714 (init=False,iterations=1000,time=2.6787571907043457,Decay(lr=0.01,b=0.0005))\n",
      "Gradient Descent mse:1.265230482460634 - mse_val:1.2443419511931348 (init=False,iterations=1000,time=2.3812029361724854,Momentum(lr=0.01,b=0.7))\n",
      "Gradient Descent mse:1.291681073779684 - mse_val:1.2576349741836856 (init=False,iterations=1000,time=2.8462448120117188,Momentum(lr=0.01,b=0.8))\n",
      "Gradient Descent mse:1.2693616567093626 - mse_val:1.2211177780466391 (init=False,iterations=1000,time=2.820423126220703,Momentum(lr=0.01,b=0.9))\n",
      "Gradient Descent mse:1.25793961775273 - mse_val:1.1422132403368819 (init=False,iterations=1000,time=2.487078905105591,Momentum(lr=0.01,b=0.999))\n",
      "Gradient Descent mse:2.8264938088857097 - mse_val:2.8091575958901087 (init=False,iterations=1000,time=2.6443839073181152,Constant(lr=0.001))\n",
      "Gradient Descent mse:4.79246695246288 - mse_val:4.712569334997066 (init=False,iterations=1000,time=2.5681419372558594,Decay(lr=0.001,b=0.1))\n",
      "Gradient Descent mse:5.355329264854581 - mse_val:5.386522581619732 (init=False,iterations=1000,time=2.305345058441162,Decay(lr=0.001,b=0.01))\n",
      "Gradient Descent mse:2.9365052818929582 - mse_val:2.7124023229862955 (init=False,iterations=1000,time=2.4590210914611816,Decay(lr=0.001,b=0.0001))\n",
      "Gradient Descent mse:3.1377854576594277 - mse_val:2.830195244922171 (init=False,iterations=1000,time=2.3541150093078613,Decay(lr=0.001,b=0.0005))\n",
      "Gradient Descent mse:2.685603022678845 - mse_val:2.621323908698949 (init=False,iterations=1000,time=2.354904890060425,Momentum(lr=0.001,b=0.7))\n",
      "Gradient Descent mse:2.613889141643192 - mse_val:2.4944471313386187 (init=False,iterations=1000,time=2.6229097843170166,Momentum(lr=0.001,b=0.8))\n",
      "Gradient Descent mse:2.398284645509844 - mse_val:2.3261986519684994 (init=False,iterations=1000,time=2.943537712097168,Momentum(lr=0.001,b=0.9))\n",
      "Gradient Descent mse:2.6709715378588172 - mse_val:2.74005598811484 (init=False,iterations=1000,time=2.7890548706054688,Momentum(lr=0.001,b=0.999))\n",
      "Gradient Descent mse:3.2312796474609793 - mse_val:3.009608569877318 (init=False,iterations=1000,time=2.9326331615448,Constant(lr=0.0005))\n",
      "Gradient Descent mse:4.098927977773666 - mse_val:4.108163809829942 (init=False,iterations=1,time=0.005894899368286133,Decay(lr=0.0005,b=0.1))\n",
      "Gradient Descent mse:4.989540560508831 - mse_val:4.869852468088249 (init=False,iterations=1000,time=2.5211617946624756,Decay(lr=0.0005,b=0.01))\n",
      "Gradient Descent mse:3.2921304025381657 - mse_val:3.2245859715103924 (init=False,iterations=1000,time=2.802111864089966,Decay(lr=0.0005,b=0.0001))\n",
      "Gradient Descent mse:3.1280083931020295 - mse_val:3.2332389012182556 (init=False,iterations=1000,time=2.7392020225524902,Decay(lr=0.0005,b=0.0005))\n",
      "Gradient Descent mse:3.2957144532203624 - mse_val:3.2366779381857915 (init=False,iterations=1000,time=2.6044750213623047,Momentum(lr=0.0005,b=0.7))\n",
      "Gradient Descent mse:3.410925246774585 - mse_val:3.2003779954559546 (init=False,iterations=1000,time=2.3013503551483154,Momentum(lr=0.0005,b=0.8))\n",
      "Gradient Descent mse:3.2246785273833267 - mse_val:3.121591275996547 (init=False,iterations=1000,time=2.2709240913391113,Momentum(lr=0.0005,b=0.9))\n",
      "Gradient Descent mse:2.9702047655143655 - mse_val:3.140772858065763 (init=False,iterations=1000,time=2.4791691303253174,Momentum(lr=0.0005,b=0.999))\n",
      "Gradient Descent mse:3.8214705316340405 - mse_val:3.643222187827402 (init=False,iterations=1000,time=2.664844036102295,Constant(lr=0.0001))\n",
      "Gradient Descent mse:4.901501293925791 - mse_val:4.852638567722884 (init=False,iterations=46,time=0.12731719017028809,Decay(lr=0.0001,b=0.1))\n",
      "Gradient Descent mse:4.9430651092891384 - mse_val:4.978111076859333 (init=False,iterations=1000,time=2.6868438720703125,Decay(lr=0.0001,b=0.01))\n",
      "Gradient Descent mse:4.907203052541882 - mse_val:4.635325548839883 (init=False,iterations=1000,time=3.0062601566314697,Decay(lr=0.0001,b=0.0001))\n",
      "Gradient Descent mse:4.65494135517062 - mse_val:4.639591066182619 (init=False,iterations=1000,time=2.9799678325653076,Decay(lr=0.0001,b=0.0005))\n",
      "Gradient Descent mse:3.6683930696916325 - mse_val:3.5207560086105585 (init=False,iterations=1000,time=2.8814539909362793,Momentum(lr=0.0001,b=0.7))\n",
      "Gradient Descent mse:3.814324692822432 - mse_val:3.6724241506335473 (init=False,iterations=1000,time=2.9699878692626953,Momentum(lr=0.0001,b=0.8))\n",
      "Gradient Descent mse:4.3135951967209945 - mse_val:4.226111627133484 (init=False,iterations=1000,time=2.772123336791992,Momentum(lr=0.0001,b=0.9))\n",
      "Gradient Descent mse:5.370932830611919 - mse_val:5.149324270324992 (init=False,iterations=1000,time=2.521239995956421,Momentum(lr=0.0001,b=0.999))\n",
      "Gradient Descent mse:3.447324482450095 - mse_val:3.842165674479376 (init=False,iterations=1,time=0.0055081844329833984,Constant(lr=1e-06))\n",
      "Gradient Descent mse:4.8346498618102345 - mse_val:4.674111854776106 (init=False,iterations=1,time=0.005371809005737305,Decay(lr=1e-06,b=0.1))\n",
      "Gradient Descent mse:3.9055203297567624 - mse_val:3.8595535802669976 (init=False,iterations=1,time=0.005231142044067383,Decay(lr=1e-06,b=0.01))\n",
      "Gradient Descent mse:4.0616933104003445 - mse_val:4.405551139808614 (init=False,iterations=1,time=0.005190134048461914,Decay(lr=1e-06,b=0.0001))\n",
      "Gradient Descent mse:3.930005023362428 - mse_val:3.988096825020281 (init=False,iterations=1,time=0.005221128463745117,Decay(lr=1e-06,b=0.0005))\n",
      "Gradient Descent mse:4.817924758237844 - mse_val:4.642033727305896 (init=False,iterations=1,time=0.005600929260253906,Momentum(lr=1e-06,b=0.7))\n",
      "Gradient Descent mse:5.397452985339495 - mse_val:5.587465136205274 (init=False,iterations=1,time=0.005600929260253906,Momentum(lr=1e-06,b=0.8))\n",
      "Gradient Descent mse:5.090980868949965 - mse_val:4.881624554773593 (init=False,iterations=1,time=0.0053179264068603516,Momentum(lr=1e-06,b=0.9))\n",
      "Gradient Descent mse:5.561522461256958 - mse_val:5.383254254157362 (init=False,iterations=1,time=0.005241870880126953,Momentum(lr=1e-06,b=0.999))\n",
      "Gradient Descent mse:4.5781071574184145 - mse_val:4.608066231569653 (init=False,iterations=1,time=0.005270957946777344,Constant(lr=1e-07))\n",
      "Gradient Descent mse:4.046294537656489 - mse_val:3.8466273550803307 (init=False,iterations=1,time=0.005239009857177734,Decay(lr=1e-07,b=0.1))\n",
      "Gradient Descent mse:4.568412285676142 - mse_val:4.3250338463500935 (init=False,iterations=1,time=0.005338907241821289,Decay(lr=1e-07,b=0.01))\n",
      "Gradient Descent mse:5.05819414549199 - mse_val:5.132820197474829 (init=False,iterations=1,time=0.0067920684814453125,Decay(lr=1e-07,b=0.0001))\n",
      "Gradient Descent mse:3.6286132931115587 - mse_val:3.432159317633907 (init=False,iterations=1,time=0.006124973297119141,Decay(lr=1e-07,b=0.0005))\n",
      "Gradient Descent mse:5.1114240723775515 - mse_val:5.280358409282795 (init=False,iterations=1,time=0.007356882095336914,Momentum(lr=1e-07,b=0.7))\n",
      "Gradient Descent mse:4.361196630909649 - mse_val:4.650607437332826 (init=False,iterations=1,time=0.007147073745727539,Momentum(lr=1e-07,b=0.8))\n",
      "Gradient Descent mse:5.322832072683198 - mse_val:5.4707600797635045 (init=False,iterations=1,time=0.006573200225830078,Momentum(lr=1e-07,b=0.9))\n",
      "Gradient Descent mse:4.531666617889965 - mse_val:4.448996881390541 (init=False,iterations=1,time=0.005463123321533203,Momentum(lr=1e-07,b=0.999))\n",
      "Best classifier achieved an error of 1.043116521712919\n",
      "Decay(lr=0.01,b=0.0005),error=0.00018284390130514879,step=1000\n"
     ]
    },
    {
     "data": {
      "image/png": "[encoded data removed]",
      "text/plain": [
       "<Figure size 432x288 with 1 Axes>"
      ]
     },
     "metadata": {
      "needs_background": "light"
     },
     "output_type": "display_data"
    }
   ],
   "source": [
    "data_model_13 = 'stopwords_children_120'\n",
    "best_model_13, results_model_13 = model.train_model(data_model_13, init, learning_rates, momentum, decay)"
   ]
  },
  {
   "cell_type": "markdown",
   "metadata": {},
   "source": [
    "#### Model 14\n",
    "Training with features: \n",
    "3. children\n",
    "3. text: stopwords, top 50"
   ]
  },
  {
   "cell_type": "code",
   "execution_count": 19,
   "metadata": {},
   "outputs": [
    {
     "name": "stdout",
     "output_type": "stream",
     "text": [
      "Closed-form mse:2.0332865637741818e+33 - mse_val:9.822096770931242e+32 (time=0.0025620460510253906)\n",
      "Gradient Descent mse:1.100611553452846 - mse_val:1.043027430304691 (init=True,iterations=1000,time=0.6341240406036377,Constant(lr=0.01))\n",
      "Gradient Descent mse:1.1739376571369642 - mse_val:1.115420252504414 (init=True,iterations=1000,time=0.6414060592651367,Decay(lr=0.01,b=0.1))\n",
      "Gradient Descent mse:1.1053395029494815 - mse_val:1.0445790048891368 (init=True,iterations=1000,time=0.7353432178497314,Decay(lr=0.01,b=0.01))\n",
      "Gradient Descent mse:1.1007680939880558 - mse_val:1.0430400050655289 (init=True,iterations=1000,time=0.7414219379425049,Decay(lr=0.01,b=0.0001))\n",
      "Gradient Descent mse:1.1013005254564199 - mse_val:1.0430980732242006 (init=True,iterations=1000,time=0.7736189365386963,Decay(lr=0.01,b=0.0005))\n",
      "Gradient Descent mse:1.100612491487177 - mse_val:1.0430276714863527 (init=True,iterations=1000,time=0.6759800910949707,Momentum(lr=0.01,b=0.7))\n",
      "Gradient Descent mse:1.1006126255115118 - mse_val:1.0430277059570858 (init=True,iterations=1000,time=0.7507152557373047,Momentum(lr=0.01,b=0.8))\n",
      "Gradient Descent mse:1.1006127595406876 - mse_val:1.0430277404318327 (init=True,iterations=1000,time=0.6316690444946289,Momentum(lr=0.01,b=0.9))\n",
      "Gradient Descent mse:1.1006128922343346 - mse_val:1.043027774565774 (init=True,iterations=1000,time=0.6944630146026611,Momentum(lr=0.01,b=0.999))\n",
      "Gradient Descent mse:1.1154293755039568 - mse_val:1.0555412618164768 (init=True,iterations=1000,time=0.5838117599487305,Constant(lr=0.001))\n",
      "Gradient Descent mse:1.8330355228103294 - mse_val:1.7863746427749647 (init=True,iterations=1000,time=0.6062579154968262,Decay(lr=0.001,b=0.1))\n",
      "Gradient Descent mse:1.3148599025852439 - mse_val:1.2577015105826572 (init=True,iterations=1000,time=0.6090960502624512,Decay(lr=0.001,b=0.01))\n",
      "Gradient Descent mse:1.116932480574214 - mse_val:1.0571553852822004 (init=True,iterations=1000,time=0.599574089050293,Decay(lr=0.001,b=0.0001))\n",
      "Gradient Descent mse:1.1234192170695414 - mse_val:1.0640072814559094 (init=True,iterations=1000,time=0.6816980838775635,Decay(lr=0.001,b=0.0005))\n",
      "Gradient Descent mse:1.1154144240375168 - mse_val:1.0555259669001682 (init=True,iterations=1000,time=0.7706630229949951,Momentum(lr=0.001,b=0.7))\n",
      "Gradient Descent mse:1.1154122888043694 - mse_val:1.0555237815115062 (init=True,iterations=1000,time=0.7644510269165039,Momentum(lr=0.001,b=0.8))\n",
      "Gradient Descent mse:1.1154101537431091 - mse_val:1.0555215960207665 (init=True,iterations=1000,time=0.6528449058532715,Momentum(lr=0.001,b=0.9))\n",
      "Gradient Descent mse:1.1154080402015236 - mse_val:1.0555194322837491 (init=True,iterations=1000,time=0.7489159107208252,Momentum(lr=0.001,b=0.999))\n",
      "Gradient Descent mse:1.1623618342567434 - mse_val:1.1037363532381486 (init=True,iterations=1000,time=0.826406717300415,Constant(lr=0.0005))\n",
      "Gradient Descent mse:1.9603346599626998 - mse_val:1.9169379399253916 (init=True,iterations=1000,time=0.7480292320251465,Decay(lr=0.0005,b=0.1))\n",
      "Gradient Descent mse:1.545488755555529 - mse_val:1.4922600692424348 (init=True,iterations=1000,time=0.7929997444152832,Decay(lr=0.0005,b=0.01))\n",
      "Gradient Descent mse:1.168449184986561 - mse_val:1.1098790625768655 (init=True,iterations=1000,time=0.9610650539398193,Decay(lr=0.0005,b=0.0001))\n",
      "Gradient Descent mse:1.19266427192844 - mse_val:1.134284597978727 (init=True,iterations=1000,time=0.8985657691955566,Decay(lr=0.0005,b=0.0005))\n",
      "Gradient Descent mse:1.1623327780781414 - mse_val:1.1037099227008862 (init=True,iterations=1000,time=0.7132430076599121,Momentum(lr=0.0005,b=0.7))\n",
      "Gradient Descent mse:1.1623286224175975 - mse_val:1.103706142797247 (init=True,iterations=1000,time=0.8668479919433594,Momentum(lr=0.0005,b=0.8))\n",
      "Gradient Descent mse:1.1623244655653358 - mse_val:1.1037023618684314 (init=True,iterations=1000,time=0.8142731189727783,Momentum(lr=0.0005,b=0.9))\n",
      "Gradient Descent mse:1.162320349108599 - mse_val:1.1036986177400308 (init=True,iterations=1000,time=0.6757497787475586,Momentum(lr=0.0005,b=0.999))\n",
      "Gradient Descent mse:1.606925181557701 - mse_val:1.554981792856268 (init=True,iterations=1000,time=0.8360648155212402,Constant(lr=0.0001))\n",
      "Gradient Descent mse:2.0891993949607603 - mse_val:2.049268206003266 (init=True,iterations=257,time=0.24010992050170898,Decay(lr=0.0001,b=0.1))\n",
      "Gradient Descent mse:1.953681043115737 - mse_val:1.9101095508038672 (init=True,iterations=1000,time=0.9194662570953369,Decay(lr=0.0001,b=0.01))\n",
      "Gradient Descent mse:1.6229762563801096 - mse_val:1.5713809244643344 (init=True,iterations=1000,time=0.9027290344238281,Decay(lr=0.0001,b=0.0001))\n",
      "Gradient Descent mse:1.6752783731274692 - mse_val:1.624848973797438 (init=True,iterations=1000,time=0.658013105392456,Decay(lr=0.0001,b=0.0005))\n",
      "Gradient Descent mse:1.607071514302094 - mse_val:1.5551312211833324 (init=True,iterations=1000,time=0.6993007659912109,Momentum(lr=0.0001,b=0.7))\n",
      "Gradient Descent mse:1.6070924236819315 - mse_val:1.5551525729103277 (init=True,iterations=1000,time=0.6346700191497803,Momentum(lr=0.0001,b=0.8))\n",
      "Gradient Descent mse:1.6071133342374402 - mse_val:1.5551739258432655 (init=True,iterations=1000,time=0.6322658061981201,Momentum(lr=0.0001,b=0.9))\n",
      "Gradient Descent mse:1.6071340368455382 - mse_val:1.5551950664348377 (init=True,iterations=1000,time=0.8371398448944092,Momentum(lr=0.0001,b=0.999))\n",
      "Gradient Descent mse:2.112454224621799 - mse_val:2.073163468574735 (init=True,iterations=1,time=0.0013842582702636719,Constant(lr=1e-06))\n",
      "Gradient Descent mse:2.112454886172885 - mse_val:2.0731641484057626 (init=True,iterations=1,time=0.0020470619201660156,Decay(lr=1e-06,b=0.1))\n",
      "Gradient Descent mse:2.1124542966719053 - mse_val:2.0731635426157258 (init=True,iterations=1,time=0.0017647743225097656,Decay(lr=1e-06,b=0.01))\n",
      "Gradient Descent mse:2.1124542253494316 - mse_val:2.0731634693224743 (init=True,iterations=1,time=0.0012972354888916016,Decay(lr=1e-06,b=0.0001))\n",
      "Gradient Descent mse:2.1124542282585104 - mse_val:2.0731634723119363 (init=True,iterations=1,time=0.0020661354064941406,Decay(lr=1e-06,b=0.0005))\n",
      "Gradient Descent mse:2.1124567715947817 - mse_val:2.0731660859255445 (init=True,iterations=1,time=0.002299785614013672,Momentum(lr=1e-06,b=0.7))\n",
      "Gradient Descent mse:2.1124571354483526 - mse_val:2.0731664598331014 (init=True,iterations=1,time=0.0017688274383544922,Momentum(lr=1e-06,b=0.8))\n",
      "Gradient Descent mse:2.112457499301994 - mse_val:2.0731668337407325 (init=True,iterations=1,time=0.0018498897552490234,Momentum(lr=1e-06,b=0.9))\n",
      "Gradient Descent mse:2.11245785951717 - mse_val:2.073167203909361 (init=True,iterations=1,time=0.001909017562866211,Momentum(lr=1e-06,b=0.999))\n",
      "Gradient Descent mse:2.1124607739879933 - mse_val:2.0731701989127704 (init=True,iterations=1,time=0.002234935760498047,Constant(lr=1e-07))\n",
      "Gradient Descent mse:2.112460840143325 - mse_val:2.0731702668961063 (init=True,iterations=1,time=0.0015490055084228516,Decay(lr=1e-07,b=0.1))\n",
      "Gradient Descent mse:2.112460781193029 - mse_val:2.0731702063168957 (init=True,iterations=1,time=0.0013539791107177734,Decay(lr=1e-07,b=0.01))\n",
      "Gradient Descent mse:2.112460774060757 - mse_val:2.0731701989875444 (init=True,iterations=1,time=0.0017080307006835938,Decay(lr=1e-07,b=0.0001))\n",
      "Gradient Descent mse:2.112460774351665 - mse_val:2.073170199286492 (init=True,iterations=1,time=0.0015811920166015625,Decay(lr=1e-07,b=0.0005))\n",
      "Gradient Descent mse:2.112461028686037 - mse_val:2.0731704606486265 (init=True,iterations=1,time=0.00139617919921875,Momentum(lr=1e-07,b=0.7))\n",
      "Gradient Descent mse:2.112461065071474 - mse_val:2.0731704980394663 (init=True,iterations=1,time=0.0032999515533447266,Momentum(lr=1e-07,b=0.8))\n",
      "Gradient Descent mse:2.1124611014569123 - mse_val:2.0731705354303065 (init=True,iterations=1,time=0.0017521381378173828,Momentum(lr=1e-07,b=0.9))\n",
      "Gradient Descent mse:2.1124611374784967 - mse_val:2.073170572447239 (init=True,iterations=1,time=0.001940011978149414,Momentum(lr=1e-07,b=0.999))\n",
      "Gradient Descent mse:1.1696675328547543 - mse_val:1.1431265863373263 (init=False,iterations=1000,time=0.894385814666748,Constant(lr=0.01))\n",
      "Gradient Descent mse:2.7808266980959035 - mse_val:2.778928168021884 (init=False,iterations=1000,time=0.825484037399292,Decay(lr=0.01,b=0.1))\n",
      "Gradient Descent mse:1.755896247372394 - mse_val:1.7091019125706397 (init=False,iterations=1000,time=1.0633108615875244,Decay(lr=0.01,b=0.01))\n"
     ]
    },
    {
     "name": "stdout",
     "output_type": "stream",
     "text": [
      "Gradient Descent mse:1.184576780497491 - mse_val:1.1583807549947716 (init=False,iterations=1000,time=1.478402853012085,Decay(lr=0.01,b=0.0001))\n",
      "Gradient Descent mse:1.2598023396039422 - mse_val:1.21780244964596 (init=False,iterations=1000,time=1.0125160217285156,Decay(lr=0.01,b=0.0005))\n",
      "Gradient Descent mse:1.1902429576882811 - mse_val:1.1264676599840233 (init=False,iterations=1000,time=0.8404099941253662,Momentum(lr=0.01,b=0.7))\n",
      "Gradient Descent mse:1.1699460284013647 - mse_val:1.1083017710643108 (init=False,iterations=1000,time=0.6320052146911621,Momentum(lr=0.01,b=0.8))\n",
      "Gradient Descent mse:1.172026824177919 - mse_val:1.0958028858687314 (init=False,iterations=1000,time=0.6891779899597168,Momentum(lr=0.01,b=0.9))\n",
      "Gradient Descent mse:1.168976347413466 - mse_val:1.0887842615368948 (init=False,iterations=1000,time=0.8299779891967773,Momentum(lr=0.01,b=0.999))\n",
      "Gradient Descent mse:1.78298043298368 - mse_val:1.8049849474892339 (init=False,iterations=1000,time=0.728090763092041,Constant(lr=0.001))\n",
      "Gradient Descent mse:2.3476072925149425 - mse_val:2.210344744989489 (init=False,iterations=310,time=0.2495582103729248,Decay(lr=0.001,b=0.1))\n",
      "Gradient Descent mse:3.2589084419183822 - mse_val:3.1940356810878914 (init=False,iterations=1000,time=0.6745460033416748,Decay(lr=0.001,b=0.01))\n",
      "Gradient Descent mse:2.0837123444184664 - mse_val:2.096512773469847 (init=False,iterations=1000,time=0.6434199810028076,Decay(lr=0.001,b=0.0001))\n",
      "Gradient Descent mse:2.387883851898855 - mse_val:2.4333168463336166 (init=False,iterations=1000,time=0.7611749172210693,Decay(lr=0.001,b=0.0005))\n",
      "Gradient Descent mse:1.848204249676481 - mse_val:1.8142962990409277 (init=False,iterations=1000,time=0.7746949195861816,Momentum(lr=0.001,b=0.7))\n",
      "Gradient Descent mse:1.9806620757613658 - mse_val:1.9642003503225407 (init=False,iterations=1000,time=0.7103970050811768,Momentum(lr=0.001,b=0.8))\n",
      "Gradient Descent mse:1.814870208450035 - mse_val:1.737819319478154 (init=False,iterations=1000,time=0.8021087646484375,Momentum(lr=0.001,b=0.9))\n",
      "Gradient Descent mse:1.934346896654692 - mse_val:1.928752497122882 (init=False,iterations=1000,time=0.6186351776123047,Momentum(lr=0.001,b=0.999))\n",
      "Gradient Descent mse:2.253693569542865 - mse_val:2.096998318486232 (init=False,iterations=1000,time=0.6835789680480957,Constant(lr=0.0005))\n",
      "Gradient Descent mse:2.780071431541348 - mse_val:2.8282400922214737 (init=False,iterations=1,time=0.0013980865478515625,Decay(lr=0.0005,b=0.1))\n",
      "Gradient Descent mse:3.082551242019195 - mse_val:3.451473097589158 (init=False,iterations=1000,time=0.5928659439086914,Decay(lr=0.0005,b=0.01))\n",
      "Gradient Descent mse:2.102088759894338 - mse_val:2.1583622705428405 (init=False,iterations=1000,time=0.6015899181365967,Decay(lr=0.0005,b=0.0001))\n",
      "Gradient Descent mse:2.3336009278056036 - mse_val:2.30662397342627 (init=False,iterations=1000,time=0.6873459815979004,Decay(lr=0.0005,b=0.0005))\n",
      "Gradient Descent mse:1.82343807096995 - mse_val:1.8108647380364395 (init=False,iterations=1000,time=0.7055759429931641,Momentum(lr=0.0005,b=0.7))\n",
      "Gradient Descent mse:1.9676919692472048 - mse_val:1.948584612271167 (init=False,iterations=1000,time=0.6560990810394287,Momentum(lr=0.0005,b=0.8))\n",
      "Gradient Descent mse:2.2080560499450606 - mse_val:2.200783043999334 (init=False,iterations=1000,time=0.6142308712005615,Momentum(lr=0.0005,b=0.9))\n",
      "Gradient Descent mse:2.3763499551538274 - mse_val:2.4014311159129913 (init=False,iterations=1000,time=0.6636190414428711,Momentum(lr=0.0005,b=0.999))\n",
      "Gradient Descent mse:2.6429419080055383 - mse_val:2.6908500102585737 (init=False,iterations=1000,time=0.5905730724334717,Constant(lr=0.0001))\n",
      "Gradient Descent mse:4.280264452274102 - mse_val:4.385939224509475 (init=False,iterations=41,time=0.023462295532226562,Decay(lr=0.0001,b=0.1))\n",
      "Gradient Descent mse:2.9193514413509845 - mse_val:2.7410514062442495 (init=False,iterations=391,time=0.31686878204345703,Decay(lr=0.0001,b=0.01))\n",
      "Gradient Descent mse:2.5828216134857414 - mse_val:2.6218217555929786 (init=False,iterations=1000,time=1.0214121341705322,Decay(lr=0.0001,b=0.0001))\n",
      "Gradient Descent mse:2.182070534255031 - mse_val:2.3556896268985335 (init=False,iterations=1000,time=1.0608248710632324,Decay(lr=0.0001,b=0.0005))\n",
      "Gradient Descent mse:2.6122161181177943 - mse_val:2.4839025617783723 (init=False,iterations=1000,time=0.9320299625396729,Momentum(lr=0.0001,b=0.7))\n",
      "Gradient Descent mse:2.339288301135103 - mse_val:2.211545535213794 (init=False,iterations=1000,time=1.148406982421875,Momentum(lr=0.0001,b=0.8))\n",
      "Gradient Descent mse:2.344097234824868 - mse_val:2.3413932968221864 (init=False,iterations=1000,time=0.7375369071960449,Momentum(lr=0.0001,b=0.9))\n",
      "Gradient Descent mse:2.3018168012091187 - mse_val:2.2452029235102344 (init=False,iterations=1000,time=1.0657129287719727,Momentum(lr=0.0001,b=0.999))\n",
      "Gradient Descent mse:2.7345477380293874 - mse_val:2.8898874686013105 (init=False,iterations=1,time=0.0016927719116210938,Constant(lr=1e-06))\n",
      "Gradient Descent mse:2.5797780236933434 - mse_val:2.3651058550825645 (init=False,iterations=1,time=0.002668142318725586,Decay(lr=1e-06,b=0.1))\n",
      "Gradient Descent mse:3.034626950029581 - mse_val:3.0928497874774608 (init=False,iterations=1,time=0.0023767948150634766,Decay(lr=1e-06,b=0.01))\n",
      "Gradient Descent mse:3.237699974137722 - mse_val:3.1370328569928487 (init=False,iterations=1,time=0.0018818378448486328,Decay(lr=1e-06,b=0.0001))\n",
      "Gradient Descent mse:2.662966289349243 - mse_val:2.8509845060815495 (init=False,iterations=1,time=0.002193927764892578,Decay(lr=1e-06,b=0.0005))\n",
      "Gradient Descent mse:2.769431027401782 - mse_val:2.979381146105279 (init=False,iterations=1,time=0.0018420219421386719,Momentum(lr=1e-06,b=0.7))\n",
      "Gradient Descent mse:2.747583055410467 - mse_val:2.676911547889551 (init=False,iterations=1,time=0.0031380653381347656,Momentum(lr=1e-06,b=0.8))\n",
      "Gradient Descent mse:2.560030251425568 - mse_val:2.552317827812434 (init=False,iterations=1,time=0.0013921260833740234,Momentum(lr=1e-06,b=0.9))\n",
      "Gradient Descent mse:2.8565786420250743 - mse_val:2.8932575239173124 (init=False,iterations=1,time=0.001661062240600586,Momentum(lr=1e-06,b=0.999))\n",
      "Gradient Descent mse:2.605307113414423 - mse_val:2.5079023492335155 (init=False,iterations=1,time=0.0022389888763427734,Constant(lr=1e-07))\n",
      "Gradient Descent mse:3.056458460700836 - mse_val:3.04700084701942 (init=False,iterations=1,time=0.003301858901977539,Decay(lr=1e-07,b=0.1))\n",
      "Gradient Descent mse:3.470670414066226 - mse_val:3.400355430553628 (init=False,iterations=1,time=0.001344919204711914,Decay(lr=1e-07,b=0.01))\n",
      "Gradient Descent mse:3.225731436548993 - mse_val:3.3327990852260627 (init=False,iterations=1,time=0.0017652511596679688,Decay(lr=1e-07,b=0.0001))\n",
      "Gradient Descent mse:3.213275969047896 - mse_val:3.4624977911696386 (init=False,iterations=1,time=0.002306699752807617,Decay(lr=1e-07,b=0.0005))\n",
      "Gradient Descent mse:2.9876983600421285 - mse_val:2.87267506319087 (init=False,iterations=1,time=0.0026869773864746094,Momentum(lr=1e-07,b=0.7))\n",
      "Gradient Descent mse:2.5651343833794655 - mse_val:2.518226586708447 (init=False,iterations=1,time=0.004001140594482422,Momentum(lr=1e-07,b=0.8))\n",
      "Gradient Descent mse:2.8430444756634876 - mse_val:2.638337935769085 (init=False,iterations=1,time=0.002373218536376953,Momentum(lr=1e-07,b=0.9))\n",
      "Gradient Descent mse:3.0942965539176055 - mse_val:2.8826505781623966 (init=False,iterations=1,time=0.002524137496948242,Momentum(lr=1e-07,b=0.999))\n",
      "Best classifier achieved an error of 1.043027430304691\n",
      "Constant(lr=0.01),error=0.00018013859704474195,step=1000\n"
     ]
    },
    {
     "data": {
      "image/png": "[encoded data removed]",
      "text/plain": [
       "<Figure size 432x288 with 1 Axes>"
      ]
     },
     "metadata": {
      "needs_background": "light"
     },
     "output_type": "display_data"
    }
   ],
   "source": [
    "data_model_14 = 'stopwords_children_50'\n",
    "best_model_14, results_model_14 = model.train_model(data_model_14, init, learning_rates, momentum, decay)"
   ]
  },
  {
   "cell_type": "markdown",
   "metadata": {},
   "source": [
    "#### Model 15\n",
    "Training with features: \n",
    "3. children\n",
    "3. text: stopwords, top 50\n",
    "3. len text"
   ]
  },
  {
   "cell_type": "code",
   "execution_count": 145,
   "metadata": {},
   "outputs": [
    {
     "name": "stdout",
     "output_type": "stream",
     "text": [
      "Closed-form mse:1.565840110257956e+33 - mse_val:1.4398152982424782e+33 (time=0.007886886596679688)\n",
      "Gradient Descent mse:inf - mse_val:inf (init=True,iterations=97,time=0.13180804252624512,Constant(lr=0.01))\n",
      "Gradient Descent mse:inf - mse_val:inf (init=True,iterations=130,time=0.10540294647216797,Decay(lr=0.01,b=0.1))\n",
      "Gradient Descent mse:inf - mse_val:inf (init=True,iterations=103,time=0.09191203117370605,Decay(lr=0.01,b=0.01))\n",
      "Gradient Descent mse:inf - mse_val:inf (init=True,iterations=97,time=0.07188701629638672,Decay(lr=0.01,b=0.0001))\n",
      "Gradient Descent mse:inf - mse_val:inf (init=True,iterations=98,time=0.09472107887268066,Decay(lr=0.01,b=0.0005))\n",
      "Gradient Descent mse:inf - mse_val:inf (init=True,iterations=103,time=0.08363008499145508,Momentum(lr=0.01,b=0.7))\n",
      "Gradient Descent mse:inf - mse_val:inf (init=True,iterations=105,time=0.07912874221801758,Momentum(lr=0.01,b=0.8))\n",
      "Gradient Descent mse:inf - mse_val:inf (init=True,iterations=106,time=0.10660195350646973,Momentum(lr=0.01,b=0.9))\n",
      "Gradient Descent mse:inf - mse_val:inf (init=True,iterations=108,time=0.09357523918151855,Momentum(lr=0.01,b=0.999))\n",
      "Gradient Descent mse:inf - mse_val:inf (init=True,iterations=142,time=0.1049809455871582,Constant(lr=0.001))\n",
      "Gradient Descent mse:inf - mse_val:inf (init=True,iterations=313,time=0.2683582305908203,Decay(lr=0.001,b=0.1))\n",
      "Gradient Descent mse:inf - mse_val:inf (init=True,iterations=160,time=0.10700678825378418,Decay(lr=0.001,b=0.01))\n",
      "Gradient Descent mse:inf - mse_val:inf (init=True,iterations=142,time=0.09230184555053711,Decay(lr=0.001,b=0.0001))\n",
      "Gradient Descent mse:inf - mse_val:inf (init=True,iterations=143,time=0.11067795753479004,Decay(lr=0.001,b=0.0005))\n",
      "Gradient Descent mse:inf - mse_val:inf (init=True,iterations=156,time=0.13499116897583008,Momentum(lr=0.001,b=0.7))\n",
      "Gradient Descent mse:inf - mse_val:inf (init=True,iterations=159,time=0.10074877738952637,Momentum(lr=0.001,b=0.8))\n",
      "Gradient Descent mse:inf - mse_val:inf (init=True,iterations=162,time=0.12625885009765625,Momentum(lr=0.001,b=0.9))\n",
      "Gradient Descent mse:inf - mse_val:inf (init=True,iterations=166,time=0.11367297172546387,Momentum(lr=0.001,b=0.999))\n",
      "Gradient Descent mse:inf - mse_val:inf (init=True,iterations=165,time=0.1196601390838623,Constant(lr=0.0005))\n"
     ]
    },
    {
     "name": "stderr",
     "output_type": "stream",
     "text": [
      "/Users/cuent/Desktop/assignment1/metric.py:5: RuntimeWarning: overflow encountered in square\n",
      "  return np.square(y - y_pred).mean()\n"
     ]
    },
    {
     "name": "stdout",
     "output_type": "stream",
     "text": [
      "Gradient Descent mse:inf - mse_val:inf (init=True,iterations=1000,time=0.662255048751831,Decay(lr=0.0005,b=0.1))\n",
      "Gradient Descent mse:inf - mse_val:inf (init=True,iterations=195,time=0.127640962600708,Decay(lr=0.0005,b=0.01))\n",
      "Gradient Descent mse:inf - mse_val:inf (init=True,iterations=166,time=0.13578510284423828,Decay(lr=0.0005,b=0.0001))\n",
      "Gradient Descent mse:inf - mse_val:inf (init=True,iterations=167,time=0.1857588291168213,Decay(lr=0.0005,b=0.0005))\n",
      "Gradient Descent mse:inf - mse_val:inf (init=True,iterations=185,time=0.20011281967163086,Momentum(lr=0.0005,b=0.7))\n",
      "Gradient Descent mse:inf - mse_val:inf (init=True,iterations=189,time=0.20044589042663574,Momentum(lr=0.0005,b=0.8))\n",
      "Gradient Descent mse:inf - mse_val:inf (init=True,iterations=194,time=0.20483708381652832,Momentum(lr=0.0005,b=0.9))\n",
      "Gradient Descent mse:inf - mse_val:inf (init=True,iterations=199,time=0.21084976196289062,Momentum(lr=0.0005,b=0.999))\n",
      "Gradient Descent mse:inf - mse_val:inf (init=True,iterations=272,time=0.2434239387512207,Constant(lr=0.0001))\n",
      "Gradient Descent mse:206143972877.6257 - mse_val:217766631807.54364 (init=True,iterations=1000,time=0.8590567111968994,Decay(lr=0.0001,b=0.1))\n",
      "Gradient Descent mse:inf - mse_val:inf (init=True,iterations=1000,time=1.0084228515625,Decay(lr=0.0001,b=0.01))\n",
      "Gradient Descent mse:inf - mse_val:inf (init=True,iterations=273,time=0.27020907402038574,Decay(lr=0.0001,b=0.0001))\n",
      "Gradient Descent mse:inf - mse_val:inf (init=True,iterations=280,time=0.2679448127746582,Decay(lr=0.0001,b=0.0005))\n",
      "Gradient Descent mse:inf - mse_val:inf (init=True,iterations=339,time=0.3246030807495117,Momentum(lr=0.0001,b=0.7))\n",
      "Gradient Descent mse:inf - mse_val:inf (init=True,iterations=357,time=0.33188295364379883,Momentum(lr=0.0001,b=0.8))\n",
      "Gradient Descent mse:inf - mse_val:inf (init=True,iterations=380,time=0.3627138137817383,Momentum(lr=0.0001,b=0.9))\n",
      "Gradient Descent mse:inf - mse_val:inf (init=True,iterations=411,time=0.5217509269714355,Momentum(lr=0.0001,b=0.999))\n",
      "Gradient Descent mse:1.8929135017340337 - mse_val:1.787630538814189 (init=True,iterations=23,time=0.02575993537902832,Constant(lr=1e-06))\n",
      "Gradient Descent mse:1.8973057833974643 - mse_val:1.7966922815866497 (init=True,iterations=29,time=0.03868699073791504,Decay(lr=1e-06,b=0.1))\n",
      "Gradient Descent mse:1.8930655266726943 - mse_val:1.7881364057700957 (init=True,iterations=24,time=0.02715587615966797,Decay(lr=1e-06,b=0.01))\n",
      "Gradient Descent mse:1.892915488607858 - mse_val:1.7876377111258082 (init=True,iterations=23,time=0.0191347599029541,Decay(lr=1e-06,b=0.0001))\n",
      "Gradient Descent mse:1.8929235366701487 - mse_val:1.7876665712942603 (init=True,iterations=23,time=0.016670942306518555,Decay(lr=1e-06,b=0.0005))\n",
      "Gradient Descent mse:1.8928462672107893 - mse_val:1.787327373726847 (init=True,iterations=22,time=0.015606880187988281,Momentum(lr=1e-06,b=0.7))\n",
      "Gradient Descent mse:1.8928294162380552 - mse_val:1.7872476274801594 (init=True,iterations=22,time=0.026452064514160156,Momentum(lr=1e-06,b=0.8))\n",
      "Gradient Descent mse:1.8928630516565788 - mse_val:1.7873813226676993 (init=True,iterations=21,time=0.053589820861816406,Momentum(lr=1e-06,b=0.9))\n",
      "Gradient Descent mse:1.8928431881459735 - mse_val:1.7872902733762968 (init=True,iterations=21,time=0.02897191047668457,Momentum(lr=1e-06,b=0.999))\n",
      "Gradient Descent mse:1.926577094808464 - mse_val:1.8390099677963487 (init=True,iterations=66,time=0.05544304847717285,Constant(lr=1e-07))\n",
      "Gradient Descent mse:2.067705435094049 - mse_val:2.018171249416689 (init=True,iterations=13,time=0.00842595100402832,Decay(lr=1e-07,b=0.1))\n",
      "Gradient Descent mse:1.966884673140041 - mse_val:1.891811576704362 (init=True,iterations=47,time=0.035959720611572266,Decay(lr=1e-07,b=0.01))\n",
      "Gradient Descent mse:1.9267903087145652 - mse_val:1.8392977485322308 (init=True,iterations=66,time=0.05150723457336426,Decay(lr=1e-07,b=0.0001))\n",
      "Gradient Descent mse:1.9286078738762147 - mse_val:1.8417455015208513 (init=True,iterations=65,time=0.043039798736572266,Decay(lr=1e-07,b=0.0005))\n",
      "Gradient Descent mse:1.9256774207865364 - mse_val:1.8377939844183515 (init=True,iterations=67,time=0.07366609573364258,Momentum(lr=1e-07,b=0.7))\n",
      "Gradient Descent mse:1.925683486284031 - mse_val:1.8378021724967857 (init=True,iterations=67,time=0.05462908744812012,Momentum(lr=1e-07,b=0.8))\n",
      "Gradient Descent mse:1.9256894360988464 - mse_val:1.837810203938316 (init=True,iterations=67,time=0.07638716697692871,Momentum(lr=1e-07,b=0.9))\n",
      "Gradient Descent mse:1.9256952116913173 - mse_val:1.8378179997335644 (init=True,iterations=67,time=0.043283939361572266,Momentum(lr=1e-07,b=0.999))\n",
      "Gradient Descent mse:inf - mse_val:inf (init=False,iterations=97,time=0.07037186622619629,Constant(lr=0.01))\n",
      "Gradient Descent mse:inf - mse_val:inf (init=False,iterations=167,time=0.11071109771728516,Decay(lr=0.01,b=0.1))\n",
      "Gradient Descent mse:inf - mse_val:inf (init=False,iterations=111,time=0.07099795341491699,Decay(lr=0.01,b=0.01))\n",
      "Gradient Descent mse:inf - mse_val:inf (init=False,iterations=97,time=0.10660290718078613,Decay(lr=0.01,b=0.0001))\n",
      "Gradient Descent mse:inf - mse_val:inf (init=False,iterations=97,time=0.0835731029510498,Decay(lr=0.01,b=0.0005))\n",
      "Gradient Descent mse:inf - mse_val:inf (init=False,iterations=1,time=0.0018911361694335938,Momentum(lr=0.01,b=0.7))\n",
      "Gradient Descent mse:inf - mse_val:inf (init=False,iterations=1,time=0.0012989044189453125,Momentum(lr=0.01,b=0.8))\n",
      "Gradient Descent mse:inf - mse_val:inf (init=False,iterations=1,time=0.001276254653930664,Momentum(lr=0.01,b=0.9))\n",
      "Gradient Descent mse:inf - mse_val:inf (init=False,iterations=1,time=0.001371145248413086,Momentum(lr=0.01,b=0.999))\n",
      "Gradient Descent mse:inf - mse_val:inf (init=False,iterations=141,time=0.09760093688964844,Constant(lr=0.001))\n",
      "Gradient Descent mse:1.667140572236501e+154 - mse_val:1.640266662625941e+154 (init=False,iterations=1000,time=0.657656192779541,Decay(lr=0.001,b=0.1))\n",
      "Gradient Descent mse:inf - mse_val:inf (init=False,iterations=189,time=0.12978005409240723,Decay(lr=0.001,b=0.01))\n",
      "Gradient Descent mse:inf - mse_val:inf (init=False,iterations=142,time=0.09720301628112793,Decay(lr=0.001,b=0.0001))\n",
      "Gradient Descent mse:inf - mse_val:inf (init=False,iterations=144,time=0.09259581565856934,Decay(lr=0.001,b=0.0005))\n",
      "Gradient Descent mse:inf - mse_val:inf (init=False,iterations=1,time=0.0015099048614501953,Momentum(lr=0.001,b=0.7))\n",
      "Gradient Descent mse:inf - mse_val:inf (init=False,iterations=1,time=0.0014040470123291016,Momentum(lr=0.001,b=0.8))\n",
      "Gradient Descent mse:inf - mse_val:inf (init=False,iterations=1,time=0.0013949871063232422,Momentum(lr=0.001,b=0.9))\n",
      "Gradient Descent mse:inf - mse_val:inf (init=False,iterations=1,time=0.001458883285522461,Momentum(lr=0.001,b=0.999))\n",
      "Gradient Descent mse:inf - mse_val:inf (init=False,iterations=164,time=0.1170339584350586,Constant(lr=0.0005))\n",
      "Gradient Descent mse:1.7985997503079 - mse_val:1.729267424959977 (init=False,iterations=10,time=0.0069730281829833984,Decay(lr=0.0005,b=0.1))\n",
      "Gradient Descent mse:inf - mse_val:inf (init=False,iterations=250,time=0.16903138160705566,Decay(lr=0.0005,b=0.01))\n",
      "Gradient Descent mse:inf - mse_val:inf (init=False,iterations=165,time=0.11012506484985352,Decay(lr=0.0005,b=0.0001))\n",
      "Gradient Descent mse:inf - mse_val:inf (init=False,iterations=169,time=0.11263179779052734,Decay(lr=0.0005,b=0.0005))\n",
      "Gradient Descent mse:inf - mse_val:inf (init=False,iterations=1,time=0.0013990402221679688,Momentum(lr=0.0005,b=0.7))\n",
      "Gradient Descent mse:inf - mse_val:inf (init=False,iterations=1,time=0.001310110092163086,Momentum(lr=0.0005,b=0.8))\n",
      "Gradient Descent mse:inf - mse_val:inf (init=False,iterations=1,time=0.0012898445129394531,Momentum(lr=0.0005,b=0.9))\n",
      "Gradient Descent mse:inf - mse_val:inf (init=False,iterations=1,time=0.001332998275756836,Momentum(lr=0.0005,b=0.999))\n",
      "Gradient Descent mse:inf - mse_val:inf (init=False,iterations=270,time=0.1945338249206543,Constant(lr=0.0001))\n",
      "Gradient Descent mse:1.9154528481379391 - mse_val:1.9341168969979303 (init=False,iterations=58,time=0.03903818130493164,Decay(lr=0.0001,b=0.1))\n",
      "Gradient Descent mse:2.1062696404753662 - mse_val:2.1165252374228514 (init=False,iterations=776,time=0.5067317485809326,Decay(lr=0.0001,b=0.01))\n",
      "Gradient Descent mse:inf - mse_val:inf (init=False,iterations=274,time=0.18401622772216797,Decay(lr=0.0001,b=0.0001))\n"
     ]
    },
    {
     "name": "stdout",
     "output_type": "stream",
     "text": [
      "Gradient Descent mse:inf - mse_val:inf (init=False,iterations=293,time=0.20128202438354492,Decay(lr=0.0001,b=0.0005))\n",
      "Gradient Descent mse:inf - mse_val:inf (init=False,iterations=1,time=0.001402139663696289,Momentum(lr=0.0001,b=0.7))\n",
      "Gradient Descent mse:inf - mse_val:inf (init=False,iterations=1,time=0.0013871192932128906,Momentum(lr=0.0001,b=0.8))\n",
      "Gradient Descent mse:inf - mse_val:inf (init=False,iterations=1,time=0.001336812973022461,Momentum(lr=0.0001,b=0.9))\n",
      "Gradient Descent mse:inf - mse_val:inf (init=False,iterations=1,time=0.0013217926025390625,Momentum(lr=0.0001,b=0.999))\n",
      "Gradient Descent mse:2.3248971802575107 - mse_val:2.409557467710854 (init=False,iterations=64,time=0.042379140853881836,Constant(lr=1e-06))\n",
      "Gradient Descent mse:2.8368975089920623 - mse_val:2.7676176763209277 (init=False,iterations=432,time=0.28362488746643066,Decay(lr=1e-06,b=0.1))\n",
      "Gradient Descent mse:2.2022994299729404 - mse_val:2.2939994901959655 (init=False,iterations=91,time=0.06085395812988281,Decay(lr=1e-06,b=0.01))\n",
      "Gradient Descent mse:1.8823443196243677 - mse_val:1.9050771754412776 (init=False,iterations=62,time=0.04121088981628418,Decay(lr=1e-06,b=0.0001))\n",
      "Gradient Descent mse:1.8328422628037189 - mse_val:1.8253793852391087 (init=False,iterations=66,time=0.04573702812194824,Decay(lr=1e-06,b=0.0005))\n",
      "Gradient Descent mse:1.6481947478480539 - mse_val:1.6068435928759275 (init=False,iterations=45,time=0.03235125541687012,Momentum(lr=1e-06,b=0.7))\n",
      "Gradient Descent mse:2.03520915257944 - mse_val:1.9291197062363206 (init=False,iterations=55,time=0.03714609146118164,Momentum(lr=1e-06,b=0.8))\n",
      "Gradient Descent mse:1.7618729787373293 - mse_val:1.648898594474774 (init=False,iterations=50,time=0.034924983978271484,Momentum(lr=1e-06,b=0.9))\n",
      "Gradient Descent mse:2.000314555198288 - mse_val:1.9816146501954033 (init=False,iterations=44,time=0.02927994728088379,Momentum(lr=1e-06,b=0.999))\n",
      "Gradient Descent mse:2.444491375980239 - mse_val:2.4877770012652007 (init=False,iterations=284,time=0.19025206565856934,Constant(lr=1e-07))\n",
      "Gradient Descent mse:6626.340990496905 - mse_val:7569.3104277317025 (init=False,iterations=1000,time=0.6745078563690186,Decay(lr=1e-07,b=0.1))\n",
      "Gradient Descent mse:5.054635891322849 - mse_val:5.3011095062249 (init=False,iterations=788,time=0.5346276760101318,Decay(lr=1e-07,b=0.01))\n",
      "Gradient Descent mse:2.0798776917290316 - mse_val:2.0113991407875274 (init=False,iterations=499,time=0.33380889892578125,Decay(lr=1e-07,b=0.0001))\n",
      "Gradient Descent mse:2.036101315558984 - mse_val:1.9439711252441794 (init=False,iterations=553,time=0.3782310485839844,Decay(lr=1e-07,b=0.0005))\n",
      "Gradient Descent mse:1.9235489967690675 - mse_val:1.8594268323363081 (init=False,iterations=503,time=0.35984110832214355,Momentum(lr=1e-07,b=0.7))\n",
      "Gradient Descent mse:1.9313995140794264 - mse_val:1.9198116891763344 (init=False,iterations=469,time=0.32615089416503906,Momentum(lr=1e-07,b=0.8))\n",
      "Gradient Descent mse:1.9405356087739571 - mse_val:1.9129455641204895 (init=False,iterations=447,time=0.3273627758026123,Momentum(lr=1e-07,b=0.9))\n",
      "Gradient Descent mse:1.8341924410248942 - mse_val:1.7372409744684616 (init=False,iterations=489,time=0.3524448871612549,Momentum(lr=1e-07,b=0.999))\n",
      "Best classifier achieved an error of 1.6068435928759275\n",
      "Momentum(lr=1e-06,b=0.7),error=8.492105544563902e-06,step=45\n"
     ]
    },
    {
     "data": {
      "image/png": "[encoded data removed]",
      "text/plain": [
       "<Figure size 432x288 with 1 Axes>"
      ]
     },
     "metadata": {
      "needs_background": "light"
     },
     "output_type": "display_data"
    }
   ],
   "source": [
    "data_model_15 = 'stopwords_len_top50'\n",
    "best_model_15, results_model_15 = model.train_model(data_model_15, init, learning_rates, momentum, decay)"
   ]
  },
  {
   "cell_type": "markdown",
   "metadata": {},
   "source": [
    "#### Model 15\n",
    "Training with features: \n",
    "3. children\n",
    "3. text: top 50\n",
    "3. len text"
   ]
  },
  {
   "cell_type": "code",
   "execution_count": 146,
   "metadata": {},
   "outputs": [
    {
     "name": "stdout",
     "output_type": "stream",
     "text": [
      "Closed-form mse:1.093953449296535 - mse_val:1.0326569560414962 (time=0.001901865005493164)\n",
      "Gradient Descent mse:inf - mse_val:inf (init=True,iterations=97,time=0.12052488327026367,Constant(lr=0.01))\n",
      "Gradient Descent mse:inf - mse_val:inf (init=True,iterations=130,time=0.10960602760314941,Decay(lr=0.01,b=0.1))\n",
      "Gradient Descent mse:inf - mse_val:inf (init=True,iterations=103,time=0.09383988380432129,Decay(lr=0.01,b=0.01))\n",
      "Gradient Descent mse:inf - mse_val:inf (init=True,iterations=97,time=0.07022690773010254,Decay(lr=0.01,b=0.0001))\n",
      "Gradient Descent mse:nan - mse_val:nan (init=True,iterations=98,time=0.09212803840637207,Decay(lr=0.01,b=0.0005))\n",
      "Gradient Descent mse:inf - mse_val:inf (init=True,iterations=103,time=0.0785820484161377,Momentum(lr=0.01,b=0.7))\n",
      "Gradient Descent mse:nan - mse_val:nan (init=True,iterations=105,time=0.08167099952697754,Momentum(lr=0.01,b=0.8))\n",
      "Gradient Descent mse:inf - mse_val:inf (init=True,iterations=106,time=0.09076094627380371,Momentum(lr=0.01,b=0.9))\n",
      "Gradient Descent mse:nan - mse_val:nan (init=True,iterations=108,time=0.07418584823608398,Momentum(lr=0.01,b=0.999))\n",
      "Gradient Descent mse:inf - mse_val:inf (init=True,iterations=142,time=0.08666586875915527,Constant(lr=0.001))\n",
      "Gradient Descent mse:inf - mse_val:inf (init=True,iterations=313,time=0.2309718132019043,Decay(lr=0.001,b=0.1))\n",
      "Gradient Descent mse:inf - mse_val:inf (init=True,iterations=160,time=0.09574127197265625,Decay(lr=0.001,b=0.01))\n",
      "Gradient Descent mse:inf - mse_val:inf (init=True,iterations=142,time=0.08998489379882812,Decay(lr=0.001,b=0.0001))\n",
      "Gradient Descent mse:inf - mse_val:inf (init=True,iterations=143,time=0.15329289436340332,Decay(lr=0.001,b=0.0005))\n",
      "Gradient Descent mse:inf - mse_val:inf (init=True,iterations=156,time=0.1595468521118164,Momentum(lr=0.001,b=0.7))\n",
      "Gradient Descent mse:inf - mse_val:inf (init=True,iterations=159,time=0.16155123710632324,Momentum(lr=0.001,b=0.8))\n",
      "Gradient Descent mse:inf - mse_val:inf (init=True,iterations=162,time=0.10680198669433594,Momentum(lr=0.001,b=0.9))\n",
      "Gradient Descent mse:inf - mse_val:inf (init=True,iterations=166,time=0.12714624404907227,Momentum(lr=0.001,b=0.999))\n",
      "Gradient Descent mse:inf - mse_val:inf (init=True,iterations=165,time=0.11592483520507812,Constant(lr=0.0005))\n",
      "Gradient Descent mse:inf - mse_val:inf (init=True,iterations=1000,time=0.719080924987793,Decay(lr=0.0005,b=0.1))\n",
      "Gradient Descent mse:inf - mse_val:inf (init=True,iterations=195,time=0.12987923622131348,Decay(lr=0.0005,b=0.01))\n",
      "Gradient Descent mse:inf - mse_val:inf (init=True,iterations=166,time=0.13569116592407227,Decay(lr=0.0005,b=0.0001))\n",
      "Gradient Descent mse:inf - mse_val:inf (init=True,iterations=167,time=0.11658382415771484,Decay(lr=0.0005,b=0.0005))\n",
      "Gradient Descent mse:inf - mse_val:inf (init=True,iterations=185,time=0.14742493629455566,Momentum(lr=0.0005,b=0.7))\n",
      "Gradient Descent mse:inf - mse_val:inf (init=True,iterations=189,time=0.1432819366455078,Momentum(lr=0.0005,b=0.8))\n",
      "Gradient Descent mse:inf - mse_val:inf (init=True,iterations=194,time=0.18322181701660156,Momentum(lr=0.0005,b=0.9))\n",
      "Gradient Descent mse:inf - mse_val:inf (init=True,iterations=199,time=0.16212105751037598,Momentum(lr=0.0005,b=0.999))\n",
      "Gradient Descent mse:inf - mse_val:inf (init=True,iterations=272,time=0.2642829418182373,Constant(lr=0.0001))\n",
      "Gradient Descent mse:12375750231446.16 - mse_val:13670923215770.158 (init=True,iterations=1000,time=0.7917628288269043,Decay(lr=0.0001,b=0.1))\n",
      "Gradient Descent mse:inf - mse_val:inf (init=True,iterations=1000,time=0.7427668571472168,Decay(lr=0.0001,b=0.01))\n",
      "Gradient Descent mse:inf - mse_val:inf (init=True,iterations=273,time=0.1775219440460205,Decay(lr=0.0001,b=0.0001))\n",
      "Gradient Descent mse:inf - mse_val:inf (init=True,iterations=280,time=0.22789597511291504,Decay(lr=0.0001,b=0.0005))\n",
      "Gradient Descent mse:inf - mse_val:inf (init=True,iterations=339,time=0.2931027412414551,Momentum(lr=0.0001,b=0.7))\n",
      "Gradient Descent mse:inf - mse_val:inf (init=True,iterations=357,time=0.26229405403137207,Momentum(lr=0.0001,b=0.8))\n",
      "Gradient Descent mse:inf - mse_val:inf (init=True,iterations=380,time=0.31662631034851074,Momentum(lr=0.0001,b=0.9))\n",
      "Gradient Descent mse:inf - mse_val:inf (init=True,iterations=411,time=0.3073270320892334,Momentum(lr=0.0001,b=0.999))\n",
      "Gradient Descent mse:1.8929084215266514 - mse_val:1.7876306301678386 (init=True,iterations=23,time=0.023865222930908203,Constant(lr=1e-06))\n",
      "Gradient Descent mse:1.8972993958389728 - mse_val:1.796687315182403 (init=True,iterations=29,time=0.021477937698364258,Decay(lr=1e-06,b=0.1))\n",
      "Gradient Descent mse:1.8930605885138447 - mse_val:1.7881361647789422 (init=True,iterations=24,time=0.015234231948852539,Decay(lr=1e-06,b=0.01))\n",
      "Gradient Descent mse:1.8929104114874513 - mse_val:1.7876377977911624 (init=True,iterations=23,time=0.015388011932373047,Decay(lr=1e-06,b=0.0001))\n",
      "Gradient Descent mse:1.8929184716416398 - mse_val:1.787666639076717 (init=True,iterations=23,time=0.019804000854492188,Decay(lr=1e-06,b=0.0005))\n",
      "Gradient Descent mse:1.8928415669570449 - mse_val:1.7873276417233368 (init=True,iterations=22,time=0.014944076538085938,Momentum(lr=1e-06,b=0.7))\n",
      "Gradient Descent mse:1.8928247553680266 - mse_val:1.78724794976384 (init=True,iterations=22,time=0.014438867568969727,Momentum(lr=1e-06,b=0.8))\n",
      "Gradient Descent mse:1.8928585451530446 - mse_val:1.7873815127153303 (init=True,iterations=21,time=0.014631986618041992,Momentum(lr=1e-06,b=0.9))\n",
      "Gradient Descent mse:1.8928387251663066 - mse_val:1.7872905235888041 (init=True,iterations=21,time=0.020671844482421875,Momentum(lr=1e-06,b=0.999))\n",
      "Gradient Descent mse:1.9265633985542325 - mse_val:1.8389939498986958 (init=True,iterations=66,time=0.06378483772277832,Constant(lr=1e-07))\n",
      "Gradient Descent mse:2.0676975838131857 - mse_val:2.018161785692694 (init=True,iterations=13,time=0.010464191436767578,Decay(lr=1e-07,b=0.1))\n",
      "Gradient Descent mse:1.9668682791231549 - mse_val:1.891791860469027 (init=True,iterations=47,time=0.036047935485839844,Decay(lr=1e-07,b=0.01))\n",
      "Gradient Descent mse:1.9267765818138003 - mse_val:1.8392816885501861 (init=True,iterations=66,time=0.056288957595825195,Decay(lr=1e-07,b=0.0001))\n",
      "Gradient Descent mse:1.9285938937258107 - mse_val:1.8417290943253848 (init=True,iterations=65,time=0.07217717170715332,Decay(lr=1e-07,b=0.0005))\n",
      "Gradient Descent mse:1.9256637490092126 - mse_val:1.8377779940999193 (init=True,iterations=67,time=0.06751108169555664,Momentum(lr=1e-07,b=0.7))\n",
      "Gradient Descent mse:1.9256697977832846 - mse_val:1.8377861583152184 (init=True,iterations=67,time=0.05735611915588379,Momentum(lr=1e-07,b=0.8))\n",
      "Gradient Descent mse:1.9256757308125168 - mse_val:1.8377941658090509 (init=True,iterations=67,time=0.07573199272155762,Momentum(lr=1e-07,b=0.9))\n",
      "Gradient Descent mse:1.925681489725772 - mse_val:1.8378019378124018 (init=True,iterations=67,time=0.0711050033569336,Momentum(lr=1e-07,b=0.999))\n",
      "Gradient Descent mse:nan - mse_val:nan (init=False,iterations=97,time=0.0691981315612793,Constant(lr=0.01))\n",
      "Gradient Descent mse:inf - mse_val:inf (init=False,iterations=168,time=0.14809894561767578,Decay(lr=0.01,b=0.1))\n",
      "Gradient Descent mse:nan - mse_val:nan (init=False,iterations=111,time=0.08433890342712402,Decay(lr=0.01,b=0.01))\n",
      "Gradient Descent mse:inf - mse_val:inf (init=False,iterations=97,time=0.08827614784240723,Decay(lr=0.01,b=0.0001))\n",
      "Gradient Descent mse:nan - mse_val:nan (init=False,iterations=98,time=0.14178991317749023,Decay(lr=0.01,b=0.0005))\n",
      "Gradient Descent mse:inf - mse_val:inf (init=False,iterations=1,time=0.0016896724700927734,Momentum(lr=0.01,b=0.7))\n",
      "Gradient Descent mse:nan - mse_val:nan (init=False,iterations=1,time=0.001708984375,Momentum(lr=0.01,b=0.8))\n",
      "Gradient Descent mse:inf - mse_val:inf (init=False,iterations=1,time=0.0018489360809326172,Momentum(lr=0.01,b=0.9))\n",
      "Gradient Descent mse:nan - mse_val:nan (init=False,iterations=1,time=0.0018796920776367188,Momentum(lr=0.01,b=0.999))\n",
      "Gradient Descent mse:inf - mse_val:inf (init=False,iterations=141,time=0.15159392356872559,Constant(lr=0.001))\n",
      "Gradient Descent mse:3.3883513577479306e+154 - mse_val:3.51944484459091e+154 (init=False,iterations=1000,time=0.8845632076263428,Decay(lr=0.001,b=0.1))\n",
      "Gradient Descent mse:inf - mse_val:inf (init=False,iterations=189,time=0.1180422306060791,Decay(lr=0.001,b=0.01))\n"
     ]
    },
    {
     "name": "stdout",
     "output_type": "stream",
     "text": [
      "Gradient Descent mse:inf - mse_val:inf (init=False,iterations=142,time=0.09601593017578125,Decay(lr=0.001,b=0.0001))\n",
      "Gradient Descent mse:inf - mse_val:inf (init=False,iterations=144,time=0.13302016258239746,Decay(lr=0.001,b=0.0005))\n",
      "Gradient Descent mse:inf - mse_val:inf (init=False,iterations=1,time=0.0019469261169433594,Momentum(lr=0.001,b=0.7))\n",
      "Gradient Descent mse:inf - mse_val:inf (init=False,iterations=1,time=0.0012929439544677734,Momentum(lr=0.001,b=0.8))\n",
      "Gradient Descent mse:inf - mse_val:inf (init=False,iterations=1,time=0.0019888877868652344,Momentum(lr=0.001,b=0.9))\n",
      "Gradient Descent mse:inf - mse_val:inf (init=False,iterations=1,time=0.0013270378112792969,Momentum(lr=0.001,b=0.999))\n",
      "Gradient Descent mse:inf - mse_val:inf (init=False,iterations=164,time=0.14353108406066895,Constant(lr=0.0005))\n",
      "Gradient Descent mse:7.998236016235295 - mse_val:9.444417524057881 (init=False,iterations=1000,time=0.7508049011230469,Decay(lr=0.0005,b=0.1))\n",
      "Gradient Descent mse:inf - mse_val:inf (init=False,iterations=250,time=0.1686568260192871,Decay(lr=0.0005,b=0.01))\n",
      "Gradient Descent mse:inf - mse_val:inf (init=False,iterations=165,time=0.13327312469482422,Decay(lr=0.0005,b=0.0001))\n",
      "Gradient Descent mse:inf - mse_val:inf (init=False,iterations=169,time=0.10284805297851562,Decay(lr=0.0005,b=0.0005))\n",
      "Gradient Descent mse:inf - mse_val:inf (init=False,iterations=1,time=0.001280069351196289,Momentum(lr=0.0005,b=0.7))\n",
      "Gradient Descent mse:inf - mse_val:inf (init=False,iterations=1,time=0.0013170242309570312,Momentum(lr=0.0005,b=0.8))\n",
      "Gradient Descent mse:inf - mse_val:inf (init=False,iterations=1,time=0.0012888908386230469,Momentum(lr=0.0005,b=0.9))\n",
      "Gradient Descent mse:inf - mse_val:inf (init=False,iterations=1,time=0.001264810562133789,Momentum(lr=0.0005,b=0.999))\n",
      "Gradient Descent mse:inf - mse_val:inf (init=False,iterations=269,time=0.28219008445739746,Constant(lr=0.0001))\n",
      "Gradient Descent mse:7.210969485703994 - mse_val:8.204188136199322 (init=False,iterations=68,time=0.06286311149597168,Decay(lr=0.0001,b=0.1))\n",
      "Gradient Descent mse:6.52618711116117 - mse_val:7.098434549095755 (init=False,iterations=1000,time=0.8479709625244141,Decay(lr=0.0001,b=0.01))\n",
      "Gradient Descent mse:inf - mse_val:inf (init=False,iterations=275,time=0.27263689041137695,Decay(lr=0.0001,b=0.0001))\n",
      "Gradient Descent mse:inf - mse_val:inf (init=False,iterations=294,time=0.2654850482940674,Decay(lr=0.0001,b=0.0005))\n",
      "Gradient Descent mse:inf - mse_val:inf (init=False,iterations=1,time=0.001644134521484375,Momentum(lr=0.0001,b=0.7))\n",
      "Gradient Descent mse:inf - mse_val:inf (init=False,iterations=1,time=0.0017490386962890625,Momentum(lr=0.0001,b=0.8))\n",
      "Gradient Descent mse:inf - mse_val:inf (init=False,iterations=1,time=0.0018591880798339844,Momentum(lr=0.0001,b=0.9))\n",
      "Gradient Descent mse:inf - mse_val:inf (init=False,iterations=1,time=0.002772808074951172,Momentum(lr=0.0001,b=0.999))\n",
      "Gradient Descent mse:8.188274434153922 - mse_val:8.976746758505062 (init=False,iterations=63,time=0.05901694297790527,Constant(lr=1e-06))\n",
      "Gradient Descent mse:8.976905275263173 - mse_val:9.797748027493531 (init=False,iterations=751,time=0.7538771629333496,Decay(lr=1e-06,b=0.1))\n",
      "Gradient Descent mse:9.07784879327706 - mse_val:9.999423676115734 (init=False,iterations=84,time=0.10350513458251953,Decay(lr=1e-06,b=0.01))\n",
      "Gradient Descent mse:7.298620519531752 - mse_val:7.884108964376777 (init=False,iterations=60,time=0.07630515098571777,Decay(lr=1e-06,b=0.0001))\n",
      "Gradient Descent mse:9.9061583327489 - mse_val:11.486236211321156 (init=False,iterations=56,time=0.07312178611755371,Decay(lr=1e-06,b=0.0005))\n",
      "Gradient Descent mse:5.526414348654993 - mse_val:5.705498414255722 (init=False,iterations=49,time=0.06138801574707031,Momentum(lr=1e-06,b=0.7))\n",
      "Gradient Descent mse:8.47194358008736 - mse_val:9.654108786128937 (init=False,iterations=47,time=0.056818246841430664,Momentum(lr=1e-06,b=0.8))\n",
      "Gradient Descent mse:8.510567730423247 - mse_val:8.972462573342685 (init=False,iterations=44,time=0.04881405830383301,Momentum(lr=1e-06,b=0.9))\n",
      "Gradient Descent mse:11.90192044274912 - mse_val:14.174512630590373 (init=False,iterations=55,time=0.04257607460021973,Momentum(lr=1e-06,b=0.999))\n",
      "Gradient Descent mse:6.512159375825348 - mse_val:6.595488988324536 (init=False,iterations=394,time=0.3945438861846924,Constant(lr=1e-07))\n",
      "Gradient Descent mse:431.70859964965655 - mse_val:507.9559141057768 (init=False,iterations=1000,time=0.8012471199035645,Decay(lr=1e-07,b=0.1))\n",
      "Gradient Descent mse:241.92583699952928 - mse_val:298.73651109359776 (init=False,iterations=1000,time=0.7151389122009277,Decay(lr=1e-07,b=0.01))\n",
      "Gradient Descent mse:8.855282816059344 - mse_val:10.127068754317003 (init=False,iterations=428,time=0.3207361698150635,Decay(lr=1e-07,b=0.0001))\n",
      "Gradient Descent mse:6.830001479702059 - mse_val:7.227161121166742 (init=False,iterations=523,time=0.4152660369873047,Decay(lr=1e-07,b=0.0005))\n",
      "Gradient Descent mse:6.042274744994572 - mse_val:6.407313931722716 (init=False,iterations=472,time=0.3783872127532959,Momentum(lr=1e-07,b=0.7))\n",
      "Gradient Descent mse:7.548538441322162 - mse_val:8.640971399435148 (init=False,iterations=506,time=0.402634859085083,Momentum(lr=1e-07,b=0.8))\n",
      "Gradient Descent mse:6.75267637364363 - mse_val:7.719985295698822 (init=False,iterations=433,time=0.40537023544311523,Momentum(lr=1e-07,b=0.9))\n",
      "Gradient Descent mse:8.40585727918011 - mse_val:9.489773422662653 (init=False,iterations=444,time=0.4085249900817871,Momentum(lr=1e-07,b=0.999))\n",
      "Best classifier achieved an error of 1.0326569560414962\n",
      "<linear_regression.LinearRegressionMSE object at 0x123eac9e8>\n"
     ]
    }
   ],
   "source": [
    "data_model_16 = 'len_top50'\n",
    "best_model_16, results_model_16 = model.train_model(data_model_16, init, learning_rates, momentum, decay)"
   ]
  },
  {
   "cell_type": "markdown",
   "metadata": {},
   "source": [
    "#### Model 17\n",
    "Training with features: \n",
    "3. children\n",
    "3. text: top 10\n",
    "3. len text\n",
    "3. len sentence\n",
    "3. sentiment positive\n",
    "3. sentiment neutral\n",
    "3. sentiment negative\n",
    "3. sentiment compound"
   ]
  },
  {
   "cell_type": "code",
   "execution_count": 350,
   "metadata": {},
   "outputs": [
    {
     "name": "stdout",
     "output_type": "stream",
     "text": [
      "Closed-form mse:1.1044781338371397 - mse_val:1.0398723870241628 (time=0.000865936279296875)\n",
      "Gradient Descent mse:inf - mse_val:inf (init=True,iterations=97,time=0.033388614654541016,Constant(lr=0.01))\n",
      "Gradient Descent mse:inf - mse_val:inf (init=True,iterations=130,time=0.05637693405151367,Decay(lr=0.01,b=0.1))\n",
      "Gradient Descent mse:inf - mse_val:inf (init=True,iterations=103,time=0.0365147590637207,Decay(lr=0.01,b=0.01))\n",
      "Gradient Descent mse:inf - mse_val:inf (init=True,iterations=97,time=0.025761842727661133,Decay(lr=0.01,b=0.0001))\n",
      "Gradient Descent mse:nan - mse_val:nan (init=True,iterations=98,time=0.032697200775146484,Decay(lr=0.01,b=0.0005))\n",
      "Gradient Descent mse:inf - mse_val:inf (init=True,iterations=103,time=0.039458274841308594,Momentum(lr=0.01,b=0.7))\n",
      "Gradient Descent mse:nan - mse_val:nan (init=True,iterations=105,time=0.04239010810852051,Momentum(lr=0.01,b=0.8))\n",
      "Gradient Descent mse:inf - mse_val:inf (init=True,iterations=106,time=0.032531023025512695,Momentum(lr=0.01,b=0.9))\n",
      "Gradient Descent mse:nan - mse_val:nan (init=True,iterations=108,time=0.0295560359954834,Momentum(lr=0.01,b=0.999))\n",
      "Gradient Descent mse:inf - mse_val:inf (init=True,iterations=142,time=0.0442659854888916,Constant(lr=0.001))\n",
      "Gradient Descent mse:inf - mse_val:inf (init=True,iterations=313,time=0.0903310775756836,Decay(lr=0.001,b=0.1))\n",
      "Gradient Descent mse:inf - mse_val:inf (init=True,iterations=160,time=0.04088187217712402,Decay(lr=0.001,b=0.01))\n",
      "Gradient Descent mse:inf - mse_val:inf (init=True,iterations=142,time=0.04506516456604004,Decay(lr=0.001,b=0.0001))\n",
      "Gradient Descent mse:inf - mse_val:inf (init=True,iterations=143,time=0.05055427551269531,Decay(lr=0.001,b=0.0005))\n",
      "Gradient Descent mse:inf - mse_val:inf (init=True,iterations=156,time=0.05677294731140137,Momentum(lr=0.001,b=0.7))\n",
      "Gradient Descent mse:inf - mse_val:inf (init=True,iterations=159,time=0.053501129150390625,Momentum(lr=0.001,b=0.8))\n",
      "Gradient Descent mse:inf - mse_val:inf (init=True,iterations=162,time=0.0504610538482666,Momentum(lr=0.001,b=0.9))\n",
      "Gradient Descent mse:inf - mse_val:inf (init=True,iterations=166,time=0.05941891670227051,Momentum(lr=0.001,b=0.999))\n",
      "Gradient Descent mse:inf - mse_val:inf (init=True,iterations=165,time=0.048030853271484375,Constant(lr=0.0005))\n",
      "Gradient Descent mse:inf - mse_val:inf (init=True,iterations=1000,time=0.2683539390563965,Decay(lr=0.0005,b=0.1))\n",
      "Gradient Descent mse:inf - mse_val:inf (init=True,iterations=195,time=0.049504995346069336,Decay(lr=0.0005,b=0.01))\n",
      "Gradient Descent mse:inf - mse_val:inf (init=True,iterations=166,time=0.046289920806884766,Decay(lr=0.0005,b=0.0001))\n",
      "Gradient Descent mse:inf - mse_val:inf (init=True,iterations=167,time=0.0465238094329834,Decay(lr=0.0005,b=0.0005))\n",
      "Gradient Descent mse:inf - mse_val:inf (init=True,iterations=185,time=0.06269121170043945,Momentum(lr=0.0005,b=0.7))\n",
      "Gradient Descent mse:inf - mse_val:inf (init=True,iterations=189,time=0.0701150894165039,Momentum(lr=0.0005,b=0.8))\n",
      "Gradient Descent mse:inf - mse_val:inf (init=True,iterations=194,time=0.062004804611206055,Momentum(lr=0.0005,b=0.9))\n",
      "Gradient Descent mse:inf - mse_val:inf (init=True,iterations=199,time=0.06723594665527344,Momentum(lr=0.0005,b=0.999))\n",
      "Gradient Descent mse:inf - mse_val:inf (init=True,iterations=272,time=0.0851140022277832,Constant(lr=0.0001))\n",
      "Gradient Descent mse:28978185816172.29 - mse_val:31295561781258.492 (init=True,iterations=1000,time=0.29134225845336914,Decay(lr=0.0001,b=0.1))\n",
      "Gradient Descent mse:inf - mse_val:inf (init=True,iterations=1000,time=0.28428077697753906,Decay(lr=0.0001,b=0.01))\n",
      "Gradient Descent mse:inf - mse_val:inf (init=True,iterations=273,time=0.07418322563171387,Decay(lr=0.0001,b=0.0001))\n",
      "Gradient Descent mse:inf - mse_val:inf (init=True,iterations=280,time=0.08464813232421875,Decay(lr=0.0001,b=0.0005))\n",
      "Gradient Descent mse:inf - mse_val:inf (init=True,iterations=339,time=0.1272749900817871,Momentum(lr=0.0001,b=0.7))\n",
      "Gradient Descent mse:inf - mse_val:inf (init=True,iterations=357,time=0.11777615547180176,Momentum(lr=0.0001,b=0.8))\n",
      "Gradient Descent mse:inf - mse_val:inf (init=True,iterations=380,time=0.14280223846435547,Momentum(lr=0.0001,b=0.9))\n",
      "Gradient Descent mse:inf - mse_val:inf (init=True,iterations=411,time=0.1283421516418457,Momentum(lr=0.0001,b=0.999))\n",
      "Gradient Descent mse:1.8927612326660426 - mse_val:1.787494710366449 (init=True,iterations=23,time=0.006793975830078125,Constant(lr=1e-06))\n",
      "Gradient Descent mse:1.8971932239953806 - mse_val:1.796585118970323 (init=True,iterations=29,time=0.00951075553894043,Decay(lr=1e-06,b=0.1))\n",
      "Gradient Descent mse:1.8929202300793266 - mse_val:1.788006053773151 (init=True,iterations=24,time=0.008201837539672852,Decay(lr=1e-06,b=0.01))\n",
      "Gradient Descent mse:1.8927633417069738 - mse_val:1.7875019798872693 (init=True,iterations=23,time=0.008002042770385742,Decay(lr=1e-06,b=0.0001))\n",
      "Gradient Descent mse:1.892771874391039 - mse_val:1.7875312253675284 (init=True,iterations=23,time=0.008466958999633789,Decay(lr=1e-06,b=0.0005))\n",
      "Gradient Descent mse:1.8927018348341336 - mse_val:1.787198480424084 (init=True,iterations=22,time=0.009948968887329102,Momentum(lr=1e-06,b=0.7))\n",
      "Gradient Descent mse:1.8926854726969264 - mse_val:1.787119230877368 (init=True,iterations=22,time=0.009759902954101562,Momentum(lr=1e-06,b=0.8))\n",
      "Gradient Descent mse:1.8927240313229574 - mse_val:1.7872569222713919 (init=True,iterations=21,time=0.010343074798583984,Momentum(lr=1e-06,b=0.9))\n",
      "Gradient Descent mse:1.892704659260776 - mse_val:1.7871663776663407 (init=True,iterations=21,time=0.009727954864501953,Momentum(lr=1e-06,b=0.999))\n",
      "Gradient Descent mse:1.926485578767528 - mse_val:1.838913855333413 (init=True,iterations=66,time=0.01898193359375,Constant(lr=1e-07))\n",
      "Gradient Descent mse:2.0676785197226715 - mse_val:2.018140728685057 (init=True,iterations=13,time=0.0037310123443603516,Decay(lr=1e-07,b=0.1))\n",
      "Gradient Descent mse:1.9668084314904306 - mse_val:1.891728074766335 (init=True,iterations=47,time=0.013866901397705078,Decay(lr=1e-07,b=0.01))\n",
      "Gradient Descent mse:1.9266988752263685 - mse_val:1.8392016887923652 (init=True,iterations=66,time=0.019764184951782227,Decay(lr=1e-07,b=0.0001))\n",
      "Gradient Descent mse:1.92851713869173 - mse_val:1.8416498951918492 (init=True,iterations=65,time=0.020135879516601562,Decay(lr=1e-07,b=0.0005))\n",
      "Gradient Descent mse:1.9255856332000418 - mse_val:1.8376976253035624 (init=True,iterations=67,time=0.026618242263793945,Momentum(lr=1e-07,b=0.7))\n",
      "Gradient Descent mse:1.9255917120911357 - mse_val:1.8377058106575703 (init=True,iterations=67,time=0.027439117431640625,Momentum(lr=1e-07,b=0.8))\n",
      "Gradient Descent mse:1.9255976751635289 - mse_val:1.8377138391997518 (init=True,iterations=67,time=0.025875091552734375,Momentum(lr=1e-07,b=0.9))\n",
      "Gradient Descent mse:1.9256034637463846 - mse_val:1.8377216319514997 (init=True,iterations=67,time=0.018640756607055664,Momentum(lr=1e-07,b=0.999))\n",
      "Gradient Descent mse:nan - mse_val:nan (init=False,iterations=97,time=0.02486705780029297,Constant(lr=0.01))\n",
      "Gradient Descent mse:inf - mse_val:inf (init=False,iterations=168,time=0.04227924346923828,Decay(lr=0.01,b=0.1))\n",
      "Gradient Descent mse:inf - mse_val:inf (init=False,iterations=111,time=0.03448295593261719,Decay(lr=0.01,b=0.01))\n",
      "Gradient Descent mse:inf - mse_val:inf (init=False,iterations=97,time=0.028629064559936523,Decay(lr=0.01,b=0.0001))\n",
      "Gradient Descent mse:nan - mse_val:nan (init=False,iterations=98,time=0.03514504432678223,Decay(lr=0.01,b=0.0005))\n",
      "Gradient Descent mse:inf - mse_val:inf (init=False,iterations=1,time=0.0007200241088867188,Momentum(lr=0.01,b=0.7))\n",
      "Gradient Descent mse:nan - mse_val:nan (init=False,iterations=1,time=0.0006368160247802734,Momentum(lr=0.01,b=0.8))\n",
      "Gradient Descent mse:inf - mse_val:inf (init=False,iterations=1,time=0.0006349086761474609,Momentum(lr=0.01,b=0.9))\n",
      "Gradient Descent mse:nan - mse_val:nan (init=False,iterations=1,time=0.0007040500640869141,Momentum(lr=0.01,b=0.999))\n",
      "Gradient Descent mse:inf - mse_val:inf (init=False,iterations=141,time=0.03673815727233887,Constant(lr=0.001))\n",
      "Gradient Descent mse:5.608437845224104e+154 - mse_val:6.568922606301165e+154 (init=False,iterations=1000,time=0.27884912490844727,Decay(lr=0.001,b=0.1))\n",
      "Gradient Descent mse:inf - mse_val:inf (init=False,iterations=190,time=0.0487518310546875,Decay(lr=0.001,b=0.01))\n",
      "Gradient Descent mse:inf - mse_val:inf (init=False,iterations=142,time=0.03637814521789551,Decay(lr=0.001,b=0.0001))\n",
      "Gradient Descent mse:inf - mse_val:inf (init=False,iterations=144,time=0.03679513931274414,Decay(lr=0.001,b=0.0005))\n",
      "Gradient Descent mse:inf - mse_val:inf (init=False,iterations=1,time=0.0006411075592041016,Momentum(lr=0.001,b=0.7))\n",
      "Gradient Descent mse:inf - mse_val:inf (init=False,iterations=1,time=0.0007188320159912109,Momentum(lr=0.001,b=0.8))\n",
      "Gradient Descent mse:inf - mse_val:inf (init=False,iterations=1,time=0.0006830692291259766,Momentum(lr=0.001,b=0.9))\n",
      "Gradient Descent mse:inf - mse_val:inf (init=False,iterations=1,time=0.0006690025329589844,Momentum(lr=0.001,b=0.999))\n"
     ]
    },
    {
     "name": "stdout",
     "output_type": "stream",
     "text": [
      "Gradient Descent mse:inf - mse_val:inf (init=False,iterations=164,time=0.046891212463378906,Constant(lr=0.0005))\n",
      "Gradient Descent mse:7.033054763237822 - mse_val:7.553804556456791 (init=False,iterations=1000,time=0.3069629669189453,Decay(lr=0.0005,b=0.1))\n",
      "Gradient Descent mse:inf - mse_val:inf (init=False,iterations=250,time=0.0635530948638916,Decay(lr=0.0005,b=0.01))\n",
      "Gradient Descent mse:inf - mse_val:inf (init=False,iterations=165,time=0.041899919509887695,Decay(lr=0.0005,b=0.0001))\n",
      "Gradient Descent mse:inf - mse_val:inf (init=False,iterations=169,time=0.04345107078552246,Decay(lr=0.0005,b=0.0005))\n",
      "Gradient Descent mse:inf - mse_val:inf (init=False,iterations=1,time=0.0007569789886474609,Momentum(lr=0.0005,b=0.7))\n",
      "Gradient Descent mse:inf - mse_val:inf (init=False,iterations=1,time=0.000698089599609375,Momentum(lr=0.0005,b=0.8))\n",
      "Gradient Descent mse:inf - mse_val:inf (init=False,iterations=1,time=0.0006489753723144531,Momentum(lr=0.0005,b=0.9))\n",
      "Gradient Descent mse:inf - mse_val:inf (init=False,iterations=1,time=0.0007038116455078125,Momentum(lr=0.0005,b=0.999))\n",
      "Gradient Descent mse:inf - mse_val:inf (init=False,iterations=270,time=0.10110116004943848,Constant(lr=0.0001))\n",
      "Gradient Descent mse:10.727440711295602 - mse_val:11.604347946902916 (init=False,iterations=129,time=0.04514288902282715,Decay(lr=0.0001,b=0.1))\n",
      "Gradient Descent mse:3.4917411625930734 - mse_val:4.14035556477277 (init=False,iterations=1000,time=0.284473180770874,Decay(lr=0.0001,b=0.01))\n",
      "Gradient Descent mse:inf - mse_val:inf (init=False,iterations=274,time=0.09489321708679199,Decay(lr=0.0001,b=0.0001))\n",
      "Gradient Descent mse:inf - mse_val:inf (init=False,iterations=294,time=0.10050415992736816,Decay(lr=0.0001,b=0.0005))\n",
      "Gradient Descent mse:inf - mse_val:inf (init=False,iterations=1,time=0.0009462833404541016,Momentum(lr=0.0001,b=0.7))\n",
      "Gradient Descent mse:inf - mse_val:inf (init=False,iterations=1,time=0.000885009765625,Momentum(lr=0.0001,b=0.8))\n",
      "Gradient Descent mse:inf - mse_val:inf (init=False,iterations=1,time=0.0010519027709960938,Momentum(lr=0.0001,b=0.9))\n",
      "Gradient Descent mse:inf - mse_val:inf (init=False,iterations=1,time=0.0006320476531982422,Momentum(lr=0.0001,b=0.999))\n",
      "Gradient Descent mse:7.61133686508667 - mse_val:8.346830556499263 (init=False,iterations=66,time=0.024885177612304688,Constant(lr=1e-06))\n",
      "Gradient Descent mse:8.935904554165074 - mse_val:11.240208317677732 (init=False,iterations=926,time=0.2845609188079834,Decay(lr=1e-06,b=0.1))\n",
      "Gradient Descent mse:5.912577781903362 - mse_val:6.763803940579933 (init=False,iterations=88,time=0.023401975631713867,Decay(lr=1e-06,b=0.01))\n",
      "Gradient Descent mse:4.5192213950544735 - mse_val:5.164174114711924 (init=False,iterations=60,time=0.01532888412475586,Decay(lr=1e-06,b=0.0001))\n",
      "Gradient Descent mse:4.731555893849181 - mse_val:5.992300059503745 (init=False,iterations=65,time=0.016703128814697266,Decay(lr=1e-06,b=0.0005))\n",
      "Gradient Descent mse:5.5776623333113 - mse_val:6.6797052833987385 (init=False,iterations=55,time=0.01666402816772461,Momentum(lr=1e-06,b=0.7))\n",
      "Gradient Descent mse:6.180638073462223 - mse_val:6.826176570707352 (init=False,iterations=51,time=0.01499795913696289,Momentum(lr=1e-06,b=0.8))\n",
      "Gradient Descent mse:3.339017966305031 - mse_val:3.9287856648809445 (init=False,iterations=36,time=0.01018977165222168,Momentum(lr=1e-06,b=0.9))\n",
      "Gradient Descent mse:5.019093859321157 - mse_val:6.112971265700987 (init=False,iterations=52,time=0.01444387435913086,Momentum(lr=1e-06,b=0.999))\n",
      "Gradient Descent mse:4.916053072216092 - mse_val:5.237875025044165 (init=False,iterations=411,time=0.12571001052856445,Constant(lr=1e-07))\n",
      "Gradient Descent mse:10021.226101847285 - mse_val:11539.03238727619 (init=False,iterations=1000,time=0.2947728633880615,Decay(lr=1e-07,b=0.1))\n",
      "Gradient Descent mse:112.18657884787405 - mse_val:135.33065199920736 (init=False,iterations=1000,time=0.4524497985839844,Decay(lr=1e-07,b=0.01))\n",
      "Gradient Descent mse:5.68531150824334 - mse_val:6.15346801178249 (init=False,iterations=445,time=0.167327880859375,Decay(lr=1e-07,b=0.0001))\n",
      "Gradient Descent mse:6.152275389647111 - mse_val:6.769961499529786 (init=False,iterations=562,time=0.22569799423217773,Decay(lr=1e-07,b=0.0005))\n",
      "Gradient Descent mse:7.34640876135755 - mse_val:8.684064547352556 (init=False,iterations=278,time=0.14631390571594238,Momentum(lr=1e-07,b=0.7))\n",
      "Gradient Descent mse:4.131352350605945 - mse_val:4.876611872626836 (init=False,iterations=320,time=0.1165318489074707,Momentum(lr=1e-07,b=0.8))\n",
      "Gradient Descent mse:11.064930017201483 - mse_val:11.808535257215974 (init=False,iterations=272,time=0.07886099815368652,Momentum(lr=1e-07,b=0.9))\n",
      "Gradient Descent mse:5.826215115023048 - mse_val:6.784656159973931 (init=False,iterations=443,time=0.13329195976257324,Momentum(lr=1e-07,b=0.999))\n",
      "Best classifier achieved an error of 1.0398723870241628\n",
      "<linear_regression.LinearRegressionMSE object at 0x1a2fcbd3c8>\n"
     ]
    }
   ],
   "source": [
    "data_model_17 = 'children_sentiment_top10'\n",
    "best_model_17, results_model_17 = model.train_model(data_model_17, init, learning_rates, momentum, decay)"
   ]
  },
  {
   "cell_type": "markdown",
   "metadata": {},
   "source": [
    "#### Model 18\n",
    "Training with features: \n",
    "3. children\n",
    "3. len text\n",
    "3. len sentence\n",
    "3. sentiment positive\n",
    "3. sentiment neutral\n",
    "3. sentiment negative\n",
    "3. sentiment compound"
   ]
  },
  {
   "cell_type": "code",
   "execution_count": 351,
   "metadata": {},
   "outputs": [
    {
     "name": "stdout",
     "output_type": "stream",
     "text": [
      "Closed-form mse:1.108803037108256 - mse_val:1.0442909437089314 (time=0.0008020401000976562)\n",
      "Gradient Descent mse:inf - mse_val:inf (init=True,iterations=97,time=0.018833160400390625,Constant(lr=0.01))\n",
      "Gradient Descent mse:inf - mse_val:inf (init=True,iterations=130,time=0.02919316291809082,Decay(lr=0.01,b=0.1))\n",
      "Gradient Descent mse:inf - mse_val:inf (init=True,iterations=103,time=0.02818894386291504,Decay(lr=0.01,b=0.01))\n",
      "Gradient Descent mse:inf - mse_val:inf (init=True,iterations=97,time=0.02264690399169922,Decay(lr=0.01,b=0.0001))\n",
      "Gradient Descent mse:inf - mse_val:inf (init=True,iterations=98,time=0.016976118087768555,Decay(lr=0.01,b=0.0005))\n",
      "Gradient Descent mse:inf - mse_val:inf (init=True,iterations=103,time=0.017961978912353516,Momentum(lr=0.01,b=0.7))\n",
      "Gradient Descent mse:inf - mse_val:inf (init=True,iterations=105,time=0.018849611282348633,Momentum(lr=0.01,b=0.8))\n",
      "Gradient Descent mse:inf - mse_val:inf (init=True,iterations=106,time=0.020626068115234375,Momentum(lr=0.01,b=0.9))\n",
      "Gradient Descent mse:inf - mse_val:inf (init=True,iterations=108,time=0.023162841796875,Momentum(lr=0.01,b=0.999))\n",
      "Gradient Descent mse:inf - mse_val:inf (init=True,iterations=142,time=0.03358602523803711,Constant(lr=0.001))\n",
      "Gradient Descent mse:inf - mse_val:inf (init=True,iterations=313,time=0.054605960845947266,Decay(lr=0.001,b=0.1))\n",
      "Gradient Descent mse:inf - mse_val:inf (init=True,iterations=160,time=0.02639007568359375,Decay(lr=0.001,b=0.01))\n",
      "Gradient Descent mse:inf - mse_val:inf (init=True,iterations=142,time=0.028053998947143555,Decay(lr=0.001,b=0.0001))\n",
      "Gradient Descent mse:inf - mse_val:inf (init=True,iterations=143,time=0.03129124641418457,Decay(lr=0.001,b=0.0005))\n",
      "Gradient Descent mse:inf - mse_val:inf (init=True,iterations=156,time=0.026862144470214844,Momentum(lr=0.001,b=0.7))\n",
      "Gradient Descent mse:inf - mse_val:inf (init=True,iterations=159,time=0.027237892150878906,Momentum(lr=0.001,b=0.8))\n",
      "Gradient Descent mse:inf - mse_val:inf (init=True,iterations=162,time=0.027204275131225586,Momentum(lr=0.001,b=0.9))\n",
      "Gradient Descent mse:inf - mse_val:inf (init=True,iterations=166,time=0.02773308753967285,Momentum(lr=0.001,b=0.999))\n",
      "Gradient Descent mse:inf - mse_val:inf (init=True,iterations=165,time=0.027801036834716797,Constant(lr=0.0005))\n",
      "Gradient Descent mse:inf - mse_val:inf (init=True,iterations=1000,time=0.18483519554138184,Decay(lr=0.0005,b=0.1))\n",
      "Gradient Descent mse:inf - mse_val:inf (init=True,iterations=195,time=0.042120933532714844,Decay(lr=0.0005,b=0.01))\n",
      "Gradient Descent mse:inf - mse_val:inf (init=True,iterations=166,time=0.03790903091430664,Decay(lr=0.0005,b=0.0001))\n",
      "Gradient Descent mse:inf - mse_val:inf (init=True,iterations=167,time=0.03215193748474121,Decay(lr=0.0005,b=0.0005))\n",
      "Gradient Descent mse:inf - mse_val:inf (init=True,iterations=185,time=0.036805152893066406,Momentum(lr=0.0005,b=0.7))\n",
      "Gradient Descent mse:inf - mse_val:inf (init=True,iterations=189,time=0.037190914154052734,Momentum(lr=0.0005,b=0.8))\n",
      "Gradient Descent mse:inf - mse_val:inf (init=True,iterations=194,time=0.04989910125732422,Momentum(lr=0.0005,b=0.9))\n",
      "Gradient Descent mse:inf - mse_val:inf (init=True,iterations=199,time=0.05549001693725586,Momentum(lr=0.0005,b=0.999))\n",
      "Gradient Descent mse:inf - mse_val:inf (init=True,iterations=272,time=0.08231878280639648,Constant(lr=0.0001))\n",
      "Gradient Descent mse:87665278055.97916 - mse_val:83895660729.39835 (init=True,iterations=1000,time=0.2310948371887207,Decay(lr=0.0001,b=0.1))\n",
      "Gradient Descent mse:inf - mse_val:inf (init=True,iterations=1000,time=0.19309067726135254,Decay(lr=0.0001,b=0.01))\n",
      "Gradient Descent mse:inf - mse_val:inf (init=True,iterations=273,time=0.055223941802978516,Decay(lr=0.0001,b=0.0001))\n",
      "Gradient Descent mse:inf - mse_val:inf (init=True,iterations=280,time=0.05136275291442871,Decay(lr=0.0001,b=0.0005))\n",
      "Gradient Descent mse:inf - mse_val:inf (init=True,iterations=339,time=0.05688905715942383,Momentum(lr=0.0001,b=0.7))\n",
      "Gradient Descent mse:inf - mse_val:inf (init=True,iterations=357,time=0.06567692756652832,Momentum(lr=0.0001,b=0.8))\n",
      "Gradient Descent mse:inf - mse_val:inf (init=True,iterations=380,time=0.07827091217041016,Momentum(lr=0.0001,b=0.9))\n",
      "Gradient Descent mse:inf - mse_val:inf (init=True,iterations=411,time=0.08320307731628418,Momentum(lr=0.0001,b=0.999))\n",
      "Gradient Descent mse:1.8927646833069276 - mse_val:1.7874933991032609 (init=True,iterations=23,time=0.006013154983520508,Constant(lr=1e-06))\n",
      "Gradient Descent mse:1.8971977585775006 - mse_val:1.7965880259854377 (init=True,iterations=29,time=0.005221128463745117,Decay(lr=1e-06,b=0.1))\n",
      "Gradient Descent mse:1.8929235635359114 - mse_val:1.7880050265788376 (init=True,iterations=24,time=0.004232883453369141,Decay(lr=1e-06,b=0.01))\n",
      "Gradient Descent mse:1.8927667898009701 - mse_val:1.7875006726748544 (init=True,iterations=23,time=0.004848957061767578,Decay(lr=1e-06,b=0.0001))\n",
      "Gradient Descent mse:1.892775312508714 - mse_val:1.787529934456755 (init=True,iterations=23,time=0.004279136657714844,Decay(lr=1e-06,b=0.0005))\n",
      "Gradient Descent mse:1.8927049719638358 - mse_val:1.78719704130433 (init=True,iterations=22,time=0.00397491455078125,Momentum(lr=1e-06,b=0.7))\n",
      "Gradient Descent mse:1.8926885773442828 - mse_val:1.7871177486642214 (init=True,iterations=22,time=0.00432276725769043,Momentum(lr=1e-06,b=0.8))\n",
      "Gradient Descent mse:1.8927270085308996 - mse_val:1.787255557488822 (init=True,iterations=21,time=0.0037698745727539062,Momentum(lr=1e-06,b=0.9))\n",
      "Gradient Descent mse:1.8927076005725154 - mse_val:1.7871649650407353 (init=True,iterations=21,time=0.0038690567016601562,Momentum(lr=1e-06,b=0.999))\n",
      "Gradient Descent mse:1.9264962191255908 - mse_val:1.8389259810982765 (init=True,iterations=66,time=0.014186859130859375,Constant(lr=1e-07))\n",
      "Gradient Descent mse:2.067684827326966 - mse_val:2.0181482450368797 (init=True,iterations=13,time=0.003484964370727539,Decay(lr=1e-07,b=0.1))\n",
      "Gradient Descent mse:1.9668214260150312 - mse_val:1.891743449151464 (init=True,iterations=47,time=0.009949922561645508,Decay(lr=1e-07,b=0.01))\n",
      "Gradient Descent mse:1.9267095415009374 - mse_val:1.8392138501943838 (init=True,iterations=66,time=0.014531135559082031,Decay(lr=1e-07,b=0.0001))\n",
      "Gradient Descent mse:1.9285280193183116 - mse_val:1.841662350939182 (init=True,iterations=65,time=0.012058734893798828,Decay(lr=1e-07,b=0.0005))\n",
      "Gradient Descent mse:1.9255962503769686 - mse_val:1.8377097244436031 (init=True,iterations=67,time=0.012935876846313477,Momentum(lr=1e-07,b=0.7))\n",
      "Gradient Descent mse:1.925602343035172 - mse_val:1.8377179295067168 (init=True,iterations=67,time=0.01145792007446289,Momentum(lr=1e-07,b=0.8))\n",
      "Gradient Descent mse:1.925608319925397 - mse_val:1.8377259778270585 (init=True,iterations=67,time=0.011606931686401367,Momentum(lr=1e-07,b=0.9))\n",
      "Gradient Descent mse:1.9256141222380818 - mse_val:1.8377337902275168 (init=True,iterations=67,time=0.01136922836303711,Momentum(lr=1e-07,b=0.999))\n",
      "Gradient Descent mse:inf - mse_val:inf (init=False,iterations=97,time=0.015651702880859375,Constant(lr=0.01))\n",
      "Gradient Descent mse:inf - mse_val:inf (init=False,iterations=168,time=0.02736210823059082,Decay(lr=0.01,b=0.1))\n",
      "Gradient Descent mse:inf - mse_val:inf (init=False,iterations=111,time=0.023857831954956055,Decay(lr=0.01,b=0.01))\n",
      "Gradient Descent mse:inf - mse_val:inf (init=False,iterations=97,time=0.01871490478515625,Decay(lr=0.01,b=0.0001))\n",
      "Gradient Descent mse:inf - mse_val:inf (init=False,iterations=98,time=0.021683216094970703,Decay(lr=0.01,b=0.0005))\n",
      "Gradient Descent mse:inf - mse_val:inf (init=False,iterations=1,time=0.0005140304565429688,Momentum(lr=0.01,b=0.7))\n",
      "Gradient Descent mse:inf - mse_val:inf (init=False,iterations=1,time=0.0004532337188720703,Momentum(lr=0.01,b=0.8))\n",
      "Gradient Descent mse:inf - mse_val:inf (init=False,iterations=1,time=0.0004076957702636719,Momentum(lr=0.01,b=0.9))\n",
      "Gradient Descent mse:inf - mse_val:inf (init=False,iterations=1,time=0.00039696693420410156,Momentum(lr=0.01,b=0.999))\n",
      "Gradient Descent mse:inf - mse_val:inf (init=False,iterations=141,time=0.022919178009033203,Constant(lr=0.001))\n",
      "Gradient Descent mse:2.632361298209421e+155 - mse_val:2.526293891404935e+155 (init=False,iterations=1000,time=0.18149185180664062,Decay(lr=0.001,b=0.1))\n",
      "Gradient Descent mse:inf - mse_val:inf (init=False,iterations=189,time=0.031118154525756836,Decay(lr=0.001,b=0.01))\n",
      "Gradient Descent mse:inf - mse_val:inf (init=False,iterations=142,time=0.023224830627441406,Decay(lr=0.001,b=0.0001))\n",
      "Gradient Descent mse:inf - mse_val:inf (init=False,iterations=144,time=0.02355504035949707,Decay(lr=0.001,b=0.0005))\n",
      "Gradient Descent mse:inf - mse_val:inf (init=False,iterations=1,time=0.00043487548828125,Momentum(lr=0.001,b=0.7))\n",
      "Gradient Descent mse:inf - mse_val:inf (init=False,iterations=1,time=0.0004949569702148438,Momentum(lr=0.001,b=0.8))\n",
      "Gradient Descent mse:inf - mse_val:inf (init=False,iterations=1,time=0.0004448890686035156,Momentum(lr=0.001,b=0.9))\n",
      "Gradient Descent mse:inf - mse_val:inf (init=False,iterations=1,time=0.00040602684020996094,Momentum(lr=0.001,b=0.999))\n",
      "Gradient Descent mse:inf - mse_val:inf (init=False,iterations=164,time=0.026234149932861328,Constant(lr=0.0005))\n"
     ]
    },
    {
     "name": "stdout",
     "output_type": "stream",
     "text": [
      "Gradient Descent mse:1.6800934643720633 - mse_val:1.5650133070504584 (init=False,iterations=597,time=0.10638189315795898,Decay(lr=0.0005,b=0.1))\n",
      "Gradient Descent mse:inf - mse_val:inf (init=False,iterations=250,time=0.04339194297790527,Decay(lr=0.0005,b=0.01))\n",
      "Gradient Descent mse:inf - mse_val:inf (init=False,iterations=165,time=0.026980161666870117,Decay(lr=0.0005,b=0.0001))\n",
      "Gradient Descent mse:inf - mse_val:inf (init=False,iterations=170,time=0.028005123138427734,Decay(lr=0.0005,b=0.0005))\n",
      "Gradient Descent mse:inf - mse_val:inf (init=False,iterations=1,time=0.00046181678771972656,Momentum(lr=0.0005,b=0.7))\n",
      "Gradient Descent mse:inf - mse_val:inf (init=False,iterations=1,time=0.00040340423583984375,Momentum(lr=0.0005,b=0.8))\n",
      "Gradient Descent mse:inf - mse_val:inf (init=False,iterations=1,time=0.0004630088806152344,Momentum(lr=0.0005,b=0.9))\n",
      "Gradient Descent mse:inf - mse_val:inf (init=False,iterations=1,time=0.00040721893310546875,Momentum(lr=0.0005,b=0.999))\n",
      "Gradient Descent mse:inf - mse_val:inf (init=False,iterations=271,time=0.04342794418334961,Constant(lr=0.0001))\n",
      "Gradient Descent mse:6.512027087665164 - mse_val:6.046666565560905 (init=False,iterations=48,time=0.00998997688293457,Decay(lr=0.0001,b=0.1))\n",
      "Gradient Descent mse:4.929204193752623 - mse_val:4.55503950358817 (init=False,iterations=1000,time=0.21842598915100098,Decay(lr=0.0001,b=0.01))\n",
      "Gradient Descent mse:inf - mse_val:inf (init=False,iterations=274,time=0.0500028133392334,Decay(lr=0.0001,b=0.0001))\n",
      "Gradient Descent mse:inf - mse_val:inf (init=False,iterations=293,time=0.05150890350341797,Decay(lr=0.0001,b=0.0005))\n",
      "Gradient Descent mse:inf - mse_val:inf (init=False,iterations=1,time=0.0006589889526367188,Momentum(lr=0.0001,b=0.7))\n",
      "Gradient Descent mse:inf - mse_val:inf (init=False,iterations=1,time=0.0006761550903320312,Momentum(lr=0.0001,b=0.8))\n",
      "Gradient Descent mse:inf - mse_val:inf (init=False,iterations=1,time=0.00045800209045410156,Momentum(lr=0.0001,b=0.9))\n",
      "Gradient Descent mse:inf - mse_val:inf (init=False,iterations=1,time=0.0004839897155761719,Momentum(lr=0.0001,b=0.999))\n",
      "Gradient Descent mse:1.675906946351615 - mse_val:1.5809777311808753 (init=False,iterations=60,time=0.011250019073486328,Constant(lr=1e-06))\n",
      "Gradient Descent mse:5.438725490574603 - mse_val:5.944948853974771 (init=False,iterations=842,time=0.15227389335632324,Decay(lr=1e-06,b=0.1))\n",
      "Gradient Descent mse:3.864913518046523 - mse_val:3.582648374391184 (init=False,iterations=100,time=0.017364978790283203,Decay(lr=1e-06,b=0.01))\n",
      "Gradient Descent mse:5.596447329091765 - mse_val:5.1576170774768615 (init=False,iterations=67,time=0.01229405403137207,Decay(lr=1e-06,b=0.0001))\n",
      "Gradient Descent mse:2.9700569424730143 - mse_val:2.7740992964793647 (init=False,iterations=64,time=0.011101007461547852,Decay(lr=1e-06,b=0.0005))\n",
      "Gradient Descent mse:5.047292635502724 - mse_val:4.647422427425108 (init=False,iterations=58,time=0.011323213577270508,Momentum(lr=1e-06,b=0.7))\n",
      "Gradient Descent mse:5.351637261322451 - mse_val:4.903983013207901 (init=False,iterations=48,time=0.009378671646118164,Momentum(lr=1e-06,b=0.8))\n",
      "Gradient Descent mse:4.9180723167909814 - mse_val:4.521601871058532 (init=False,iterations=57,time=0.010574102401733398,Momentum(lr=1e-06,b=0.9))\n",
      "Gradient Descent mse:2.711535479817003 - mse_val:2.520495149416395 (init=False,iterations=49,time=0.009725093841552734,Momentum(lr=1e-06,b=0.999))\n",
      "Gradient Descent mse:3.78186735367246 - mse_val:3.677413906226784 (init=False,iterations=502,time=0.08833622932434082,Constant(lr=1e-07))\n",
      "Gradient Descent mse:543.1237930685578 - mse_val:625.4393755635726 (init=False,iterations=1000,time=0.1840200424194336,Decay(lr=1e-07,b=0.1))\n",
      "Gradient Descent mse:8.636368491152998 - mse_val:9.354555627183633 (init=False,iterations=968,time=0.17886972427368164,Decay(lr=1e-07,b=0.01))\n",
      "Gradient Descent mse:2.510014461578852 - mse_val:2.3776650908233323 (init=False,iterations=478,time=0.07694196701049805,Decay(lr=1e-07,b=0.0001))\n",
      "Gradient Descent mse:5.1439590411140586 - mse_val:4.919789342831644 (init=False,iterations=518,time=0.08707690238952637,Decay(lr=1e-07,b=0.0005))\n",
      "Gradient Descent mse:1.3609130580897804 - mse_val:1.2977688476329818 (init=False,iterations=225,time=0.04356193542480469,Momentum(lr=1e-07,b=0.7))\n",
      "Gradient Descent mse:2.1931134246678603 - mse_val:2.068318741518959 (init=False,iterations=346,time=0.07102489471435547,Momentum(lr=1e-07,b=0.8))\n",
      "Gradient Descent mse:5.877737166911452 - mse_val:5.505957336995069 (init=False,iterations=471,time=0.08637094497680664,Momentum(lr=1e-07,b=0.9))\n",
      "Gradient Descent mse:6.646808671784305 - mse_val:6.229656423279844 (init=False,iterations=476,time=0.10311102867126465,Momentum(lr=1e-07,b=0.999))\n",
      "Best classifier achieved an error of 1.0442909437089314\n",
      "<linear_regression.LinearRegressionMSE object at 0x1a2f694ef0>\n"
     ]
    }
   ],
   "source": [
    "data_model_18 = 'children_sentiment'\n",
    "best_model_18, results_model_18 = model.train_model(data_model_18, init, learning_rates, momentum, decay)"
   ]
  },
  {
   "cell_type": "markdown",
   "metadata": {},
   "source": [
    "#### Model 19\n",
    "Training with features: \n",
    "3. children\n",
    "3. $children^2$\n",
    "3. len_text\n",
    "3. sentiment_neg\n",
    "3. sentiment_neu\n",
    "3. sentiment_pos\n",
    "3. text: top57"
   ]
  },
  {
   "cell_type": "code",
   "execution_count": 488,
   "metadata": {},
   "outputs": [
    {
     "name": "stdout",
     "output_type": "stream",
     "text": [
      "Closed-form mse:1.0375588026545317 - mse_val:0.9954419763670966 (time=0.0020301342010498047)\n",
      "Gradient Descent mse:inf - mse_val:inf (init=True,iterations=97,time=0.12922072410583496,Constant(lr=0.01))\n",
      "Gradient Descent mse:inf - mse_val:inf (init=True,iterations=130,time=0.11609435081481934,Decay(lr=0.01,b=0.1))\n",
      "Gradient Descent mse:inf - mse_val:inf (init=True,iterations=103,time=0.09931111335754395,Decay(lr=0.01,b=0.01))\n",
      "Gradient Descent mse:inf - mse_val:inf (init=True,iterations=97,time=0.06756186485290527,Decay(lr=0.01,b=0.0001))\n",
      "Gradient Descent mse:nan - mse_val:nan (init=True,iterations=98,time=0.09988617897033691,Decay(lr=0.01,b=0.0005))\n",
      "Gradient Descent mse:inf - mse_val:inf (init=True,iterations=103,time=0.07412290573120117,Momentum(lr=0.01,b=0.7))\n",
      "Gradient Descent mse:nan - mse_val:nan (init=True,iterations=105,time=0.07443404197692871,Momentum(lr=0.01,b=0.8))\n",
      "Gradient Descent mse:inf - mse_val:inf (init=True,iterations=106,time=0.10098528861999512,Momentum(lr=0.01,b=0.9))\n",
      "Gradient Descent mse:nan - mse_val:nan (init=True,iterations=108,time=0.07609868049621582,Momentum(lr=0.01,b=0.999))\n",
      "Gradient Descent mse:inf - mse_val:inf (init=True,iterations=142,time=0.10016727447509766,Constant(lr=0.001))\n",
      "Gradient Descent mse:inf - mse_val:inf (init=True,iterations=313,time=0.2770671844482422,Decay(lr=0.001,b=0.1))\n",
      "Gradient Descent mse:inf - mse_val:inf (init=True,iterations=160,time=0.11044621467590332,Decay(lr=0.001,b=0.01))\n",
      "Gradient Descent mse:inf - mse_val:inf (init=True,iterations=142,time=0.10894107818603516,Decay(lr=0.001,b=0.0001))\n",
      "Gradient Descent mse:inf - mse_val:inf (init=True,iterations=143,time=0.11398983001708984,Decay(lr=0.001,b=0.0005))\n",
      "Gradient Descent mse:inf - mse_val:inf (init=True,iterations=156,time=0.13304686546325684,Momentum(lr=0.001,b=0.7))\n",
      "Gradient Descent mse:inf - mse_val:inf (init=True,iterations=159,time=0.11698389053344727,Momentum(lr=0.001,b=0.8))\n",
      "Gradient Descent mse:inf - mse_val:inf (init=True,iterations=162,time=0.13817501068115234,Momentum(lr=0.001,b=0.9))\n",
      "Gradient Descent mse:inf - mse_val:inf (init=True,iterations=166,time=0.12423396110534668,Momentum(lr=0.001,b=0.999))\n",
      "Gradient Descent mse:inf - mse_val:inf (init=True,iterations=165,time=0.1439058780670166,Constant(lr=0.0005))\n",
      "Gradient Descent mse:inf - mse_val:inf (init=True,iterations=1000,time=0.7159552574157715,Decay(lr=0.0005,b=0.1))\n",
      "Gradient Descent mse:inf - mse_val:inf (init=True,iterations=195,time=0.13308191299438477,Decay(lr=0.0005,b=0.01))\n",
      "Gradient Descent mse:inf - mse_val:inf (init=True,iterations=166,time=0.14454984664916992,Decay(lr=0.0005,b=0.0001))\n",
      "Gradient Descent mse:inf - mse_val:inf (init=True,iterations=167,time=0.1140749454498291,Decay(lr=0.0005,b=0.0005))\n",
      "Gradient Descent mse:inf - mse_val:inf (init=True,iterations=185,time=0.16055011749267578,Momentum(lr=0.0005,b=0.7))\n",
      "Gradient Descent mse:inf - mse_val:inf (init=True,iterations=189,time=0.13344168663024902,Momentum(lr=0.0005,b=0.8))\n",
      "Gradient Descent mse:inf - mse_val:inf (init=True,iterations=194,time=0.16558384895324707,Momentum(lr=0.0005,b=0.9))\n",
      "Gradient Descent mse:inf - mse_val:inf (init=True,iterations=199,time=0.14167022705078125,Momentum(lr=0.0005,b=0.999))\n",
      "Gradient Descent mse:inf - mse_val:inf (init=True,iterations=272,time=0.21882081031799316,Constant(lr=0.0001))\n",
      "Gradient Descent mse:15014530540991.84 - mse_val:18981667757156.16 (init=True,iterations=1000,time=0.7077960968017578,Decay(lr=0.0001,b=0.1))\n",
      "Gradient Descent mse:inf - mse_val:inf (init=True,iterations=1000,time=0.7209711074829102,Decay(lr=0.0001,b=0.01))\n",
      "Gradient Descent mse:inf - mse_val:inf (init=True,iterations=273,time=0.18380212783813477,Decay(lr=0.0001,b=0.0001))\n",
      "Gradient Descent mse:inf - mse_val:inf (init=True,iterations=280,time=0.2590010166168213,Decay(lr=0.0001,b=0.0005))\n",
      "Gradient Descent mse:inf - mse_val:inf (init=True,iterations=339,time=0.26511287689208984,Momentum(lr=0.0001,b=0.7))\n",
      "Gradient Descent mse:inf - mse_val:inf (init=True,iterations=357,time=0.2837202548980713,Momentum(lr=0.0001,b=0.8))\n",
      "Gradient Descent mse:inf - mse_val:inf (init=True,iterations=380,time=0.29760003089904785,Momentum(lr=0.0001,b=0.9))\n",
      "Gradient Descent mse:inf - mse_val:inf (init=True,iterations=411,time=0.3521571159362793,Momentum(lr=0.0001,b=0.999))\n",
      "Gradient Descent mse:1.8117340191813462 - mse_val:1.7129483909067535 (init=True,iterations=341,time=0.27754998207092285,Constant(lr=1e-06))\n",
      "Gradient Descent mse:1.8903165972962634 - mse_val:1.7899780526245068 (init=True,iterations=31,time=0.02166295051574707,Decay(lr=1e-06,b=0.1))\n",
      "Gradient Descent mse:1.8670149816792374 - mse_val:1.7639038102604203 (init=True,iterations=88,time=0.06014895439147949,Decay(lr=1e-06,b=0.01))\n",
      "Gradient Descent mse:1.8133147427642797 - mse_val:1.714516746067669 (init=True,iterations=331,time=0.25744009017944336,Decay(lr=1e-06,b=0.0001))\n",
      "Gradient Descent mse:1.8188850565691286 - mse_val:1.7199517843929544 (init=True,iterations=299,time=0.20544815063476562,Decay(lr=1e-06,b=0.0005))\n",
      "Gradient Descent mse:1.8117509200814828 - mse_val:1.712965102158671 (init=True,iterations=341,time=0.2968010902404785,Momentum(lr=1e-06,b=0.7))\n",
      "Gradient Descent mse:1.8116540234697736 - mse_val:1.7128685226860323 (init=True,iterations=342,time=0.27016186714172363,Momentum(lr=1e-06,b=0.8))\n",
      "Gradient Descent mse:1.8116564008930995 - mse_val:1.7128708740852008 (init=True,iterations=342,time=0.29125499725341797,Momentum(lr=1e-06,b=0.9))\n",
      "Gradient Descent mse:1.8116587534682231 - mse_val:1.7128732008738088 (init=True,iterations=342,time=0.295604944229126,Momentum(lr=1e-06,b=0.999))\n",
      "Gradient Descent mse:1.9223768807327812 - mse_val:1.834703769872184 (init=True,iterations=67,time=0.04591798782348633,Constant(lr=1e-07))\n",
      "Gradient Descent mse:2.0672798440961664 - mse_val:2.0177399345561517 (init=True,iterations=13,time=0.00944828987121582,Decay(lr=1e-07,b=0.1))\n",
      "Gradient Descent mse:1.963525596748475 - mse_val:1.888129118216185 (init=True,iterations=48,time=0.034937143325805664,Decay(lr=1e-07,b=0.01))\n",
      "Gradient Descent mse:1.9226007762154251 - mse_val:1.8350015737965373 (init=True,iterations=67,time=0.07678008079528809,Decay(lr=1e-07,b=0.0001))\n",
      "Gradient Descent mse:1.9244778146506014 - mse_val:1.83749377693918 (init=True,iterations=66,time=0.08893489837646484,Decay(lr=1e-07,b=0.0005))\n",
      "Gradient Descent mse:1.921478230846109 - mse_val:1.8334953548969566 (init=True,iterations=68,time=0.09508204460144043,Momentum(lr=1e-07,b=0.7))\n",
      "Gradient Descent mse:1.9214871801728532 - mse_val:1.8335055408147045 (init=True,iterations=68,time=0.05019211769104004,Momentum(lr=1e-07,b=0.8))\n",
      "Gradient Descent mse:1.9214960126521001 - mse_val:1.833515568482523 (init=True,iterations=68,time=0.06186509132385254,Momentum(lr=1e-07,b=0.9))\n",
      "Gradient Descent mse:1.920551449217223 - mse_val:1.8322540259793507 (init=True,iterations=69,time=0.08322310447692871,Momentum(lr=1e-07,b=0.999))\n",
      "Gradient Descent mse:nan - mse_val:nan (init=False,iterations=97,time=0.08096718788146973,Constant(lr=0.01))\n",
      "Gradient Descent mse:inf - mse_val:inf (init=False,iterations=167,time=0.1599879264831543,Decay(lr=0.01,b=0.1))\n",
      "Gradient Descent mse:inf - mse_val:inf (init=False,iterations=111,time=0.14190101623535156,Decay(lr=0.01,b=0.01))\n",
      "Gradient Descent mse:nan - mse_val:nan (init=False,iterations=97,time=0.12301898002624512,Decay(lr=0.01,b=0.0001))\n",
      "Gradient Descent mse:nan - mse_val:nan (init=False,iterations=98,time=0.08894729614257812,Decay(lr=0.01,b=0.0005))\n",
      "Gradient Descent mse:inf - mse_val:inf (init=False,iterations=1,time=0.0016071796417236328,Momentum(lr=0.01,b=0.7))\n",
      "Gradient Descent mse:nan - mse_val:nan (init=False,iterations=1,time=0.0014789104461669922,Momentum(lr=0.01,b=0.8))\n",
      "Gradient Descent mse:inf - mse_val:inf (init=False,iterations=1,time=0.001461029052734375,Momentum(lr=0.01,b=0.9))\n",
      "Gradient Descent mse:nan - mse_val:nan (init=False,iterations=1,time=0.001538991928100586,Momentum(lr=0.01,b=0.999))\n",
      "Gradient Descent mse:inf - mse_val:inf (init=False,iterations=141,time=0.12325286865234375,Constant(lr=0.001))\n",
      "Gradient Descent mse:3.015693787965869e+155 - mse_val:3.6081334443791673e+155 (init=False,iterations=1000,time=0.9394121170043945,Decay(lr=0.001,b=0.1))\n",
      "Gradient Descent mse:inf - mse_val:inf (init=False,iterations=190,time=0.17637181282043457,Decay(lr=0.001,b=0.01))\n"
     ]
    },
    {
     "name": "stdout",
     "output_type": "stream",
     "text": [
      "Gradient Descent mse:inf - mse_val:inf (init=False,iterations=142,time=0.19038820266723633,Decay(lr=0.001,b=0.0001))\n",
      "Gradient Descent mse:inf - mse_val:inf (init=False,iterations=144,time=0.12469291687011719,Decay(lr=0.001,b=0.0005))\n",
      "Gradient Descent mse:inf - mse_val:inf (init=False,iterations=1,time=0.0014913082122802734,Momentum(lr=0.001,b=0.7))\n",
      "Gradient Descent mse:inf - mse_val:inf (init=False,iterations=1,time=0.0014760494232177734,Momentum(lr=0.001,b=0.8))\n",
      "Gradient Descent mse:inf - mse_val:inf (init=False,iterations=1,time=0.0014369487762451172,Momentum(lr=0.001,b=0.9))\n",
      "Gradient Descent mse:inf - mse_val:inf (init=False,iterations=1,time=0.0016868114471435547,Momentum(lr=0.001,b=0.999))\n",
      "Gradient Descent mse:inf - mse_val:inf (init=False,iterations=164,time=0.15581178665161133,Constant(lr=0.0005))\n",
      "Gradient Descent mse:6.907625375267105 - mse_val:7.555644764519088 (init=False,iterations=1000,time=0.774360179901123,Decay(lr=0.0005,b=0.1))\n",
      "Gradient Descent mse:inf - mse_val:inf (init=False,iterations=250,time=0.17072200775146484,Decay(lr=0.0005,b=0.01))\n",
      "Gradient Descent mse:inf - mse_val:inf (init=False,iterations=165,time=0.15157198905944824,Decay(lr=0.0005,b=0.0001))\n",
      "Gradient Descent mse:inf - mse_val:inf (init=False,iterations=169,time=0.11575198173522949,Decay(lr=0.0005,b=0.0005))\n",
      "Gradient Descent mse:inf - mse_val:inf (init=False,iterations=1,time=0.0014438629150390625,Momentum(lr=0.0005,b=0.7))\n",
      "Gradient Descent mse:inf - mse_val:inf (init=False,iterations=1,time=0.0014448165893554688,Momentum(lr=0.0005,b=0.8))\n",
      "Gradient Descent mse:inf - mse_val:inf (init=False,iterations=1,time=0.001428842544555664,Momentum(lr=0.0005,b=0.9))\n",
      "Gradient Descent mse:inf - mse_val:inf (init=False,iterations=1,time=0.0014243125915527344,Momentum(lr=0.0005,b=0.999))\n",
      "Gradient Descent mse:inf - mse_val:inf (init=False,iterations=270,time=0.27195310592651367,Constant(lr=0.0001))\n",
      "Gradient Descent mse:15.809721843054586 - mse_val:14.268083879648897 (init=False,iterations=1000,time=0.7018580436706543,Decay(lr=0.0001,b=0.1))\n",
      "Gradient Descent mse:8.851649778871021 - mse_val:10.965095001909832 (init=False,iterations=1000,time=0.9578030109405518,Decay(lr=0.0001,b=0.01))\n",
      "Gradient Descent mse:inf - mse_val:inf (init=False,iterations=274,time=0.292072057723999,Decay(lr=0.0001,b=0.0001))\n",
      "Gradient Descent mse:inf - mse_val:inf (init=False,iterations=294,time=0.26940488815307617,Decay(lr=0.0001,b=0.0005))\n",
      "Gradient Descent mse:inf - mse_val:inf (init=False,iterations=1,time=0.0017883777618408203,Momentum(lr=0.0001,b=0.7))\n",
      "Gradient Descent mse:inf - mse_val:inf (init=False,iterations=1,time=0.0015420913696289062,Momentum(lr=0.0001,b=0.8))\n",
      "Gradient Descent mse:inf - mse_val:inf (init=False,iterations=1,time=0.0014772415161132812,Momentum(lr=0.0001,b=0.9))\n",
      "Gradient Descent mse:inf - mse_val:inf (init=False,iterations=1,time=0.002090930938720703,Momentum(lr=0.0001,b=0.999))\n",
      "Gradient Descent mse:10.834737478426176 - mse_val:11.046497774320287 (init=False,iterations=465,time=0.403425931930542,Constant(lr=1e-06))\n",
      "Gradient Descent mse:964.8819451554732 - mse_val:748.4132728995132 (init=False,iterations=1000,time=0.8610072135925293,Decay(lr=1e-06,b=0.1))\n",
      "Gradient Descent mse:156.5178270665205 - mse_val:122.80193195888174 (init=False,iterations=1000,time=0.7581381797790527,Decay(lr=1e-06,b=0.01))\n",
      "Gradient Descent mse:15.122125747943198 - mse_val:14.660726630535887 (init=False,iterations=1000,time=0.7698249816894531,Decay(lr=1e-06,b=0.0001))\n",
      "Gradient Descent mse:10.763754347543943 - mse_val:10.680919974030854 (init=False,iterations=1000,time=0.8202378749847412,Decay(lr=1e-06,b=0.0005))\n",
      "Gradient Descent mse:10.454210776239522 - mse_val:9.955720993572811 (init=False,iterations=1000,time=0.8099551200866699,Momentum(lr=1e-06,b=0.7))\n",
      "Gradient Descent mse:8.773398199862298 - mse_val:8.794255171815768 (init=False,iterations=1000,time=0.8675451278686523,Momentum(lr=1e-06,b=0.8))\n",
      "Gradient Descent mse:15.21840483975554 - mse_val:14.704044857595429 (init=False,iterations=1000,time=0.7909438610076904,Momentum(lr=1e-06,b=0.9))\n",
      "Gradient Descent mse:8.738512080928441 - mse_val:9.385580959606491 (init=False,iterations=1000,time=0.9288570880889893,Momentum(lr=1e-06,b=0.999))\n",
      "Gradient Descent mse:31.205131999710865 - mse_val:29.846561274346037 (init=False,iterations=1000,time=0.8184487819671631,Constant(lr=1e-07))\n",
      "Gradient Descent mse:13089.273873399472 - mse_val:15289.956540080699 (init=False,iterations=1000,time=0.7734148502349854,Decay(lr=1e-07,b=0.1))\n",
      "Gradient Descent mse:332.1637362139753 - mse_val:321.30095877282014 (init=False,iterations=1000,time=1.0705571174621582,Decay(lr=1e-07,b=0.01))\n",
      "Gradient Descent mse:521.7911483944771 - mse_val:395.72889357110415 (init=False,iterations=1000,time=0.9598817825317383,Decay(lr=1e-07,b=0.0001))\n",
      "Gradient Descent mse:754.2598788226637 - mse_val:569.662619693206 (init=False,iterations=1000,time=0.9450857639312744,Decay(lr=1e-07,b=0.0005))\n",
      "Gradient Descent mse:10.95889731771032 - mse_val:10.169787155898748 (init=False,iterations=1000,time=0.9737658500671387,Momentum(lr=1e-07,b=0.7))\n",
      "Gradient Descent mse:90.59122383664504 - mse_val:72.55576604480191 (init=False,iterations=1000,time=0.970196008682251,Momentum(lr=1e-07,b=0.8))\n",
      "Gradient Descent mse:267.8879615594322 - mse_val:202.46647397670515 (init=False,iterations=1000,time=0.8543319702148438,Momentum(lr=1e-07,b=0.9))\n",
      "Gradient Descent mse:7.3818947080465485 - mse_val:7.224788536686223 (init=False,iterations=1000,time=1.0996201038360596,Momentum(lr=1e-07,b=0.999))\n",
      "Best classifier achieved an error of 0.9954419763670966\n",
      "<linear_regression.LinearRegressionMSE object at 0x1a37ef4828>\n"
     ]
    }
   ],
   "source": [
    "data_model_19 = 'most_important_features'\n",
    "best_model_19, results_model_19 = model.train_model(data_model_19, init, learning_rates, momentum, decay)"
   ]
  },
  {
   "cell_type": "markdown",
   "metadata": {},
   "source": [
    "#### Best models found\n",
    "features:\n",
    "##### model with feature 1\n",
    "1. text: top 62\n",
    "2. is_root\n",
    "3. controversiality\n",
    "3. children\n",
    "3. len_text\n",
    "##### model with feature 2\n",
    "1. text: top 57\n",
    "2. is_root\n",
    "3. controversiality\n",
    "3. children\n",
    "3. $children^2$\n",
    "##### model with feature 1 and 2\n",
    "1. text: top 57, 60, 62\n",
    "2. is_root\n",
    "3. controversiality\n",
    "3. children\n",
    "3. $children^2$\n",
    "3. len_text"
   ]
  },
  {
   "cell_type": "code",
   "execution_count": 120,
   "metadata": {
    "collapsed": true
   },
   "outputs": [],
   "source": [
    "best_validation_mse_found = 0.9895357003238057"
   ]
  },
  {
   "cell_type": "code",
   "execution_count": 130,
   "metadata": {},
   "outputs": [
    {
     "name": "stdout",
     "output_type": "stream",
     "text": [
      "mse train: 1.0588100875581998 mse validation: 0.9694666245679203 improvement: 0.020069075755885346 True\n",
      "mse train: 1.0136867558011313 mse validation: 0.9613925880260399 improvement: 0.028143112297765782 True\n",
      "mse train: 1.0135964970716358 mse validation: 0.9622656420117641 improvement: 0.027270058312041545 True\n",
      "mse train: 1.0121192600140785 mse validation: 0.9488225887883579 improvement: 0.040713111535447766 True\n",
      "mse train: 1.0133390168154979 mse validation: 0.9627710986758459 improvement: 0.026764601647959796 True\n"
     ]
    }
   ],
   "source": [
    "best_models = pd.DataFrame(\n",
    "    columns=['algorithm', 'mse train', 'mse val', 'init zero', 'iterations', 'time', 'lr method', 'lr', 'b',\n",
    "             'model'])\n",
    "\n",
    "best_models_found = [\"lenght_text\", 'children_all', 'best_combination', 'best_combination1', 'best_combination2']\n",
    "for m in best_models_found:\n",
    "    X_train, y_train, X_val, y_val, X_test, y_test = load_data(m)\n",
    "    test_model_closed = clf.LinearRegressionMSE()\n",
    "    test_model_closed.fit(X_train, y_train)\n",
    "    y_pred = test_model_closed.pred(X_train)\n",
    "    y_pred_val = test_model_closed.pred(X_val)\n",
    "    y_pred_test = test_model_closed.pred(X_test)\n",
    "    mse_train = metric.mse(y_train, y_pred)\n",
    "    mse_val = metric.mse(y_val, y_pred_val)\n",
    "\n",
    "    print(\"mse train:\", mse_train,\"mse validation:\", mse_val, \"improvement:\", best_validation_mse_found - mse_val, \n",
    "         best_validation_mse_found > .005)\n",
    "\n",
    "    best_models = best_models.append(\n",
    "    {'algorithm': 'closed-form', 'mse train': mse_train, 'mse val': mse_val,\n",
    "     'time': 'NA', 'model': m}, ignore_index=True)"
   ]
  },
  {
   "cell_type": "markdown",
   "metadata": {},
   "source": [
    "### Results\n",
    "Save results for comparison"
   ]
  },
  {
   "cell_type": "code",
   "execution_count": 489,
   "metadata": {
    "collapsed": true
   },
   "outputs": [],
   "source": [
    "result_models_all = [results_model_1, results_model_2, results_model_3, results_model_4, results_model_5, \n",
    "                     results_model_6, results_model_7, results_model_8, results_model_9, results_model_10,\n",
    "                     results_model_10, results_model_11, results_model_12, results_model_13, results_model_14,\n",
    "                     results_model_15, results_model_16, results_model_17, results_model_18, results_model_19]\n",
    "result_models_ass = [results_model_1, results_model_2, results_model_3]\n",
    "result_all = pd.concat(result_models_all).sort_values(['mse val'])\n",
    "result_ass = pd.concat(result_models_ass).sort_values(['mse val'])\n",
    "result_all.to_csv('result/all_data.csv')\n",
    "result_ass.to_csv('result/main_data.csv')"
   ]
  },
  {
   "cell_type": "code",
   "execution_count": 490,
   "metadata": {},
   "outputs": [
    {
     "data": {
      "text/html": [
       "<div>\n",
       "<style>\n",
       "    .dataframe thead tr:only-child th {\n",
       "        text-align: right;\n",
       "    }\n",
       "\n",
       "    .dataframe thead th {\n",
       "        text-align: left;\n",
       "    }\n",
       "\n",
       "    .dataframe tbody tr th {\n",
       "        vertical-align: top;\n",
       "    }\n",
       "</style>\n",
       "<table border=\"1\" class=\"dataframe\">\n",
       "  <thead>\n",
       "    <tr style=\"text-align: right;\">\n",
       "      <th></th>\n",
       "      <th>algorithm</th>\n",
       "      <th>mse train</th>\n",
       "      <th>mse val</th>\n",
       "      <th>init zero</th>\n",
       "      <th>iterations</th>\n",
       "      <th>time</th>\n",
       "      <th>lr method</th>\n",
       "      <th>lr</th>\n",
       "      <th>b</th>\n",
       "      <th>model</th>\n",
       "    </tr>\n",
       "  </thead>\n",
       "  <tbody>\n",
       "    <tr>\n",
       "      <th>0</th>\n",
       "      <td>closed-form</td>\n",
       "      <td>1.060230</td>\n",
       "      <td>0.983186</td>\n",
       "      <td>NaN</td>\n",
       "      <td>NaN</td>\n",
       "      <td>0.007421</td>\n",
       "      <td>NaN</td>\n",
       "      <td>NaN</td>\n",
       "      <td>NaN</td>\n",
       "      <td>default_top60</td>\n",
       "    </tr>\n",
       "    <tr>\n",
       "      <th>0</th>\n",
       "      <td>closed-form</td>\n",
       "      <td>1.046833</td>\n",
       "      <td>0.989536</td>\n",
       "      <td>NaN</td>\n",
       "      <td>NaN</td>\n",
       "      <td>0.028902</td>\n",
       "      <td>NaN</td>\n",
       "      <td>NaN</td>\n",
       "      <td>NaN</td>\n",
       "      <td>default_top160</td>\n",
       "    </tr>\n",
       "    <tr>\n",
       "      <th>9</th>\n",
       "      <td>gradient</td>\n",
       "      <td>1.060731</td>\n",
       "      <td>0.992892</td>\n",
       "      <td>1</td>\n",
       "      <td>1000</td>\n",
       "      <td>3.784632</td>\n",
       "      <td>Momentum</td>\n",
       "      <td>0.01</td>\n",
       "      <td>0.999</td>\n",
       "      <td>default_top160</td>\n",
       "    </tr>\n",
       "    <tr>\n",
       "      <th>8</th>\n",
       "      <td>gradient</td>\n",
       "      <td>1.060730</td>\n",
       "      <td>0.992892</td>\n",
       "      <td>1</td>\n",
       "      <td>1000</td>\n",
       "      <td>3.825290</td>\n",
       "      <td>Momentum</td>\n",
       "      <td>0.01</td>\n",
       "      <td>0.9</td>\n",
       "      <td>default_top160</td>\n",
       "    </tr>\n",
       "    <tr>\n",
       "      <th>7</th>\n",
       "      <td>gradient</td>\n",
       "      <td>1.060730</td>\n",
       "      <td>0.992893</td>\n",
       "      <td>1</td>\n",
       "      <td>1000</td>\n",
       "      <td>3.851849</td>\n",
       "      <td>Momentum</td>\n",
       "      <td>0.01</td>\n",
       "      <td>0.8</td>\n",
       "      <td>default_top160</td>\n",
       "    </tr>\n",
       "    <tr>\n",
       "      <th>6</th>\n",
       "      <td>gradient</td>\n",
       "      <td>1.060730</td>\n",
       "      <td>0.992893</td>\n",
       "      <td>1</td>\n",
       "      <td>1000</td>\n",
       "      <td>3.901607</td>\n",
       "      <td>Momentum</td>\n",
       "      <td>0.01</td>\n",
       "      <td>0.7</td>\n",
       "      <td>default_top160</td>\n",
       "    </tr>\n",
       "    <tr>\n",
       "      <th>1</th>\n",
       "      <td>gradient</td>\n",
       "      <td>1.060728</td>\n",
       "      <td>0.992897</td>\n",
       "      <td>1</td>\n",
       "      <td>1000</td>\n",
       "      <td>3.737297</td>\n",
       "      <td>LearningRate</td>\n",
       "      <td>0.01</td>\n",
       "      <td>None</td>\n",
       "      <td>default_top160</td>\n",
       "    </tr>\n",
       "    <tr>\n",
       "      <th>4</th>\n",
       "      <td>gradient</td>\n",
       "      <td>1.061276</td>\n",
       "      <td>0.993325</td>\n",
       "      <td>1</td>\n",
       "      <td>1000</td>\n",
       "      <td>4.442342</td>\n",
       "      <td>Decay</td>\n",
       "      <td>0.01</td>\n",
       "      <td>0.0001</td>\n",
       "      <td>default_top160</td>\n",
       "    </tr>\n",
       "    <tr>\n",
       "      <th>5</th>\n",
       "      <td>gradient</td>\n",
       "      <td>1.063222</td>\n",
       "      <td>0.994999</td>\n",
       "      <td>1</td>\n",
       "      <td>1000</td>\n",
       "      <td>4.430588</td>\n",
       "      <td>Decay</td>\n",
       "      <td>0.01</td>\n",
       "      <td>0.0005</td>\n",
       "      <td>default_top160</td>\n",
       "    </tr>\n",
       "    <tr>\n",
       "      <th>0</th>\n",
       "      <td>closed-form</td>\n",
       "      <td>1.037559</td>\n",
       "      <td>0.995442</td>\n",
       "      <td>NaN</td>\n",
       "      <td>NaN</td>\n",
       "      <td>0.002030</td>\n",
       "      <td>NaN</td>\n",
       "      <td>NaN</td>\n",
       "      <td>NaN</td>\n",
       "      <td>most_important_features</td>\n",
       "    </tr>\n",
       "    <tr>\n",
       "      <th>9</th>\n",
       "      <td>gradient</td>\n",
       "      <td>1.065273</td>\n",
       "      <td>0.997260</td>\n",
       "      <td>1</td>\n",
       "      <td>1000</td>\n",
       "      <td>3.940919</td>\n",
       "      <td>Momentum</td>\n",
       "      <td>0.01</td>\n",
       "      <td>0.999</td>\n",
       "      <td>default_noroot</td>\n",
       "    </tr>\n",
       "    <tr>\n",
       "      <th>8</th>\n",
       "      <td>gradient</td>\n",
       "      <td>1.065273</td>\n",
       "      <td>0.997261</td>\n",
       "      <td>1</td>\n",
       "      <td>1000</td>\n",
       "      <td>3.979986</td>\n",
       "      <td>Momentum</td>\n",
       "      <td>0.01</td>\n",
       "      <td>0.9</td>\n",
       "      <td>default_noroot</td>\n",
       "    </tr>\n",
       "    <tr>\n",
       "      <th>7</th>\n",
       "      <td>gradient</td>\n",
       "      <td>1.065273</td>\n",
       "      <td>0.997262</td>\n",
       "      <td>1</td>\n",
       "      <td>1000</td>\n",
       "      <td>4.240011</td>\n",
       "      <td>Momentum</td>\n",
       "      <td>0.01</td>\n",
       "      <td>0.8</td>\n",
       "      <td>default_noroot</td>\n",
       "    </tr>\n",
       "    <tr>\n",
       "      <th>6</th>\n",
       "      <td>gradient</td>\n",
       "      <td>1.065273</td>\n",
       "      <td>0.997262</td>\n",
       "      <td>1</td>\n",
       "      <td>1000</td>\n",
       "      <td>5.385750</td>\n",
       "      <td>Momentum</td>\n",
       "      <td>0.01</td>\n",
       "      <td>0.7</td>\n",
       "      <td>default_noroot</td>\n",
       "    </tr>\n",
       "    <tr>\n",
       "      <th>1</th>\n",
       "      <td>gradient</td>\n",
       "      <td>1.065273</td>\n",
       "      <td>0.997268</td>\n",
       "      <td>1</td>\n",
       "      <td>1000</td>\n",
       "      <td>4.201854</td>\n",
       "      <td>LearningRate</td>\n",
       "      <td>0.01</td>\n",
       "      <td>None</td>\n",
       "      <td>default_noroot</td>\n",
       "    </tr>\n",
       "    <tr>\n",
       "      <th>4</th>\n",
       "      <td>gradient</td>\n",
       "      <td>1.065644</td>\n",
       "      <td>0.997514</td>\n",
       "      <td>1</td>\n",
       "      <td>1000</td>\n",
       "      <td>4.734307</td>\n",
       "      <td>Decay</td>\n",
       "      <td>0.01</td>\n",
       "      <td>0.0001</td>\n",
       "      <td>default_noroot</td>\n",
       "    </tr>\n",
       "    <tr>\n",
       "      <th>9</th>\n",
       "      <td>gradient</td>\n",
       "      <td>1.070057</td>\n",
       "      <td>0.998221</td>\n",
       "      <td>1</td>\n",
       "      <td>1000</td>\n",
       "      <td>0.755377</td>\n",
       "      <td>Momentum</td>\n",
       "      <td>0.01</td>\n",
       "      <td>0.999</td>\n",
       "      <td>default_top60</td>\n",
       "    </tr>\n",
       "    <tr>\n",
       "      <th>8</th>\n",
       "      <td>gradient</td>\n",
       "      <td>1.070057</td>\n",
       "      <td>0.998221</td>\n",
       "      <td>1</td>\n",
       "      <td>1000</td>\n",
       "      <td>0.805352</td>\n",
       "      <td>Momentum</td>\n",
       "      <td>0.01</td>\n",
       "      <td>0.9</td>\n",
       "      <td>default_top60</td>\n",
       "    </tr>\n",
       "    <tr>\n",
       "      <th>7</th>\n",
       "      <td>gradient</td>\n",
       "      <td>1.070057</td>\n",
       "      <td>0.998221</td>\n",
       "      <td>1</td>\n",
       "      <td>1000</td>\n",
       "      <td>0.857695</td>\n",
       "      <td>Momentum</td>\n",
       "      <td>0.01</td>\n",
       "      <td>0.8</td>\n",
       "      <td>default_top60</td>\n",
       "    </tr>\n",
       "    <tr>\n",
       "      <th>6</th>\n",
       "      <td>gradient</td>\n",
       "      <td>1.070056</td>\n",
       "      <td>0.998221</td>\n",
       "      <td>1</td>\n",
       "      <td>1000</td>\n",
       "      <td>0.820532</td>\n",
       "      <td>Momentum</td>\n",
       "      <td>0.01</td>\n",
       "      <td>0.7</td>\n",
       "      <td>default_top60</td>\n",
       "    </tr>\n",
       "    <tr>\n",
       "      <th>1</th>\n",
       "      <td>gradient</td>\n",
       "      <td>1.070055</td>\n",
       "      <td>0.998222</td>\n",
       "      <td>1</td>\n",
       "      <td>1000</td>\n",
       "      <td>0.870161</td>\n",
       "      <td>LearningRate</td>\n",
       "      <td>0.01</td>\n",
       "      <td>None</td>\n",
       "      <td>default_top60</td>\n",
       "    </tr>\n",
       "    <tr>\n",
       "      <th>5</th>\n",
       "      <td>gradient</td>\n",
       "      <td>1.067028</td>\n",
       "      <td>0.998615</td>\n",
       "      <td>1</td>\n",
       "      <td>1000</td>\n",
       "      <td>4.099798</td>\n",
       "      <td>Decay</td>\n",
       "      <td>0.01</td>\n",
       "      <td>0.0005</td>\n",
       "      <td>default_noroot</td>\n",
       "    </tr>\n",
       "    <tr>\n",
       "      <th>4</th>\n",
       "      <td>gradient</td>\n",
       "      <td>1.070408</td>\n",
       "      <td>0.998739</td>\n",
       "      <td>1</td>\n",
       "      <td>1000</td>\n",
       "      <td>0.906065</td>\n",
       "      <td>Decay</td>\n",
       "      <td>0.01</td>\n",
       "      <td>0.0001</td>\n",
       "      <td>default_top60</td>\n",
       "    </tr>\n",
       "    <tr>\n",
       "      <th>5</th>\n",
       "      <td>gradient</td>\n",
       "      <td>1.071684</td>\n",
       "      <td>1.000614</td>\n",
       "      <td>1</td>\n",
       "      <td>1000</td>\n",
       "      <td>0.759571</td>\n",
       "      <td>Decay</td>\n",
       "      <td>0.01</td>\n",
       "      <td>0.0005</td>\n",
       "      <td>default_top60</td>\n",
       "    </tr>\n",
       "    <tr>\n",
       "      <th>0</th>\n",
       "      <td>closed-form</td>\n",
       "      <td>1.024184</td>\n",
       "      <td>1.000777</td>\n",
       "      <td>NaN</td>\n",
       "      <td>NaN</td>\n",
       "      <td>0.013396</td>\n",
       "      <td>NaN</td>\n",
       "      <td>NaN</td>\n",
       "      <td>NaN</td>\n",
       "      <td>square</td>\n",
       "    </tr>\n",
       "  </tbody>\n",
       "</table>\n",
       "</div>"
      ],
      "text/plain": [
       "     algorithm  mse train   mse val init zero iterations      time  \\\n",
       "0  closed-form   1.060230  0.983186       NaN        NaN  0.007421   \n",
       "0  closed-form   1.046833  0.989536       NaN        NaN  0.028902   \n",
       "9     gradient   1.060731  0.992892         1       1000  3.784632   \n",
       "8     gradient   1.060730  0.992892         1       1000  3.825290   \n",
       "7     gradient   1.060730  0.992893         1       1000  3.851849   \n",
       "6     gradient   1.060730  0.992893         1       1000  3.901607   \n",
       "1     gradient   1.060728  0.992897         1       1000  3.737297   \n",
       "4     gradient   1.061276  0.993325         1       1000  4.442342   \n",
       "5     gradient   1.063222  0.994999         1       1000  4.430588   \n",
       "0  closed-form   1.037559  0.995442       NaN        NaN  0.002030   \n",
       "9     gradient   1.065273  0.997260         1       1000  3.940919   \n",
       "8     gradient   1.065273  0.997261         1       1000  3.979986   \n",
       "7     gradient   1.065273  0.997262         1       1000  4.240011   \n",
       "6     gradient   1.065273  0.997262         1       1000  5.385750   \n",
       "1     gradient   1.065273  0.997268         1       1000  4.201854   \n",
       "4     gradient   1.065644  0.997514         1       1000  4.734307   \n",
       "9     gradient   1.070057  0.998221         1       1000  0.755377   \n",
       "8     gradient   1.070057  0.998221         1       1000  0.805352   \n",
       "7     gradient   1.070057  0.998221         1       1000  0.857695   \n",
       "6     gradient   1.070056  0.998221         1       1000  0.820532   \n",
       "1     gradient   1.070055  0.998222         1       1000  0.870161   \n",
       "5     gradient   1.067028  0.998615         1       1000  4.099798   \n",
       "4     gradient   1.070408  0.998739         1       1000  0.906065   \n",
       "5     gradient   1.071684  1.000614         1       1000  0.759571   \n",
       "0  closed-form   1.024184  1.000777       NaN        NaN  0.013396   \n",
       "\n",
       "      lr method    lr       b                    model  \n",
       "0           NaN   NaN     NaN            default_top60  \n",
       "0           NaN   NaN     NaN           default_top160  \n",
       "9      Momentum  0.01   0.999           default_top160  \n",
       "8      Momentum  0.01     0.9           default_top160  \n",
       "7      Momentum  0.01     0.8           default_top160  \n",
       "6      Momentum  0.01     0.7           default_top160  \n",
       "1  LearningRate  0.01    None           default_top160  \n",
       "4         Decay  0.01  0.0001           default_top160  \n",
       "5         Decay  0.01  0.0005           default_top160  \n",
       "0           NaN   NaN     NaN  most_important_features  \n",
       "9      Momentum  0.01   0.999           default_noroot  \n",
       "8      Momentum  0.01     0.9           default_noroot  \n",
       "7      Momentum  0.01     0.8           default_noroot  \n",
       "6      Momentum  0.01     0.7           default_noroot  \n",
       "1  LearningRate  0.01    None           default_noroot  \n",
       "4         Decay  0.01  0.0001           default_noroot  \n",
       "9      Momentum  0.01   0.999            default_top60  \n",
       "8      Momentum  0.01     0.9            default_top60  \n",
       "7      Momentum  0.01     0.8            default_top60  \n",
       "6      Momentum  0.01     0.7            default_top60  \n",
       "1  LearningRate  0.01    None            default_top60  \n",
       "5         Decay  0.01  0.0005           default_noroot  \n",
       "4         Decay  0.01  0.0001            default_top60  \n",
       "5         Decay  0.01  0.0005            default_top60  \n",
       "0           NaN   NaN     NaN                   square  "
      ]
     },
     "execution_count": 490,
     "metadata": {},
     "output_type": "execute_result"
    }
   ],
   "source": [
    "result_all.head(25)"
   ]
  },
  {
   "cell_type": "code",
   "execution_count": 491,
   "metadata": {},
   "outputs": [
    {
     "data": {
      "text/html": [
       "<div>\n",
       "<style>\n",
       "    .dataframe thead tr:only-child th {\n",
       "        text-align: right;\n",
       "    }\n",
       "\n",
       "    .dataframe thead th {\n",
       "        text-align: left;\n",
       "    }\n",
       "\n",
       "    .dataframe tbody tr th {\n",
       "        vertical-align: top;\n",
       "    }\n",
       "</style>\n",
       "<table border=\"1\" class=\"dataframe\">\n",
       "  <thead>\n",
       "    <tr style=\"text-align: right;\">\n",
       "      <th></th>\n",
       "      <th>algorithm</th>\n",
       "      <th>mse train</th>\n",
       "      <th>mse val</th>\n",
       "      <th>init zero</th>\n",
       "      <th>iterations</th>\n",
       "      <th>time</th>\n",
       "      <th>lr method</th>\n",
       "      <th>lr</th>\n",
       "      <th>b</th>\n",
       "      <th>model</th>\n",
       "    </tr>\n",
       "  </thead>\n",
       "  <tbody>\n",
       "    <tr>\n",
       "      <th>0</th>\n",
       "      <td>closed-form</td>\n",
       "      <td>1.060230</td>\n",
       "      <td>0.983186</td>\n",
       "      <td>NaN</td>\n",
       "      <td>NaN</td>\n",
       "      <td>0.007421</td>\n",
       "      <td>NaN</td>\n",
       "      <td>NaN</td>\n",
       "      <td>NaN</td>\n",
       "      <td>default_top60</td>\n",
       "    </tr>\n",
       "    <tr>\n",
       "      <th>0</th>\n",
       "      <td>closed-form</td>\n",
       "      <td>1.046833</td>\n",
       "      <td>0.989536</td>\n",
       "      <td>NaN</td>\n",
       "      <td>NaN</td>\n",
       "      <td>0.028902</td>\n",
       "      <td>NaN</td>\n",
       "      <td>NaN</td>\n",
       "      <td>NaN</td>\n",
       "      <td>default_top160</td>\n",
       "    </tr>\n",
       "    <tr>\n",
       "      <th>9</th>\n",
       "      <td>gradient</td>\n",
       "      <td>1.060731</td>\n",
       "      <td>0.992892</td>\n",
       "      <td>1.0</td>\n",
       "      <td>1000.0</td>\n",
       "      <td>3.784632</td>\n",
       "      <td>Momentum</td>\n",
       "      <td>0.01</td>\n",
       "      <td>0.999</td>\n",
       "      <td>default_top160</td>\n",
       "    </tr>\n",
       "    <tr>\n",
       "      <th>8</th>\n",
       "      <td>gradient</td>\n",
       "      <td>1.060730</td>\n",
       "      <td>0.992892</td>\n",
       "      <td>1.0</td>\n",
       "      <td>1000.0</td>\n",
       "      <td>3.825290</td>\n",
       "      <td>Momentum</td>\n",
       "      <td>0.01</td>\n",
       "      <td>0.9</td>\n",
       "      <td>default_top160</td>\n",
       "    </tr>\n",
       "    <tr>\n",
       "      <th>7</th>\n",
       "      <td>gradient</td>\n",
       "      <td>1.060730</td>\n",
       "      <td>0.992893</td>\n",
       "      <td>1.0</td>\n",
       "      <td>1000.0</td>\n",
       "      <td>3.851849</td>\n",
       "      <td>Momentum</td>\n",
       "      <td>0.01</td>\n",
       "      <td>0.8</td>\n",
       "      <td>default_top160</td>\n",
       "    </tr>\n",
       "    <tr>\n",
       "      <th>6</th>\n",
       "      <td>gradient</td>\n",
       "      <td>1.060730</td>\n",
       "      <td>0.992893</td>\n",
       "      <td>1.0</td>\n",
       "      <td>1000.0</td>\n",
       "      <td>3.901607</td>\n",
       "      <td>Momentum</td>\n",
       "      <td>0.01</td>\n",
       "      <td>0.7</td>\n",
       "      <td>default_top160</td>\n",
       "    </tr>\n",
       "    <tr>\n",
       "      <th>1</th>\n",
       "      <td>gradient</td>\n",
       "      <td>1.060728</td>\n",
       "      <td>0.992897</td>\n",
       "      <td>1.0</td>\n",
       "      <td>1000.0</td>\n",
       "      <td>3.737297</td>\n",
       "      <td>LearningRate</td>\n",
       "      <td>0.01</td>\n",
       "      <td>None</td>\n",
       "      <td>default_top160</td>\n",
       "    </tr>\n",
       "    <tr>\n",
       "      <th>4</th>\n",
       "      <td>gradient</td>\n",
       "      <td>1.061276</td>\n",
       "      <td>0.993325</td>\n",
       "      <td>1.0</td>\n",
       "      <td>1000.0</td>\n",
       "      <td>4.442342</td>\n",
       "      <td>Decay</td>\n",
       "      <td>0.01</td>\n",
       "      <td>0.0001</td>\n",
       "      <td>default_top160</td>\n",
       "    </tr>\n",
       "    <tr>\n",
       "      <th>5</th>\n",
       "      <td>gradient</td>\n",
       "      <td>1.063222</td>\n",
       "      <td>0.994999</td>\n",
       "      <td>1.0</td>\n",
       "      <td>1000.0</td>\n",
       "      <td>4.430588</td>\n",
       "      <td>Decay</td>\n",
       "      <td>0.01</td>\n",
       "      <td>0.0005</td>\n",
       "      <td>default_top160</td>\n",
       "    </tr>\n",
       "    <tr>\n",
       "      <th>9</th>\n",
       "      <td>gradient</td>\n",
       "      <td>1.070057</td>\n",
       "      <td>0.998221</td>\n",
       "      <td>1.0</td>\n",
       "      <td>1000.0</td>\n",
       "      <td>0.755377</td>\n",
       "      <td>Momentum</td>\n",
       "      <td>0.01</td>\n",
       "      <td>0.999</td>\n",
       "      <td>default_top60</td>\n",
       "    </tr>\n",
       "  </tbody>\n",
       "</table>\n",
       "</div>"
      ],
      "text/plain": [
       "     algorithm  mse train   mse val  init zero  iterations      time  \\\n",
       "0  closed-form   1.060230  0.983186        NaN         NaN  0.007421   \n",
       "0  closed-form   1.046833  0.989536        NaN         NaN  0.028902   \n",
       "9     gradient   1.060731  0.992892        1.0      1000.0  3.784632   \n",
       "8     gradient   1.060730  0.992892        1.0      1000.0  3.825290   \n",
       "7     gradient   1.060730  0.992893        1.0      1000.0  3.851849   \n",
       "6     gradient   1.060730  0.992893        1.0      1000.0  3.901607   \n",
       "1     gradient   1.060728  0.992897        1.0      1000.0  3.737297   \n",
       "4     gradient   1.061276  0.993325        1.0      1000.0  4.442342   \n",
       "5     gradient   1.063222  0.994999        1.0      1000.0  4.430588   \n",
       "9     gradient   1.070057  0.998221        1.0      1000.0  0.755377   \n",
       "\n",
       "      lr method    lr       b           model  \n",
       "0           NaN   NaN     NaN   default_top60  \n",
       "0           NaN   NaN     NaN  default_top160  \n",
       "9      Momentum  0.01   0.999  default_top160  \n",
       "8      Momentum  0.01     0.9  default_top160  \n",
       "7      Momentum  0.01     0.8  default_top160  \n",
       "6      Momentum  0.01     0.7  default_top160  \n",
       "1  LearningRate  0.01    None  default_top160  \n",
       "4         Decay  0.01  0.0001  default_top160  \n",
       "5         Decay  0.01  0.0005  default_top160  \n",
       "9      Momentum  0.01   0.999   default_top60  "
      ]
     },
     "execution_count": 491,
     "metadata": {},
     "output_type": "execute_result"
    }
   ],
   "source": [
    "result_ass.head(10)"
   ]
  },
  {
   "cell_type": "code",
   "execution_count": 128,
   "metadata": {},
   "outputs": [
    {
     "data": {
      "text/html": [
       "<div>\n",
       "<style>\n",
       "    .dataframe thead tr:only-child th {\n",
       "        text-align: right;\n",
       "    }\n",
       "\n",
       "    .dataframe thead th {\n",
       "        text-align: left;\n",
       "    }\n",
       "\n",
       "    .dataframe tbody tr th {\n",
       "        vertical-align: top;\n",
       "    }\n",
       "</style>\n",
       "<table border=\"1\" class=\"dataframe\">\n",
       "  <thead>\n",
       "    <tr style=\"text-align: right;\">\n",
       "      <th></th>\n",
       "      <th>algorithm</th>\n",
       "      <th>mse train</th>\n",
       "      <th>mse val</th>\n",
       "      <th>init zero</th>\n",
       "      <th>iterations</th>\n",
       "      <th>time</th>\n",
       "      <th>lr method</th>\n",
       "      <th>lr</th>\n",
       "      <th>b</th>\n",
       "      <th>model</th>\n",
       "    </tr>\n",
       "  </thead>\n",
       "  <tbody>\n",
       "    <tr>\n",
       "      <th>1</th>\n",
       "      <td>closed-form</td>\n",
       "      <td>1.013687</td>\n",
       "      <td>0.961393</td>\n",
       "      <td>NaN</td>\n",
       "      <td>NaN</td>\n",
       "      <td>NA</td>\n",
       "      <td>NaN</td>\n",
       "      <td>NaN</td>\n",
       "      <td>NaN</td>\n",
       "      <td>children_all</td>\n",
       "    </tr>\n",
       "    <tr>\n",
       "      <th>2</th>\n",
       "      <td>closed-form</td>\n",
       "      <td>1.013596</td>\n",
       "      <td>0.962266</td>\n",
       "      <td>NaN</td>\n",
       "      <td>NaN</td>\n",
       "      <td>NA</td>\n",
       "      <td>NaN</td>\n",
       "      <td>NaN</td>\n",
       "      <td>NaN</td>\n",
       "      <td>best_combination</td>\n",
       "    </tr>\n",
       "    <tr>\n",
       "      <th>0</th>\n",
       "      <td>closed-form</td>\n",
       "      <td>1.058810</td>\n",
       "      <td>0.969467</td>\n",
       "      <td>NaN</td>\n",
       "      <td>NaN</td>\n",
       "      <td>NA</td>\n",
       "      <td>NaN</td>\n",
       "      <td>NaN</td>\n",
       "      <td>NaN</td>\n",
       "      <td>lenght_text</td>\n",
       "    </tr>\n",
       "  </tbody>\n",
       "</table>\n",
       "</div>"
      ],
      "text/plain": [
       "     algorithm  mse train   mse val  init zero  iterations time  lr method  \\\n",
       "1  closed-form   1.013687  0.961393        NaN         NaN   NA        NaN   \n",
       "2  closed-form   1.013596  0.962266        NaN         NaN   NA        NaN   \n",
       "0  closed-form   1.058810  0.969467        NaN         NaN   NA        NaN   \n",
       "\n",
       "   lr   b             model  \n",
       "1 NaN NaN      children_all  \n",
       "2 NaN NaN  best_combination  \n",
       "0 NaN NaN       lenght_text  "
      ]
     },
     "execution_count": 128,
     "metadata": {},
     "output_type": "execute_result"
    }
   ],
   "source": [
    "best_models.sort_values(by=['mse val'])"
   ]
  },
  {
   "cell_type": "markdown",
   "metadata": {},
   "source": [
    "### Run on test data\n",
    "Select the tree top models"
   ]
  },
  {
   "cell_type": "code",
   "execution_count": 138,
   "metadata": {},
   "outputs": [
    {
     "name": "stdout",
     "output_type": "stream",
     "text": [
      "children_all: mse train: 1.0136867558011313, mse val: 0.9613925880260399, mse test: 1.2560738371172828\n",
      "best_combination1: mse train: 1.0121192600140785, mse val: 0.9488225887883579, mse test: 1.2677977830831606\n"
     ]
    }
   ],
   "source": [
    "import metric\n",
    "\n",
    "# file = ['default_top60', 'default_top160', 'most_important_features']\n",
    "# file = [\"lenght_text\", 'children_all', 'best_combination', 'best_combination1', \n",
    "#        'best_combination2', 'most_important_features']\n",
    "file = ['children_all', 'best_combination1']\n",
    "for f in file:\n",
    "    X_train, y_train, X_val, y_val, X_test, y_test = load_data(f)\n",
    "\n",
    "    # train model with selected hyperparameters\n",
    "#     test_model = clf.LinearRegressionGD(Momentum(0.01, 0.999))\n",
    "    test_model = clf.LinearRegressionMSE()\n",
    "#     test_model.fit(X_train, y_train, verbose=False, max_iter=10000000, tol=5e-6)\n",
    "    test_model.fit(X_train, y_train)\n",
    "\n",
    "    # evaluate model in val and test set\n",
    "    y_pred_train = test_model.pred(X_train)\n",
    "    y_pred_val = test_model.pred(X_val)\n",
    "    y_pred_test = test_model.pred(X_test)\n",
    "\n",
    "    # evaluate\n",
    "    mse_train = metric.mse(y_train, y_pred_train)\n",
    "    mse_val = metric.mse(y_val, y_pred_val)\n",
    "    mse_test = metric.mse(y_test, y_pred_test)\n",
    "\n",
    "    print(\"%s: mse train: %s, mse val: %s, mse test: %s\" % (f, mse_train, mse_val, mse_test))\n",
    "#     test_model.plot_error()\n",
    "#     print(test_model.step)"
   ]
  },
  {
   "cell_type": "markdown",
   "metadata": {},
   "source": [
    "#### Analyze gradient descent and closed form"
   ]
  },
  {
   "cell_type": "code",
   "execution_count": 14,
   "metadata": {
    "collapsed": true
   },
   "outputs": [],
   "source": [
    "X_train, y_train, X_val, y_val, X_test, y_test = load_data('default_notext')\n",
    "\n",
    "test_model_closed = clf.LinearRegressionMSE()\n",
    "start = time.time()\n",
    "test_model_closed.fit(X_train, y_train)\n",
    "end = time.time()\n",
    "time_closed_form = end - start"
   ]
  },
  {
   "cell_type": "code",
   "execution_count": 16,
   "metadata": {
    "collapsed": true
   },
   "outputs": [],
   "source": [
    "rates = [.5, .3, .2, .1, .08, .05, .02, .01, .008, .004, .001, .0005, .0001, .00001]\n",
    "error = []\n",
    "times = []\n",
    "iterations = []\n",
    "import time\n",
    "for i in rates:\n",
    "    test_model = clf.LinearRegressionGD(Momentum(i, 0.9))\n",
    "    start = time.time()\n",
    "    test_model.fit(X_train, y_train, verbose=False, max_iter=10000000, tol=1e-7)\n",
    "    end = time.time()\n",
    "    iterations.append(test_model.step)\n",
    "    times.append(end-start)\n",
    "    error.append(test_model.w - test_model_closed.w)"
   ]
  },
  {
   "cell_type": "code",
   "execution_count": 18,
   "metadata": {},
   "outputs": [
    {
     "data": {
      "text/plain": [
       "Text(0, 0.5, 'precision (1e-7)')"
      ]
     },
     "execution_count": 18,
     "metadata": {},
     "output_type": "execute_result"
    },
    {
     "data": {
      "image/png": "[encoded data removed]",
      "text/plain": [
       "<Figure size 1080x288 with 2 Axes>"
      ]
     },
     "metadata": {
      "needs_background": "light"
     },
     "output_type": "display_data"
    }
   ],
   "source": [
    "# iterations_norm = (np.array(iterations) - np.min(iterations)) / (np.max(iterations) - np.min(iterations))\n",
    "# # error_norm = (np.array(error) - np.min(error)) / (np.max(error) - np.min(error))\n",
    "error_mean = [e.mean() for e in error]\n",
    "# error_norm = (np.array(error_mean) - np.min(error_mean)) / (np.max(error_mean) - np.min(error_mean))\n",
    "# time_norm = (np.array(times) - np.min(times)) / (np.max(times) - np.min(times))\n",
    "\n",
    "# # plt.plot(rates[2:10], iterations_norm[2:10] * 70)\n",
    "# plt.plot(rates[2:10], error_norm[2:10] * 10)\n",
    "# plt.plot(rates[2:10], time_norm[2:10])\n",
    "# plt.plot([0, .2], [time_closed_form, time_closed_form])\n",
    "# plt.xlabel('learning rate')\n",
    "# plt.legend(['gd error', 'gd time', 'closed-form time'])\n",
    "fig = plt.figure(figsize=(15,4))\n",
    "plt.subplot(1,2,1)\n",
    "plt.plot(rates[2:10], times[2:10])\n",
    "plt.plot([0, .2], [time_closed_form, time_closed_form])\n",
    "plt.xlabel('learning rate')\n",
    "plt.ylabel('time (s)')\n",
    "plt.legend(['gradient descent', 'closed-form'])\n",
    "plt.subplot(1,2,2)\n",
    "plt.plot(rates[2:10], error_mean[2:10])\n",
    "plt.xlabel('learning rate')\n",
    "plt.ylabel('precision (1e-7)')"
   ]
  },
  {
   "cell_type": "code",
   "execution_count": 20,
   "metadata": {},
   "outputs": [
    {
     "name": "stdout",
     "output_type": "stream",
     "text": [
      "1.0375588026545317 0.9954419763670966 1.2648622481276621\n"
     ]
    }
   ],
   "source": [
    "import metric\n",
    "X_train, y_train, X_val, y_val, X_test, y_test = load_data('most_important_features')\n",
    "test_model_closed = clf.LinearRegressionMSE()\n",
    "test_model_closed.fit(X_train, y_train)\n",
    "y_pred = test_model_closed.pred(X_train)\n",
    "y_pred_val = test_model_closed.pred(X_val)\n",
    "y_pred_test = test_model_closed.pred(X_test)\n",
    "mse_train = metric.mse(y_train, y_pred)\n",
    "mse_val = metric.mse(y_val, y_pred_val)\n",
    "mse_test = metric.mse(y_test, y_pred_test)\n",
    "print(mse_train,mse_val,mse_test)\n",
    "\n",
    "# test_model_closed.w"
   ]
  },
  {
   "cell_type": "markdown",
   "metadata": {},
   "source": [
    "##### See residuals"
   ]
  },
  {
   "cell_type": "code",
   "execution_count": 21,
   "metadata": {},
   "outputs": [
    {
     "data": {
      "text/plain": [
       "[<matplotlib.lines.Line2D at 0x1a25312780>]"
      ]
     },
     "execution_count": 21,
     "metadata": {},
     "output_type": "execute_result"
    },
    {
     "data": {
      "image/png": "[encoded data removed]",
      "text/plain": [
       "<Figure size 432x288 with 1 Axes>"
      ]
     },
     "metadata": {
      "needs_background": "light"
     },
     "output_type": "display_data"
    }
   ],
   "source": [
    "plt.plot(y_test, y_pred_test, 'o')"
   ]
  },
  {
   "cell_type": "code",
   "execution_count": 22,
   "metadata": {},
   "outputs": [
    {
     "data": {
      "text/plain": [
       "[<matplotlib.lines.Line2D at 0x1a31d93c88>]"
      ]
     },
     "execution_count": 22,
     "metadata": {},
     "output_type": "execute_result"
    },
    {
     "data": {
      "image/png": "[encoded data removed]",
      "text/plain": [
       "<Figure size 432x288 with 1 Axes>"
      ]
     },
     "metadata": {
      "needs_background": "light"
     },
     "output_type": "display_data"
    }
   ],
   "source": [
    "plt.plot(y_train, y_pred, 'o')"
   ]
  }
 ],
 "metadata": {
  "colab": {
   "collapsed_sections": [],
   "name": "comp551_project1.ipynb",
   "provenance": [],
   "toc_visible": true,
   "version": "0.3.2"
  },
  "kernelspec": {
   "display_name": "Python 3",
   "language": "python",
   "name": "python3"
  },
  "language_info": {
   "codemirror_mode": {
    "name": "ipython",
    "version": 3
   },
   "file_extension": ".py",
   "mimetype": "text/x-python",
   "name": "python",
   "nbconvert_exporter": "python",
   "pygments_lexer": "ipython3",
   "version": "3.6.2"
  }
 },
 "nbformat": 4,
 "nbformat_minor": 1
}
